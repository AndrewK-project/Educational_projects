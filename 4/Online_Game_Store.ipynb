{
 "cells": [
  {
   "cell_type": "markdown",
   "metadata": {},
   "source": [
    "# Сборный проект"
   ]
  },
  {
   "cell_type": "markdown",
   "metadata": {},
   "source": [
    "**Получение первоначальной информации**\n",
    "\n",
    "    Из открытих источников представлены данные (файл: /datasets/games.csv) о релизах и продажах игр за определенный период времени, оценки пользователей и экспертов этих игр, жанрах, платформах для которых они разрабатывались, а также возрастных рекомендациях. "
   ]
  },
  {
   "cell_type": "markdown",
   "metadata": {},
   "source": [
    "**Поставленная Цель исследования**\n",
    "    \n",
    "    Для руководства интернет магазина \"Стримчик\" (интернет магазин продающий компьютерные игры по всему миру) требуется отработать принцип работы с данными и выявить определяющие успешность игры закономерности, что позволит сделать ставку на потенциально популярный продукт и спланировать рекламные кампании."
   ]
  },
  {
   "cell_type": "markdown",
   "metadata": {},
   "source": [
    "**Описание данных**\n",
    "    \n",
    "    'Name' — название игры\n",
    "    'Platform' — платформа\n",
    "    'Year_of_Release' — год выпуска\n",
    "    'Genre' — жанр игры\n",
    "    'NA_sales' — продажи в Северной Америке (миллионы проданных копий)\n",
    "    'EU_sales' — продажи в Европе (миллионы проданных копий)\n",
    "    'JP_sales' — продажи в Японии (миллионы проданных копий)\n",
    "    'Other_sales' — продажи в других странах (миллионы проданных копий)\n",
    "    'Critic_Score' — оценка критиков (максимум 100)\n",
    "    'User_Score' — оценка пользователей (максимум 10)\n",
    "    'Rating' — рейтинг от организации ESRB (англ. Entertainment Software Rating Board). Эта ассоциация определяет рейтинг компьютерных игр и присваивает им подходящую возрастную категорию."
   ]
  },
  {
   "cell_type": "markdown",
   "metadata": {},
   "source": [
    "**Исследование проведем в соответствии с планом:**\n",
    "    \n",
    "    1) Изучим общую информацию\n",
    "    2) Подготовим данных\n",
    "    3) Проведем исследовательский анализ данных\n",
    "    4) Составим портрет пользователя каждого региона\n",
    "    5) Напишем вывод"
   ]
  },
  {
   "cell_type": "markdown",
   "metadata": {},
   "source": [
    "### Откроем файл с данными и изучим общую информацию. "
   ]
  },
  {
   "cell_type": "code",
   "execution_count": 1,
   "metadata": {},
   "outputs": [],
   "source": [
    "# Импортируем необходимые для работы с проектом библиотеки\n",
    "import pandas  as pd\n",
    "import matplotlib.pyplot as plt\n",
    "import numpy as np\n",
    "import seaborn as sns\n",
    "from scipy import stats as st"
   ]
  },
  {
   "cell_type": "markdown",
   "metadata": {},
   "source": [
    "#### Загрузим данные из файла в датафрейм."
   ]
  },
  {
   "cell_type": "code",
   "execution_count": 2,
   "metadata": {},
   "outputs": [
    {
     "data": {
      "text/html": [
       "<div>\n",
       "<style scoped>\n",
       "    .dataframe tbody tr th:only-of-type {\n",
       "        vertical-align: middle;\n",
       "    }\n",
       "\n",
       "    .dataframe tbody tr th {\n",
       "        vertical-align: top;\n",
       "    }\n",
       "\n",
       "    .dataframe thead th {\n",
       "        text-align: right;\n",
       "    }\n",
       "</style>\n",
       "<table border=\"1\" class=\"dataframe\">\n",
       "  <thead>\n",
       "    <tr style=\"text-align: right;\">\n",
       "      <th></th>\n",
       "      <th>Name</th>\n",
       "      <th>Platform</th>\n",
       "      <th>Year_of_Release</th>\n",
       "      <th>Genre</th>\n",
       "      <th>NA_sales</th>\n",
       "      <th>EU_sales</th>\n",
       "      <th>JP_sales</th>\n",
       "      <th>Other_sales</th>\n",
       "      <th>Critic_Score</th>\n",
       "      <th>User_Score</th>\n",
       "      <th>Rating</th>\n",
       "    </tr>\n",
       "  </thead>\n",
       "  <tbody>\n",
       "    <tr>\n",
       "      <th>0</th>\n",
       "      <td>Wii Sports</td>\n",
       "      <td>Wii</td>\n",
       "      <td>2006.0</td>\n",
       "      <td>Sports</td>\n",
       "      <td>41.36</td>\n",
       "      <td>28.96</td>\n",
       "      <td>3.77</td>\n",
       "      <td>8.45</td>\n",
       "      <td>76.0</td>\n",
       "      <td>8</td>\n",
       "      <td>E</td>\n",
       "    </tr>\n",
       "    <tr>\n",
       "      <th>1</th>\n",
       "      <td>Super Mario Bros.</td>\n",
       "      <td>NES</td>\n",
       "      <td>1985.0</td>\n",
       "      <td>Platform</td>\n",
       "      <td>29.08</td>\n",
       "      <td>3.58</td>\n",
       "      <td>6.81</td>\n",
       "      <td>0.77</td>\n",
       "      <td>NaN</td>\n",
       "      <td>NaN</td>\n",
       "      <td>NaN</td>\n",
       "    </tr>\n",
       "    <tr>\n",
       "      <th>2</th>\n",
       "      <td>Mario Kart Wii</td>\n",
       "      <td>Wii</td>\n",
       "      <td>2008.0</td>\n",
       "      <td>Racing</td>\n",
       "      <td>15.68</td>\n",
       "      <td>12.76</td>\n",
       "      <td>3.79</td>\n",
       "      <td>3.29</td>\n",
       "      <td>82.0</td>\n",
       "      <td>8.3</td>\n",
       "      <td>E</td>\n",
       "    </tr>\n",
       "    <tr>\n",
       "      <th>3</th>\n",
       "      <td>Wii Sports Resort</td>\n",
       "      <td>Wii</td>\n",
       "      <td>2009.0</td>\n",
       "      <td>Sports</td>\n",
       "      <td>15.61</td>\n",
       "      <td>10.93</td>\n",
       "      <td>3.28</td>\n",
       "      <td>2.95</td>\n",
       "      <td>80.0</td>\n",
       "      <td>8</td>\n",
       "      <td>E</td>\n",
       "    </tr>\n",
       "    <tr>\n",
       "      <th>4</th>\n",
       "      <td>Pokemon Red/Pokemon Blue</td>\n",
       "      <td>GB</td>\n",
       "      <td>1996.0</td>\n",
       "      <td>Role-Playing</td>\n",
       "      <td>11.27</td>\n",
       "      <td>8.89</td>\n",
       "      <td>10.22</td>\n",
       "      <td>1.00</td>\n",
       "      <td>NaN</td>\n",
       "      <td>NaN</td>\n",
       "      <td>NaN</td>\n",
       "    </tr>\n",
       "  </tbody>\n",
       "</table>\n",
       "</div>"
      ],
      "text/plain": [
       "                       Name Platform  Year_of_Release         Genre  NA_sales  \\\n",
       "0                Wii Sports      Wii           2006.0        Sports     41.36   \n",
       "1         Super Mario Bros.      NES           1985.0      Platform     29.08   \n",
       "2            Mario Kart Wii      Wii           2008.0        Racing     15.68   \n",
       "3         Wii Sports Resort      Wii           2009.0        Sports     15.61   \n",
       "4  Pokemon Red/Pokemon Blue       GB           1996.0  Role-Playing     11.27   \n",
       "\n",
       "   EU_sales  JP_sales  Other_sales  Critic_Score User_Score Rating  \n",
       "0     28.96      3.77         8.45          76.0          8      E  \n",
       "1      3.58      6.81         0.77           NaN        NaN    NaN  \n",
       "2     12.76      3.79         3.29          82.0        8.3      E  \n",
       "3     10.93      3.28         2.95          80.0          8      E  \n",
       "4      8.89     10.22         1.00           NaN        NaN    NaN  "
      ]
     },
     "execution_count": 2,
     "metadata": {},
     "output_type": "execute_result"
    }
   ],
   "source": [
    "# Создадим датафрейм\n",
    "df = pd.read_csv('/datasets/games.csv')\n",
    "# Ознакомимся с первыми 5 строками\n",
    "df.head(5)"
   ]
  },
  {
   "cell_type": "markdown",
   "metadata": {},
   "source": [
    "#### Изучим информацию о полученном датафрейме."
   ]
  },
  {
   "cell_type": "code",
   "execution_count": 3,
   "metadata": {},
   "outputs": [
    {
     "name": "stdout",
     "output_type": "stream",
     "text": [
      "<class 'pandas.core.frame.DataFrame'>\n",
      "RangeIndex: 16715 entries, 0 to 16714\n",
      "Data columns (total 11 columns):\n",
      " #   Column           Non-Null Count  Dtype  \n",
      "---  ------           --------------  -----  \n",
      " 0   Name             16713 non-null  object \n",
      " 1   Platform         16715 non-null  object \n",
      " 2   Year_of_Release  16446 non-null  float64\n",
      " 3   Genre            16713 non-null  object \n",
      " 4   NA_sales         16715 non-null  float64\n",
      " 5   EU_sales         16715 non-null  float64\n",
      " 6   JP_sales         16715 non-null  float64\n",
      " 7   Other_sales      16715 non-null  float64\n",
      " 8   Critic_Score     8137 non-null   float64\n",
      " 9   User_Score       10014 non-null  object \n",
      " 10  Rating           9949 non-null   object \n",
      "dtypes: float64(6), object(5)\n",
      "memory usage: 1.4+ MB\n"
     ]
    }
   ],
   "source": [
    "# общая информация\n",
    "df.info()"
   ]
  },
  {
   "cell_type": "code",
   "execution_count": 4,
   "metadata": {},
   "outputs": [
    {
     "data": {
      "text/plain": [
       "0"
      ]
     },
     "execution_count": 4,
     "metadata": {},
     "output_type": "execute_result"
    }
   ],
   "source": [
    "# количество явных дубликатов\n",
    "df.duplicated().sum()"
   ]
  },
  {
   "cell_type": "code",
   "execution_count": 5,
   "metadata": {},
   "outputs": [
    {
     "data": {
      "text/plain": [
       "Name               1\n",
       "Platform           2\n",
       "Year_of_Release    2\n",
       "Genre              1\n",
       "NA_sales           2\n",
       "EU_sales           2\n",
       "JP_sales           2\n",
       "Other_sales        2\n",
       "Critic_Score       1\n",
       "User_Score         1\n",
       "Rating             1\n",
       "dtype: int64"
      ]
     },
     "execution_count": 5,
     "metadata": {},
     "output_type": "execute_result"
    }
   ],
   "source": [
    "# Количество неявных дубликатов найденных по основным идентификационным столбцам\n",
    "df[df.duplicated(['Name', 'Platform', 'Year_of_Release'])].count()"
   ]
  },
  {
   "cell_type": "markdown",
   "metadata": {},
   "source": [
    "***\n",
    "\n",
    "#### Вывод по изучению общей информации о полученых данных:\n",
    "\n",
    "<font color='green'> ***В ходе изучения полученных данных выявлено, что в данных присутствует 16715 строк подразделенных на 11 столбцов. В столбцах используется разный регистр, имеются пропущенные значения и указан неккоректный тип данных, при этом явные дубликаты отсутствуют, а неявные имеют малочисленный характер. Данные требуют обработки.*** </font>"
   ]
  },
  {
   "cell_type": "markdown",
   "metadata": {},
   "source": [
    "### Подготовка данных"
   ]
  },
  {
   "cell_type": "markdown",
   "metadata": {},
   "source": [
    "#### Приведем к одному виду названия столбцов. Устраним неявные дубликаты."
   ]
  },
  {
   "cell_type": "markdown",
   "metadata": {},
   "source": [
    "##### Изменим регистр названия столбцов на нижний."
   ]
  },
  {
   "cell_type": "code",
   "execution_count": 6,
   "metadata": {},
   "outputs": [
    {
     "data": {
      "text/plain": [
       "Index(['Name', 'Platform', 'Year_of_Release', 'Genre', 'NA_sales', 'EU_sales',\n",
       "       'JP_sales', 'Other_sales', 'Critic_Score', 'User_Score', 'Rating'],\n",
       "      dtype='object')"
      ]
     },
     "execution_count": 6,
     "metadata": {},
     "output_type": "execute_result"
    }
   ],
   "source": [
    "# Отобразим названия столбцов\n",
    "df.columns"
   ]
  },
  {
   "cell_type": "code",
   "execution_count": 7,
   "metadata": {},
   "outputs": [
    {
     "data": {
      "text/plain": [
       "Index(['name', 'platform', 'year_of_release', 'genre', 'na_sales', 'eu_sales',\n",
       "       'jp_sales', 'other_sales', 'critic_score', 'user_score', 'rating'],\n",
       "      dtype='object')"
      ]
     },
     "execution_count": 7,
     "metadata": {},
     "output_type": "execute_result"
    }
   ],
   "source": [
    "# Приведем названия столбцов к нижнему регистру\n",
    "df.columns = df.columns.str.lower()\n",
    "df.columns"
   ]
  },
  {
   "cell_type": "markdown",
   "metadata": {},
   "source": [
    "##### Найденно два неявных повтора по основным столбцам содержащим данные о названии игры, используемой платформы и года релиза. Выведем эти строки и удалим с последующей проверкой."
   ]
  },
  {
   "cell_type": "code",
   "execution_count": 8,
   "metadata": {},
   "outputs": [
    {
     "name": "stdout",
     "output_type": "stream",
     "text": [
      "                name platform  year_of_release   genre  na_sales  eu_sales  \\\n",
      "14244            NaN      GEN           1993.0     NaN       0.0      0.00   \n",
      "16230  Madden NFL 13      PS3           2012.0  Sports       0.0      0.01   \n",
      "\n",
      "       jp_sales  other_sales  critic_score user_score rating  \n",
      "14244      0.03          0.0           NaN        NaN    NaN  \n",
      "16230      0.00          0.0          83.0        5.5      E  \n"
     ]
    }
   ],
   "source": [
    "# Отобразим неявные дубликаты\n",
    "print(df[df.duplicated(['name', 'platform', 'year_of_release'])])"
   ]
  },
  {
   "cell_type": "code",
   "execution_count": 9,
   "metadata": {},
   "outputs": [
    {
     "name": "stdout",
     "output_type": "stream",
     "text": [
      "name               0\n",
      "platform           0\n",
      "year_of_release    0\n",
      "genre              0\n",
      "na_sales           0\n",
      "eu_sales           0\n",
      "jp_sales           0\n",
      "other_sales        0\n",
      "critic_score       0\n",
      "user_score         0\n",
      "rating             0\n",
      "dtype: int64\n"
     ]
    }
   ],
   "source": [
    "# Устраним неявные дубликаты\n",
    "df = df.drop_duplicates(['name', 'platform', 'year_of_release'])\n",
    "print(df[df.duplicated(['name', 'platform', 'year_of_release'])].count())"
   ]
  },
  {
   "cell_type": "markdown",
   "metadata": {},
   "source": [
    "#### Обработаем пропущенные значения столбцов датафрейма."
   ]
  },
  {
   "cell_type": "code",
   "execution_count": 10,
   "metadata": {},
   "outputs": [
    {
     "data": {
      "text/plain": [
       "name                  1\n",
       "platform              0\n",
       "year_of_release     269\n",
       "genre                 1\n",
       "na_sales              0\n",
       "eu_sales              0\n",
       "jp_sales              0\n",
       "other_sales           0\n",
       "critic_score       8577\n",
       "user_score         6700\n",
       "rating             6765\n",
       "dtype: int64"
      ]
     },
     "execution_count": 10,
     "metadata": {},
     "output_type": "execute_result"
    }
   ],
   "source": [
    "# Определим в каких столбцах есть пропуски\n",
    "df.isna().sum()"
   ]
  },
  {
   "cell_type": "markdown",
   "metadata": {},
   "source": [
    "##### Столбец `'name'`,  содержащий имя игры, имеет только один пропуск, что составляет  0.006% данных и является незначительным. Имеет смысл удалить строку с пропуском."
   ]
  },
  {
   "cell_type": "code",
   "execution_count": 11,
   "metadata": {},
   "outputs": [
    {
     "name": "stdout",
     "output_type": "stream",
     "text": [
      "0.006\n"
     ]
    }
   ],
   "source": [
    "# Посчитаем количество пропусков столбца `name` в процентном соотношении\n",
    "print((df['name'].isnull().sum() / len(df['name'])*100).round(3))"
   ]
  },
  {
   "cell_type": "code",
   "execution_count": 12,
   "metadata": {},
   "outputs": [
    {
     "data": {
      "text/plain": [
       "0"
      ]
     },
     "execution_count": 12,
     "metadata": {},
     "output_type": "execute_result"
    }
   ],
   "source": [
    "# Удалим строку с пропуском в столбце 'name'\n",
    "df = df.dropna(subset=['name'])\n",
    "# Проверим количесвто пропусков\n",
    "df['name'].isna().sum()"
   ]
  },
  {
   "cell_type": "markdown",
   "metadata": {},
   "source": [
    "##### Столбец `'year_of_release'`, содержащий сведения о годе релиза, имеет пропуски в 1.61% от общего количесвта данных, что является малозначительным. Имеет смысл удалить строки не имеющие значения."
   ]
  },
  {
   "cell_type": "code",
   "execution_count": 13,
   "metadata": {},
   "outputs": [
    {
     "name": "stdout",
     "output_type": "stream",
     "text": [
      "1.61\n"
     ]
    }
   ],
   "source": [
    "# Посчитаем количество пропусков столбца `year_of_release` в процентном соотношении\n",
    "print((df['year_of_release'].isnull().sum() / len(df['year_of_release'])*100).round(3))"
   ]
  },
  {
   "cell_type": "code",
   "execution_count": 14,
   "metadata": {},
   "outputs": [
    {
     "data": {
      "text/plain": [
       "0"
      ]
     },
     "execution_count": 14,
     "metadata": {},
     "output_type": "execute_result"
    }
   ],
   "source": [
    "# Удалим строку с пропуском в столбце 'year_of_release'\n",
    "df = df.dropna(subset=['year_of_release'])\n",
    "# Проверим количесвто пропусков\n",
    "df['year_of_release'].isna().sum()"
   ]
  },
  {
   "cell_type": "markdown",
   "metadata": {},
   "source": [
    "##### В столбце `'critic_score'`, содержащем сведения об оценках критиков, пропущено более 51% данных, что явялется внушительным объемом. Заполнение средними и медианными значениями нецелесообразно. Имеет смысл заполнить отметкой пропущенные ячейки параметром отсутствующим в наборе значений, например `'-1'`, для облегчения последующего анализа данных."
   ]
  },
  {
   "cell_type": "code",
   "execution_count": 15,
   "metadata": {},
   "outputs": [
    {
     "name": "stdout",
     "output_type": "stream",
     "text": [
      "51.457\n"
     ]
    }
   ],
   "source": [
    "# Посчитаем количество пропусков столбца `critic_score` в процентном соотношении\n",
    "print((df['critic_score'].isnull().sum() / len(df['critic_score'])*100).round(3))"
   ]
  },
  {
   "cell_type": "code",
   "execution_count": 16,
   "metadata": {},
   "outputs": [
    {
     "data": {
      "text/plain": [
       "0"
      ]
     },
     "execution_count": 16,
     "metadata": {},
     "output_type": "execute_result"
    }
   ],
   "source": [
    "# Заполним пропущенные значения отметкой '-1'\n",
    "df['critic_score'] = df['critic_score'].fillna(-1)\n",
    "# Проверим количесвто пропусков\n",
    "df['critic_score'].isna().sum()"
   ]
  },
  {
   "cell_type": "markdown",
   "metadata": {},
   "source": [
    "##### В столбце `'user_score'`, содержащем сведения об оценках игроков, пропущено более 40% данных. Заполнение средними и медианными значениями также нецелесообразно. Заполним отметкой пропущенные ячейки параметром отсутствующим в наборе значений, например `'-1'`, для облегчения последующего анализа данных."
   ]
  },
  {
   "cell_type": "code",
   "execution_count": 17,
   "metadata": {},
   "outputs": [
    {
     "name": "stdout",
     "output_type": "stream",
     "text": [
      "40.169\n"
     ]
    }
   ],
   "source": [
    "# Посчитаем количество пропусков столбца `critic_score` в процентном соотношении\n",
    "print((df['user_score'].isnull().sum() / len(df['user_score'])*100).round(3))"
   ]
  },
  {
   "cell_type": "code",
   "execution_count": 18,
   "metadata": {},
   "outputs": [
    {
     "data": {
      "text/plain": [
       "0"
      ]
     },
     "execution_count": 18,
     "metadata": {},
     "output_type": "execute_result"
    }
   ],
   "source": [
    "# Заполним пропущенные значения отметкой '-1'\n",
    "df['user_score'] = df['user_score'].fillna(-1)\n",
    "# Проверим количесвто пропусков\n",
    "df['user_score'].isna().sum()"
   ]
  },
  {
   "cell_type": "markdown",
   "metadata": {},
   "source": [
    "##### В столбце `'user_score'` 14% данных заполнены неописанным строковым типом `'tbd'`. Заменим его отметкой - параметром отсутствующим в наборе значений, например `'-2'`, для облегчения последующего анализа данных."
   ]
  },
  {
   "cell_type": "code",
   "execution_count": 19,
   "metadata": {},
   "outputs": [
    {
     "data": {
      "text/plain": [
       "-1     6605\n",
       "tbd    2376\n",
       "7.8     322\n",
       "8       285\n",
       "8.2     276\n",
       "       ... \n",
       "0.2       2\n",
       "1         2\n",
       "0.7       2\n",
       "9.7       1\n",
       "0         1\n",
       "Name: user_score, Length: 97, dtype: int64"
      ]
     },
     "execution_count": 19,
     "metadata": {},
     "output_type": "execute_result"
    }
   ],
   "source": [
    "# Отобразим количество используемых значений в столбце 'user_score'\n",
    "df['user_score'].value_counts() "
   ]
  },
  {
   "cell_type": "code",
   "execution_count": 20,
   "metadata": {},
   "outputs": [
    {
     "data": {
      "text/plain": [
       "14.449917898193759"
      ]
     },
     "execution_count": 20,
     "metadata": {},
     "output_type": "execute_result"
    }
   ],
   "source": [
    "# Посчитаем количество значений 'tbd' столбца `critic_score` в процентном соотношении\n",
    "df[df['user_score']=='tbd']['user_score'].count() / len(df['name'])*100"
   ]
  },
  {
   "cell_type": "code",
   "execution_count": 21,
   "metadata": {},
   "outputs": [
    {
     "data": {
      "text/plain": [
       "-1     6605\n",
       "-2     2376\n",
       "7.8     322\n",
       "8       285\n",
       "8.2     276\n",
       "       ... \n",
       "0.2       2\n",
       "1         2\n",
       "0.7       2\n",
       "9.7       1\n",
       "0         1\n",
       "Name: user_score, Length: 97, dtype: int64"
      ]
     },
     "execution_count": 21,
     "metadata": {},
     "output_type": "execute_result"
    }
   ],
   "source": [
    "# Заменим значение 'tbd' столбца `critic_score` отметкой '-2'\n",
    "df.loc[df['user_score'] == 'tbd', 'user_score'] = -2\n",
    "# Проверим изменения\n",
    "df['user_score'].value_counts() "
   ]
  },
  {
   "cell_type": "markdown",
   "metadata": {},
   "source": [
    "##### В столбце `'rating'`, содержащим сведения о возрастной категории, также пропущено более 40% данных. По аналогии с предыдущим, заполнение средними и медианными значениями нецелесообразно. Имеет смысл заполнить пропущенные значения параметром `'unknown'`, для облегчения последующего анализа данных, так как возрастная категория нам неизвестна."
   ]
  },
  {
   "cell_type": "code",
   "execution_count": 22,
   "metadata": {},
   "outputs": [
    {
     "name": "stdout",
     "output_type": "stream",
     "text": [
      "40.601\n"
     ]
    }
   ],
   "source": [
    "# Посчитаем количество пропусков столбца `critic_score` в процентном соотношении\n",
    "print((df['rating'].isnull().sum() / len(df['rating'])*100).round(3))"
   ]
  },
  {
   "cell_type": "code",
   "execution_count": 23,
   "metadata": {},
   "outputs": [
    {
     "name": "stdout",
     "output_type": "stream",
     "text": [
      "Количество пропусков столбца `rating` = 0\n",
      "Количество остальных значений:\n",
      "unknown    6676\n",
      "E          3920\n",
      "T          2905\n",
      "M          1536\n",
      "E10+       1393\n",
      "EC            8\n",
      "K-A           3\n",
      "AO            1\n",
      "RP            1\n",
      "Name: rating, dtype: int64\n"
     ]
    }
   ],
   "source": [
    "# Заполним пропущенные значения параметром 'unknown'\n",
    "df['rating'] = df['rating'].fillna('unknown')\n",
    "# Проверим количесвто пропусков и количество других значений\n",
    "print('Количество пропусков столбца `rating` =', df['rating'].isna().sum())\n",
    "print('Количество остальных значений:')\n",
    "print(df['rating'].value_counts())"
   ]
  },
  {
   "cell_type": "markdown",
   "metadata": {},
   "source": [
    "#### Преобразуем типы данных в тех столбцах где это необходимо."
   ]
  },
  {
   "cell_type": "code",
   "execution_count": 24,
   "metadata": {},
   "outputs": [
    {
     "data": {
      "text/plain": [
       "name                object\n",
       "platform            object\n",
       "year_of_release    float64\n",
       "genre               object\n",
       "na_sales           float64\n",
       "eu_sales           float64\n",
       "jp_sales           float64\n",
       "other_sales        float64\n",
       "critic_score       float64\n",
       "user_score          object\n",
       "rating              object\n",
       "dtype: object"
      ]
     },
     "execution_count": 24,
     "metadata": {},
     "output_type": "execute_result"
    }
   ],
   "source": [
    "#Изучим используемые в датафрейме типы данных\n",
    "df.dtypes"
   ]
  },
  {
   "cell_type": "markdown",
   "metadata": {},
   "source": [
    "##### Столбец `'year_of_release'` имеет тип вещественного числа, при этом все строки стоблбца целочисленны, имеет смысл преобразования в тип данных 'int'."
   ]
  },
  {
   "cell_type": "code",
   "execution_count": 25,
   "metadata": {},
   "outputs": [
    {
     "data": {
      "text/plain": [
       "0    2006\n",
       "1    1985\n",
       "2    2008\n",
       "3    2009\n",
       "4    1996\n",
       "Name: year_of_release, dtype: int64"
      ]
     },
     "execution_count": 25,
     "metadata": {},
     "output_type": "execute_result"
    }
   ],
   "source": [
    "# Преобразуем в целочисленный тип данных\n",
    "df['year_of_release'] = (df['year_of_release']).astype('int')\n",
    "# Проверим тип данных\n",
    "df['year_of_release'].head()"
   ]
  },
  {
   "cell_type": "markdown",
   "metadata": {},
   "source": [
    "##### Столбец `'critic_score'` имеет тип вещественного числа, при этом все строки стоблбца также целочисленны, имеет смысл преобразования в тип данных 'int'."
   ]
  },
  {
   "cell_type": "code",
   "execution_count": 26,
   "metadata": {},
   "outputs": [
    {
     "data": {
      "text/plain": [
       "0    76\n",
       "1    -1\n",
       "2    82\n",
       "3    80\n",
       "4    -1\n",
       "Name: critic_score, dtype: int64"
      ]
     },
     "execution_count": 26,
     "metadata": {},
     "output_type": "execute_result"
    }
   ],
   "source": [
    "# Преобразуем в целочисленный тип данных\n",
    "df['critic_score'] = (df['critic_score']).astype('int')\n",
    "# Проверим тип данных\n",
    "df['critic_score'].head()"
   ]
  },
  {
   "cell_type": "markdown",
   "metadata": {},
   "source": [
    "##### Столбец `'user_score'` имеет строковый тип, при этом строки стоблбца, после замены значения `'tbd'`, теперь  относятся к вещественным числам, имеет смысл преобразования в тип данных 'float'."
   ]
  },
  {
   "cell_type": "code",
   "execution_count": 27,
   "metadata": {},
   "outputs": [
    {
     "data": {
      "text/plain": [
       "0    8.0\n",
       "1   -1.0\n",
       "2    8.3\n",
       "3    8.0\n",
       "4   -1.0\n",
       "Name: user_score, dtype: float64"
      ]
     },
     "execution_count": 27,
     "metadata": {},
     "output_type": "execute_result"
    }
   ],
   "source": [
    "# Преобразуем в тип данных 'float'\n",
    "df['user_score'] = (df['user_score']).astype('float')\n",
    "# Проверим тип данных\n",
    "df['user_score'].head()"
   ]
  },
  {
   "cell_type": "markdown",
   "metadata": {},
   "source": [
    "#### Посчитаем суммарные продажи во всех регионах и запишем их в отдельный столбец."
   ]
  },
  {
   "cell_type": "code",
   "execution_count": 28,
   "metadata": {},
   "outputs": [
    {
     "data": {
      "text/html": [
       "<div>\n",
       "<style scoped>\n",
       "    .dataframe tbody tr th:only-of-type {\n",
       "        vertical-align: middle;\n",
       "    }\n",
       "\n",
       "    .dataframe tbody tr th {\n",
       "        vertical-align: top;\n",
       "    }\n",
       "\n",
       "    .dataframe thead th {\n",
       "        text-align: right;\n",
       "    }\n",
       "</style>\n",
       "<table border=\"1\" class=\"dataframe\">\n",
       "  <thead>\n",
       "    <tr style=\"text-align: right;\">\n",
       "      <th></th>\n",
       "      <th>name</th>\n",
       "      <th>platform</th>\n",
       "      <th>year_of_release</th>\n",
       "      <th>genre</th>\n",
       "      <th>na_sales</th>\n",
       "      <th>eu_sales</th>\n",
       "      <th>jp_sales</th>\n",
       "      <th>other_sales</th>\n",
       "      <th>critic_score</th>\n",
       "      <th>user_score</th>\n",
       "      <th>rating</th>\n",
       "      <th>total_sales</th>\n",
       "    </tr>\n",
       "  </thead>\n",
       "  <tbody>\n",
       "    <tr>\n",
       "      <th>0</th>\n",
       "      <td>Wii Sports</td>\n",
       "      <td>Wii</td>\n",
       "      <td>2006</td>\n",
       "      <td>Sports</td>\n",
       "      <td>41.36</td>\n",
       "      <td>28.96</td>\n",
       "      <td>3.77</td>\n",
       "      <td>8.45</td>\n",
       "      <td>76</td>\n",
       "      <td>8.0</td>\n",
       "      <td>E</td>\n",
       "      <td>82.54</td>\n",
       "    </tr>\n",
       "    <tr>\n",
       "      <th>1</th>\n",
       "      <td>Super Mario Bros.</td>\n",
       "      <td>NES</td>\n",
       "      <td>1985</td>\n",
       "      <td>Platform</td>\n",
       "      <td>29.08</td>\n",
       "      <td>3.58</td>\n",
       "      <td>6.81</td>\n",
       "      <td>0.77</td>\n",
       "      <td>-1</td>\n",
       "      <td>-1.0</td>\n",
       "      <td>unknown</td>\n",
       "      <td>40.24</td>\n",
       "    </tr>\n",
       "    <tr>\n",
       "      <th>2</th>\n",
       "      <td>Mario Kart Wii</td>\n",
       "      <td>Wii</td>\n",
       "      <td>2008</td>\n",
       "      <td>Racing</td>\n",
       "      <td>15.68</td>\n",
       "      <td>12.76</td>\n",
       "      <td>3.79</td>\n",
       "      <td>3.29</td>\n",
       "      <td>82</td>\n",
       "      <td>8.3</td>\n",
       "      <td>E</td>\n",
       "      <td>35.52</td>\n",
       "    </tr>\n",
       "    <tr>\n",
       "      <th>3</th>\n",
       "      <td>Wii Sports Resort</td>\n",
       "      <td>Wii</td>\n",
       "      <td>2009</td>\n",
       "      <td>Sports</td>\n",
       "      <td>15.61</td>\n",
       "      <td>10.93</td>\n",
       "      <td>3.28</td>\n",
       "      <td>2.95</td>\n",
       "      <td>80</td>\n",
       "      <td>8.0</td>\n",
       "      <td>E</td>\n",
       "      <td>32.77</td>\n",
       "    </tr>\n",
       "    <tr>\n",
       "      <th>4</th>\n",
       "      <td>Pokemon Red/Pokemon Blue</td>\n",
       "      <td>GB</td>\n",
       "      <td>1996</td>\n",
       "      <td>Role-Playing</td>\n",
       "      <td>11.27</td>\n",
       "      <td>8.89</td>\n",
       "      <td>10.22</td>\n",
       "      <td>1.00</td>\n",
       "      <td>-1</td>\n",
       "      <td>-1.0</td>\n",
       "      <td>unknown</td>\n",
       "      <td>31.38</td>\n",
       "    </tr>\n",
       "  </tbody>\n",
       "</table>\n",
       "</div>"
      ],
      "text/plain": [
       "                       name platform  year_of_release         genre  na_sales  \\\n",
       "0                Wii Sports      Wii             2006        Sports     41.36   \n",
       "1         Super Mario Bros.      NES             1985      Platform     29.08   \n",
       "2            Mario Kart Wii      Wii             2008        Racing     15.68   \n",
       "3         Wii Sports Resort      Wii             2009        Sports     15.61   \n",
       "4  Pokemon Red/Pokemon Blue       GB             1996  Role-Playing     11.27   \n",
       "\n",
       "   eu_sales  jp_sales  other_sales  critic_score  user_score   rating  \\\n",
       "0     28.96      3.77         8.45            76         8.0        E   \n",
       "1      3.58      6.81         0.77            -1        -1.0  unknown   \n",
       "2     12.76      3.79         3.29            82         8.3        E   \n",
       "3     10.93      3.28         2.95            80         8.0        E   \n",
       "4      8.89     10.22         1.00            -1        -1.0  unknown   \n",
       "\n",
       "   total_sales  \n",
       "0        82.54  \n",
       "1        40.24  \n",
       "2        35.52  \n",
       "3        32.77  \n",
       "4        31.38  "
      ]
     },
     "execution_count": 28,
     "metadata": {},
     "output_type": "execute_result"
    }
   ],
   "source": [
    "# Создадим столбец содержащий данные о сумме всех продаж регионов\n",
    "df['total_sales'] = df.loc[:,['na_sales','eu_sales', 'jp_sales', 'other_sales']].sum(axis=1)\n",
    "# Выведем первый пять строк датафрейма\n",
    "df.head()"
   ]
  },
  {
   "cell_type": "markdown",
   "metadata": {},
   "source": [
    "___\n",
    "#### Вывод по подготовке данных:\n",
    "<font color='green'> ***При подготовке данных, в датафрейме были выполнены следующие действия:***\n",
    "1. ***К общему, путем применения нижнего регистра, приведены все названия столбцов датафрейма;***\n",
    "2. ***Выявлены и устранены неявные дубликаты в столбцах содержащих данные о названии игры, используемой платформы и года релиза.***\n",
    "3. ***Удалены пропуски в следующих столбцах:***\n",
    "|Пропуски | Было | Стало|\n",
    "|-|-|-|\n",
    "| name | 1 | 0 |\n",
    "| year_of_release | 269 | 0 |\n",
    "| critic_score | 8577 | 0 |\n",
    "| user_score | 6700 | 0 |\n",
    "| rating | 6765 | 0 |\n",
    "*Основными причинами пропусков могли стать:*\n",
    "- *Человеческий фактор (пропустил, не увидел, отвлекся, забыл, не посчитал нужным и т.д.);*\n",
    "- *Недоработка форм для заполнения данных (отсутствие обязательных полей и предлагаемых вариантов или просто проверки данных);*\n",
    "- *Программный или аппаратный сбой. Обновление системы во время заполнения данных;*\n",
    "- *Сбор данных из различных источников, которые не согласованы между собой.*\n",
    "4. ***В столбце `'user_score'` неописанное значение `'tbd'` обозначено как `'-2'`.***\n",
    "5. ***В соответствии с данными находящимся в столбцах был изменен их тип:***\n",
    "|Тип данных | Было | Стало| Причина |\n",
    "|-|-|-|-|\n",
    "| year_of_release | float64 | int64 | Содержит только целые числа |\n",
    "| critic_score | float64 | int64 | Содержит только целые числа |\n",
    "| user_score | object | float64 | Содержит вещественные значения |\n",
    "||||\n",
    "\n",
    "6. ***В датафрейме создан столбец `'total_sales'` содержащий данные о сумме всех продаж регионов.*** </font>"
   ]
  },
  {
   "cell_type": "markdown",
   "metadata": {},
   "source": [
    "### Проведем исследовательский анализ данных"
   ]
  },
  {
   "cell_type": "markdown",
   "metadata": {},
   "source": [
    "#### Проведем исследование о количестве выпущенных игр в разные годы."
   ]
  },
  {
   "cell_type": "markdown",
   "metadata": {},
   "source": [
    "##### Сгенерируем описательную статистику для столбца содержащего информацию о годе релиза."
   ]
  },
  {
   "cell_type": "code",
   "execution_count": 29,
   "metadata": {},
   "outputs": [
    {
     "data": {
      "text/plain": [
       "count    16443.000000\n",
       "mean      2006.485921\n",
       "std          5.875546\n",
       "min       1980.000000\n",
       "25%       2003.000000\n",
       "50%       2007.000000\n",
       "75%       2010.000000\n",
       "max       2016.000000\n",
       "Name: year_of_release, dtype: float64"
      ]
     },
     "execution_count": 29,
     "metadata": {},
     "output_type": "execute_result"
    }
   ],
   "source": [
    "# Применим метод описательной статистики к столбцу с годом релиза игр\n",
    "df['year_of_release'].describe()"
   ]
  },
  {
   "cell_type": "markdown",
   "metadata": {},
   "source": [
    "##### Построим график по количесвту выпущенных в каждом году игр, из имеющихся в датафрейме данных.."
   ]
  },
  {
   "cell_type": "code",
   "execution_count": 30,
   "metadata": {},
   "outputs": [
    {
     "data": {
      "image/png": "[encoded data removed]",
      "text/plain": [
       "<Figure size 720x360 with 1 Axes>"
      ]
     },
     "metadata": {
      "needs_background": "light"
     },
     "output_type": "display_data"
    }
   ],
   "source": [
    "# Построим график количесвта выпущенных игр по году их релиза\n",
    "(\n",
    "    df\n",
    "    .pivot_table(index='year_of_release', values='name', aggfunc='count')\n",
    "    .plot(kind='bar' , grid=True, figsize=(10, 5))\n",
    ")\n",
    "plt.title('Количество выпущенных игр по году их релиза')\n",
    "plt.xlabel('Год релиза')\n",
    "plt.ylabel('Количество выпущенных игр')\n",
    "plt.show()"
   ]
  },
  {
   "cell_type": "markdown",
   "metadata": {},
   "source": [
    "##### Подведем итоги исследования о количестве выпущенных игр в разные годы:"
   ]
  },
  {
   "cell_type": "markdown",
   "metadata": {},
   "source": [
    "* *В датафрейме имеются данные об играх, релиз которых состоялся начиная с 1980 по 2016 годы;*\n",
    "* *Учитывая удаленные в прошлом шаге пустые строки, в исходном датафрейме имелись игры без указания года релиза в количестве 269;*\n",
    "* *Экспоненциальный рост графика указывает на взрывное увеличение выпуска игр примерно с 1994 по 2008 годы, далее до 2012 года наблюдается спад и дальнейшая стабилизация в районе 500 игр в год;*\n",
    "* *Для проведения исследования целесообразно выбрать период за не более 5-10 последних лет, в связи с потерей интереса у игроков к старым играм, стремительным ростом вычислительных мощностей игровых платформ, сильного влияния на рынок ожидаемых игровых новинок.*\n",
    "\n"
   ]
  },
  {
   "cell_type": "markdown",
   "metadata": {},
   "source": [
    "#### Проведем исследование о продажах игр на разных платформах и сроках актуальности игровых платформ."
   ]
  },
  {
   "cell_type": "markdown",
   "metadata": {},
   "source": [
    "##### Построим график взаимосвязи количества суммарных продаж и используемых игровых платформ, из имеющихся в датафрейме данных."
   ]
  },
  {
   "cell_type": "code",
   "execution_count": 31,
   "metadata": {},
   "outputs": [
    {
     "data": {
      "image/png": "[encoded data removed]",
      "text/plain": [
       "<Figure size 720x360 with 1 Axes>"
      ]
     },
     "metadata": {
      "needs_background": "light"
     },
     "output_type": "display_data"
    }
   ],
   "source": [
    "# Построим график суммарных продаж игр для разных игровых платформ\n",
    "(\n",
    "    df.pivot_table(index='platform', values='total_sales', aggfunc='sum')\n",
    "    .sort_values(by='total_sales', ascending=False)\n",
    "    .plot(kind='bar', grid=True, figsize=(10, 5))\n",
    ")\n",
    "plt.title('Суммарные продажи игр для разных игровых платформ')\n",
    "plt.xlabel('Платформа')\n",
    "plt.ylabel('Суммарные продажи игр')\n",
    "plt.show()"
   ]
  },
  {
   "cell_type": "markdown",
   "metadata": {},
   "source": [
    "*Наибольшими суммарными продажами согласно построенного графика обладают 6 платформ: `'PS2', 'X360', 'PS3', 'Wii', 'DS', 'PS'`.*"
   ]
  },
  {
   "cell_type": "markdown",
   "metadata": {},
   "source": [
    "##### Выберем платформы с наибольшими суммарными продажами и построим распределение по годам релиза выпущенных для них игр. "
   ]
  },
  {
   "cell_type": "markdown",
   "metadata": {},
   "source": [
    "######  Наибольшими суммарными продажами согласно вышепостроенного графика обладают 6 платформ `'PS2', 'X360', 'PS3', 'Wii', 'DS', 'PS'`, создадим переменную в которую включим эти данные. "
   ]
  },
  {
   "cell_type": "code",
   "execution_count": 32,
   "metadata": {},
   "outputs": [
    {
     "data": {
      "text/plain": [
       "['PS2', 'X360', 'PS3', 'Wii', 'DS', 'PS']"
      ]
     },
     "execution_count": 32,
     "metadata": {},
     "output_type": "execute_result"
    }
   ],
   "source": [
    "# Cоздадим переменную в которую включим 6 платформ с максимальными продажами.\n",
    "top_platform_sales = (\n",
    "    df.pivot_table(index='platform', values='total_sales', aggfunc='sum')\n",
    "    .sort_values(by='total_sales', ascending=False)\n",
    "    .reset_index()\n",
    "    .head(6)['platform']\n",
    "    .tolist()\n",
    "    )\n",
    "top_platform_sales"
   ]
  },
  {
   "cell_type": "markdown",
   "metadata": {},
   "source": [
    "######  Для определения характерного срока появления новых и ухода старых игровых платформ, построим график сроков популярности 6 платформ имеющих максимальные продажи `'PS2', 'X360', 'PS3', 'Wii', 'DS', 'PS'`."
   ]
  },
  {
   "cell_type": "code",
   "execution_count": 33,
   "metadata": {},
   "outputs": [
    {
     "data": {
      "image/png": "[encoded data removed]",
      "text/plain": [
       "<Figure size 720x360 with 1 Axes>"
      ]
     },
     "metadata": {
      "needs_background": "light"
     },
     "output_type": "display_data"
    }
   ],
   "source": [
    "# Построим график сроков популярности платформ имеющих максимальные продажи\n",
    "for name in top_platform_sales:\n",
    "    (\n",
    "    df.query('platform == @name and year_of_release > -1')\n",
    "    .pivot_table(index = 'year_of_release', values = 'total_sales', aggfunc = 'sum')\n",
    "    .sort_values('year_of_release', ascending = False)['total_sales']\n",
    "    .plot(grid=True, figsize = (10, 5), label=name)\n",
    "    )\n",
    "    plt.title('Срок популярности платформ имеющих максимальные продажи')\n",
    "    plt.xlabel('Год релиза игр для платформ')\n",
    "    plt.ylabel('Суммарные продажи игр для платформ')\n",
    "    plt.legend() "
   ]
  },
  {
   "cell_type": "markdown",
   "metadata": {},
   "source": [
    "###### На графике прослеживается явная аномалия связанная с карманной игровой консолью 'Nintendo DS'. С учетом того что консоль была выпущена только в 2004 году, в датафрейме имеется неправильная запись, вызывающая выявленную аномалию. Выявим и удалим указанную запись, а затем перестроим график."
   ]
  },
  {
   "cell_type": "code",
   "execution_count": 34,
   "metadata": {},
   "outputs": [
    {
     "name": "stdout",
     "output_type": "stream",
     "text": [
      "                                      name platform  year_of_release   genre  \\\n",
      "15957  Strongest Tokyo University Shogi DS       DS             1985  Action   \n",
      "\n",
      "       na_sales  eu_sales  jp_sales  other_sales  critic_score  user_score  \\\n",
      "15957       0.0       0.0      0.02          0.0            -1        -1.0   \n",
      "\n",
      "        rating  total_sales  \n",
      "15957  unknown         0.02  \n"
     ]
    }
   ],
   "source": [
    "# Выявим неверную запись в датафрейме\n",
    "print(df.query('platform == \"DS\" and year_of_release < 1990'))"
   ]
  },
  {
   "cell_type": "code",
   "execution_count": 35,
   "metadata": {},
   "outputs": [
    {
     "data": {
      "image/png": "[encoded data removed]",
      "text/plain": [
       "<Figure size 720x360 with 1 Axes>"
      ]
     },
     "metadata": {
      "needs_background": "light"
     },
     "output_type": "display_data"
    }
   ],
   "source": [
    "# Удалим выявленую строку по ее индексу\n",
    "df = df.drop(index = 15957)\n",
    "# Перестроим график сроков популярности платформ имеющих максимальные продажи\n",
    "for name in top_platform_sales:\n",
    "    (\n",
    "    df.query('platform == @name and year_of_release > -1')\n",
    "    .pivot_table(index = 'year_of_release', values = 'total_sales', aggfunc = 'sum')\n",
    "    .sort_values('year_of_release', ascending = False)['total_sales']\n",
    "    .plot(grid=True, figsize = (10, 5), label=name)\n",
    "    )\n",
    "    plt.title('Срок популярности платформ имеющих максимальные продажи')\n",
    "    plt.xlabel('Год релиза игр для платформ')\n",
    "    plt.ylabel('Суммарные продажи игр для платформ')\n",
    "    plt.legend() "
   ]
  },
  {
   "cell_type": "markdown",
   "metadata": {},
   "source": [
    "##### Подведем итоги исследования о продажах игр на разных платформах и сроках актуальности игровых платформ:"
   ]
  },
  {
   "cell_type": "markdown",
   "metadata": {},
   "source": [
    "* *Среди представленных в датафрейме консолей 7 практически не имели продаж игр, 7 имели продажи ниже среднего, у 11 были средние продажи, у 5 выше среднего и только у одной платформы они были макисмальные;*\n",
    "* *Наибольшими суммарными продажами обладают 6 платформ, одна от компании Microsoft ('X360'), две от компаний Nintendo('Wii', 'DS') и три от компании Sony ('PS2', 'PS3', 'PS');*\n",
    "* *Среди самых популярных консолей примерно с  1994 по 2006 годы абсолютное лидерство принадлежало компании Sony ('PS' и 'PS2'). Примерно с 2004 года остальные консоли развивались на одном уровне и теряли популярность с промежутком в один-два года ('DS', 'X360', 'Wii', 'PS3');*\n",
    "* *Характерными сроками появления новых и исчезновения старых платформ можно считать срок в 10 лет.*"
   ]
  },
  {
   "cell_type": "markdown",
   "metadata": {},
   "source": [
    "#### Проведем исследование для определения актуального периода при выборе данных сыграющих роль при построении прогноза на 2017 год."
   ]
  },
  {
   "cell_type": "markdown",
   "metadata": {},
   "source": [
    "#####  Расчитаем медианное значение срока популярности для всех игрвых платформ."
   ]
  },
  {
   "cell_type": "code",
   "execution_count": 36,
   "metadata": {},
   "outputs": [
    {
     "name": "stdout",
     "output_type": "stream",
     "text": [
      "Медианное значение срока популярности для всех игрвых платформ составляет 7.0 лет\n"
     ]
    }
   ],
   "source": [
    "# Создадим выборку со сроками популярности всех игровых платформ\n",
    "popular_time = df.pivot_table(index='platform', values='year_of_release', aggfunc=['min', 'max']).reset_index()\n",
    "# включим в срок популярности платформы границы диапазона (+1)\n",
    "popular_time['life'] = popular_time['max'] - popular_time['min'] + 1\n",
    "# Расчитаем медиану и выведем на экран\n",
    "print('Медианное значение срока популярности для всех игрвых платформ составляет', popular_time['life'].median(), 'лет')"
   ]
  },
  {
   "cell_type": "markdown",
   "metadata": {},
   "source": [
    "#####  Для определения актуального периода целесообразно использовать данные о росте продажах по платформам или их нахождения на пике. Высчитаем первую половину срока популярности для всех игрвых платформ, с округлением в большую сторону."
   ]
  },
  {
   "cell_type": "code",
   "execution_count": 37,
   "metadata": {},
   "outputs": [
    {
     "name": "stdout",
     "output_type": "stream",
     "text": [
      "Определим, что актуальным периодом являются последние 4.0 года\n"
     ]
    }
   ],
   "source": [
    "# Высчитаем первую половину срока популярности с округлением в большую сторону.\n",
    "t = np.ceil(popular_time['life'].median()/2)\n",
    "print('Определим, что актуальным периодом являются последние', t, 'года')"
   ]
  },
  {
   "cell_type": "markdown",
   "metadata": {},
   "source": [
    "##### Подведем итоги исследования для определения актуального периода при выборе данных играющих роль при построении прогноза на 2017 год:"
   ]
  },
  {
   "cell_type": "markdown",
   "metadata": {},
   "source": [
    "* *В результате исследования предыдущих вопросов было определено, что актуальным периодом для проведения дальнейших исследований явялется период от 10 лет и менее;*\n",
    "* *Для определения актуального периода целесообразно использовать данные о росте продажах по платформам или их нахождения на пике. Другими словами для нас интересны платформы релиз которых состоялся 3-5 годами ранее и которые активно растут в продажах;*\n",
    "* *Первая половина срока популярности для всех игрвых платформ составляет 4 года;*\n",
    "* *Определим, что актуальный период при выборе данных играющих роль при построении прогноза на 2017 год составляет 4 последних года.*"
   ]
  },
  {
   "cell_type": "markdown",
   "metadata": {},
   "source": [
    "#### Определим какие платформы лидируют по продажам, растут или падают. Выберем несколько потенциально прибыльных платформ."
   ]
  },
  {
   "cell_type": "markdown",
   "metadata": {},
   "source": [
    "##### Подготовим список игровых платформ используемых в актуальный период."
   ]
  },
  {
   "cell_type": "code",
   "execution_count": 38,
   "metadata": {},
   "outputs": [
    {
     "data": {
      "text/plain": [
       "['PS4', 'PS3', 'X360', '3DS', 'XOne', 'WiiU', 'PC', 'PSV', 'Wii', 'DS']"
      ]
     },
     "execution_count": 38,
     "metadata": {},
     "output_type": "execute_result"
    }
   ],
   "source": [
    "# Определим игровые платформы используемые с 2012 года\n",
    "actual_platforms = (\n",
    "    df.query('year_of_release >= 2016-@t')\n",
    "    .pivot_table(index='platform', values='total_sales', aggfunc='sum')\n",
    "    .sort_values(by='total_sales', ascending=False)\n",
    "    .reset_index().head(10)['platform'].tolist()\n",
    "    )                         \n",
    "actual_platforms"
   ]
  },
  {
   "cell_type": "markdown",
   "metadata": {},
   "source": [
    "##### Создадим датафрейм для игр с релизом от 2012 года."
   ]
  },
  {
   "cell_type": "code",
   "execution_count": 39,
   "metadata": {},
   "outputs": [
    {
     "data": {
      "text/html": [
       "<div>\n",
       "<style scoped>\n",
       "    .dataframe tbody tr th:only-of-type {\n",
       "        vertical-align: middle;\n",
       "    }\n",
       "\n",
       "    .dataframe tbody tr th {\n",
       "        vertical-align: top;\n",
       "    }\n",
       "\n",
       "    .dataframe thead th {\n",
       "        text-align: right;\n",
       "    }\n",
       "</style>\n",
       "<table border=\"1\" class=\"dataframe\">\n",
       "  <thead>\n",
       "    <tr style=\"text-align: right;\">\n",
       "      <th></th>\n",
       "      <th>name</th>\n",
       "      <th>platform</th>\n",
       "      <th>year_of_release</th>\n",
       "      <th>genre</th>\n",
       "      <th>na_sales</th>\n",
       "      <th>eu_sales</th>\n",
       "      <th>jp_sales</th>\n",
       "      <th>other_sales</th>\n",
       "      <th>critic_score</th>\n",
       "      <th>user_score</th>\n",
       "      <th>rating</th>\n",
       "      <th>total_sales</th>\n",
       "    </tr>\n",
       "  </thead>\n",
       "  <tbody>\n",
       "    <tr>\n",
       "      <th>0</th>\n",
       "      <td>Grand Theft Auto V</td>\n",
       "      <td>PS3</td>\n",
       "      <td>2013</td>\n",
       "      <td>Action</td>\n",
       "      <td>7.02</td>\n",
       "      <td>9.09</td>\n",
       "      <td>0.98</td>\n",
       "      <td>3.96</td>\n",
       "      <td>97</td>\n",
       "      <td>8.2</td>\n",
       "      <td>M</td>\n",
       "      <td>21.05</td>\n",
       "    </tr>\n",
       "    <tr>\n",
       "      <th>1</th>\n",
       "      <td>Grand Theft Auto V</td>\n",
       "      <td>X360</td>\n",
       "      <td>2013</td>\n",
       "      <td>Action</td>\n",
       "      <td>9.66</td>\n",
       "      <td>5.14</td>\n",
       "      <td>0.06</td>\n",
       "      <td>1.41</td>\n",
       "      <td>97</td>\n",
       "      <td>8.1</td>\n",
       "      <td>M</td>\n",
       "      <td>16.27</td>\n",
       "    </tr>\n",
       "    <tr>\n",
       "      <th>2</th>\n",
       "      <td>Call of Duty: Black Ops 3</td>\n",
       "      <td>PS4</td>\n",
       "      <td>2015</td>\n",
       "      <td>Shooter</td>\n",
       "      <td>6.03</td>\n",
       "      <td>5.86</td>\n",
       "      <td>0.36</td>\n",
       "      <td>2.38</td>\n",
       "      <td>-1</td>\n",
       "      <td>-1.0</td>\n",
       "      <td>unknown</td>\n",
       "      <td>14.63</td>\n",
       "    </tr>\n",
       "    <tr>\n",
       "      <th>3</th>\n",
       "      <td>Pokemon X/Pokemon Y</td>\n",
       "      <td>3DS</td>\n",
       "      <td>2013</td>\n",
       "      <td>Role-Playing</td>\n",
       "      <td>5.28</td>\n",
       "      <td>4.19</td>\n",
       "      <td>4.35</td>\n",
       "      <td>0.78</td>\n",
       "      <td>-1</td>\n",
       "      <td>-1.0</td>\n",
       "      <td>unknown</td>\n",
       "      <td>14.60</td>\n",
       "    </tr>\n",
       "    <tr>\n",
       "      <th>4</th>\n",
       "      <td>Call of Duty: Black Ops II</td>\n",
       "      <td>PS3</td>\n",
       "      <td>2012</td>\n",
       "      <td>Shooter</td>\n",
       "      <td>4.99</td>\n",
       "      <td>5.73</td>\n",
       "      <td>0.65</td>\n",
       "      <td>2.42</td>\n",
       "      <td>83</td>\n",
       "      <td>5.3</td>\n",
       "      <td>M</td>\n",
       "      <td>13.79</td>\n",
       "    </tr>\n",
       "  </tbody>\n",
       "</table>\n",
       "</div>"
      ],
      "text/plain": [
       "                         name platform  year_of_release         genre  \\\n",
       "0          Grand Theft Auto V      PS3             2013        Action   \n",
       "1          Grand Theft Auto V     X360             2013        Action   \n",
       "2   Call of Duty: Black Ops 3      PS4             2015       Shooter   \n",
       "3         Pokemon X/Pokemon Y      3DS             2013  Role-Playing   \n",
       "4  Call of Duty: Black Ops II      PS3             2012       Shooter   \n",
       "\n",
       "   na_sales  eu_sales  jp_sales  other_sales  critic_score  user_score  \\\n",
       "0      7.02      9.09      0.98         3.96            97         8.2   \n",
       "1      9.66      5.14      0.06         1.41            97         8.1   \n",
       "2      6.03      5.86      0.36         2.38            -1        -1.0   \n",
       "3      5.28      4.19      4.35         0.78            -1        -1.0   \n",
       "4      4.99      5.73      0.65         2.42            83         5.3   \n",
       "\n",
       "    rating  total_sales  \n",
       "0        M        21.05  \n",
       "1        M        16.27  \n",
       "2  unknown        14.63  \n",
       "3  unknown        14.60  \n",
       "4        M        13.79  "
      ]
     },
     "execution_count": 39,
     "metadata": {},
     "output_type": "execute_result"
    }
   ],
   "source": [
    "# Создадим датафрейм для актуального периода\n",
    "actual_df = df.query('year_of_release >= 2016-@t').copy().reset_index(drop= True)\n",
    "actual_df.head()"
   ]
  },
  {
   "cell_type": "markdown",
   "metadata": {},
   "source": [
    "#####  Построим график для определения какие платформы лидируют по продажам, растут или падают, а также выбора нескольких потенциально прибыльных платформ в актуальном периоде."
   ]
  },
  {
   "cell_type": "code",
   "execution_count": 40,
   "metadata": {},
   "outputs": [
    {
     "data": {
      "image/png": "[encoded data removed]",
      "text/plain": [
       "<Figure size 720x360 with 1 Axes>"
      ]
     },
     "metadata": {
      "needs_background": "light"
     },
     "output_type": "display_data"
    }
   ],
   "source": [
    "# Построим график игровых платформ используемых с 2012 года\n",
    "for name in actual_platforms:\n",
    "    (\n",
    "    actual_df.query('platform == @name')\n",
    "    .pivot_table(index = 'year_of_release', values = 'total_sales', aggfunc = 'sum')\n",
    "    .sort_values('year_of_release', ascending = False)['total_sales']\n",
    "    .plot(kind='line', figsize = (10, 5), label=name)\n",
    "    )\n",
    "    plt.title('Срок популярности всех платформ за актуальный период')\n",
    "    plt.xticks(np.arange(2012, 2018, step=1))\n",
    "    plt.xlabel('Год релиза игр для платформ')\n",
    "    plt.ylabel('Суммарные продажи игр для платформ')\n",
    "    plt.legend() "
   ]
  },
  {
   "cell_type": "markdown",
   "metadata": {},
   "source": [
    "##### Подведем итоги какие платформы лидируют по продажам, растут или падают и выбору несколько потенциально прибыльных платформ в актуальном периоде:"
   ]
  },
  {
   "cell_type": "markdown",
   "metadata": {},
   "source": [
    "* *На 2016 год нет явно возрастающих продаж игр для консолей. Продажи падают на всех консолях. Относительно перспективными можно назвать консоли 'PS4' и 'XOne', но у них также прослеживается спад продаж.*"
   ]
  },
  {
   "cell_type": "markdown",
   "metadata": {},
   "source": [
    "#### Построим график «ящик с усами» по глобальным продажам игр в разбивке по платформам для актуального периода. Опишем результат."
   ]
  },
  {
   "cell_type": "markdown",
   "metadata": {},
   "source": [
    "##### Воспользуемся методом описательной статистики для данных с общими продажами игр в актуальном периоде:"
   ]
  },
  {
   "cell_type": "code",
   "execution_count": 41,
   "metadata": {},
   "outputs": [
    {
     "data": {
      "text/plain": [
       "count    2885.000000\n",
       "mean        0.501393\n",
       "std         1.249340\n",
       "min         0.010000\n",
       "25%         0.040000\n",
       "50%         0.120000\n",
       "75%         0.430000\n",
       "max        21.050000\n",
       "Name: total_sales, dtype: float64"
      ]
     },
     "execution_count": 41,
     "metadata": {},
     "output_type": "execute_result"
    }
   ],
   "source": [
    "# Применим метод описательной статистики\n",
    "actual_df['total_sales'].describe()"
   ]
  },
  {
   "cell_type": "markdown",
   "metadata": {},
   "source": [
    "##### Построим график 'Boxplot' по глобальным продажам игр в разбивке по платформам для актуального периода:"
   ]
  },
  {
   "cell_type": "code",
   "execution_count": 42,
   "metadata": {},
   "outputs": [
    {
     "data": {
      "text/plain": [
       "Text(0, 0.5, 'Продажи по платформам')"
      ]
     },
     "execution_count": 42,
     "metadata": {},
     "output_type": "execute_result"
    },
    {
     "data": {
      "image/png": "[encoded data removed]",
      "text/plain": [
       "<Figure size 864x432 with 1 Axes>"
      ]
     },
     "metadata": {
      "needs_background": "light"
     },
     "output_type": "display_data"
    }
   ],
   "source": [
    "# Построим график 'Boxplot'\n",
    "plt.figure(figsize=(12,6))\n",
    "ax = sns.boxplot(data=actual_df, x='platform', y='total_sales')\n",
    "ax.set(ylim=(0,2))\n",
    "plt.title('«Ящик с усами» по глобальным продажам игр в разбивке по платформам для актуального периода', fontsize=15)\n",
    "plt.xlabel('Платформа', fontsize=12)\n",
    "plt.ylabel('Продажи по платформам',fontsize=12)"
   ]
  },
  {
   "cell_type": "markdown",
   "metadata": {},
   "source": [
    "##### Подведем итоги построения графика «ящик с усами» и применения метода описательной статистики по глобальным продажам игр в разбивке по платформам для актуального периода:"
   ]
  },
  {
   "cell_type": "markdown",
   "metadata": {},
   "source": [
    "* *Медианное значение по всей выборке составляет 0,12 но у большинства консолей данный показатель не совпадает с основным*;\n",
    "* *По первой и третьей квартили также наблюдается большой разброс;*\n",
    "* *По всем консолям присутствуют выбросы по продажам.*"
   ]
  },
  {
   "cell_type": "markdown",
   "metadata": {},
   "source": [
    "#### Оценим, как влияют на продажи внутри самых популярных платформ отзывы пользователей и критиков в актуальном периоде. Построим диаграмму рассеяния и посчитаем корреляцию между отзывами и продажами. Сформулируем выводы."
   ]
  },
  {
   "cell_type": "markdown",
   "metadata": {},
   "source": [
    "##### Отберем 5 игровых платформ с максимальными продажами в актуальном периоде."
   ]
  },
  {
   "cell_type": "code",
   "execution_count": 43,
   "metadata": {},
   "outputs": [
    {
     "data": {
      "text/plain": [
       "['PS4', 'PS3', 'X360', '3DS', 'XOne']"
      ]
     },
     "execution_count": 43,
     "metadata": {},
     "output_type": "execute_result"
    }
   ],
   "source": [
    "# Создадим выборку5 игровых платформ с максимальными продажами\n",
    "actual_platforms_5 = (\n",
    "    actual_df.pivot_table(index='platform', values='total_sales', aggfunc='sum')\n",
    "    .sort_values(by='total_sales', ascending=False)\n",
    "    .reset_index().head(5)['platform'].tolist()\n",
    "    )                         \n",
    "actual_platforms_5"
   ]
  },
  {
   "cell_type": "markdown",
   "metadata": {},
   "source": [
    "##### Построим диаграмму распределения и вычислим корреляцию между оценкой пользователей и продажами в разрезе отдельных платформ  в актуальном периоде."
   ]
  },
  {
   "cell_type": "code",
   "execution_count": 44,
   "metadata": {},
   "outputs": [
    {
     "name": "stdout",
     "output_type": "stream",
     "text": [
      "Корреляция между оценками пользователей и продажами по платформе PS4  = -0.031957110204556376\n"
     ]
    },
    {
     "data": {
      "image/png": "[encoded data removed]",
      "text/plain": [
       "<Figure size 720x360 with 1 Axes>"
      ]
     },
     "metadata": {
      "needs_background": "light"
     },
     "output_type": "display_data"
    },
    {
     "name": "stdout",
     "output_type": "stream",
     "text": [
      "Корреляция между оценками пользователей и продажами по платформе PS3  = -0.006205767686051523\n"
     ]
    },
    {
     "data": {
      "image/png": "[encoded data removed]",
      "text/plain": [
       "<Figure size 720x360 with 1 Axes>"
      ]
     },
     "metadata": {
      "needs_background": "light"
     },
     "output_type": "display_data"
    },
    {
     "name": "stdout",
     "output_type": "stream",
     "text": [
      "Корреляция между оценками пользователей и продажами по платформе X360  = 0.006163978646213326\n"
     ]
    },
    {
     "data": {
      "image/png": "[encoded data removed]",
      "text/plain": [
       "<Figure size 720x360 with 1 Axes>"
      ]
     },
     "metadata": {
      "needs_background": "light"
     },
     "output_type": "display_data"
    },
    {
     "name": "stdout",
     "output_type": "stream",
     "text": [
      "Корреляция между оценками пользователей и продажами по платформе 3DS  = 0.19758263411038599\n"
     ]
    },
    {
     "data": {
      "image/png": "[encoded data removed]",
      "text/plain": [
       "<Figure size 720x360 with 1 Axes>"
      ]
     },
     "metadata": {
      "needs_background": "light"
     },
     "output_type": "display_data"
    },
    {
     "name": "stdout",
     "output_type": "stream",
     "text": [
      "Корреляция между оценками пользователей и продажами по платформе XOne  = -0.06892505328279414\n"
     ]
    },
    {
     "data": {
      "image/png": "[encoded data removed]",
      "text/plain": [
       "<Figure size 720x360 with 1 Axes>"
      ]
     },
     "metadata": {
      "needs_background": "light"
     },
     "output_type": "display_data"
    }
   ],
   "source": [
    "# Построим диаграммы распределения\n",
    "for name in actual_platforms_5:\n",
    "    (\n",
    "    actual_df\n",
    "        .query('platform == @name and user_score > -1')\n",
    "        .plot(x='user_score', \n",
    "          y='total_sales', \n",
    "          kind='scatter', \n",
    "          figsize=(10, 5), \n",
    "          color='blue')\n",
    "    )\n",
    "    plt.title(f'Диаграмма распределения между оценками пользователей и продажами по платформе {name}')\n",
    "    plt.xlabel('Оценка пользователей')\n",
    "    plt.ylabel('Продажи')\n",
    "    plt.legend([name])\n",
    "    print(f'Корреляция между оценками пользователей и продажами по платформе {name}  =', actual_df.query('platform == @name and user_score > -1')['user_score'].corr(actual_df.query('platform == @name and user_score > -1')['total_sales']))\n",
    "    plt.show()"
   ]
  },
  {
   "cell_type": "markdown",
   "metadata": {},
   "source": [
    "***Диаграммы распределения указывают на слабую связь между оценкой пользователей и продажами в разрезе отдельных платформ. Коэффициент корреляции подтверждает это, лишь в некоторых случаях он приближается к 0,2.***"
   ]
  },
  {
   "cell_type": "markdown",
   "metadata": {},
   "source": [
    "##### Построим диаграмму распределения и вычислим корреляцию между оценкой критиков и продажами в разрезе отдельных платформ в актуальном периоде."
   ]
  },
  {
   "cell_type": "code",
   "execution_count": 45,
   "metadata": {},
   "outputs": [
    {
     "name": "stdout",
     "output_type": "stream",
     "text": [
      "Корреляция между оценками критиков и продажами по платформе PS4  = 0.40656790206178095\n"
     ]
    },
    {
     "data": {
      "image/png": "[encoded data removed]",
      "text/plain": [
       "<Figure size 720x360 with 1 Axes>"
      ]
     },
     "metadata": {
      "needs_background": "light"
     },
     "output_type": "display_data"
    },
    {
     "name": "stdout",
     "output_type": "stream",
     "text": [
      "Корреляция между оценками критиков и продажами по платформе PS3  = 0.3341517575509856\n"
     ]
    },
    {
     "data": {
      "image/png": "[encoded data removed]",
      "text/plain": [
       "<Figure size 720x360 with 1 Axes>"
      ]
     },
     "metadata": {
      "needs_background": "light"
     },
     "output_type": "display_data"
    },
    {
     "name": "stdout",
     "output_type": "stream",
     "text": [
      "Корреляция между оценками критиков и продажами по платформе X360  = 0.3605734888507336\n"
     ]
    },
    {
     "data": {
      "image/png": "[encoded data removed]",
      "text/plain": [
       "<Figure size 720x360 with 1 Axes>"
      ]
     },
     "metadata": {
      "needs_background": "light"
     },
     "output_type": "display_data"
    },
    {
     "name": "stdout",
     "output_type": "stream",
     "text": [
      "Корреляция между оценками критиков и продажами по платформе 3DS  = 0.3208028695360785\n"
     ]
    },
    {
     "data": {
      "image/png": "[encoded data removed]",
      "text/plain": [
       "<Figure size 720x360 with 1 Axes>"
      ]
     },
     "metadata": {
      "needs_background": "light"
     },
     "output_type": "display_data"
    },
    {
     "name": "stdout",
     "output_type": "stream",
     "text": [
      "Корреляция между оценками критиков и продажами по платформе XOne  = 0.4169983280084017\n"
     ]
    },
    {
     "data": {
      "image/png": "[encoded data removed]",
      "text/plain": [
       "<Figure size 720x360 with 1 Axes>"
      ]
     },
     "metadata": {
      "needs_background": "light"
     },
     "output_type": "display_data"
    }
   ],
   "source": [
    "# Построим диаграммы распределения\n",
    "for name in actual_platforms_5:\n",
    "    (\n",
    "    actual_df\n",
    "        .query('platform == @name and critic_score > -1')\n",
    "        .plot(x='critic_score', \n",
    "          y='total_sales', \n",
    "          kind='scatter', \n",
    "          figsize=(10, 5), \n",
    "          color='green')\n",
    "    )\n",
    "    plt.title(f'Диаграмма распределения между оценками критиков и продажами по платформе {name}')\n",
    "    plt.xlabel('Оценка критиков')\n",
    "    plt.ylabel('Продажи')\n",
    "    plt.legend([name])\n",
    "    print(f'Корреляция между оценками критиков и продажами по платформе {name}  =', actual_df.query('platform == @name and critic_score > -1')['critic_score'].corr(actual_df.query('platform == @name and critic_score > -1')['total_sales']))\n",
    "    plt.show()"
   ]
  },
  {
   "cell_type": "markdown",
   "metadata": {},
   "source": [
    "***Диаграммы распределения указывают на умеренную связь между оценкой критиков и продажами в разрезе отдельных платформ. Соответствующий коэффициент корреляции подтверждает это, колеблется от 0,32 до 0,42.***"
   ]
  },
  {
   "cell_type": "markdown",
   "metadata": {},
   "source": [
    "##### Подведем итоги оценки, как влияют на продажи внутри самых популярных платформ отзывы пользователей и критиков в актуальном периоде, на соновании диаграмм рассеяния и подсчета корреляции между отзывами и продажами:"
   ]
  },
  {
   "cell_type": "markdown",
   "metadata": {},
   "source": [
    "* *Диаграммы зависимости оценок на показатели продаж и коэффициенты корреляции по отдельным платформам указывают, что:*\n",
    "\n",
    "   - между оценками пользователей и продажами связь отсутствует или очень слабая, линия зависимости не прослеживается;\n",
    "   - между оценками критиков и продажами связь умеренная, линия зависимости прослеживается слабо."
   ]
  },
  {
   "cell_type": "markdown",
   "metadata": {},
   "source": [
    "#### Соотнесем выводы по оценке влияния на продажи внутри популярных платформ отзывов пользователей и критиков в актуальном периоде с продажами игр на других платформах. "
   ]
  },
  {
   "cell_type": "markdown",
   "metadata": {},
   "source": [
    "##### Построим диаграмму распределения и вычислим корреляцию между оценкой пользователей и продажами для всего набора данных  в актуальном периоде."
   ]
  },
  {
   "cell_type": "code",
   "execution_count": 46,
   "metadata": {},
   "outputs": [
    {
     "name": "stdout",
     "output_type": "stream",
     "text": [
      "Общая корреляция между оценками пользователей и продажами =  0.0041944811069172284\n"
     ]
    }
   ],
   "source": [
    "# Вычислим общую корреляцию\n",
    "print('Общая корреляция между оценками пользователей и продажами = ', actual_df.query('user_score > -1')['user_score'].corr(actual_df['total_sales']))"
   ]
  },
  {
   "cell_type": "code",
   "execution_count": 47,
   "metadata": {},
   "outputs": [
    {
     "data": {
      "image/png": "[encoded data removed]",
      "text/plain": [
       "<Figure size 720x360 with 1 Axes>"
      ]
     },
     "metadata": {
      "needs_background": "light"
     },
     "output_type": "display_data"
    }
   ],
   "source": [
    "# Построим диаграмму распределения\n",
    "(\n",
    " actual_df.query('user_score > -1')\n",
    "    .plot(x='user_score', \n",
    "          y='total_sales', \n",
    "          kind='scatter', \n",
    "          figsize=(10, 5), \n",
    "          color='blue')\n",
    ")\n",
    "plt.title('Диаграмма распределения между оценками пользователей и продажами', fontsize=15)\n",
    "plt.xlabel('Оценка пользователей', fontsize=12)\n",
    "plt.ylabel('Продажи',fontsize=12)\n",
    "plt.show()"
   ]
  },
  {
   "cell_type": "markdown",
   "metadata": {},
   "source": [
    "***Диаграмма распределения указывает на слабую связь между оценкой пользователей и продажами по всей совокупности данных (коэфициент корреляции приближается к 0,004).***"
   ]
  },
  {
   "cell_type": "markdown",
   "metadata": {},
   "source": [
    "##### Построим диаграмму распределения и вычислим корреляцию между оценкой критиков и продажами для всего набора данных в актуальном периоде."
   ]
  },
  {
   "cell_type": "code",
   "execution_count": 48,
   "metadata": {},
   "outputs": [
    {
     "name": "stdout",
     "output_type": "stream",
     "text": [
      "Общая корреляция между оценками критиков и продажами =  0.30863336128976016\n"
     ]
    }
   ],
   "source": [
    "# Вычислим общую корреляцию\n",
    "print('Общая корреляция между оценками критиков и продажами = ', actual_df.query('critic_score > -1')['critic_score'].corr(actual_df['total_sales']))"
   ]
  },
  {
   "cell_type": "code",
   "execution_count": 49,
   "metadata": {},
   "outputs": [
    {
     "data": {
      "image/png": "[encoded data removed]",
      "text/plain": [
       "<Figure size 720x360 with 1 Axes>"
      ]
     },
     "metadata": {
      "needs_background": "light"
     },
     "output_type": "display_data"
    }
   ],
   "source": [
    "# Построим диаграмму распределения\n",
    "(\n",
    " actual_df.query('critic_score > -1')\n",
    "    .plot(x='critic_score', \n",
    "          y='total_sales', \n",
    "          kind='scatter', \n",
    "          figsize=(10, 5), \n",
    "          color='green')\n",
    ")\n",
    "plt.title('Диаграмма распределения между оценками критиков и продажами', fontsize=15)\n",
    "plt.xlabel('Оценка критиков', fontsize=12)\n",
    "plt.ylabel('Продажи',fontsize=12)\n",
    "plt.show()"
   ]
  },
  {
   "cell_type": "markdown",
   "metadata": {},
   "source": [
    "***Диаграмма распределения указывает на умеренную связь между оценкой критиков и продажами по всей совокупности данных коэффициент корреляции подтверждает это и приближается к 0,31.***"
   ]
  },
  {
   "cell_type": "markdown",
   "metadata": {},
   "source": [
    "##### Подведем итоги оценки, как влияют на продажи внутри всех платформ отзывы пользователей и критиков в актуальном периоде, на соновании диаграмм рассеяния и подсчета корреляции между отзывами и продажами:"
   ]
  },
  {
   "cell_type": "markdown",
   "metadata": {},
   "source": [
    "*Диаграммы зависимости оценок на показатели продаж и коэффициенты корреляции по отношению к общим показателям указывают на то что, по всем платформам:*\n",
    "   - между оценками пользователей и продажами связь отсутствует или очень слабая, линия зависимости не прослеживается;\n",
    "   - между оценками критиков и продажами связь умеренная, линия зависимости прослеживается слабо.\n",
    "   \n",
    "*Полученные результаты полностью подтверждают выводы прошлого шага.*"
   ]
  },
  {
   "cell_type": "markdown",
   "metadata": {},
   "source": [
    "#### Проведем исследование общего распределения игр по жанрам в актуальном периоде. "
   ]
  },
  {
   "cell_type": "markdown",
   "metadata": {},
   "source": [
    "##### Построим график с суммой продаж игр по жанрам. В разрезе жанров определим самые прибыльные игры и определим сумму продаж."
   ]
  },
  {
   "cell_type": "code",
   "execution_count": 50,
   "metadata": {},
   "outputs": [
    {
     "data": {
      "image/png": "[encoded data removed]",
      "text/plain": [
       "<Figure size 720x360 with 1 Axes>"
      ]
     },
     "metadata": {
      "needs_background": "light"
     },
     "output_type": "display_data"
    }
   ],
   "source": [
    "# Построим график по прибыльности игровых жанров в актуальном периоде\n",
    "(actual_df\n",
    " .pivot_table(index='genre', values='total_sales', aggfunc='sum')\n",
    " .sort_values('total_sales', ascending=False)\n",
    " .plot(kind='bar', y='total_sales', figsize=(10, 5), legend=False,title = 'Прибыльность игровых жанров в актуальном периоде')\n",
    " .set(xlabel='Жанр игры', ylabel='Всего продаж игр по жанру'))\n",
    "\n",
    "plt.show()"
   ]
  },
  {
   "cell_type": "markdown",
   "metadata": {},
   "source": [
    "##### Построим диаграмму размаха продаж игр по перспективным жанрам."
   ]
  },
  {
   "cell_type": "code",
   "execution_count": 51,
   "metadata": {},
   "outputs": [
    {
     "data": {
      "text/plain": [
       "Text(0, 0.5, 'Продажи по жанрам')"
      ]
     },
     "execution_count": 51,
     "metadata": {},
     "output_type": "execute_result"
    },
    {
     "data": {
      "image/png": "[encoded data removed]",
      "text/plain": [
       "<Figure size 864x432 with 1 Axes>"
      ]
     },
     "metadata": {
      "needs_background": "light"
     },
     "output_type": "display_data"
    }
   ],
   "source": [
    "# Построим диаграмму размаха\n",
    "plt.figure(figsize=(12,6))\n",
    "ax = sns.boxplot(data=actual_df, x='genre', y='total_sales')\n",
    "ax.set(ylim=(0,1.5))\n",
    "plt.title('Продажи игр по перспективным жанрам', fontsize=15)\n",
    "plt.xlabel('Жанр', fontsize=12)\n",
    "plt.ylabel('Продажи по жанрам',fontsize=12)"
   ]
  },
  {
   "cell_type": "markdown",
   "metadata": {},
   "source": [
    "##### Вычислим медианные значения продаж игр по перспективным жанрам в актуальном периоде."
   ]
  },
  {
   "cell_type": "code",
   "execution_count": 52,
   "metadata": {},
   "outputs": [
    {
     "data": {
      "text/html": [
       "<div>\n",
       "<style scoped>\n",
       "    .dataframe tbody tr th:only-of-type {\n",
       "        vertical-align: middle;\n",
       "    }\n",
       "\n",
       "    .dataframe tbody tr th {\n",
       "        vertical-align: top;\n",
       "    }\n",
       "\n",
       "    .dataframe thead th {\n",
       "        text-align: right;\n",
       "    }\n",
       "</style>\n",
       "<table border=\"1\" class=\"dataframe\">\n",
       "  <thead>\n",
       "    <tr style=\"text-align: right;\">\n",
       "      <th></th>\n",
       "      <th>total_sales</th>\n",
       "    </tr>\n",
       "    <tr>\n",
       "      <th>genre</th>\n",
       "      <th></th>\n",
       "    </tr>\n",
       "  </thead>\n",
       "  <tbody>\n",
       "    <tr>\n",
       "      <th>Shooter</th>\n",
       "      <td>0.440</td>\n",
       "    </tr>\n",
       "    <tr>\n",
       "      <th>Sports</th>\n",
       "      <td>0.240</td>\n",
       "    </tr>\n",
       "    <tr>\n",
       "      <th>Platform</th>\n",
       "      <td>0.210</td>\n",
       "    </tr>\n",
       "    <tr>\n",
       "      <th>Role-Playing</th>\n",
       "      <td>0.140</td>\n",
       "    </tr>\n",
       "    <tr>\n",
       "      <th>Racing</th>\n",
       "      <td>0.140</td>\n",
       "    </tr>\n",
       "    <tr>\n",
       "      <th>Fighting</th>\n",
       "      <td>0.130</td>\n",
       "    </tr>\n",
       "    <tr>\n",
       "      <th>Action</th>\n",
       "      <td>0.120</td>\n",
       "    </tr>\n",
       "    <tr>\n",
       "      <th>Misc</th>\n",
       "      <td>0.120</td>\n",
       "    </tr>\n",
       "    <tr>\n",
       "      <th>Simulation</th>\n",
       "      <td>0.120</td>\n",
       "    </tr>\n",
       "    <tr>\n",
       "      <th>Strategy</th>\n",
       "      <td>0.080</td>\n",
       "    </tr>\n",
       "    <tr>\n",
       "      <th>Puzzle</th>\n",
       "      <td>0.045</td>\n",
       "    </tr>\n",
       "    <tr>\n",
       "      <th>Adventure</th>\n",
       "      <td>0.030</td>\n",
       "    </tr>\n",
       "  </tbody>\n",
       "</table>\n",
       "</div>"
      ],
      "text/plain": [
       "              total_sales\n",
       "genre                    \n",
       "Shooter             0.440\n",
       "Sports              0.240\n",
       "Platform            0.210\n",
       "Role-Playing        0.140\n",
       "Racing              0.140\n",
       "Fighting            0.130\n",
       "Action              0.120\n",
       "Misc                0.120\n",
       "Simulation          0.120\n",
       "Strategy            0.080\n",
       "Puzzle              0.045\n",
       "Adventure           0.030"
      ]
     },
     "execution_count": 52,
     "metadata": {},
     "output_type": "execute_result"
    }
   ],
   "source": [
    "# Построим сводную таблицу с медианными значениями\n",
    "(\n",
    " actual_df\n",
    " .pivot_table(index='genre', values='total_sales', aggfunc='median')\n",
    " .sort_values('total_sales', ascending=False)\n",
    ")"
   ]
  },
  {
   "cell_type": "markdown",
   "metadata": {},
   "source": [
    "##### Подведем итоги исследования общего распределения игр по жанрам в актуальном периоде:"
   ]
  },
  {
   "cell_type": "markdown",
   "metadata": {},
   "source": [
    "* *За последние четыре года наиболее востребованными жанрами среди игр являются 'Action' и 'Shooter'.*  \n",
    "* *Дополнительное исследование и сравнение медианных значений по продажам в разрезе жанров указывает, что предпочтение в жанрах надо отдавать Shooter, Sports обладающих большим медианным значением прибыли.*"
   ]
  },
  {
   "cell_type": "markdown",
   "metadata": {},
   "source": [
    "___\n",
    "#### Вывод по исследовательскому анализу данных:\n",
    "<font color='green'> ***При провдении исследований были сделаны следующие выводы:***\n",
    "* ***Для проведения исследования целесообразно выбрать период за не более 5-10 последних лет, в связи с потерей интереса у игроков к старым играм, стремительным ростом вычислительных мощностей игровых платформ, сильного влияния на рынок ожидаемых игровых новинок;***\n",
    "* ***Характерными сроками появления новых и исчезновения старых платформ можно считать срок в 10 лет;***\n",
    "* ***Актуальный период при выборе данных играющих роль при построении прогноза на 2017 год составляет 4 последних года;***\n",
    "* ***На 2016 год нет явно возрастающих продаж игр для консолей. Продажи падают на всех консолях. Относительно перспективными можно назвать консоли 'PS4' и 'XOne', но у них также прослеживается спад продаж;***\n",
    "* ***Между оценками пользователей и продажами игр слабая связь и нелинейная;***\n",
    "* ***Между оценками критиков и продажами игр связь умеренная и скорее всего нелинейная;***\n",
    "* ***Перспективными игровыми жанрами обладающих большим медианным значением прибыли можно считать 'Shooter' и 'Sports'.*** </font>"
   ]
  },
  {
   "cell_type": "markdown",
   "metadata": {},
   "source": [
    "### Составим портрет пользователя каждого региона. "
   ]
  },
  {
   "cell_type": "markdown",
   "metadata": {},
   "source": [
    "#### Определим для пользователя каждого региона (NA, EU, JP) самые популярные платформы (топ-5). Опишем различия в долях продаж."
   ]
  },
  {
   "cell_type": "markdown",
   "metadata": {},
   "source": [
    "##### Построим сводную таблицу самых популярных платформ (топ-5) по регионам за актуальный период."
   ]
  },
  {
   "cell_type": "code",
   "execution_count": 53,
   "metadata": {},
   "outputs": [
    {
     "data": {
      "text/html": [
       "<div>\n",
       "<style scoped>\n",
       "    .dataframe tbody tr th:only-of-type {\n",
       "        vertical-align: middle;\n",
       "    }\n",
       "\n",
       "    .dataframe tbody tr th {\n",
       "        vertical-align: top;\n",
       "    }\n",
       "\n",
       "    .dataframe thead th {\n",
       "        text-align: right;\n",
       "    }\n",
       "</style>\n",
       "<table border=\"1\" class=\"dataframe\">\n",
       "  <thead>\n",
       "    <tr style=\"text-align: right;\">\n",
       "      <th></th>\n",
       "      <th>na_platform</th>\n",
       "      <th>na_sales</th>\n",
       "      <th>eu_platform</th>\n",
       "      <th>eu_sales</th>\n",
       "      <th>jp_platform</th>\n",
       "      <th>jp_sales</th>\n",
       "    </tr>\n",
       "  </thead>\n",
       "  <tbody>\n",
       "    <tr>\n",
       "      <th>0</th>\n",
       "      <td>X360</td>\n",
       "      <td>140.05</td>\n",
       "      <td>PS4</td>\n",
       "      <td>141.09</td>\n",
       "      <td>3DS</td>\n",
       "      <td>87.79</td>\n",
       "    </tr>\n",
       "    <tr>\n",
       "      <th>1</th>\n",
       "      <td>PS4</td>\n",
       "      <td>108.74</td>\n",
       "      <td>PS3</td>\n",
       "      <td>106.85</td>\n",
       "      <td>PS3</td>\n",
       "      <td>35.29</td>\n",
       "    </tr>\n",
       "    <tr>\n",
       "      <th>2</th>\n",
       "      <td>PS3</td>\n",
       "      <td>103.38</td>\n",
       "      <td>X360</td>\n",
       "      <td>74.52</td>\n",
       "      <td>PSV</td>\n",
       "      <td>21.04</td>\n",
       "    </tr>\n",
       "    <tr>\n",
       "      <th>3</th>\n",
       "      <td>XOne</td>\n",
       "      <td>93.12</td>\n",
       "      <td>XOne</td>\n",
       "      <td>51.59</td>\n",
       "      <td>PS4</td>\n",
       "      <td>15.96</td>\n",
       "    </tr>\n",
       "    <tr>\n",
       "      <th>4</th>\n",
       "      <td>3DS</td>\n",
       "      <td>55.31</td>\n",
       "      <td>3DS</td>\n",
       "      <td>42.64</td>\n",
       "      <td>WiiU</td>\n",
       "      <td>13.01</td>\n",
       "    </tr>\n",
       "    <tr>\n",
       "      <th>5</th>\n",
       "      <td>Other</td>\n",
       "      <td>90.37</td>\n",
       "      <td>Other</td>\n",
       "      <td>90.12</td>\n",
       "      <td>Other</td>\n",
       "      <td>19.49</td>\n",
       "    </tr>\n",
       "  </tbody>\n",
       "</table>\n",
       "</div>"
      ],
      "text/plain": [
       "  na_platform  na_sales eu_platform  eu_sales jp_platform  jp_sales\n",
       "0        X360    140.05         PS4    141.09         3DS     87.79\n",
       "1         PS4    108.74         PS3    106.85         PS3     35.29\n",
       "2         PS3    103.38        X360     74.52         PSV     21.04\n",
       "3        XOne     93.12        XOne     51.59         PS4     15.96\n",
       "4         3DS     55.31         3DS     42.64        WiiU     13.01\n",
       "5       Other     90.37       Other     90.12       Other     19.49"
      ]
     },
     "execution_count": 53,
     "metadata": {},
     "output_type": "execute_result"
    }
   ],
   "source": [
    "# Построим сводную таблицу\n",
    "na = (\n",
    "      actual_df\n",
    "        .pivot_table(index=['platform'], values=['na_sales'], aggfunc='sum')\n",
    "        .sort_values('na_sales', ascending=False).reset_index()\n",
    "     )\n",
    "na.loc[5:,'platform'] = 'Other'\n",
    "na.loc[5,'na_sales'] =  na.loc[5:,'na_sales'].sum().round(2)\n",
    "na = na.iloc[0:6, :]\n",
    "eu = (\n",
    "      actual_df\n",
    "        .pivot_table(index=['platform'], values=['eu_sales'], aggfunc='sum')\n",
    "        .sort_values('eu_sales', ascending=False).reset_index()\n",
    "     )\n",
    "eu.loc[5:,'platform'] = 'Other'\n",
    "eu.loc[5,'eu_sales'] =  eu.loc[5:,'eu_sales'].sum().round(2)\n",
    "eu = eu.iloc[0:6, :]\n",
    "jp = (\n",
    "      actual_df\n",
    "        .pivot_table(index=['platform'], values=['jp_sales'], aggfunc='sum')\n",
    "        .sort_values('jp_sales', ascending=False).reset_index()\n",
    "     )\n",
    "jp.loc[5:,'platform'] = 'Other'\n",
    "jp.loc[5,'jp_sales'] =  jp.loc[5:,'jp_sales'].sum().round(2)\n",
    "jp = jp.iloc[0:6, :]\n",
    "ps = pd.merge(na, eu, left_index=True, right_index=True)\n",
    "ps = pd.merge(ps, jp, left_index=True, right_index=True)\n",
    "ps.rename(columns = {'platform_x':'na_platform', 'platform_y':'eu_platform', 'platform':'jp_platform'}, inplace = True )\n",
    "\n",
    "ps"
   ]
  },
  {
   "cell_type": "markdown",
   "metadata": {},
   "source": [
    "##### Построим круговые диаграммы самых популярных платформ (топ-5) по регионам за актуальный период."
   ]
  },
  {
   "cell_type": "code",
   "execution_count": 54,
   "metadata": {},
   "outputs": [
    {
     "data": {
      "text/html": [
       "<div>\n",
       "<style scoped>\n",
       "    .dataframe tbody tr th:only-of-type {\n",
       "        vertical-align: middle;\n",
       "    }\n",
       "\n",
       "    .dataframe tbody tr th {\n",
       "        vertical-align: top;\n",
       "    }\n",
       "\n",
       "    .dataframe thead th {\n",
       "        text-align: right;\n",
       "    }\n",
       "</style>\n",
       "<table border=\"1\" class=\"dataframe\">\n",
       "  <thead>\n",
       "    <tr style=\"text-align: right;\">\n",
       "      <th></th>\n",
       "      <th>region</th>\n",
       "      <th>platform</th>\n",
       "      <th>sales</th>\n",
       "    </tr>\n",
       "  </thead>\n",
       "  <tbody>\n",
       "    <tr>\n",
       "      <th>0</th>\n",
       "      <td>NA - Америка</td>\n",
       "      <td>na_platform</td>\n",
       "      <td>na_sales</td>\n",
       "    </tr>\n",
       "    <tr>\n",
       "      <th>1</th>\n",
       "      <td>EU - Европа</td>\n",
       "      <td>eu_platform</td>\n",
       "      <td>eu_sales</td>\n",
       "    </tr>\n",
       "    <tr>\n",
       "      <th>2</th>\n",
       "      <td>JP - Япония</td>\n",
       "      <td>jp_platform</td>\n",
       "      <td>jp_sales</td>\n",
       "    </tr>\n",
       "  </tbody>\n",
       "</table>\n",
       "</div>"
      ],
      "text/plain": [
       "         region     platform     sales\n",
       "0  NA - Америка  na_platform  na_sales\n",
       "1   EU - Европа  eu_platform  eu_sales\n",
       "2   JP - Япония  jp_platform  jp_sales"
      ]
     },
     "execution_count": 54,
     "metadata": {},
     "output_type": "execute_result"
    }
   ],
   "source": [
    "# Создадим датафрейф с разбивкой по регионам\n",
    "data = {'region': ['NA - Америка', 'EU - Европа', 'JP - Япония'], 'platform': ['na_platform', 'eu_platform', 'jp_platform'], 'sales': ['na_sales', 'eu_sales', 'jp_sales']} \n",
    "regions = pd.DataFrame(data) \n",
    "regions"
   ]
  },
  {
   "cell_type": "code",
   "execution_count": 66,
   "metadata": {},
   "outputs": [
    {
     "data": {
      "image/png": "[encoded data removed]",
      "text/plain": [
       "<Figure size 504x504 with 1 Axes>"
      ]
     },
     "metadata": {},
     "output_type": "display_data"
    },
    {
     "data": {
      "image/png": "[encoded data removed]",
      "text/plain": [
       "<Figure size 504x504 with 1 Axes>"
      ]
     },
     "metadata": {},
     "output_type": "display_data"
    },
    {
     "data": {
      "image/png": "[encoded data removed]",
      "text/plain": [
       "<Figure size 504x504 with 1 Axes>"
      ]
     },
     "metadata": {},
     "output_type": "display_data"
    }
   ],
   "source": [
    "# Построим круговые диаграммы\n",
    "for i in regions.index :\n",
    "    name = regions['region'][i]\n",
    "    (ps.pivot_table(index=regions['platform'][i], values=regions['sales'][i], aggfunc='sum')\n",
    "     .plot(kind='pie', y=regions['sales'][i], autopct='%1.0f%%', figsize=(7, 7), startangle=120, legend=False, shadow=True)\n",
    "     .set(ylabel='Доля продаж игр от общего количества в регионе (%)')\n",
    "    )\n",
    "    plt.title(f' Самые популярные игровые платформы в регионе {name} (Топ-5)')\n",
    "    plt.show()"
   ]
  },
  {
   "cell_type": "markdown",
   "metadata": {},
   "source": [
    "##### Отобразим доли продаж игр для ТОП - 5 платформ по регионам NA, EU, JP в таблице."
   ]
  },
  {
   "cell_type": "code",
   "execution_count": null,
   "metadata": {},
   "outputs": [],
   "source": [
    "# Построим таблицу\n",
    "print('Доли продаж игр для ТОП - 5 платформ по регионам NA, EU, JP')\n",
    "ps.na_sales = round(ps.na_sales/ps.na_sales.sum()*100, 2)\n",
    "ps.eu_sales = round(ps.eu_sales/ps.eu_sales.sum()*100, 2)\n",
    "ps.jp_sales = round(ps.jp_sales/ps.jp_sales.sum()*100, 2)\n",
    "ps"
   ]
  },
  {
   "cell_type": "markdown",
   "metadata": {},
   "source": [
    "##### Подведем итоги определения самых популярных платформ (топ-5) для пользователя каждого региона (NA, EU, JP):"
   ]
  },
  {
   "cell_type": "markdown",
   "metadata": {},
   "source": [
    "* *Пользователи по регионам в основном используют платформы в соответствии с долями указанными в таблице выше;*\n",
    "* *На рынке JP присутствуют специализированные региональные платформы. Платформа 3DS занимает 46% рынка;*  \n",
    "* *В топ в регионах NA и EU входят одинаковые платформы с перестановкой их предпочтения.*"
   ]
  },
  {
   "cell_type": "markdown",
   "metadata": {},
   "source": [
    "#### Определим для пользователя каждого региона (NA, EU, JP) самые популярные жанры (топ-5). Поясним разницу."
   ]
  },
  {
   "cell_type": "markdown",
   "metadata": {},
   "source": [
    "##### Построим круговые диаграммы самых популярных жанров (топ-5) по регионам за актуальный период."
   ]
  },
  {
   "cell_type": "code",
   "execution_count": null,
   "metadata": {},
   "outputs": [],
   "source": [
    "# Построим круговые диаграммы\n",
    "na = (\n",
    "      actual_df\n",
    "        .pivot_table(index=['genre'], values=['na_sales'], aggfunc='sum')\n",
    "        .sort_values('na_sales', ascending=False).reset_index()\n",
    "     )\n",
    "na.loc[5:,'genre'] = 'Other'\n",
    "na.loc[5,'na_sales'] =  na.loc[5:,'na_sales'].sum().round(2)\n",
    "na = na.iloc[0:6, :]\n",
    "eu = (\n",
    "      actual_df\n",
    "        .pivot_table(index=['genre'], values=['eu_sales'], aggfunc='sum')\n",
    "        .sort_values('eu_sales', ascending=False).reset_index()\n",
    "     )\n",
    "eu.loc[5:,'genre'] = 'Other'\n",
    "eu.loc[5,'eu_sales'] =  eu.loc[5:,'eu_sales'].sum().round(2)\n",
    "eu = eu.iloc[0:6, :]\n",
    "jp = (\n",
    "      actual_df\n",
    "        .pivot_table(index=['genre'], values=['jp_sales'], aggfunc='sum')\n",
    "        .sort_values('jp_sales', ascending=False).reset_index()\n",
    "     )\n",
    "jp.loc[5:,'genre'] = 'Other'\n",
    "jp.loc[5,'jp_sales'] =  jp.loc[5:,'jp_sales'].sum().round(2)\n",
    "jp = jp.iloc[0:6, :]\n",
    "gs = pd.merge(na, eu, left_index=True, right_index=True)\n",
    "gs = pd.merge(gs, jp, left_index=True, right_index=True)\n",
    "gs.rename(columns = {'genre_x':'na_genre', 'genre_y':'eu_genre', 'genre':'jp_genre'}, inplace = True )\n",
    "\n",
    "data = {'region': ['NA - Америка', 'EU - Европа', 'JP - Япония'], 'genre': ['na_genre', 'eu_genre', 'jp_genre'], 'sales': ['na_sales', 'eu_sales', 'jp_sales']} \n",
    "regions = pd.DataFrame(data) \n",
    "\n",
    "for i in regions.index :\n",
    "    name = regions['region'][i]\n",
    "    (gs.pivot_table(index=regions['genre'][i], values=regions['sales'][i], aggfunc='sum')\n",
    "     .plot(kind='pie', y=regions['sales'][i], autopct='%1.0f%%', startangle=120, figsize=(7, 7), legend=False, shadow=True)\n",
    "     .set(ylabel='Доля продаж игр от общего количества в регионе (%)')\n",
    "    )\n",
    "    plt.title(f'Самые популярные игровые жанры в регионе {name} (Топ-5)')\n",
    "    plt.show()"
   ]
  },
  {
   "cell_type": "markdown",
   "metadata": {},
   "source": [
    "##### Отобразим доли продаж игр для ТОП - 5 жанров по регионам NA, EU, JP в таблице."
   ]
  },
  {
   "cell_type": "code",
   "execution_count": null,
   "metadata": {},
   "outputs": [],
   "source": [
    "# Построим таблицу\n",
    "print('Отобразим доли продаж игр для ТОП - 5 жанров по регионам NA, EU, JP')\n",
    "gs.na_sales = round(gs.na_sales/gs.na_sales.sum()*100, 2)\n",
    "gs.eu_sales = round(gs.eu_sales/gs.eu_sales.sum()*100, 2)\n",
    "gs.jp_sales = round(gs.jp_sales/gs.jp_sales.sum()*100, 2)\n",
    "gs"
   ]
  },
  {
   "cell_type": "markdown",
   "metadata": {},
   "source": [
    "##### Подведем итоги определения самых популярных платформ (топ-5) для пользователя каждого региона (NA, EU, JP):"
   ]
  },
  {
   "cell_type": "markdown",
   "metadata": {},
   "source": [
    "* *Пользователи по регионам в основном предпочитают жанры игр в соответствии с долями указанными в таблице выше;*\n",
    "* *На рынке JP предпочитают жанры Role-Playing, Action которые суммарно занимают почти 60% рынка;*  \n",
    "* *В топ в регионах NA и EU входят одинаковые жанры почти с одинаковым распределением.*"
   ]
  },
  {
   "cell_type": "markdown",
   "metadata": {},
   "source": [
    "#### Определим влияет ли рейтинг ESRB на продажи в отдельном регионе."
   ]
  },
  {
   "cell_type": "markdown",
   "metadata": {},
   "source": [
    "##### Построим круговые диаграммы влияния на продажи рейтинга ESRB по регионам за актуальный период."
   ]
  },
  {
   "cell_type": "code",
   "execution_count": null,
   "metadata": {},
   "outputs": [],
   "source": [
    "# Построим круговые диаграммы\n",
    "regions = ['na_sales', 'eu_sales', 'jp_sales']\n",
    "\n",
    "for region in regions:\n",
    "    if region == 'na_sales':\n",
    "        name = 'NA - Америка'\n",
    "    elif region == 'eu_sales':\n",
    "        name = 'EU - Европа'\n",
    "    else:\n",
    "        name = 'JP - Япония'\n",
    "    (actual_df.pivot_table(index='rating', values=region, aggfunc='sum')\n",
    "     .sort_values(region, ascending=False)\n",
    "     .plot(kind='pie', y=region, autopct='%1.0f%%', startangle=120, figsize=(7, 7), legend=False, title = region, shadow=True)\n",
    "     .set(ylabel='Доля продаж в зависимости от рейтинга ESRB в %')\n",
    "    )\n",
    "    plt.title(f'Доля продаж в зависимости от рейтинга ESRB в регионе {name}')\n",
    "    plt.show()"
   ]
  },
  {
   "cell_type": "markdown",
   "metadata": {},
   "source": [
    "##### Подведем итоги влияния на продажи рейтинга ESRB по регионам за актуальный период:"
   ]
  },
  {
   "cell_type": "markdown",
   "metadata": {},
   "source": [
    "* *В регионах NA и EU основная масса проданных игр имеет рейтинг \"M\" (для взрослых) - 38-39% на втором месте идут игры с рейтингом для всех \"Е\" 19-22%,;*\n",
    "* *на рынке JP первое место занимают игры с неуказанным рейтингом \"unknown\" - 57%, затем игры для всех \"Е\" - 15%.*  "
   ]
  },
  {
   "cell_type": "markdown",
   "metadata": {},
   "source": [
    "___\n",
    "#### Вывод о портрете пользователя каждого региона:\n",
    "<font color='green'> ***При провдении исследований были сделаны следующие выводы:***\n",
    "* ***Портреты пользоватей в регионах Северной Америки (NA) и Европы (EU) за актуальный период почти совпадают. Лидируют позиции игр для таких игровых платформ как: 'PS4', 'PS3', 'X360' в жанрах 'Action', 'Sports' имеющих рейтинг ESRB 'M' - для взрослых. Самым популярным покупателем игр в Европе и Северной Америке, будет считаться человек купивший игру в жанре 'Action' с рейтингом ESRB 'M' для игровой консоли 'PS4';***\n",
    "    \n",
    "* ***Портрет пользователя из Японии (регион JP) - это человек купивший игру в жанре 'Role-Playing' или 'Action' с неуказанным (unknown) рейтингом ESRB для консоли '3DS' или 'PS3'. Соответсвенно идеальный портрет ползьователя - это игрок купивший игру в жанре 'Role-Playing' с неуказанным (unknown) рейтингом ESRB для консоли '3DS'.***\n",
    "</font>"
   ]
  },
  {
   "cell_type": "markdown",
   "metadata": {},
   "source": [
    "***\n",
    "### Вывод. "
   ]
  },
  {
   "cell_type": "markdown",
   "metadata": {},
   "source": [
    "#### Общий вывод.\n",
    "\n",
    "***В процессе исследования данных о продажах игр, оценки пользователей и экспертов, жанрах и платформах, были отработаны принципы работы с данными по выявлению определяющих успешность игры закономерностях, выполнены следующие этапы и сделаны следующие выводы:***"
   ]
  },
  {
   "cell_type": "markdown",
   "metadata": {},
   "source": [
    "***1. Изучили общую информации о полученых данных:***\n",
    "\n",
    "    - В ходе изучения полученных данных было выявлено, что в данных присутствовали 16715 строк подразделенных на 11 столбцов. \n",
    "    - В столбцах использовалсяся разный регистр, имелись пропущенные значения и был указан неккоректный тип данных, при этом явные дубликаты отсутствовали, а неявные имели малочисленный характер. Данные требовали обработки."
   ]
  },
  {
   "cell_type": "markdown",
   "metadata": {},
   "source": [
    "***2. Произвели подготовку данных.***\n",
    "\n",
    "***При подготовке данных, в датафрейме были выполнены следующие действия:***\n",
    "\n",
    "    - К общему, путем применения нижнего регистра, привели все названия столбцов датафрейма;\n",
    "    - Выявили и устранили неявные дубликаты в столбцах содержащих данные о названии игры, используемой платформы и года релиза.\n",
    "    - Удалили пропуски в следующих столбцах:\n",
    "|Пропуски | Было | Стало|\n",
    "|-|-|-|\n",
    "| name | 1 | 0 |\n",
    "| year_of_release | 269 | 0 |\n",
    "| critic_score | 8577 | 0 |\n",
    "| user_score | 6700 | 0 |\n",
    "| rating | 6765 | 0 |\n",
    "\n",
    "    - Предположили, что основными причинами пропусков могли стать:\n",
    "        * Человеческий фактор (пропустил, не увидел, отвлекся, забыл, не посчитал нужным и т.д.);\n",
    "        * Недоработка форм для заполнения данных (отсутствие обязательных полей и предлагаемых вариантов или просто проверки данных);\n",
    "        * Программный или аппаратный сбой. Обновление системы во время заполнения данных;\n",
    "        * Сбор данных из различных источников, которые не согласованы между собой.\n",
    "    - В столбце `'user_score'` неописанное значение `'tbd'` было обозначено как `'-2'`.\n",
    "    - В соответствии с данными находящимся в столбцах был изменен их тип:\n",
    "|Тип данных | Было | Стало| Причина |\n",
    "|-|-|-|-|\n",
    "| year_of_release | float64 | int64 | Содержит только целые числа |\n",
    "| critic_score | float64 | int64 | Содержит только целые числа |\n",
    "| user_score | object | float64 | Содержит вещественные значения |\n",
    "||||\n",
    "\n",
    "    - В датафрейме был создан столбец `'total_sales'` содержащий данные о сумме всех продаж регионов."
   ]
  },
  {
   "cell_type": "markdown",
   "metadata": {},
   "source": [
    "***3. Провели исследовательский анализ данных:***\n",
    "\n",
    "***При провдении исследований были сделаны следующие выводы:***\n",
    "\n",
    "    - Для проведения исследования целесообразно выбрать период за не более 5-10 последних лет, в связи с потерей интереса у игроков к старым играм, стремительным ростом вычислительных мощностей игровых платформ, сильного влияния на рынок ожидаемых игровых новинок;\n",
    "    - Характерными сроками появления новых и исчезновения старых платформ можно считать срок в 10 лет;\n",
    "    - Актуальный период при выборе данных играющих роль при построении прогноза на 2017 год составляет 4 последних года;\n",
    "    - На 2016 год нет явно возрастающих продаж игр для консолей. Продажи падают на всех консолях. Относительно перспективными можно назвать консоли 'PS4' и 'XOne', но у них также прослеживается спад продаж;\n",
    "    - Между оценками пользователей и продажами игр слабая связь и нелинейная;\n",
    "    - Между оценками критиков и продажами игр связь умеренная и скорее всего нелинейная\n",
    "    - Перспективными игровыми жанрами обладающих большим медианным значением прибыли можно считать 'Shooter' и 'Sports'. "
   ]
  },
  {
   "cell_type": "markdown",
   "metadata": {},
   "source": [
    "***4. Составили портрет пользователя каждого региона.***\n",
    "\n",
    "    - Портреты пользоватей в регионах Северной Америки (NA) и Европы (EU) за актуальный период почти совпадают. Лидируют позиции игр для таких игровых платформ как: 'PS4', 'PS3', 'X360' в жанрах 'Action', 'Sports' имеющих рейтинг ESRB 'M' - для взрослых. Самым популярным покупателем игр в Европе и Северной Америке, будет считаться человек купивший игру в жанре 'Action' с рейтингом ESRB 'M' для игровой консоли 'PS4';\n",
    "    \n",
    "    - Портрет пользователя из Японии (регион JP) - это человек купивший игру в жанре 'Role-Playing' или 'Action' с неуказанным (unknown) рейтингом ESRB для консоли '3DS' или 'PS3'. Соответсвенно идеальный портрет ползьователя - это игрок купивший игру в жанре 'Role-Playing' с неуказанным (unknown) рейтингом ESRB для консоли '3DS'."
   ]
  },
  {
   "cell_type": "markdown",
   "metadata": {},
   "source": [
    "***5. Сделали выводы.***"
   ]
  },
  {
   "cell_type": "markdown",
   "metadata": {},
   "source": [
    "#### Итоговый вывод:"
   ]
  },
  {
   "cell_type": "markdown",
   "metadata": {},
   "source": [
    "<font color='green'> ***Согласно выявленных определяющих успешность продажи игр закономерностей, с целью  увеличения прибыли интернет магазина \"Стримчик\" в 2017 году, менеджменту необходимо сделать ставку на потенциально популярный продукт и спланировать рекламные кампании для игр в жанрах \"Shooter\" и \"Sports\" с рейтингом ассоциации \"ESRB\" \"M\" (для взрослых) для игровой консоли \"PS4\".***\n",
    "</font>"
   ]
  }
 ],
 "metadata": {
  "ExecuteTimeLog": [
   {
    "duration": 50,
    "start_time": "2024-09-05T19:41:17.757Z"
   },
   {
    "duration": 1453,
    "start_time": "2024-09-05T19:41:22.801Z"
   },
   {
    "duration": 231,
    "start_time": "2024-09-05T19:41:26.773Z"
   },
   {
    "duration": 15,
    "start_time": "2024-09-05T19:44:03.608Z"
   },
   {
    "duration": 16,
    "start_time": "2024-09-05T19:55:15.205Z"
   },
   {
    "duration": 790,
    "start_time": "2024-09-05T19:56:39.459Z"
   },
   {
    "duration": 4,
    "start_time": "2024-09-05T20:14:26.597Z"
   },
   {
    "duration": 4,
    "start_time": "2024-09-05T20:17:22.345Z"
   },
   {
    "duration": 5,
    "start_time": "2024-09-05T20:18:45.563Z"
   },
   {
    "duration": 13,
    "start_time": "2024-09-05T21:02:39.790Z"
   },
   {
    "duration": 20,
    "start_time": "2024-09-05T21:03:30.510Z"
   },
   {
    "duration": 30,
    "start_time": "2024-09-05T21:08:42.430Z"
   },
   {
    "duration": 44,
    "start_time": "2024-09-05T21:09:18.942Z"
   },
   {
    "duration": 15,
    "start_time": "2024-09-05T21:10:58.994Z"
   },
   {
    "duration": 17,
    "start_time": "2024-09-05T21:12:04.135Z"
   },
   {
    "duration": 10,
    "start_time": "2024-09-05T21:12:24.751Z"
   },
   {
    "duration": 1193,
    "start_time": "2024-09-05T21:13:54.050Z"
   },
   {
    "duration": 72,
    "start_time": "2024-09-05T21:13:55.245Z"
   },
   {
    "duration": 15,
    "start_time": "2024-09-05T21:13:55.318Z"
   },
   {
    "duration": 96,
    "start_time": "2024-09-05T21:13:55.335Z"
   },
   {
    "duration": 46,
    "start_time": "2024-09-05T21:13:55.433Z"
   },
   {
    "duration": 5,
    "start_time": "2024-09-05T21:13:55.482Z"
   },
   {
    "duration": 17,
    "start_time": "2024-09-05T21:14:48.984Z"
   },
   {
    "duration": 11,
    "start_time": "2024-09-05T21:15:22.487Z"
   },
   {
    "duration": 45,
    "start_time": "2024-09-05T21:16:18.476Z"
   },
   {
    "duration": 16,
    "start_time": "2024-09-05T21:16:34.373Z"
   },
   {
    "duration": 41,
    "start_time": "2024-09-05T21:17:29.788Z"
   },
   {
    "duration": 14,
    "start_time": "2024-09-05T21:17:33.176Z"
   },
   {
    "duration": 11,
    "start_time": "2024-09-05T21:36:04.976Z"
   },
   {
    "duration": 24,
    "start_time": "2024-09-05T21:42:44.084Z"
   },
   {
    "duration": 1245,
    "start_time": "2024-09-05T21:43:04.477Z"
   },
   {
    "duration": 76,
    "start_time": "2024-09-05T21:43:05.724Z"
   },
   {
    "duration": 16,
    "start_time": "2024-09-05T21:43:05.801Z"
   },
   {
    "duration": 19,
    "start_time": "2024-09-05T21:43:05.819Z"
   },
   {
    "duration": 115,
    "start_time": "2024-09-05T21:43:05.840Z"
   },
   {
    "duration": 0,
    "start_time": "2024-09-05T21:43:05.957Z"
   },
   {
    "duration": 0,
    "start_time": "2024-09-05T21:43:05.958Z"
   },
   {
    "duration": 0,
    "start_time": "2024-09-05T21:43:05.959Z"
   },
   {
    "duration": 0,
    "start_time": "2024-09-05T21:43:05.960Z"
   },
   {
    "duration": 1217,
    "start_time": "2024-09-05T21:44:12.404Z"
   },
   {
    "duration": 77,
    "start_time": "2024-09-05T21:44:13.623Z"
   },
   {
    "duration": 14,
    "start_time": "2024-09-05T21:44:13.702Z"
   },
   {
    "duration": 16,
    "start_time": "2024-09-05T21:44:13.717Z"
   },
   {
    "duration": 10,
    "start_time": "2024-09-05T21:44:13.735Z"
   },
   {
    "duration": 4,
    "start_time": "2024-09-05T21:44:13.746Z"
   },
   {
    "duration": 9,
    "start_time": "2024-09-05T21:44:13.751Z"
   },
   {
    "duration": 46,
    "start_time": "2024-09-05T21:44:13.761Z"
   },
   {
    "duration": 16,
    "start_time": "2024-09-05T21:44:13.809Z"
   },
   {
    "duration": 1072,
    "start_time": "2024-09-05T21:46:10.749Z"
   },
   {
    "duration": 72,
    "start_time": "2024-09-05T21:46:11.823Z"
   },
   {
    "duration": 16,
    "start_time": "2024-09-05T21:46:11.896Z"
   },
   {
    "duration": 17,
    "start_time": "2024-09-05T21:46:11.914Z"
   },
   {
    "duration": 12,
    "start_time": "2024-09-05T21:46:11.933Z"
   },
   {
    "duration": 4,
    "start_time": "2024-09-05T21:46:11.946Z"
   },
   {
    "duration": 10,
    "start_time": "2024-09-05T21:46:11.952Z"
   },
   {
    "duration": 41,
    "start_time": "2024-09-05T21:46:11.963Z"
   },
   {
    "duration": 25,
    "start_time": "2024-09-05T21:46:12.005Z"
   },
   {
    "duration": 9,
    "start_time": "2024-09-05T21:46:41.646Z"
   },
   {
    "duration": 1211,
    "start_time": "2024-09-05T21:46:54.885Z"
   },
   {
    "duration": 74,
    "start_time": "2024-09-05T21:46:56.098Z"
   },
   {
    "duration": 16,
    "start_time": "2024-09-05T21:46:56.173Z"
   },
   {
    "duration": 18,
    "start_time": "2024-09-05T21:46:56.190Z"
   },
   {
    "duration": 51,
    "start_time": "2024-09-05T21:46:56.210Z"
   },
   {
    "duration": 5,
    "start_time": "2024-09-05T21:46:56.263Z"
   },
   {
    "duration": 6,
    "start_time": "2024-09-05T21:46:56.269Z"
   },
   {
    "duration": 16,
    "start_time": "2024-09-05T21:46:56.276Z"
   },
   {
    "duration": 17,
    "start_time": "2024-09-05T21:46:56.294Z"
   },
   {
    "duration": 9,
    "start_time": "2024-09-05T21:51:45.340Z"
   },
   {
    "duration": 18,
    "start_time": "2024-09-05T21:58:49.399Z"
   },
   {
    "duration": 4,
    "start_time": "2024-09-05T22:54:13.367Z"
   },
   {
    "duration": 3,
    "start_time": "2024-09-05T22:54:16.143Z"
   },
   {
    "duration": 3,
    "start_time": "2024-09-05T22:54:38.172Z"
   },
   {
    "duration": 5,
    "start_time": "2024-09-05T22:55:29.783Z"
   },
   {
    "duration": 11,
    "start_time": "2024-09-05T23:07:27.481Z"
   },
   {
    "duration": 1226,
    "start_time": "2024-09-05T23:07:44.587Z"
   },
   {
    "duration": 73,
    "start_time": "2024-09-05T23:07:45.814Z"
   },
   {
    "duration": 15,
    "start_time": "2024-09-05T23:07:45.888Z"
   },
   {
    "duration": 22,
    "start_time": "2024-09-05T23:07:45.905Z"
   },
   {
    "duration": 12,
    "start_time": "2024-09-05T23:07:45.929Z"
   },
   {
    "duration": 5,
    "start_time": "2024-09-05T23:07:45.943Z"
   },
   {
    "duration": 5,
    "start_time": "2024-09-05T23:07:45.950Z"
   },
   {
    "duration": 44,
    "start_time": "2024-09-05T23:07:45.957Z"
   },
   {
    "duration": 17,
    "start_time": "2024-09-05T23:07:46.003Z"
   },
   {
    "duration": 10,
    "start_time": "2024-09-05T23:07:46.024Z"
   },
   {
    "duration": 33,
    "start_time": "2024-09-05T23:07:46.036Z"
   },
   {
    "duration": 45,
    "start_time": "2024-09-05T23:07:46.070Z"
   },
   {
    "duration": 6,
    "start_time": "2024-09-06T10:36:47.594Z"
   },
   {
    "duration": 4,
    "start_time": "2024-09-06T10:43:58.332Z"
   },
   {
    "duration": 4,
    "start_time": "2024-09-06T10:44:24.890Z"
   },
   {
    "duration": 5,
    "start_time": "2024-09-06T10:44:34.219Z"
   },
   {
    "duration": 23,
    "start_time": "2024-09-06T10:45:32.154Z"
   },
   {
    "duration": 13,
    "start_time": "2024-09-06T10:48:23.112Z"
   },
   {
    "duration": 8,
    "start_time": "2024-09-06T10:48:38.033Z"
   },
   {
    "duration": 11,
    "start_time": "2024-09-06T10:49:25.493Z"
   },
   {
    "duration": 6,
    "start_time": "2024-09-06T10:50:48.882Z"
   },
   {
    "duration": 10,
    "start_time": "2024-09-06T10:50:54.112Z"
   },
   {
    "duration": 4,
    "start_time": "2024-09-06T10:51:03.823Z"
   },
   {
    "duration": 10,
    "start_time": "2024-09-06T10:51:09.225Z"
   },
   {
    "duration": 1168,
    "start_time": "2024-09-06T11:13:55.252Z"
   },
   {
    "duration": 74,
    "start_time": "2024-09-06T11:13:56.422Z"
   },
   {
    "duration": 18,
    "start_time": "2024-09-06T11:13:56.498Z"
   },
   {
    "duration": 19,
    "start_time": "2024-09-06T11:13:56.518Z"
   },
   {
    "duration": 13,
    "start_time": "2024-09-06T11:13:56.539Z"
   },
   {
    "duration": 7,
    "start_time": "2024-09-06T11:13:56.554Z"
   },
   {
    "duration": 39,
    "start_time": "2024-09-06T11:13:56.562Z"
   },
   {
    "duration": 16,
    "start_time": "2024-09-06T11:13:56.602Z"
   },
   {
    "duration": 19,
    "start_time": "2024-09-06T11:13:56.620Z"
   },
   {
    "duration": 17,
    "start_time": "2024-09-06T11:13:56.643Z"
   },
   {
    "duration": 9,
    "start_time": "2024-09-06T11:13:56.663Z"
   },
   {
    "duration": 18,
    "start_time": "2024-09-06T11:13:56.699Z"
   },
   {
    "duration": 4,
    "start_time": "2024-09-06T11:13:56.719Z"
   },
   {
    "duration": 22,
    "start_time": "2024-09-06T11:13:56.726Z"
   },
   {
    "duration": 6,
    "start_time": "2024-09-06T11:56:18.746Z"
   },
   {
    "duration": 5,
    "start_time": "2024-09-06T11:57:00.132Z"
   },
   {
    "duration": 3,
    "start_time": "2024-09-06T11:57:20.193Z"
   },
   {
    "duration": 1189,
    "start_time": "2024-09-06T11:57:33.443Z"
   },
   {
    "duration": 74,
    "start_time": "2024-09-06T11:57:34.634Z"
   },
   {
    "duration": 15,
    "start_time": "2024-09-06T11:57:34.710Z"
   },
   {
    "duration": 16,
    "start_time": "2024-09-06T11:57:34.726Z"
   },
   {
    "duration": 19,
    "start_time": "2024-09-06T11:57:34.744Z"
   },
   {
    "duration": 4,
    "start_time": "2024-09-06T11:57:34.765Z"
   },
   {
    "duration": 28,
    "start_time": "2024-09-06T11:57:34.771Z"
   },
   {
    "duration": 18,
    "start_time": "2024-09-06T11:57:34.801Z"
   },
   {
    "duration": 18,
    "start_time": "2024-09-06T11:57:34.821Z"
   },
   {
    "duration": 10,
    "start_time": "2024-09-06T11:57:34.841Z"
   },
   {
    "duration": 5,
    "start_time": "2024-09-06T11:57:34.853Z"
   },
   {
    "duration": 11,
    "start_time": "2024-09-06T11:57:34.897Z"
   },
   {
    "duration": 18,
    "start_time": "2024-09-06T11:57:34.910Z"
   },
   {
    "duration": 9,
    "start_time": "2024-09-06T11:57:34.930Z"
   },
   {
    "duration": 22,
    "start_time": "2024-09-06T11:57:34.941Z"
   },
   {
    "duration": 7,
    "start_time": "2024-09-06T12:02:18.842Z"
   },
   {
    "duration": 6,
    "start_time": "2024-09-06T12:03:03.635Z"
   },
   {
    "duration": 6,
    "start_time": "2024-09-06T12:07:25.757Z"
   },
   {
    "duration": 7,
    "start_time": "2024-09-06T12:07:32.329Z"
   },
   {
    "duration": 6,
    "start_time": "2024-09-06T12:23:20.355Z"
   },
   {
    "duration": 11,
    "start_time": "2024-09-06T12:24:49.136Z"
   },
   {
    "duration": 10,
    "start_time": "2024-09-06T12:50:15.342Z"
   },
   {
    "duration": 8,
    "start_time": "2024-09-06T13:08:42.920Z"
   },
   {
    "duration": 9,
    "start_time": "2024-09-06T13:09:27.390Z"
   },
   {
    "duration": 8,
    "start_time": "2024-09-06T13:16:06.017Z"
   },
   {
    "duration": 11,
    "start_time": "2024-09-06T13:18:53.994Z"
   },
   {
    "duration": 8,
    "start_time": "2024-09-06T18:56:19.016Z"
   },
   {
    "duration": 9,
    "start_time": "2024-09-06T18:58:20.711Z"
   },
   {
    "duration": 10,
    "start_time": "2024-09-06T18:58:50.384Z"
   },
   {
    "duration": 9,
    "start_time": "2024-09-06T18:59:03.564Z"
   },
   {
    "duration": 62,
    "start_time": "2024-09-06T19:00:56.191Z"
   },
   {
    "duration": 55,
    "start_time": "2024-09-06T19:01:25.668Z"
   },
   {
    "duration": 65,
    "start_time": "2024-09-06T19:01:46.823Z"
   },
   {
    "duration": 56,
    "start_time": "2024-09-06T19:01:53.983Z"
   },
   {
    "duration": 14,
    "start_time": "2024-09-06T19:03:11.782Z"
   },
   {
    "duration": 12,
    "start_time": "2024-09-06T19:04:36.807Z"
   },
   {
    "duration": 1206,
    "start_time": "2024-09-06T19:04:57.700Z"
   },
   {
    "duration": 73,
    "start_time": "2024-09-06T19:04:58.908Z"
   },
   {
    "duration": 15,
    "start_time": "2024-09-06T19:04:58.983Z"
   },
   {
    "duration": 16,
    "start_time": "2024-09-06T19:04:59.000Z"
   },
   {
    "duration": 12,
    "start_time": "2024-09-06T19:04:59.017Z"
   },
   {
    "duration": 4,
    "start_time": "2024-09-06T19:04:59.030Z"
   },
   {
    "duration": 12,
    "start_time": "2024-09-06T19:04:59.035Z"
   },
   {
    "duration": 15,
    "start_time": "2024-09-06T19:04:59.048Z"
   },
   {
    "duration": 50,
    "start_time": "2024-09-06T19:04:59.064Z"
   },
   {
    "duration": 19,
    "start_time": "2024-09-06T19:04:59.117Z"
   },
   {
    "duration": 22,
    "start_time": "2024-09-06T19:04:59.138Z"
   },
   {
    "duration": 19,
    "start_time": "2024-09-06T19:04:59.162Z"
   },
   {
    "duration": 17,
    "start_time": "2024-09-06T19:04:59.182Z"
   },
   {
    "duration": 13,
    "start_time": "2024-09-06T19:04:59.201Z"
   },
   {
    "duration": 9,
    "start_time": "2024-09-06T19:04:59.216Z"
   },
   {
    "duration": 18,
    "start_time": "2024-09-06T19:04:59.227Z"
   },
   {
    "duration": 7,
    "start_time": "2024-09-06T19:04:59.247Z"
   },
   {
    "duration": 16,
    "start_time": "2024-09-06T19:04:59.256Z"
   },
   {
    "duration": 13,
    "start_time": "2024-09-06T19:04:59.273Z"
   },
   {
    "duration": 7,
    "start_time": "2024-09-06T19:04:59.298Z"
   },
   {
    "duration": 13,
    "start_time": "2024-09-06T19:04:59.307Z"
   },
   {
    "duration": 60,
    "start_time": "2024-09-06T19:04:59.321Z"
   },
   {
    "duration": 10,
    "start_time": "2024-09-06T19:04:59.382Z"
   },
   {
    "duration": 12,
    "start_time": "2024-09-06T19:06:20.243Z"
   },
   {
    "duration": 10,
    "start_time": "2024-09-06T19:06:58.522Z"
   },
   {
    "duration": 10,
    "start_time": "2024-09-06T19:13:54.329Z"
   },
   {
    "duration": 6,
    "start_time": "2024-09-06T19:14:39.004Z"
   },
   {
    "duration": 7,
    "start_time": "2024-09-06T20:10:42.703Z"
   },
   {
    "duration": 6,
    "start_time": "2024-09-06T20:12:56.729Z"
   },
   {
    "duration": 12,
    "start_time": "2024-09-06T20:23:17.139Z"
   },
   {
    "duration": 16,
    "start_time": "2024-09-06T20:23:53.710Z"
   },
   {
    "duration": 106,
    "start_time": "2024-09-06T20:35:29.887Z"
   },
   {
    "duration": 18,
    "start_time": "2024-09-06T20:37:01.878Z"
   },
   {
    "duration": 1245,
    "start_time": "2024-09-06T21:22:34.177Z"
   },
   {
    "duration": 76,
    "start_time": "2024-09-06T21:22:35.424Z"
   },
   {
    "duration": 15,
    "start_time": "2024-09-06T21:22:35.501Z"
   },
   {
    "duration": 19,
    "start_time": "2024-09-06T21:22:35.518Z"
   },
   {
    "duration": 12,
    "start_time": "2024-09-06T21:22:35.539Z"
   },
   {
    "duration": 7,
    "start_time": "2024-09-06T21:22:35.552Z"
   },
   {
    "duration": 12,
    "start_time": "2024-09-06T21:22:35.561Z"
   },
   {
    "duration": 55,
    "start_time": "2024-09-06T21:22:35.574Z"
   },
   {
    "duration": 21,
    "start_time": "2024-09-06T21:22:35.631Z"
   },
   {
    "duration": 34,
    "start_time": "2024-09-06T21:22:35.654Z"
   },
   {
    "duration": 7,
    "start_time": "2024-09-06T21:22:35.689Z"
   },
   {
    "duration": 13,
    "start_time": "2024-09-06T21:22:35.697Z"
   },
   {
    "duration": 37,
    "start_time": "2024-09-06T21:22:35.711Z"
   },
   {
    "duration": 76,
    "start_time": "2024-09-06T21:22:35.751Z"
   },
   {
    "duration": 7,
    "start_time": "2024-09-06T21:22:35.828Z"
   },
   {
    "duration": 15,
    "start_time": "2024-09-06T21:22:35.837Z"
   },
   {
    "duration": 57,
    "start_time": "2024-09-06T21:22:35.853Z"
   },
   {
    "duration": 14,
    "start_time": "2024-09-06T21:22:35.912Z"
   },
   {
    "duration": 17,
    "start_time": "2024-09-06T21:22:35.928Z"
   },
   {
    "duration": 9,
    "start_time": "2024-09-06T21:22:35.946Z"
   },
   {
    "duration": 17,
    "start_time": "2024-09-06T21:22:35.957Z"
   },
   {
    "duration": 6,
    "start_time": "2024-09-06T21:22:35.977Z"
   },
   {
    "duration": 23,
    "start_time": "2024-09-06T21:22:35.984Z"
   },
   {
    "duration": 9,
    "start_time": "2024-09-06T21:22:36.008Z"
   },
   {
    "duration": 15,
    "start_time": "2024-09-06T21:22:36.018Z"
   },
   {
    "duration": 16,
    "start_time": "2024-09-06T21:22:36.034Z"
   },
   {
    "duration": 9,
    "start_time": "2024-09-06T21:22:36.051Z"
   },
   {
    "duration": 22,
    "start_time": "2024-09-06T21:22:36.061Z"
   },
   {
    "duration": 416,
    "start_time": "2024-09-07T13:10:06.417Z"
   },
   {
    "duration": 379,
    "start_time": "2024-09-07T13:24:15.023Z"
   },
   {
    "duration": 365,
    "start_time": "2024-09-07T13:24:51.943Z"
   },
   {
    "duration": 9,
    "start_time": "2024-09-07T13:25:42.218Z"
   },
   {
    "duration": 364,
    "start_time": "2024-09-07T13:53:46.496Z"
   },
   {
    "duration": 443,
    "start_time": "2024-09-07T16:09:20.114Z"
   },
   {
    "duration": 13,
    "start_time": "2024-09-07T16:19:50.575Z"
   },
   {
    "duration": 54,
    "start_time": "2024-09-07T16:21:12.627Z"
   },
   {
    "duration": 13,
    "start_time": "2024-09-07T16:28:09.124Z"
   },
   {
    "duration": 13,
    "start_time": "2024-09-07T16:38:43.920Z"
   },
   {
    "duration": 18,
    "start_time": "2024-09-07T16:41:15.002Z"
   },
   {
    "duration": 305,
    "start_time": "2024-09-07T16:45:57.591Z"
   },
   {
    "duration": 59,
    "start_time": "2024-09-07T16:48:08.294Z"
   },
   {
    "duration": 100,
    "start_time": "2024-09-07T16:48:23.377Z"
   },
   {
    "duration": 313,
    "start_time": "2024-09-07T16:49:18.951Z"
   },
   {
    "duration": 10,
    "start_time": "2024-09-07T16:50:05.370Z"
   },
   {
    "duration": 307,
    "start_time": "2024-09-07T16:50:21.670Z"
   },
   {
    "duration": 314,
    "start_time": "2024-09-07T16:54:57.852Z"
   },
   {
    "duration": 433,
    "start_time": "2024-09-07T16:56:50.001Z"
   },
   {
    "duration": 351,
    "start_time": "2024-09-07T16:57:14.548Z"
   },
   {
    "duration": 398,
    "start_time": "2024-09-07T17:06:09.616Z"
   },
   {
    "duration": 305,
    "start_time": "2024-09-07T17:13:22.839Z"
   },
   {
    "duration": 303,
    "start_time": "2024-09-07T17:45:17.026Z"
   },
   {
    "duration": 11,
    "start_time": "2024-09-07T18:10:13.159Z"
   },
   {
    "duration": 296,
    "start_time": "2024-09-07T18:16:15.015Z"
   },
   {
    "duration": 401,
    "start_time": "2024-09-07T18:16:30.777Z"
   },
   {
    "duration": 299,
    "start_time": "2024-09-07T18:22:02.323Z"
   },
   {
    "duration": 1166,
    "start_time": "2024-09-07T18:22:23.148Z"
   },
   {
    "duration": 75,
    "start_time": "2024-09-07T18:22:24.316Z"
   },
   {
    "duration": 16,
    "start_time": "2024-09-07T18:22:24.392Z"
   },
   {
    "duration": 21,
    "start_time": "2024-09-07T18:22:24.410Z"
   },
   {
    "duration": 13,
    "start_time": "2024-09-07T18:22:24.433Z"
   },
   {
    "duration": 4,
    "start_time": "2024-09-07T18:22:24.448Z"
   },
   {
    "duration": 5,
    "start_time": "2024-09-07T18:22:24.453Z"
   },
   {
    "duration": 42,
    "start_time": "2024-09-07T18:22:24.460Z"
   },
   {
    "duration": 15,
    "start_time": "2024-09-07T18:22:24.504Z"
   },
   {
    "duration": 36,
    "start_time": "2024-09-07T18:22:24.522Z"
   },
   {
    "duration": 4,
    "start_time": "2024-09-07T18:22:24.560Z"
   },
   {
    "duration": 12,
    "start_time": "2024-09-07T18:22:24.566Z"
   },
   {
    "duration": 6,
    "start_time": "2024-09-07T18:22:24.579Z"
   },
   {
    "duration": 12,
    "start_time": "2024-09-07T18:22:24.586Z"
   },
   {
    "duration": 37,
    "start_time": "2024-09-07T18:22:24.600Z"
   },
   {
    "duration": 10,
    "start_time": "2024-09-07T18:22:24.639Z"
   },
   {
    "duration": 5,
    "start_time": "2024-09-07T18:22:24.651Z"
   },
   {
    "duration": 25,
    "start_time": "2024-09-07T18:22:24.658Z"
   },
   {
    "duration": 21,
    "start_time": "2024-09-07T18:22:24.685Z"
   },
   {
    "duration": 31,
    "start_time": "2024-09-07T18:22:24.708Z"
   },
   {
    "duration": 28,
    "start_time": "2024-09-07T18:22:24.741Z"
   },
   {
    "duration": 6,
    "start_time": "2024-09-07T18:22:24.771Z"
   },
   {
    "duration": 13,
    "start_time": "2024-09-07T18:22:24.779Z"
   },
   {
    "duration": 86,
    "start_time": "2024-09-07T18:22:24.793Z"
   },
   {
    "duration": 10,
    "start_time": "2024-09-07T18:22:24.881Z"
   },
   {
    "duration": 6,
    "start_time": "2024-09-07T18:22:24.893Z"
   },
   {
    "duration": 20,
    "start_time": "2024-09-07T18:22:24.901Z"
   },
   {
    "duration": 20,
    "start_time": "2024-09-07T18:22:24.924Z"
   },
   {
    "duration": 8,
    "start_time": "2024-09-07T18:22:24.946Z"
   },
   {
    "duration": 405,
    "start_time": "2024-09-07T18:22:24.956Z"
   },
   {
    "duration": 329,
    "start_time": "2024-09-07T18:22:25.363Z"
   },
   {
    "duration": 14,
    "start_time": "2024-09-07T18:22:25.693Z"
   },
   {
    "duration": 330,
    "start_time": "2024-09-07T18:22:25.709Z"
   },
   {
    "duration": 12,
    "start_time": "2024-09-07T18:22:26.041Z"
   },
   {
    "duration": 335,
    "start_time": "2024-09-07T18:22:26.055Z"
   },
   {
    "duration": 24,
    "start_time": "2024-09-07T18:26:22.903Z"
   },
   {
    "duration": 7,
    "start_time": "2024-09-07T19:13:06.249Z"
   },
   {
    "duration": 29,
    "start_time": "2024-09-07T19:22:53.055Z"
   },
   {
    "duration": 100,
    "start_time": "2024-09-07T19:28:18.710Z"
   },
   {
    "duration": 23,
    "start_time": "2024-09-07T19:29:12.161Z"
   },
   {
    "duration": 22,
    "start_time": "2024-09-07T19:30:25.341Z"
   },
   {
    "duration": 7,
    "start_time": "2024-09-08T00:12:37.519Z"
   },
   {
    "duration": 7,
    "start_time": "2024-09-08T00:30:17.988Z"
   },
   {
    "duration": 22,
    "start_time": "2024-09-08T01:13:57.086Z"
   },
   {
    "duration": 16,
    "start_time": "2024-09-08T01:14:18.044Z"
   },
   {
    "duration": 379,
    "start_time": "2024-09-08T01:19:07.132Z"
   },
   {
    "duration": 60,
    "start_time": "2024-09-08T02:02:02.949Z"
   },
   {
    "duration": 58,
    "start_time": "2024-09-08T02:02:27.723Z"
   },
   {
    "duration": 16,
    "start_time": "2024-09-08T02:02:43.547Z"
   },
   {
    "duration": 109,
    "start_time": "2024-09-08T02:02:57.763Z"
   },
   {
    "duration": 73,
    "start_time": "2024-09-08T02:03:17.951Z"
   },
   {
    "duration": 298,
    "start_time": "2024-09-08T02:04:06.352Z"
   },
   {
    "duration": 14,
    "start_time": "2024-09-08T02:04:32.656Z"
   },
   {
    "duration": 57,
    "start_time": "2024-09-08T02:05:02.273Z"
   },
   {
    "duration": 57,
    "start_time": "2024-09-08T02:05:32.904Z"
   },
   {
    "duration": 1251,
    "start_time": "2024-09-08T02:06:01.970Z"
   },
   {
    "duration": 76,
    "start_time": "2024-09-08T02:06:03.223Z"
   },
   {
    "duration": 15,
    "start_time": "2024-09-08T02:06:03.301Z"
   },
   {
    "duration": 17,
    "start_time": "2024-09-08T02:06:03.318Z"
   },
   {
    "duration": 11,
    "start_time": "2024-09-08T02:06:03.337Z"
   },
   {
    "duration": 4,
    "start_time": "2024-09-08T02:06:03.350Z"
   },
   {
    "duration": 5,
    "start_time": "2024-09-08T02:06:03.356Z"
   },
   {
    "duration": 42,
    "start_time": "2024-09-08T02:06:03.362Z"
   },
   {
    "duration": 15,
    "start_time": "2024-09-08T02:06:03.406Z"
   },
   {
    "duration": 35,
    "start_time": "2024-09-08T02:06:03.424Z"
   },
   {
    "duration": 6,
    "start_time": "2024-09-08T02:06:03.460Z"
   },
   {
    "duration": 21,
    "start_time": "2024-09-08T02:06:03.467Z"
   },
   {
    "duration": 9,
    "start_time": "2024-09-08T02:06:03.490Z"
   },
   {
    "duration": 23,
    "start_time": "2024-09-08T02:06:03.500Z"
   },
   {
    "duration": 7,
    "start_time": "2024-09-08T02:06:03.525Z"
   },
   {
    "duration": 7,
    "start_time": "2024-09-08T02:06:03.533Z"
   },
   {
    "duration": 4,
    "start_time": "2024-09-08T02:06:03.541Z"
   },
   {
    "duration": 9,
    "start_time": "2024-09-08T02:06:03.546Z"
   },
   {
    "duration": 8,
    "start_time": "2024-09-08T02:06:03.556Z"
   },
   {
    "duration": 9,
    "start_time": "2024-09-08T02:06:03.566Z"
   },
   {
    "duration": 9,
    "start_time": "2024-09-08T02:06:03.577Z"
   },
   {
    "duration": 4,
    "start_time": "2024-09-08T02:06:03.598Z"
   },
   {
    "duration": 16,
    "start_time": "2024-09-08T02:06:03.604Z"
   },
   {
    "duration": 6,
    "start_time": "2024-09-08T02:06:03.622Z"
   },
   {
    "duration": 6,
    "start_time": "2024-09-08T02:06:03.629Z"
   },
   {
    "duration": 5,
    "start_time": "2024-09-08T02:06:03.637Z"
   },
   {
    "duration": 9,
    "start_time": "2024-09-08T02:06:03.644Z"
   },
   {
    "duration": 52,
    "start_time": "2024-09-08T02:06:03.656Z"
   },
   {
    "duration": 8,
    "start_time": "2024-09-08T02:06:03.709Z"
   },
   {
    "duration": 380,
    "start_time": "2024-09-08T02:06:03.719Z"
   },
   {
    "duration": 316,
    "start_time": "2024-09-08T02:06:04.101Z"
   },
   {
    "duration": 56,
    "start_time": "2024-09-08T02:06:04.419Z"
   },
   {
    "duration": 0,
    "start_time": "2024-09-08T02:06:04.476Z"
   },
   {
    "duration": 0,
    "start_time": "2024-09-08T02:06:04.477Z"
   },
   {
    "duration": 0,
    "start_time": "2024-09-08T02:06:04.478Z"
   },
   {
    "duration": 0,
    "start_time": "2024-09-08T02:06:04.479Z"
   },
   {
    "duration": 0,
    "start_time": "2024-09-08T02:06:04.480Z"
   },
   {
    "duration": 0,
    "start_time": "2024-09-08T02:06:04.481Z"
   },
   {
    "duration": 0,
    "start_time": "2024-09-08T02:06:04.482Z"
   },
   {
    "duration": 0,
    "start_time": "2024-09-08T02:06:04.483Z"
   },
   {
    "duration": 14,
    "start_time": "2024-09-08T02:06:55.474Z"
   },
   {
    "duration": 72,
    "start_time": "2024-09-08T02:07:19.100Z"
   },
   {
    "duration": 13,
    "start_time": "2024-09-08T02:07:23.679Z"
   },
   {
    "duration": 13,
    "start_time": "2024-09-08T02:07:41.292Z"
   },
   {
    "duration": 317,
    "start_time": "2024-09-08T02:08:39.438Z"
   },
   {
    "duration": 302,
    "start_time": "2024-09-08T02:08:56.684Z"
   },
   {
    "duration": 53,
    "start_time": "2024-09-08T02:09:04.776Z"
   },
   {
    "duration": 127,
    "start_time": "2024-09-08T02:09:11.880Z"
   },
   {
    "duration": 1115,
    "start_time": "2024-09-08T02:09:25.639Z"
   },
   {
    "duration": 76,
    "start_time": "2024-09-08T02:09:26.756Z"
   },
   {
    "duration": 15,
    "start_time": "2024-09-08T02:09:26.833Z"
   },
   {
    "duration": 16,
    "start_time": "2024-09-08T02:09:26.850Z"
   },
   {
    "duration": 30,
    "start_time": "2024-09-08T02:09:26.868Z"
   },
   {
    "duration": 4,
    "start_time": "2024-09-08T02:09:26.900Z"
   },
   {
    "duration": 11,
    "start_time": "2024-09-08T02:09:26.905Z"
   },
   {
    "duration": 29,
    "start_time": "2024-09-08T02:09:26.918Z"
   },
   {
    "duration": 23,
    "start_time": "2024-09-08T02:09:26.949Z"
   },
   {
    "duration": 26,
    "start_time": "2024-09-08T02:09:26.975Z"
   },
   {
    "duration": 12,
    "start_time": "2024-09-08T02:09:27.002Z"
   },
   {
    "duration": 14,
    "start_time": "2024-09-08T02:09:27.016Z"
   },
   {
    "duration": 7,
    "start_time": "2024-09-08T02:09:27.032Z"
   },
   {
    "duration": 20,
    "start_time": "2024-09-08T02:09:27.040Z"
   },
   {
    "duration": 28,
    "start_time": "2024-09-08T02:09:27.062Z"
   },
   {
    "duration": 30,
    "start_time": "2024-09-08T02:09:27.092Z"
   },
   {
    "duration": 22,
    "start_time": "2024-09-08T02:09:27.124Z"
   },
   {
    "duration": 20,
    "start_time": "2024-09-08T02:09:27.147Z"
   },
   {
    "duration": 9,
    "start_time": "2024-09-08T02:09:27.168Z"
   },
   {
    "duration": 14,
    "start_time": "2024-09-08T02:09:27.178Z"
   },
   {
    "duration": 34,
    "start_time": "2024-09-08T02:09:27.193Z"
   },
   {
    "duration": 8,
    "start_time": "2024-09-08T02:09:27.228Z"
   },
   {
    "duration": 55,
    "start_time": "2024-09-08T02:09:27.238Z"
   },
   {
    "duration": 55,
    "start_time": "2024-09-08T02:09:27.295Z"
   },
   {
    "duration": 11,
    "start_time": "2024-09-08T02:09:27.352Z"
   },
   {
    "duration": 22,
    "start_time": "2024-09-08T02:09:27.365Z"
   },
   {
    "duration": 23,
    "start_time": "2024-09-08T02:09:27.389Z"
   },
   {
    "duration": 111,
    "start_time": "2024-09-08T02:09:27.415Z"
   },
   {
    "duration": 8,
    "start_time": "2024-09-08T02:09:27.528Z"
   },
   {
    "duration": 373,
    "start_time": "2024-09-08T02:09:27.538Z"
   },
   {
    "duration": 320,
    "start_time": "2024-09-08T02:09:27.913Z"
   },
   {
    "duration": 13,
    "start_time": "2024-09-08T02:09:28.234Z"
   },
   {
    "duration": 336,
    "start_time": "2024-09-08T02:09:28.249Z"
   },
   {
    "duration": 16,
    "start_time": "2024-09-08T02:09:28.587Z"
   },
   {
    "duration": 337,
    "start_time": "2024-09-08T02:09:28.605Z"
   },
   {
    "duration": 25,
    "start_time": "2024-09-08T02:09:28.944Z"
   },
   {
    "duration": 18,
    "start_time": "2024-09-08T02:09:28.971Z"
   },
   {
    "duration": 90,
    "start_time": "2024-09-08T02:09:28.990Z"
   },
   {
    "duration": 16,
    "start_time": "2024-09-08T02:09:29.082Z"
   },
   {
    "duration": 415,
    "start_time": "2024-09-08T02:09:29.100Z"
   },
   {
    "duration": 396,
    "start_time": "2024-09-08T02:18:22.644Z"
   },
   {
    "duration": 373,
    "start_time": "2024-09-08T02:24:29.426Z"
   },
   {
    "duration": 258,
    "start_time": "2024-09-08T02:37:14.185Z"
   },
   {
    "duration": 8,
    "start_time": "2024-09-08T02:37:39.657Z"
   },
   {
    "duration": 357,
    "start_time": "2024-09-08T02:37:55.577Z"
   },
   {
    "duration": 281,
    "start_time": "2024-09-08T02:41:21.963Z"
   },
   {
    "duration": 279,
    "start_time": "2024-09-08T02:47:15.744Z"
   },
   {
    "duration": 14,
    "start_time": "2024-09-08T03:12:53.224Z"
   },
   {
    "duration": 12,
    "start_time": "2024-09-08T03:14:04.461Z"
   },
   {
    "duration": 10,
    "start_time": "2024-09-08T03:14:11.921Z"
   },
   {
    "duration": 920,
    "start_time": "2024-09-08T03:14:53.777Z"
   },
   {
    "duration": 978,
    "start_time": "2024-09-08T03:16:21.995Z"
   },
   {
    "duration": 906,
    "start_time": "2024-09-08T03:20:13.502Z"
   },
   {
    "duration": 8,
    "start_time": "2024-09-08T03:34:46.567Z"
   },
   {
    "duration": 8,
    "start_time": "2024-09-08T03:35:24.295Z"
   },
   {
    "duration": 135,
    "start_time": "2024-09-08T03:36:13.442Z"
   },
   {
    "duration": 7,
    "start_time": "2024-09-08T03:42:43.334Z"
   },
   {
    "duration": 139,
    "start_time": "2024-09-08T03:43:20.175Z"
   },
   {
    "duration": 180,
    "start_time": "2024-09-08T23:42:55.467Z"
   },
   {
    "duration": 179,
    "start_time": "2024-09-08T23:44:06.779Z"
   },
   {
    "duration": 275,
    "start_time": "2024-09-08T23:45:48.751Z"
   },
   {
    "duration": 291,
    "start_time": "2024-09-08T23:49:24.136Z"
   },
   {
    "duration": 270,
    "start_time": "2024-09-09T00:04:13.495Z"
   },
   {
    "duration": 13,
    "start_time": "2024-09-09T00:04:45.652Z"
   },
   {
    "duration": 1177,
    "start_time": "2024-09-09T01:15:16.254Z"
   },
   {
    "duration": 76,
    "start_time": "2024-09-09T01:15:17.433Z"
   },
   {
    "duration": 16,
    "start_time": "2024-09-09T01:15:17.510Z"
   },
   {
    "duration": 34,
    "start_time": "2024-09-09T01:15:17.528Z"
   },
   {
    "duration": 13,
    "start_time": "2024-09-09T01:15:17.565Z"
   },
   {
    "duration": 19,
    "start_time": "2024-09-09T01:15:17.580Z"
   },
   {
    "duration": 5,
    "start_time": "2024-09-09T01:15:17.601Z"
   },
   {
    "duration": 15,
    "start_time": "2024-09-09T01:15:17.608Z"
   },
   {
    "duration": 17,
    "start_time": "2024-09-09T01:15:17.625Z"
   },
   {
    "duration": 10,
    "start_time": "2024-09-09T01:15:17.644Z"
   },
   {
    "duration": 43,
    "start_time": "2024-09-09T01:15:17.656Z"
   },
   {
    "duration": 35,
    "start_time": "2024-09-09T01:15:17.701Z"
   },
   {
    "duration": 4,
    "start_time": "2024-09-09T01:15:17.739Z"
   },
   {
    "duration": 11,
    "start_time": "2024-09-09T01:15:17.746Z"
   },
   {
    "duration": 4,
    "start_time": "2024-09-09T01:15:17.758Z"
   },
   {
    "duration": 20,
    "start_time": "2024-09-09T01:15:17.763Z"
   },
   {
    "duration": 12,
    "start_time": "2024-09-09T01:15:17.785Z"
   },
   {
    "duration": 13,
    "start_time": "2024-09-09T01:15:17.798Z"
   },
   {
    "duration": 12,
    "start_time": "2024-09-09T01:15:17.812Z"
   },
   {
    "duration": 8,
    "start_time": "2024-09-09T01:15:17.825Z"
   },
   {
    "duration": 10,
    "start_time": "2024-09-09T01:15:17.834Z"
   },
   {
    "duration": 5,
    "start_time": "2024-09-09T01:15:17.845Z"
   },
   {
    "duration": 20,
    "start_time": "2024-09-09T01:15:17.851Z"
   },
   {
    "duration": 12,
    "start_time": "2024-09-09T01:15:17.873Z"
   },
   {
    "duration": 69,
    "start_time": "2024-09-09T01:15:17.898Z"
   },
   {
    "duration": 55,
    "start_time": "2024-09-09T01:15:17.968Z"
   },
   {
    "duration": 7,
    "start_time": "2024-09-09T01:15:18.025Z"
   },
   {
    "duration": 17,
    "start_time": "2024-09-09T01:15:18.034Z"
   },
   {
    "duration": 8,
    "start_time": "2024-09-09T01:15:18.053Z"
   },
   {
    "duration": 381,
    "start_time": "2024-09-09T01:15:18.063Z"
   },
   {
    "duration": 321,
    "start_time": "2024-09-09T01:15:18.445Z"
   },
   {
    "duration": 13,
    "start_time": "2024-09-09T01:15:18.768Z"
   },
   {
    "duration": 323,
    "start_time": "2024-09-09T01:15:18.783Z"
   },
   {
    "duration": 10,
    "start_time": "2024-09-09T01:15:19.108Z"
   },
   {
    "duration": 359,
    "start_time": "2024-09-09T01:15:19.119Z"
   },
   {
    "duration": 24,
    "start_time": "2024-09-09T01:15:19.480Z"
   },
   {
    "duration": 6,
    "start_time": "2024-09-09T01:15:19.506Z"
   },
   {
    "duration": 108,
    "start_time": "2024-09-09T01:15:19.514Z"
   },
   {
    "duration": 18,
    "start_time": "2024-09-09T01:15:19.623Z"
   },
   {
    "duration": 409,
    "start_time": "2024-09-09T01:15:19.642Z"
   },
   {
    "duration": 7,
    "start_time": "2024-09-09T01:15:20.055Z"
   },
   {
    "duration": 289,
    "start_time": "2024-09-09T01:15:20.063Z"
   },
   {
    "duration": 12,
    "start_time": "2024-09-09T01:15:20.353Z"
   },
   {
    "duration": 923,
    "start_time": "2024-09-09T01:15:20.367Z"
   },
   {
    "duration": 1025,
    "start_time": "2024-09-09T01:15:21.292Z"
   },
   {
    "duration": 7,
    "start_time": "2024-09-09T01:15:22.319Z"
   },
   {
    "duration": 162,
    "start_time": "2024-09-09T01:15:22.328Z"
   },
   {
    "duration": 11,
    "start_time": "2024-09-09T01:15:22.491Z"
   },
   {
    "duration": 158,
    "start_time": "2024-09-09T01:15:22.503Z"
   },
   {
    "duration": 191,
    "start_time": "2024-09-09T01:15:22.663Z"
   },
   {
    "duration": 291,
    "start_time": "2024-09-09T01:15:22.855Z"
   },
   {
    "duration": 14,
    "start_time": "2024-09-09T01:15:23.147Z"
   },
   {
    "duration": 48,
    "start_time": "2024-09-09T01:26:19.154Z"
   },
   {
    "duration": 9,
    "start_time": "2024-09-09T01:30:15.898Z"
   },
   {
    "duration": 471,
    "start_time": "2024-09-09T01:31:02.332Z"
   },
   {
    "duration": 8,
    "start_time": "2024-09-09T01:36:35.963Z"
   },
   {
    "duration": 392,
    "start_time": "2024-09-09T01:38:12.140Z"
   },
   {
    "duration": 407,
    "start_time": "2024-09-09T01:39:28.292Z"
   },
   {
    "duration": 15,
    "start_time": "2024-09-09T01:42:27.245Z"
   },
   {
    "duration": 15,
    "start_time": "2024-09-09T01:46:38.417Z"
   },
   {
    "duration": 55,
    "start_time": "2024-09-09T22:29:15.899Z"
   },
   {
    "duration": 12,
    "start_time": "2024-09-09T22:31:17.532Z"
   },
   {
    "duration": 13,
    "start_time": "2024-09-09T22:31:47.219Z"
   },
   {
    "duration": 12,
    "start_time": "2024-09-09T22:32:11.411Z"
   },
   {
    "duration": 12,
    "start_time": "2024-09-09T22:33:48.165Z"
   },
   {
    "duration": 1376,
    "start_time": "2024-09-09T22:34:31.650Z"
   },
   {
    "duration": 232,
    "start_time": "2024-09-09T22:34:33.028Z"
   },
   {
    "duration": 15,
    "start_time": "2024-09-09T22:34:33.261Z"
   },
   {
    "duration": 32,
    "start_time": "2024-09-09T22:34:33.277Z"
   },
   {
    "duration": 25,
    "start_time": "2024-09-09T22:34:33.310Z"
   },
   {
    "duration": 7,
    "start_time": "2024-09-09T22:34:33.337Z"
   },
   {
    "duration": 10,
    "start_time": "2024-09-09T22:34:33.346Z"
   },
   {
    "duration": 15,
    "start_time": "2024-09-09T22:34:33.358Z"
   },
   {
    "duration": 14,
    "start_time": "2024-09-09T22:34:33.374Z"
   },
   {
    "duration": 10,
    "start_time": "2024-09-09T22:34:33.399Z"
   },
   {
    "duration": 4,
    "start_time": "2024-09-09T22:34:33.411Z"
   },
   {
    "duration": 17,
    "start_time": "2024-09-09T22:34:33.417Z"
   },
   {
    "duration": 19,
    "start_time": "2024-09-09T22:34:33.435Z"
   },
   {
    "duration": 9,
    "start_time": "2024-09-09T22:34:33.456Z"
   },
   {
    "duration": 4,
    "start_time": "2024-09-09T22:34:33.466Z"
   },
   {
    "duration": 12,
    "start_time": "2024-09-09T22:34:33.472Z"
   },
   {
    "duration": 5,
    "start_time": "2024-09-09T22:34:33.498Z"
   },
   {
    "duration": 12,
    "start_time": "2024-09-09T22:34:33.504Z"
   },
   {
    "duration": 13,
    "start_time": "2024-09-09T22:34:33.518Z"
   },
   {
    "duration": 22,
    "start_time": "2024-09-09T22:34:33.532Z"
   },
   {
    "duration": 11,
    "start_time": "2024-09-09T22:34:33.555Z"
   },
   {
    "duration": 4,
    "start_time": "2024-09-09T22:34:33.568Z"
   },
   {
    "duration": 24,
    "start_time": "2024-09-09T22:34:33.573Z"
   },
   {
    "duration": 10,
    "start_time": "2024-09-09T22:34:33.599Z"
   },
   {
    "duration": 8,
    "start_time": "2024-09-09T22:34:33.611Z"
   },
   {
    "duration": 10,
    "start_time": "2024-09-09T22:34:33.621Z"
   },
   {
    "duration": 19,
    "start_time": "2024-09-09T22:34:33.633Z"
   },
   {
    "duration": 17,
    "start_time": "2024-09-09T22:34:33.656Z"
   },
   {
    "duration": 24,
    "start_time": "2024-09-09T22:34:33.674Z"
   },
   {
    "duration": 369,
    "start_time": "2024-09-09T22:34:33.700Z"
   },
   {
    "duration": 304,
    "start_time": "2024-09-09T22:34:34.071Z"
   },
   {
    "duration": 22,
    "start_time": "2024-09-09T22:34:34.376Z"
   },
   {
    "duration": 313,
    "start_time": "2024-09-09T22:34:34.400Z"
   },
   {
    "duration": 10,
    "start_time": "2024-09-09T22:34:34.715Z"
   },
   {
    "duration": 332,
    "start_time": "2024-09-09T22:34:34.726Z"
   },
   {
    "duration": 23,
    "start_time": "2024-09-09T22:34:35.060Z"
   },
   {
    "duration": 6,
    "start_time": "2024-09-09T22:34:35.084Z"
   },
   {
    "duration": 92,
    "start_time": "2024-09-09T22:34:35.091Z"
   },
   {
    "duration": 17,
    "start_time": "2024-09-09T22:34:35.185Z"
   },
   {
    "duration": 401,
    "start_time": "2024-09-09T22:34:35.203Z"
   },
   {
    "duration": 8,
    "start_time": "2024-09-09T22:34:35.606Z"
   },
   {
    "duration": 299,
    "start_time": "2024-09-09T22:34:35.615Z"
   },
   {
    "duration": 12,
    "start_time": "2024-09-09T22:34:35.916Z"
   },
   {
    "duration": 936,
    "start_time": "2024-09-09T22:34:35.930Z"
   },
   {
    "duration": 1005,
    "start_time": "2024-09-09T22:34:36.868Z"
   },
   {
    "duration": 9,
    "start_time": "2024-09-09T22:34:37.875Z"
   },
   {
    "duration": 162,
    "start_time": "2024-09-09T22:34:37.885Z"
   },
   {
    "duration": 8,
    "start_time": "2024-09-09T22:34:38.048Z"
   },
   {
    "duration": 174,
    "start_time": "2024-09-09T22:34:38.057Z"
   },
   {
    "duration": 210,
    "start_time": "2024-09-09T22:34:38.233Z"
   },
   {
    "duration": 304,
    "start_time": "2024-09-09T22:34:38.444Z"
   },
   {
    "duration": 13,
    "start_time": "2024-09-09T22:34:38.750Z"
   },
   {
    "duration": 54,
    "start_time": "2024-09-09T22:34:38.764Z"
   },
   {
    "duration": 8,
    "start_time": "2024-09-09T22:34:38.819Z"
   },
   {
    "duration": 520,
    "start_time": "2024-09-09T22:34:38.829Z"
   },
   {
    "duration": 15,
    "start_time": "2024-09-09T22:34:39.351Z"
   },
   {
    "duration": 439,
    "start_time": "2024-09-09T22:34:39.367Z"
   },
   {
    "duration": 438,
    "start_time": "2024-09-09T22:50:13.502Z"
   },
   {
    "duration": 483,
    "start_time": "2024-09-09T22:52:06.968Z"
   },
   {
    "duration": 871,
    "start_time": "2024-09-09T22:52:53.532Z"
   },
   {
    "duration": 719,
    "start_time": "2024-09-09T22:53:12.046Z"
   },
   {
    "duration": 1207,
    "start_time": "2024-09-09T22:53:43.691Z"
   },
   {
    "duration": 73,
    "start_time": "2024-09-09T22:53:44.900Z"
   },
   {
    "duration": 15,
    "start_time": "2024-09-09T22:53:44.974Z"
   },
   {
    "duration": 30,
    "start_time": "2024-09-09T22:53:44.991Z"
   },
   {
    "duration": 23,
    "start_time": "2024-09-09T22:53:45.023Z"
   },
   {
    "duration": 4,
    "start_time": "2024-09-09T22:53:45.048Z"
   },
   {
    "duration": 26,
    "start_time": "2024-09-09T22:53:45.053Z"
   },
   {
    "duration": 45,
    "start_time": "2024-09-09T22:53:45.081Z"
   },
   {
    "duration": 16,
    "start_time": "2024-09-09T22:53:45.127Z"
   },
   {
    "duration": 8,
    "start_time": "2024-09-09T22:53:45.146Z"
   },
   {
    "duration": 6,
    "start_time": "2024-09-09T22:53:45.156Z"
   },
   {
    "duration": 21,
    "start_time": "2024-09-09T22:53:45.163Z"
   },
   {
    "duration": 29,
    "start_time": "2024-09-09T22:53:45.186Z"
   },
   {
    "duration": 14,
    "start_time": "2024-09-09T22:53:45.217Z"
   },
   {
    "duration": 27,
    "start_time": "2024-09-09T22:53:45.233Z"
   },
   {
    "duration": 76,
    "start_time": "2024-09-09T22:53:45.261Z"
   },
   {
    "duration": 36,
    "start_time": "2024-09-09T22:53:45.338Z"
   },
   {
    "duration": 51,
    "start_time": "2024-09-09T22:53:45.375Z"
   },
   {
    "duration": 7,
    "start_time": "2024-09-09T22:53:45.428Z"
   },
   {
    "duration": 6,
    "start_time": "2024-09-09T22:53:45.437Z"
   },
   {
    "duration": 9,
    "start_time": "2024-09-09T22:53:45.445Z"
   },
   {
    "duration": 5,
    "start_time": "2024-09-09T22:53:45.456Z"
   },
   {
    "duration": 10,
    "start_time": "2024-09-09T22:53:45.463Z"
   },
   {
    "duration": 4,
    "start_time": "2024-09-09T22:53:45.475Z"
   },
   {
    "duration": 19,
    "start_time": "2024-09-09T22:53:45.480Z"
   },
   {
    "duration": 11,
    "start_time": "2024-09-09T22:53:45.500Z"
   },
   {
    "duration": 13,
    "start_time": "2024-09-09T22:53:45.513Z"
   },
   {
    "duration": 17,
    "start_time": "2024-09-09T22:53:45.530Z"
   },
   {
    "duration": 8,
    "start_time": "2024-09-09T22:53:45.548Z"
   },
   {
    "duration": 386,
    "start_time": "2024-09-09T22:53:45.558Z"
   },
   {
    "duration": 308,
    "start_time": "2024-09-09T22:53:45.946Z"
   },
   {
    "duration": 13,
    "start_time": "2024-09-09T22:53:46.256Z"
   },
   {
    "duration": 388,
    "start_time": "2024-09-09T22:53:46.271Z"
   },
   {
    "duration": 11,
    "start_time": "2024-09-09T22:53:46.660Z"
   },
   {
    "duration": 381,
    "start_time": "2024-09-09T22:53:46.673Z"
   },
   {
    "duration": 24,
    "start_time": "2024-09-09T22:53:47.055Z"
   },
   {
    "duration": 6,
    "start_time": "2024-09-09T22:53:47.081Z"
   },
   {
    "duration": 86,
    "start_time": "2024-09-09T22:53:47.089Z"
   },
   {
    "duration": 25,
    "start_time": "2024-09-09T22:53:47.177Z"
   },
   {
    "duration": 415,
    "start_time": "2024-09-09T22:53:47.204Z"
   },
   {
    "duration": 8,
    "start_time": "2024-09-09T22:53:47.620Z"
   },
   {
    "duration": 302,
    "start_time": "2024-09-09T22:53:47.630Z"
   },
   {
    "duration": 13,
    "start_time": "2024-09-09T22:53:47.933Z"
   },
   {
    "duration": 961,
    "start_time": "2024-09-09T22:53:47.947Z"
   },
   {
    "duration": 1027,
    "start_time": "2024-09-09T22:53:48.910Z"
   },
   {
    "duration": 8,
    "start_time": "2024-09-09T22:53:49.939Z"
   },
   {
    "duration": 153,
    "start_time": "2024-09-09T22:53:49.948Z"
   },
   {
    "duration": 8,
    "start_time": "2024-09-09T22:53:50.103Z"
   },
   {
    "duration": 154,
    "start_time": "2024-09-09T22:53:50.112Z"
   },
   {
    "duration": 190,
    "start_time": "2024-09-09T22:53:50.268Z"
   },
   {
    "duration": 289,
    "start_time": "2024-09-09T22:53:50.460Z"
   },
   {
    "duration": 14,
    "start_time": "2024-09-09T22:53:50.750Z"
   },
   {
    "duration": 56,
    "start_time": "2024-09-09T22:53:50.766Z"
   },
   {
    "duration": 8,
    "start_time": "2024-09-09T22:53:50.823Z"
   },
   {
    "duration": 543,
    "start_time": "2024-09-09T22:53:50.833Z"
   },
   {
    "duration": 20,
    "start_time": "2024-09-09T22:53:51.378Z"
   },
   {
    "duration": 521,
    "start_time": "2024-09-09T22:53:51.399Z"
   },
   {
    "duration": 855,
    "start_time": "2024-09-09T22:54:43.550Z"
   },
   {
    "duration": 1232,
    "start_time": "2024-09-09T22:54:53.084Z"
   },
   {
    "duration": 74,
    "start_time": "2024-09-09T22:54:54.318Z"
   },
   {
    "duration": 17,
    "start_time": "2024-09-09T22:54:54.394Z"
   },
   {
    "duration": 53,
    "start_time": "2024-09-09T22:54:54.413Z"
   },
   {
    "duration": 17,
    "start_time": "2024-09-09T22:54:54.468Z"
   },
   {
    "duration": 8,
    "start_time": "2024-09-09T22:54:54.487Z"
   },
   {
    "duration": 7,
    "start_time": "2024-09-09T22:54:54.497Z"
   },
   {
    "duration": 15,
    "start_time": "2024-09-09T22:54:54.506Z"
   },
   {
    "duration": 28,
    "start_time": "2024-09-09T22:54:54.523Z"
   },
   {
    "duration": 18,
    "start_time": "2024-09-09T22:54:54.553Z"
   },
   {
    "duration": 12,
    "start_time": "2024-09-09T22:54:54.573Z"
   },
   {
    "duration": 34,
    "start_time": "2024-09-09T22:54:54.586Z"
   },
   {
    "duration": 7,
    "start_time": "2024-09-09T22:54:54.622Z"
   },
   {
    "duration": 8,
    "start_time": "2024-09-09T22:54:54.631Z"
   },
   {
    "duration": 4,
    "start_time": "2024-09-09T22:54:54.641Z"
   },
   {
    "duration": 71,
    "start_time": "2024-09-09T22:54:54.646Z"
   },
   {
    "duration": 5,
    "start_time": "2024-09-09T22:54:54.718Z"
   },
   {
    "duration": 11,
    "start_time": "2024-09-09T22:54:54.725Z"
   },
   {
    "duration": 12,
    "start_time": "2024-09-09T22:54:54.737Z"
   },
   {
    "duration": 7,
    "start_time": "2024-09-09T22:54:54.751Z"
   },
   {
    "duration": 9,
    "start_time": "2024-09-09T22:54:54.759Z"
   },
   {
    "duration": 5,
    "start_time": "2024-09-09T22:54:54.769Z"
   },
   {
    "duration": 24,
    "start_time": "2024-09-09T22:54:54.775Z"
   },
   {
    "duration": 4,
    "start_time": "2024-09-09T22:54:54.801Z"
   },
   {
    "duration": 7,
    "start_time": "2024-09-09T22:54:54.807Z"
   },
   {
    "duration": 5,
    "start_time": "2024-09-09T22:54:54.816Z"
   },
   {
    "duration": 9,
    "start_time": "2024-09-09T22:54:54.823Z"
   },
   {
    "duration": 19,
    "start_time": "2024-09-09T22:54:54.835Z"
   },
   {
    "duration": 7,
    "start_time": "2024-09-09T22:54:54.855Z"
   },
   {
    "duration": 385,
    "start_time": "2024-09-09T22:54:54.898Z"
   },
   {
    "duration": 324,
    "start_time": "2024-09-09T22:54:55.285Z"
   },
   {
    "duration": 13,
    "start_time": "2024-09-09T22:54:55.611Z"
   },
   {
    "duration": 330,
    "start_time": "2024-09-09T22:54:55.625Z"
   },
   {
    "duration": 11,
    "start_time": "2024-09-09T22:54:55.957Z"
   },
   {
    "duration": 320,
    "start_time": "2024-09-09T22:54:55.970Z"
   },
   {
    "duration": 24,
    "start_time": "2024-09-09T22:54:56.292Z"
   },
   {
    "duration": 36,
    "start_time": "2024-09-09T22:54:56.318Z"
   },
   {
    "duration": 93,
    "start_time": "2024-09-09T22:54:56.356Z"
   },
   {
    "duration": 16,
    "start_time": "2024-09-09T22:54:56.451Z"
   },
   {
    "duration": 433,
    "start_time": "2024-09-09T22:54:56.468Z"
   },
   {
    "duration": 9,
    "start_time": "2024-09-09T22:54:56.902Z"
   },
   {
    "duration": 304,
    "start_time": "2024-09-09T22:54:56.912Z"
   },
   {
    "duration": 13,
    "start_time": "2024-09-09T22:54:57.218Z"
   },
   {
    "duration": 919,
    "start_time": "2024-09-09T22:54:57.232Z"
   },
   {
    "duration": 1025,
    "start_time": "2024-09-09T22:54:58.153Z"
   },
   {
    "duration": 19,
    "start_time": "2024-09-09T22:54:59.181Z"
   },
   {
    "duration": 161,
    "start_time": "2024-09-09T22:54:59.202Z"
   },
   {
    "duration": 7,
    "start_time": "2024-09-09T22:54:59.365Z"
   },
   {
    "duration": 157,
    "start_time": "2024-09-09T22:54:59.374Z"
   },
   {
    "duration": 196,
    "start_time": "2024-09-09T22:54:59.532Z"
   },
   {
    "duration": 304,
    "start_time": "2024-09-09T22:54:59.729Z"
   },
   {
    "duration": 14,
    "start_time": "2024-09-09T22:55:00.035Z"
   },
   {
    "duration": 65,
    "start_time": "2024-09-09T22:55:00.050Z"
   },
   {
    "duration": 14,
    "start_time": "2024-09-09T22:55:00.117Z"
   },
   {
    "duration": 474,
    "start_time": "2024-09-09T22:55:00.133Z"
   },
   {
    "duration": 14,
    "start_time": "2024-09-09T22:55:00.609Z"
   },
   {
    "duration": 504,
    "start_time": "2024-09-09T22:55:00.625Z"
   },
   {
    "duration": 861,
    "start_time": "2024-09-09T22:56:04.964Z"
   },
   {
    "duration": 1218,
    "start_time": "2024-09-09T22:56:19.302Z"
   },
   {
    "duration": 71,
    "start_time": "2024-09-09T22:56:20.522Z"
   },
   {
    "duration": 14,
    "start_time": "2024-09-09T22:56:20.594Z"
   },
   {
    "duration": 23,
    "start_time": "2024-09-09T22:56:20.610Z"
   },
   {
    "duration": 16,
    "start_time": "2024-09-09T22:56:20.635Z"
   },
   {
    "duration": 29,
    "start_time": "2024-09-09T22:56:20.652Z"
   },
   {
    "duration": 52,
    "start_time": "2024-09-09T22:56:20.682Z"
   },
   {
    "duration": 43,
    "start_time": "2024-09-09T22:56:20.736Z"
   },
   {
    "duration": 39,
    "start_time": "2024-09-09T22:56:20.781Z"
   },
   {
    "duration": 20,
    "start_time": "2024-09-09T22:56:20.823Z"
   },
   {
    "duration": 31,
    "start_time": "2024-09-09T22:56:20.844Z"
   },
   {
    "duration": 45,
    "start_time": "2024-09-09T22:56:20.876Z"
   },
   {
    "duration": 7,
    "start_time": "2024-09-09T22:56:20.923Z"
   },
   {
    "duration": 76,
    "start_time": "2024-09-09T22:56:20.932Z"
   },
   {
    "duration": 4,
    "start_time": "2024-09-09T22:56:21.009Z"
   },
   {
    "duration": 6,
    "start_time": "2024-09-09T22:56:21.015Z"
   },
   {
    "duration": 10,
    "start_time": "2024-09-09T22:56:21.022Z"
   },
   {
    "duration": 16,
    "start_time": "2024-09-09T22:56:21.034Z"
   },
   {
    "duration": 13,
    "start_time": "2024-09-09T22:56:21.051Z"
   },
   {
    "duration": 8,
    "start_time": "2024-09-09T22:56:21.065Z"
   },
   {
    "duration": 24,
    "start_time": "2024-09-09T22:56:21.074Z"
   },
   {
    "duration": 5,
    "start_time": "2024-09-09T22:56:21.100Z"
   },
   {
    "duration": 17,
    "start_time": "2024-09-09T22:56:21.106Z"
   },
   {
    "duration": 18,
    "start_time": "2024-09-09T22:56:21.125Z"
   },
   {
    "duration": 7,
    "start_time": "2024-09-09T22:56:21.144Z"
   },
   {
    "duration": 6,
    "start_time": "2024-09-09T22:56:21.152Z"
   },
   {
    "duration": 8,
    "start_time": "2024-09-09T22:56:21.159Z"
   },
   {
    "duration": 37,
    "start_time": "2024-09-09T22:56:21.171Z"
   },
   {
    "duration": 16,
    "start_time": "2024-09-09T22:56:21.209Z"
   },
   {
    "duration": 371,
    "start_time": "2024-09-09T22:56:21.227Z"
   },
   {
    "duration": 320,
    "start_time": "2024-09-09T22:56:21.600Z"
   },
   {
    "duration": 13,
    "start_time": "2024-09-09T22:56:21.922Z"
   },
   {
    "duration": 316,
    "start_time": "2024-09-09T22:56:21.936Z"
   },
   {
    "duration": 10,
    "start_time": "2024-09-09T22:56:22.254Z"
   },
   {
    "duration": 404,
    "start_time": "2024-09-09T22:56:22.266Z"
   },
   {
    "duration": 23,
    "start_time": "2024-09-09T22:56:22.672Z"
   },
   {
    "duration": 33,
    "start_time": "2024-09-09T22:56:22.697Z"
   },
   {
    "duration": 87,
    "start_time": "2024-09-09T22:56:22.732Z"
   },
   {
    "duration": 16,
    "start_time": "2024-09-09T22:56:22.820Z"
   },
   {
    "duration": 412,
    "start_time": "2024-09-09T22:56:22.837Z"
   },
   {
    "duration": 7,
    "start_time": "2024-09-09T22:56:23.251Z"
   },
   {
    "duration": 293,
    "start_time": "2024-09-09T22:56:23.259Z"
   },
   {
    "duration": 12,
    "start_time": "2024-09-09T22:56:23.553Z"
   },
   {
    "duration": 937,
    "start_time": "2024-09-09T22:56:23.566Z"
   },
   {
    "duration": 1028,
    "start_time": "2024-09-09T22:56:24.505Z"
   },
   {
    "duration": 8,
    "start_time": "2024-09-09T22:56:25.535Z"
   },
   {
    "duration": 160,
    "start_time": "2024-09-09T22:56:25.544Z"
   },
   {
    "duration": 7,
    "start_time": "2024-09-09T22:56:25.705Z"
   },
   {
    "duration": 157,
    "start_time": "2024-09-09T22:56:25.714Z"
   },
   {
    "duration": 183,
    "start_time": "2024-09-09T22:56:25.873Z"
   },
   {
    "duration": 295,
    "start_time": "2024-09-09T22:56:26.057Z"
   },
   {
    "duration": 15,
    "start_time": "2024-09-09T22:56:26.354Z"
   },
   {
    "duration": 57,
    "start_time": "2024-09-09T22:56:26.371Z"
   },
   {
    "duration": 39,
    "start_time": "2024-09-09T22:56:26.430Z"
   },
   {
    "duration": 487,
    "start_time": "2024-09-09T22:56:26.470Z"
   },
   {
    "duration": 16,
    "start_time": "2024-09-09T22:56:26.958Z"
   },
   {
    "duration": 528,
    "start_time": "2024-09-09T22:56:26.975Z"
   },
   {
    "duration": 848,
    "start_time": "2024-09-09T22:57:15.106Z"
   },
   {
    "duration": 1177,
    "start_time": "2024-09-09T22:57:22.244Z"
   },
   {
    "duration": 77,
    "start_time": "2024-09-09T22:57:23.423Z"
   },
   {
    "duration": 16,
    "start_time": "2024-09-09T22:57:23.501Z"
   },
   {
    "duration": 20,
    "start_time": "2024-09-09T22:57:23.520Z"
   },
   {
    "duration": 12,
    "start_time": "2024-09-09T22:57:23.541Z"
   },
   {
    "duration": 3,
    "start_time": "2024-09-09T22:57:23.554Z"
   },
   {
    "duration": 10,
    "start_time": "2024-09-09T22:57:23.559Z"
   },
   {
    "duration": 40,
    "start_time": "2024-09-09T22:57:23.571Z"
   },
   {
    "duration": 26,
    "start_time": "2024-09-09T22:57:23.612Z"
   },
   {
    "duration": 10,
    "start_time": "2024-09-09T22:57:23.640Z"
   },
   {
    "duration": 5,
    "start_time": "2024-09-09T22:57:23.651Z"
   },
   {
    "duration": 13,
    "start_time": "2024-09-09T22:57:23.657Z"
   },
   {
    "duration": 5,
    "start_time": "2024-09-09T22:57:23.672Z"
   },
   {
    "duration": 28,
    "start_time": "2024-09-09T22:57:23.678Z"
   },
   {
    "duration": 4,
    "start_time": "2024-09-09T22:57:23.707Z"
   },
   {
    "duration": 6,
    "start_time": "2024-09-09T22:57:23.712Z"
   },
   {
    "duration": 9,
    "start_time": "2024-09-09T22:57:23.719Z"
   },
   {
    "duration": 11,
    "start_time": "2024-09-09T22:57:23.730Z"
   },
   {
    "duration": 6,
    "start_time": "2024-09-09T22:57:23.743Z"
   },
   {
    "duration": 11,
    "start_time": "2024-09-09T22:57:23.751Z"
   },
   {
    "duration": 13,
    "start_time": "2024-09-09T22:57:23.763Z"
   },
   {
    "duration": 5,
    "start_time": "2024-09-09T22:57:23.798Z"
   },
   {
    "duration": 12,
    "start_time": "2024-09-09T22:57:23.804Z"
   },
   {
    "duration": 4,
    "start_time": "2024-09-09T22:57:23.818Z"
   },
   {
    "duration": 6,
    "start_time": "2024-09-09T22:57:23.823Z"
   },
   {
    "duration": 6,
    "start_time": "2024-09-09T22:57:23.830Z"
   },
   {
    "duration": 9,
    "start_time": "2024-09-09T22:57:23.837Z"
   },
   {
    "duration": 52,
    "start_time": "2024-09-09T22:57:23.850Z"
   },
   {
    "duration": 8,
    "start_time": "2024-09-09T22:57:23.904Z"
   },
   {
    "duration": 387,
    "start_time": "2024-09-09T22:57:23.913Z"
   },
   {
    "duration": 321,
    "start_time": "2024-09-09T22:57:24.301Z"
   },
   {
    "duration": 13,
    "start_time": "2024-09-09T22:57:24.624Z"
   },
   {
    "duration": 326,
    "start_time": "2024-09-09T22:57:24.639Z"
   },
   {
    "duration": 11,
    "start_time": "2024-09-09T22:57:24.967Z"
   },
   {
    "duration": 334,
    "start_time": "2024-09-09T22:57:24.980Z"
   },
   {
    "duration": 23,
    "start_time": "2024-09-09T22:57:25.316Z"
   },
   {
    "duration": 6,
    "start_time": "2024-09-09T22:57:25.340Z"
   },
   {
    "duration": 79,
    "start_time": "2024-09-09T22:57:25.347Z"
   },
   {
    "duration": 17,
    "start_time": "2024-09-09T22:57:25.427Z"
   },
   {
    "duration": 398,
    "start_time": "2024-09-09T22:57:25.446Z"
   },
   {
    "duration": 8,
    "start_time": "2024-09-09T22:57:25.845Z"
   },
   {
    "duration": 298,
    "start_time": "2024-09-09T22:57:25.855Z"
   },
   {
    "duration": 12,
    "start_time": "2024-09-09T22:57:26.155Z"
   },
   {
    "duration": 891,
    "start_time": "2024-09-09T22:57:26.168Z"
   },
   {
    "duration": 998,
    "start_time": "2024-09-09T22:57:27.060Z"
   },
   {
    "duration": 7,
    "start_time": "2024-09-09T22:57:28.060Z"
   },
   {
    "duration": 149,
    "start_time": "2024-09-09T22:57:28.068Z"
   },
   {
    "duration": 7,
    "start_time": "2024-09-09T22:57:28.219Z"
   },
   {
    "duration": 159,
    "start_time": "2024-09-09T22:57:28.227Z"
   },
   {
    "duration": 202,
    "start_time": "2024-09-09T22:57:28.388Z"
   },
   {
    "duration": 322,
    "start_time": "2024-09-09T22:57:28.591Z"
   },
   {
    "duration": 17,
    "start_time": "2024-09-09T22:57:28.914Z"
   },
   {
    "duration": 113,
    "start_time": "2024-09-09T22:57:28.933Z"
   },
   {
    "duration": 7,
    "start_time": "2024-09-09T22:57:29.048Z"
   },
   {
    "duration": 529,
    "start_time": "2024-09-09T22:57:29.057Z"
   },
   {
    "duration": 20,
    "start_time": "2024-09-09T22:57:29.588Z"
   },
   {
    "duration": 504,
    "start_time": "2024-09-09T22:57:29.609Z"
   },
   {
    "duration": 1149,
    "start_time": "2024-09-09T22:58:35.323Z"
   },
   {
    "duration": 75,
    "start_time": "2024-09-09T22:58:36.475Z"
   },
   {
    "duration": 15,
    "start_time": "2024-09-09T22:58:36.551Z"
   },
   {
    "duration": 19,
    "start_time": "2024-09-09T22:58:36.568Z"
   },
   {
    "duration": 20,
    "start_time": "2024-09-09T22:58:36.588Z"
   },
   {
    "duration": 3,
    "start_time": "2024-09-09T22:58:36.610Z"
   },
   {
    "duration": 26,
    "start_time": "2024-09-09T22:58:36.615Z"
   },
   {
    "duration": 21,
    "start_time": "2024-09-09T22:58:36.643Z"
   },
   {
    "duration": 16,
    "start_time": "2024-09-09T22:58:36.665Z"
   },
   {
    "duration": 60,
    "start_time": "2024-09-09T22:58:36.684Z"
   },
   {
    "duration": 128,
    "start_time": "2024-09-09T22:58:36.746Z"
   },
   {
    "duration": 17,
    "start_time": "2024-09-09T22:58:36.876Z"
   },
   {
    "duration": 5,
    "start_time": "2024-09-09T22:58:36.894Z"
   },
   {
    "duration": 10,
    "start_time": "2024-09-09T22:58:36.900Z"
   },
   {
    "duration": 4,
    "start_time": "2024-09-09T22:58:36.912Z"
   },
   {
    "duration": 13,
    "start_time": "2024-09-09T22:58:36.917Z"
   },
   {
    "duration": 5,
    "start_time": "2024-09-09T22:58:36.931Z"
   },
   {
    "duration": 80,
    "start_time": "2024-09-09T22:58:36.938Z"
   },
   {
    "duration": 10,
    "start_time": "2024-09-09T22:58:37.020Z"
   },
   {
    "duration": 11,
    "start_time": "2024-09-09T22:58:37.032Z"
   },
   {
    "duration": 21,
    "start_time": "2024-09-09T22:58:37.045Z"
   },
   {
    "duration": 20,
    "start_time": "2024-09-09T22:58:37.067Z"
   },
   {
    "duration": 11,
    "start_time": "2024-09-09T22:58:37.088Z"
   },
   {
    "duration": 24,
    "start_time": "2024-09-09T22:58:37.100Z"
   },
   {
    "duration": 8,
    "start_time": "2024-09-09T22:58:37.125Z"
   },
   {
    "duration": 5,
    "start_time": "2024-09-09T22:58:37.135Z"
   },
   {
    "duration": 9,
    "start_time": "2024-09-09T22:58:37.142Z"
   },
   {
    "duration": 17,
    "start_time": "2024-09-09T22:58:37.154Z"
   },
   {
    "duration": 9,
    "start_time": "2024-09-09T22:58:37.172Z"
   },
   {
    "duration": 366,
    "start_time": "2024-09-09T22:58:37.198Z"
   },
   {
    "duration": 312,
    "start_time": "2024-09-09T22:58:37.566Z"
   },
   {
    "duration": 21,
    "start_time": "2024-09-09T22:58:37.879Z"
   },
   {
    "duration": 301,
    "start_time": "2024-09-09T22:58:37.902Z"
   },
   {
    "duration": 11,
    "start_time": "2024-09-09T22:58:38.204Z"
   },
   {
    "duration": 378,
    "start_time": "2024-09-09T22:58:38.216Z"
   },
   {
    "duration": 24,
    "start_time": "2024-09-09T22:58:38.596Z"
   },
   {
    "duration": 5,
    "start_time": "2024-09-09T22:58:38.622Z"
   },
   {
    "duration": 98,
    "start_time": "2024-09-09T22:58:38.628Z"
   },
   {
    "duration": 17,
    "start_time": "2024-09-09T22:58:38.727Z"
   },
   {
    "duration": 407,
    "start_time": "2024-09-09T22:58:38.746Z"
   },
   {
    "duration": 9,
    "start_time": "2024-09-09T22:58:39.155Z"
   },
   {
    "duration": 323,
    "start_time": "2024-09-09T22:58:39.166Z"
   },
   {
    "duration": 14,
    "start_time": "2024-09-09T22:58:39.491Z"
   },
   {
    "duration": 898,
    "start_time": "2024-09-09T22:58:39.507Z"
   },
   {
    "duration": 1012,
    "start_time": "2024-09-09T22:58:40.407Z"
   },
   {
    "duration": 9,
    "start_time": "2024-09-09T22:58:41.420Z"
   },
   {
    "duration": 167,
    "start_time": "2024-09-09T22:58:41.431Z"
   },
   {
    "duration": 8,
    "start_time": "2024-09-09T22:58:41.599Z"
   },
   {
    "duration": 199,
    "start_time": "2024-09-09T22:58:41.608Z"
   },
   {
    "duration": 197,
    "start_time": "2024-09-09T22:58:41.808Z"
   },
   {
    "duration": 442,
    "start_time": "2024-09-09T22:58:42.007Z"
   },
   {
    "duration": 14,
    "start_time": "2024-09-09T22:58:42.451Z"
   },
   {
    "duration": 70,
    "start_time": "2024-09-09T22:58:42.466Z"
   },
   {
    "duration": 8,
    "start_time": "2024-09-09T22:58:42.538Z"
   },
   {
    "duration": 522,
    "start_time": "2024-09-09T22:58:42.547Z"
   },
   {
    "duration": 15,
    "start_time": "2024-09-09T22:58:43.071Z"
   },
   {
    "duration": 466,
    "start_time": "2024-09-09T22:58:43.098Z"
   },
   {
    "duration": 436,
    "start_time": "2024-09-09T22:59:24.284Z"
   },
   {
    "duration": 452,
    "start_time": "2024-09-09T23:02:30.535Z"
   },
   {
    "duration": 455,
    "start_time": "2024-09-09T23:02:48.627Z"
   },
   {
    "duration": 594,
    "start_time": "2024-09-09T23:25:12.562Z"
   },
   {
    "duration": 498,
    "start_time": "2024-09-09T23:28:55.549Z"
   },
   {
    "duration": 502,
    "start_time": "2024-09-09T23:30:40.398Z"
   },
   {
    "duration": 847,
    "start_time": "2024-09-09T23:31:52.937Z"
   },
   {
    "duration": 1259,
    "start_time": "2024-09-09T23:32:02.371Z"
   },
   {
    "duration": 75,
    "start_time": "2024-09-09T23:32:03.632Z"
   },
   {
    "duration": 15,
    "start_time": "2024-09-09T23:32:03.709Z"
   },
   {
    "duration": 27,
    "start_time": "2024-09-09T23:32:03.727Z"
   },
   {
    "duration": 13,
    "start_time": "2024-09-09T23:32:03.757Z"
   },
   {
    "duration": 17,
    "start_time": "2024-09-09T23:32:03.772Z"
   },
   {
    "duration": 19,
    "start_time": "2024-09-09T23:32:03.791Z"
   },
   {
    "duration": 20,
    "start_time": "2024-09-09T23:32:03.812Z"
   },
   {
    "duration": 26,
    "start_time": "2024-09-09T23:32:03.833Z"
   },
   {
    "duration": 10,
    "start_time": "2024-09-09T23:32:03.862Z"
   },
   {
    "duration": 27,
    "start_time": "2024-09-09T23:32:03.874Z"
   },
   {
    "duration": 16,
    "start_time": "2024-09-09T23:32:03.903Z"
   },
   {
    "duration": 4,
    "start_time": "2024-09-09T23:32:03.920Z"
   },
   {
    "duration": 24,
    "start_time": "2024-09-09T23:32:03.926Z"
   },
   {
    "duration": 5,
    "start_time": "2024-09-09T23:32:03.952Z"
   },
   {
    "duration": 25,
    "start_time": "2024-09-09T23:32:03.959Z"
   },
   {
    "duration": 12,
    "start_time": "2024-09-09T23:32:03.985Z"
   },
   {
    "duration": 15,
    "start_time": "2024-09-09T23:32:03.998Z"
   },
   {
    "duration": 8,
    "start_time": "2024-09-09T23:32:04.015Z"
   },
   {
    "duration": 11,
    "start_time": "2024-09-09T23:32:04.024Z"
   },
   {
    "duration": 14,
    "start_time": "2024-09-09T23:32:04.037Z"
   },
   {
    "duration": 5,
    "start_time": "2024-09-09T23:32:04.053Z"
   },
   {
    "duration": 10,
    "start_time": "2024-09-09T23:32:04.059Z"
   },
   {
    "duration": 28,
    "start_time": "2024-09-09T23:32:04.070Z"
   },
   {
    "duration": 7,
    "start_time": "2024-09-09T23:32:04.100Z"
   },
   {
    "duration": 10,
    "start_time": "2024-09-09T23:32:04.108Z"
   },
   {
    "duration": 13,
    "start_time": "2024-09-09T23:32:04.120Z"
   },
   {
    "duration": 18,
    "start_time": "2024-09-09T23:32:04.138Z"
   },
   {
    "duration": 8,
    "start_time": "2024-09-09T23:32:04.158Z"
   },
   {
    "duration": 399,
    "start_time": "2024-09-09T23:32:04.167Z"
   },
   {
    "duration": 326,
    "start_time": "2024-09-09T23:32:04.567Z"
   },
   {
    "duration": 15,
    "start_time": "2024-09-09T23:32:04.898Z"
   },
   {
    "duration": 334,
    "start_time": "2024-09-09T23:32:04.915Z"
   },
   {
    "duration": 11,
    "start_time": "2024-09-09T23:32:05.251Z"
   },
   {
    "duration": 358,
    "start_time": "2024-09-09T23:32:05.264Z"
   },
   {
    "duration": 25,
    "start_time": "2024-09-09T23:32:05.624Z"
   },
   {
    "duration": 6,
    "start_time": "2024-09-09T23:32:05.651Z"
   },
   {
    "duration": 100,
    "start_time": "2024-09-09T23:32:05.659Z"
   },
   {
    "duration": 21,
    "start_time": "2024-09-09T23:32:05.761Z"
   },
   {
    "duration": 423,
    "start_time": "2024-09-09T23:32:05.784Z"
   },
   {
    "duration": 9,
    "start_time": "2024-09-09T23:32:06.208Z"
   },
   {
    "duration": 324,
    "start_time": "2024-09-09T23:32:06.218Z"
   },
   {
    "duration": 12,
    "start_time": "2024-09-09T23:32:06.543Z"
   },
   {
    "duration": 947,
    "start_time": "2024-09-09T23:32:06.557Z"
   },
   {
    "duration": 1023,
    "start_time": "2024-09-09T23:32:07.505Z"
   },
   {
    "duration": 7,
    "start_time": "2024-09-09T23:32:08.530Z"
   },
   {
    "duration": 202,
    "start_time": "2024-09-09T23:32:08.539Z"
   },
   {
    "duration": 7,
    "start_time": "2024-09-09T23:32:08.743Z"
   },
   {
    "duration": 224,
    "start_time": "2024-09-09T23:32:08.752Z"
   },
   {
    "duration": 192,
    "start_time": "2024-09-09T23:32:08.978Z"
   },
   {
    "duration": 305,
    "start_time": "2024-09-09T23:32:09.171Z"
   },
   {
    "duration": 23,
    "start_time": "2024-09-09T23:32:09.477Z"
   },
   {
    "duration": 48,
    "start_time": "2024-09-09T23:32:09.501Z"
   },
   {
    "duration": 8,
    "start_time": "2024-09-09T23:32:09.551Z"
   },
   {
    "duration": 561,
    "start_time": "2024-09-09T23:32:09.561Z"
   },
   {
    "duration": 15,
    "start_time": "2024-09-09T23:32:10.124Z"
   },
   {
    "duration": 508,
    "start_time": "2024-09-09T23:32:10.140Z"
   },
   {
    "duration": 14,
    "start_time": "2024-09-09T23:32:59.165Z"
   },
   {
    "duration": 14,
    "start_time": "2024-09-09T23:34:36.212Z"
   },
   {
    "duration": 55,
    "start_time": "2024-09-09T23:35:24.629Z"
   },
   {
    "duration": 15,
    "start_time": "2024-09-09T23:35:44.822Z"
   },
   {
    "duration": 368,
    "start_time": "2024-09-09T23:42:44.235Z"
   },
   {
    "duration": 441,
    "start_time": "2024-09-09T23:50:16.799Z"
   },
   {
    "duration": 461,
    "start_time": "2024-09-09T23:51:05.442Z"
   },
   {
    "duration": 598,
    "start_time": "2024-09-09T23:51:46.490Z"
   },
   {
    "duration": 1037,
    "start_time": "2024-09-09T23:52:15.634Z"
   },
   {
    "duration": 1186,
    "start_time": "2024-09-09T23:52:30.730Z"
   },
   {
    "duration": 74,
    "start_time": "2024-09-09T23:52:31.918Z"
   },
   {
    "duration": 15,
    "start_time": "2024-09-09T23:52:31.994Z"
   },
   {
    "duration": 18,
    "start_time": "2024-09-09T23:52:32.012Z"
   },
   {
    "duration": 13,
    "start_time": "2024-09-09T23:52:32.032Z"
   },
   {
    "duration": 5,
    "start_time": "2024-09-09T23:52:32.046Z"
   },
   {
    "duration": 6,
    "start_time": "2024-09-09T23:52:32.053Z"
   },
   {
    "duration": 47,
    "start_time": "2024-09-09T23:52:32.060Z"
   },
   {
    "duration": 15,
    "start_time": "2024-09-09T23:52:32.108Z"
   },
   {
    "duration": 10,
    "start_time": "2024-09-09T23:52:32.125Z"
   },
   {
    "duration": 5,
    "start_time": "2024-09-09T23:52:32.136Z"
   },
   {
    "duration": 12,
    "start_time": "2024-09-09T23:52:32.142Z"
   },
   {
    "duration": 4,
    "start_time": "2024-09-09T23:52:32.155Z"
   },
   {
    "duration": 39,
    "start_time": "2024-09-09T23:52:32.160Z"
   },
   {
    "duration": 5,
    "start_time": "2024-09-09T23:52:32.200Z"
   },
   {
    "duration": 7,
    "start_time": "2024-09-09T23:52:32.207Z"
   },
   {
    "duration": 5,
    "start_time": "2024-09-09T23:52:32.216Z"
   },
   {
    "duration": 7,
    "start_time": "2024-09-09T23:52:32.223Z"
   },
   {
    "duration": 8,
    "start_time": "2024-09-09T23:52:32.232Z"
   },
   {
    "duration": 14,
    "start_time": "2024-09-09T23:52:32.241Z"
   },
   {
    "duration": 49,
    "start_time": "2024-09-09T23:52:32.257Z"
   },
   {
    "duration": 6,
    "start_time": "2024-09-09T23:52:32.307Z"
   },
   {
    "duration": 10,
    "start_time": "2024-09-09T23:52:32.315Z"
   },
   {
    "duration": 5,
    "start_time": "2024-09-09T23:52:32.326Z"
   },
   {
    "duration": 9,
    "start_time": "2024-09-09T23:52:32.332Z"
   },
   {
    "duration": 7,
    "start_time": "2024-09-09T23:52:32.342Z"
   },
   {
    "duration": 7,
    "start_time": "2024-09-09T23:52:32.350Z"
   },
   {
    "duration": 51,
    "start_time": "2024-09-09T23:52:32.361Z"
   },
   {
    "duration": 8,
    "start_time": "2024-09-09T23:52:32.413Z"
   },
   {
    "duration": 388,
    "start_time": "2024-09-09T23:52:32.422Z"
   },
   {
    "duration": 320,
    "start_time": "2024-09-09T23:52:32.811Z"
   },
   {
    "duration": 13,
    "start_time": "2024-09-09T23:52:33.132Z"
   },
   {
    "duration": 354,
    "start_time": "2024-09-09T23:52:33.146Z"
   },
   {
    "duration": 11,
    "start_time": "2024-09-09T23:52:33.501Z"
   },
   {
    "duration": 336,
    "start_time": "2024-09-09T23:52:33.514Z"
   },
   {
    "duration": 24,
    "start_time": "2024-09-09T23:52:33.852Z"
   },
   {
    "duration": 5,
    "start_time": "2024-09-09T23:52:33.878Z"
   },
   {
    "duration": 83,
    "start_time": "2024-09-09T23:52:33.885Z"
   },
   {
    "duration": 18,
    "start_time": "2024-09-09T23:52:33.969Z"
   },
   {
    "duration": 392,
    "start_time": "2024-09-09T23:52:33.998Z"
   },
   {
    "duration": 11,
    "start_time": "2024-09-09T23:52:34.392Z"
   },
   {
    "duration": 298,
    "start_time": "2024-09-09T23:52:34.405Z"
   },
   {
    "duration": 12,
    "start_time": "2024-09-09T23:52:34.705Z"
   },
   {
    "duration": 896,
    "start_time": "2024-09-09T23:52:34.718Z"
   },
   {
    "duration": 985,
    "start_time": "2024-09-09T23:52:35.615Z"
   },
   {
    "duration": 7,
    "start_time": "2024-09-09T23:52:36.601Z"
   },
   {
    "duration": 171,
    "start_time": "2024-09-09T23:52:36.610Z"
   },
   {
    "duration": 14,
    "start_time": "2024-09-09T23:52:36.783Z"
   },
   {
    "duration": 140,
    "start_time": "2024-09-09T23:52:36.799Z"
   },
   {
    "duration": 190,
    "start_time": "2024-09-09T23:52:36.940Z"
   },
   {
    "duration": 303,
    "start_time": "2024-09-09T23:52:37.131Z"
   },
   {
    "duration": 15,
    "start_time": "2024-09-09T23:52:37.436Z"
   },
   {
    "duration": 59,
    "start_time": "2024-09-09T23:52:37.452Z"
   },
   {
    "duration": 8,
    "start_time": "2024-09-09T23:52:37.512Z"
   },
   {
    "duration": 588,
    "start_time": "2024-09-09T23:52:37.521Z"
   },
   {
    "duration": 15,
    "start_time": "2024-09-09T23:52:38.110Z"
   },
   {
    "duration": 548,
    "start_time": "2024-09-09T23:52:38.126Z"
   },
   {
    "duration": 23,
    "start_time": "2024-09-09T23:52:38.676Z"
   },
   {
    "duration": 458,
    "start_time": "2024-09-09T23:52:38.701Z"
   },
   {
    "duration": 479,
    "start_time": "2024-09-09T23:53:30.623Z"
   },
   {
    "duration": 1189,
    "start_time": "2024-09-10T02:59:18.831Z"
   },
   {
    "duration": 72,
    "start_time": "2024-09-10T02:59:20.022Z"
   },
   {
    "duration": 16,
    "start_time": "2024-09-10T02:59:20.096Z"
   },
   {
    "duration": 17,
    "start_time": "2024-09-10T02:59:20.113Z"
   },
   {
    "duration": 11,
    "start_time": "2024-09-10T02:59:20.131Z"
   },
   {
    "duration": 10,
    "start_time": "2024-09-10T02:59:20.143Z"
   },
   {
    "duration": 8,
    "start_time": "2024-09-10T02:59:20.154Z"
   },
   {
    "duration": 38,
    "start_time": "2024-09-10T02:59:20.163Z"
   },
   {
    "duration": 15,
    "start_time": "2024-09-10T02:59:20.203Z"
   },
   {
    "duration": 41,
    "start_time": "2024-09-10T02:59:20.220Z"
   },
   {
    "duration": 5,
    "start_time": "2024-09-10T02:59:20.263Z"
   },
   {
    "duration": 12,
    "start_time": "2024-09-10T02:59:20.269Z"
   },
   {
    "duration": 4,
    "start_time": "2024-09-10T02:59:20.283Z"
   },
   {
    "duration": 25,
    "start_time": "2024-09-10T02:59:20.288Z"
   },
   {
    "duration": 14,
    "start_time": "2024-09-10T02:59:20.314Z"
   },
   {
    "duration": 10,
    "start_time": "2024-09-10T02:59:20.329Z"
   },
   {
    "duration": 9,
    "start_time": "2024-09-10T02:59:20.340Z"
   },
   {
    "duration": 10,
    "start_time": "2024-09-10T02:59:20.351Z"
   },
   {
    "duration": 15,
    "start_time": "2024-09-10T02:59:20.362Z"
   },
   {
    "duration": 11,
    "start_time": "2024-09-10T02:59:20.379Z"
   },
   {
    "duration": 11,
    "start_time": "2024-09-10T02:59:20.392Z"
   },
   {
    "duration": 6,
    "start_time": "2024-09-10T02:59:20.404Z"
   },
   {
    "duration": 13,
    "start_time": "2024-09-10T02:59:20.412Z"
   },
   {
    "duration": 8,
    "start_time": "2024-09-10T02:59:20.426Z"
   },
   {
    "duration": 15,
    "start_time": "2024-09-10T02:59:20.436Z"
   },
   {
    "duration": 6,
    "start_time": "2024-09-10T02:59:20.452Z"
   },
   {
    "duration": 14,
    "start_time": "2024-09-10T02:59:20.460Z"
   },
   {
    "duration": 21,
    "start_time": "2024-09-10T02:59:20.497Z"
   },
   {
    "duration": 25,
    "start_time": "2024-09-10T02:59:20.520Z"
   },
   {
    "duration": 388,
    "start_time": "2024-09-10T02:59:20.547Z"
   },
   {
    "duration": 341,
    "start_time": "2024-09-10T02:59:20.937Z"
   },
   {
    "duration": 29,
    "start_time": "2024-09-10T02:59:21.280Z"
   },
   {
    "duration": 336,
    "start_time": "2024-09-10T02:59:21.312Z"
   },
   {
    "duration": 12,
    "start_time": "2024-09-10T02:59:21.650Z"
   },
   {
    "duration": 363,
    "start_time": "2024-09-10T02:59:21.663Z"
   },
   {
    "duration": 24,
    "start_time": "2024-09-10T02:59:22.028Z"
   },
   {
    "duration": 5,
    "start_time": "2024-09-10T02:59:22.054Z"
   },
   {
    "duration": 94,
    "start_time": "2024-09-10T02:59:22.061Z"
   },
   {
    "duration": 15,
    "start_time": "2024-09-10T02:59:22.157Z"
   },
   {
    "duration": 426,
    "start_time": "2024-09-10T02:59:22.174Z"
   },
   {
    "duration": 10,
    "start_time": "2024-09-10T02:59:22.602Z"
   },
   {
    "duration": 306,
    "start_time": "2024-09-10T02:59:22.613Z"
   },
   {
    "duration": 13,
    "start_time": "2024-09-10T02:59:22.922Z"
   },
   {
    "duration": 945,
    "start_time": "2024-09-10T02:59:22.938Z"
   },
   {
    "duration": 1022,
    "start_time": "2024-09-10T02:59:23.884Z"
   },
   {
    "duration": 8,
    "start_time": "2024-09-10T02:59:24.907Z"
   },
   {
    "duration": 159,
    "start_time": "2024-09-10T02:59:24.916Z"
   },
   {
    "duration": 7,
    "start_time": "2024-09-10T02:59:25.077Z"
   },
   {
    "duration": 144,
    "start_time": "2024-09-10T02:59:25.097Z"
   },
   {
    "duration": 186,
    "start_time": "2024-09-10T02:59:25.242Z"
   },
   {
    "duration": 309,
    "start_time": "2024-09-10T02:59:25.430Z"
   },
   {
    "duration": 13,
    "start_time": "2024-09-10T02:59:25.741Z"
   },
   {
    "duration": 56,
    "start_time": "2024-09-10T02:59:25.756Z"
   },
   {
    "duration": 13,
    "start_time": "2024-09-10T02:59:25.813Z"
   },
   {
    "duration": 572,
    "start_time": "2024-09-10T02:59:25.828Z"
   },
   {
    "duration": 15,
    "start_time": "2024-09-10T02:59:26.401Z"
   },
   {
    "duration": 547,
    "start_time": "2024-09-10T02:59:26.418Z"
   },
   {
    "duration": 15,
    "start_time": "2024-09-10T02:59:26.966Z"
   },
   {
    "duration": 451,
    "start_time": "2024-09-10T02:59:26.982Z"
   },
   {
    "duration": 991,
    "start_time": "2024-09-10T03:39:24.859Z"
   },
   {
    "duration": 64,
    "start_time": "2024-09-10T03:39:25.851Z"
   },
   {
    "duration": 11,
    "start_time": "2024-09-10T03:39:25.916Z"
   },
   {
    "duration": 33,
    "start_time": "2024-09-10T03:39:25.929Z"
   },
   {
    "duration": 37,
    "start_time": "2024-09-10T03:39:25.964Z"
   },
   {
    "duration": 8,
    "start_time": "2024-09-10T03:39:26.003Z"
   },
   {
    "duration": 13,
    "start_time": "2024-09-10T03:39:26.012Z"
   },
   {
    "duration": 14,
    "start_time": "2024-09-10T03:39:26.026Z"
   },
   {
    "duration": 18,
    "start_time": "2024-09-10T03:39:26.042Z"
   },
   {
    "duration": 7,
    "start_time": "2024-09-10T03:39:26.062Z"
   },
   {
    "duration": 6,
    "start_time": "2024-09-10T03:39:26.070Z"
   },
   {
    "duration": 10,
    "start_time": "2024-09-10T03:39:26.077Z"
   },
   {
    "duration": 3,
    "start_time": "2024-09-10T03:39:26.089Z"
   },
   {
    "duration": 14,
    "start_time": "2024-09-10T03:39:26.093Z"
   },
   {
    "duration": 7,
    "start_time": "2024-09-10T03:39:26.108Z"
   },
   {
    "duration": 11,
    "start_time": "2024-09-10T03:39:26.116Z"
   },
   {
    "duration": 6,
    "start_time": "2024-09-10T03:39:26.128Z"
   },
   {
    "duration": 11,
    "start_time": "2024-09-10T03:39:26.135Z"
   },
   {
    "duration": 8,
    "start_time": "2024-09-10T03:39:26.147Z"
   },
   {
    "duration": 75,
    "start_time": "2024-09-10T03:39:26.157Z"
   },
   {
    "duration": 14,
    "start_time": "2024-09-10T03:39:26.233Z"
   },
   {
    "duration": 24,
    "start_time": "2024-09-10T03:39:26.249Z"
   },
   {
    "duration": 41,
    "start_time": "2024-09-10T03:39:26.274Z"
   },
   {
    "duration": 18,
    "start_time": "2024-09-10T03:39:26.316Z"
   },
   {
    "duration": 15,
    "start_time": "2024-09-10T03:39:26.335Z"
   },
   {
    "duration": 13,
    "start_time": "2024-09-10T03:39:26.351Z"
   },
   {
    "duration": 14,
    "start_time": "2024-09-10T03:39:26.365Z"
   },
   {
    "duration": 16,
    "start_time": "2024-09-10T03:39:26.382Z"
   },
   {
    "duration": 6,
    "start_time": "2024-09-10T03:39:26.399Z"
   },
   {
    "duration": 281,
    "start_time": "2024-09-10T03:39:26.406Z"
   },
   {
    "duration": 245,
    "start_time": "2024-09-10T03:39:26.689Z"
   },
   {
    "duration": 11,
    "start_time": "2024-09-10T03:39:26.936Z"
   },
   {
    "duration": 261,
    "start_time": "2024-09-10T03:39:26.948Z"
   },
   {
    "duration": 12,
    "start_time": "2024-09-10T03:39:27.211Z"
   },
   {
    "duration": 277,
    "start_time": "2024-09-10T03:39:27.224Z"
   },
   {
    "duration": 19,
    "start_time": "2024-09-10T03:39:27.502Z"
   },
   {
    "duration": 80,
    "start_time": "2024-09-10T03:39:27.522Z"
   },
   {
    "duration": 65,
    "start_time": "2024-09-10T03:39:27.603Z"
   },
   {
    "duration": 13,
    "start_time": "2024-09-10T03:39:27.670Z"
   },
   {
    "duration": 320,
    "start_time": "2024-09-10T03:39:27.684Z"
   },
   {
    "duration": 7,
    "start_time": "2024-09-10T03:39:28.007Z"
   },
   {
    "duration": 234,
    "start_time": "2024-09-10T03:39:28.015Z"
   },
   {
    "duration": 10,
    "start_time": "2024-09-10T03:39:28.251Z"
   },
   {
    "duration": 751,
    "start_time": "2024-09-10T03:39:28.262Z"
   },
   {
    "duration": 836,
    "start_time": "2024-09-10T03:39:29.014Z"
   },
   {
    "duration": 5,
    "start_time": "2024-09-10T03:39:29.852Z"
   },
   {
    "duration": 128,
    "start_time": "2024-09-10T03:39:29.859Z"
   },
   {
    "duration": 6,
    "start_time": "2024-09-10T03:39:29.988Z"
   },
   {
    "duration": 125,
    "start_time": "2024-09-10T03:39:29.995Z"
   },
   {
    "duration": 149,
    "start_time": "2024-09-10T03:39:30.121Z"
   },
   {
    "duration": 236,
    "start_time": "2024-09-10T03:39:30.271Z"
   },
   {
    "duration": 11,
    "start_time": "2024-09-10T03:39:30.508Z"
   },
   {
    "duration": 92,
    "start_time": "2024-09-10T03:39:30.520Z"
   },
   {
    "duration": 6,
    "start_time": "2024-09-10T03:39:30.614Z"
   },
   {
    "duration": 461,
    "start_time": "2024-09-10T03:39:30.621Z"
   },
   {
    "duration": 12,
    "start_time": "2024-09-10T03:39:31.083Z"
   },
   {
    "duration": 429,
    "start_time": "2024-09-10T03:39:31.096Z"
   },
   {
    "duration": 11,
    "start_time": "2024-09-10T03:39:31.526Z"
   },
   {
    "duration": 411,
    "start_time": "2024-09-10T03:39:31.538Z"
   },
   {
    "duration": 1109,
    "start_time": "2024-09-10T05:35:00.574Z"
   },
   {
    "duration": 65,
    "start_time": "2024-09-10T05:35:01.685Z"
   },
   {
    "duration": 26,
    "start_time": "2024-09-10T05:35:01.751Z"
   },
   {
    "duration": 37,
    "start_time": "2024-09-10T05:35:01.779Z"
   },
   {
    "duration": 14,
    "start_time": "2024-09-10T05:35:01.817Z"
   },
   {
    "duration": 10,
    "start_time": "2024-09-10T05:35:01.833Z"
   },
   {
    "duration": 8,
    "start_time": "2024-09-10T05:35:01.845Z"
   },
   {
    "duration": 59,
    "start_time": "2024-09-10T05:35:01.854Z"
   },
   {
    "duration": 18,
    "start_time": "2024-09-10T05:35:01.914Z"
   },
   {
    "duration": 9,
    "start_time": "2024-09-10T05:35:01.935Z"
   },
   {
    "duration": 46,
    "start_time": "2024-09-10T05:35:01.946Z"
   },
   {
    "duration": 17,
    "start_time": "2024-09-10T05:35:01.994Z"
   },
   {
    "duration": 71,
    "start_time": "2024-09-10T05:35:02.012Z"
   },
   {
    "duration": 49,
    "start_time": "2024-09-10T05:35:02.085Z"
   },
   {
    "duration": 21,
    "start_time": "2024-09-10T05:35:02.136Z"
   },
   {
    "duration": 42,
    "start_time": "2024-09-10T05:35:02.158Z"
   },
   {
    "duration": 41,
    "start_time": "2024-09-10T05:35:02.202Z"
   },
   {
    "duration": 25,
    "start_time": "2024-09-10T05:35:02.245Z"
   },
   {
    "duration": 27,
    "start_time": "2024-09-10T05:35:02.271Z"
   },
   {
    "duration": 17,
    "start_time": "2024-09-10T05:35:02.299Z"
   },
   {
    "duration": 11,
    "start_time": "2024-09-10T05:35:02.317Z"
   },
   {
    "duration": 10,
    "start_time": "2024-09-10T05:35:02.329Z"
   },
   {
    "duration": 11,
    "start_time": "2024-09-10T05:35:02.341Z"
   },
   {
    "duration": 42,
    "start_time": "2024-09-10T05:35:02.353Z"
   },
   {
    "duration": 38,
    "start_time": "2024-09-10T05:35:02.396Z"
   },
   {
    "duration": 15,
    "start_time": "2024-09-10T05:35:02.435Z"
   },
   {
    "duration": 45,
    "start_time": "2024-09-10T05:35:02.451Z"
   },
   {
    "duration": 154,
    "start_time": "2024-09-10T05:35:02.500Z"
   },
   {
    "duration": 117,
    "start_time": "2024-09-10T05:35:02.655Z"
   },
   {
    "duration": 397,
    "start_time": "2024-09-10T05:35:02.774Z"
   },
   {
    "duration": 285,
    "start_time": "2024-09-10T05:35:03.173Z"
   },
   {
    "duration": 13,
    "start_time": "2024-09-10T05:35:03.459Z"
   },
   {
    "duration": 337,
    "start_time": "2024-09-10T05:35:03.474Z"
   },
   {
    "duration": 9,
    "start_time": "2024-09-10T05:35:03.813Z"
   },
   {
    "duration": 282,
    "start_time": "2024-09-10T05:35:03.823Z"
   },
   {
    "duration": 21,
    "start_time": "2024-09-10T05:35:04.107Z"
   },
   {
    "duration": 5,
    "start_time": "2024-09-10T05:35:04.129Z"
   },
   {
    "duration": 81,
    "start_time": "2024-09-10T05:35:04.135Z"
   },
   {
    "duration": 13,
    "start_time": "2024-09-10T05:35:04.217Z"
   },
   {
    "duration": 360,
    "start_time": "2024-09-10T05:35:04.232Z"
   },
   {
    "duration": 15,
    "start_time": "2024-09-10T05:35:04.593Z"
   },
   {
    "duration": 268,
    "start_time": "2024-09-10T05:35:04.609Z"
   },
   {
    "duration": 11,
    "start_time": "2024-09-10T05:35:04.879Z"
   },
   {
    "duration": 891,
    "start_time": "2024-09-10T05:35:04.891Z"
   },
   {
    "duration": 899,
    "start_time": "2024-09-10T05:35:05.783Z"
   },
   {
    "duration": 6,
    "start_time": "2024-09-10T05:35:06.684Z"
   },
   {
    "duration": 141,
    "start_time": "2024-09-10T05:35:06.692Z"
   },
   {
    "duration": 6,
    "start_time": "2024-09-10T05:35:06.835Z"
   },
   {
    "duration": 147,
    "start_time": "2024-09-10T05:35:06.843Z"
   },
   {
    "duration": 180,
    "start_time": "2024-09-10T05:35:06.991Z"
   },
   {
    "duration": 276,
    "start_time": "2024-09-10T05:35:07.172Z"
   },
   {
    "duration": 13,
    "start_time": "2024-09-10T05:35:07.449Z"
   },
   {
    "duration": 99,
    "start_time": "2024-09-10T05:35:07.463Z"
   },
   {
    "duration": 8,
    "start_time": "2024-09-10T05:35:07.563Z"
   },
   {
    "duration": 490,
    "start_time": "2024-09-10T05:35:07.572Z"
   },
   {
    "duration": 13,
    "start_time": "2024-09-10T05:35:08.063Z"
   },
   {
    "duration": 492,
    "start_time": "2024-09-10T05:35:08.077Z"
   },
   {
    "duration": 12,
    "start_time": "2024-09-10T05:35:08.571Z"
   },
   {
    "duration": 448,
    "start_time": "2024-09-10T05:35:08.584Z"
   },
   {
    "duration": 109,
    "start_time": "2024-09-10T21:21:24.046Z"
   },
   {
    "duration": 45,
    "start_time": "2024-09-10T21:44:26.581Z"
   },
   {
    "duration": 1402,
    "start_time": "2024-09-10T21:44:59.978Z"
   },
   {
    "duration": 224,
    "start_time": "2024-09-10T21:45:01.382Z"
   },
   {
    "duration": 16,
    "start_time": "2024-09-10T21:45:01.608Z"
   },
   {
    "duration": 18,
    "start_time": "2024-09-10T21:45:01.626Z"
   },
   {
    "duration": 13,
    "start_time": "2024-09-10T21:45:01.645Z"
   },
   {
    "duration": 43,
    "start_time": "2024-09-10T21:45:01.660Z"
   },
   {
    "duration": 4,
    "start_time": "2024-09-10T21:45:01.705Z"
   },
   {
    "duration": 17,
    "start_time": "2024-09-10T21:45:01.711Z"
   },
   {
    "duration": 18,
    "start_time": "2024-09-10T21:45:01.729Z"
   },
   {
    "duration": 10,
    "start_time": "2024-09-10T21:45:01.749Z"
   },
   {
    "duration": 7,
    "start_time": "2024-09-10T21:45:01.760Z"
   },
   {
    "duration": 11,
    "start_time": "2024-09-10T21:45:01.768Z"
   },
   {
    "duration": 20,
    "start_time": "2024-09-10T21:45:01.780Z"
   },
   {
    "duration": 9,
    "start_time": "2024-09-10T21:45:01.802Z"
   },
   {
    "duration": 4,
    "start_time": "2024-09-10T21:45:01.813Z"
   },
   {
    "duration": 14,
    "start_time": "2024-09-10T21:45:01.819Z"
   },
   {
    "duration": 21,
    "start_time": "2024-09-10T21:45:01.835Z"
   },
   {
    "duration": 12,
    "start_time": "2024-09-10T21:45:01.857Z"
   },
   {
    "duration": 7,
    "start_time": "2024-09-10T21:45:01.870Z"
   },
   {
    "duration": 28,
    "start_time": "2024-09-10T21:45:01.878Z"
   },
   {
    "duration": 22,
    "start_time": "2024-09-10T21:45:01.908Z"
   },
   {
    "duration": 5,
    "start_time": "2024-09-10T21:45:01.932Z"
   },
   {
    "duration": 12,
    "start_time": "2024-09-10T21:45:01.938Z"
   },
   {
    "duration": 4,
    "start_time": "2024-09-10T21:45:01.951Z"
   },
   {
    "duration": 8,
    "start_time": "2024-09-10T21:45:01.957Z"
   },
   {
    "duration": 6,
    "start_time": "2024-09-10T21:45:01.966Z"
   },
   {
    "duration": 17,
    "start_time": "2024-09-10T21:45:01.973Z"
   },
   {
    "duration": 21,
    "start_time": "2024-09-10T21:45:01.994Z"
   },
   {
    "duration": 16,
    "start_time": "2024-09-10T21:45:02.016Z"
   },
   {
    "duration": 400,
    "start_time": "2024-09-10T21:45:02.034Z"
   },
   {
    "duration": 337,
    "start_time": "2024-09-10T21:45:02.436Z"
   },
   {
    "duration": 12,
    "start_time": "2024-09-10T21:45:02.775Z"
   },
   {
    "duration": 326,
    "start_time": "2024-09-10T21:45:02.789Z"
   },
   {
    "duration": 10,
    "start_time": "2024-09-10T21:45:03.117Z"
   },
   {
    "duration": 339,
    "start_time": "2024-09-10T21:45:03.129Z"
   },
   {
    "duration": 25,
    "start_time": "2024-09-10T21:45:03.471Z"
   },
   {
    "duration": 46,
    "start_time": "2024-09-10T21:45:03.498Z"
   },
   {
    "duration": 90,
    "start_time": "2024-09-10T21:45:03.546Z"
   },
   {
    "duration": 21,
    "start_time": "2024-09-10T21:45:03.637Z"
   },
   {
    "duration": 492,
    "start_time": "2024-09-10T21:45:03.660Z"
   },
   {
    "duration": 9,
    "start_time": "2024-09-10T21:45:04.153Z"
   },
   {
    "duration": 308,
    "start_time": "2024-09-10T21:45:04.164Z"
   },
   {
    "duration": 12,
    "start_time": "2024-09-10T21:45:04.474Z"
   },
   {
    "duration": 966,
    "start_time": "2024-09-10T21:45:04.488Z"
   },
   {
    "duration": 1037,
    "start_time": "2024-09-10T21:45:05.455Z"
   },
   {
    "duration": 7,
    "start_time": "2024-09-10T21:45:06.494Z"
   },
   {
    "duration": 166,
    "start_time": "2024-09-10T21:45:06.502Z"
   },
   {
    "duration": 7,
    "start_time": "2024-09-10T21:45:06.670Z"
   },
   {
    "duration": 152,
    "start_time": "2024-09-10T21:45:06.678Z"
   },
   {
    "duration": 188,
    "start_time": "2024-09-10T21:45:06.832Z"
   },
   {
    "duration": 298,
    "start_time": "2024-09-10T21:45:07.022Z"
   },
   {
    "duration": 14,
    "start_time": "2024-09-10T21:45:07.321Z"
   },
   {
    "duration": 40,
    "start_time": "2024-09-10T21:45:07.352Z"
   },
   {
    "duration": 39,
    "start_time": "2024-09-10T21:45:07.393Z"
   },
   {
    "duration": 111,
    "start_time": "2024-09-10T21:45:07.434Z"
   },
   {
    "duration": 0,
    "start_time": "2024-09-10T21:45:07.547Z"
   },
   {
    "duration": 0,
    "start_time": "2024-09-10T21:45:07.553Z"
   },
   {
    "duration": 0,
    "start_time": "2024-09-10T21:45:07.554Z"
   },
   {
    "duration": 0,
    "start_time": "2024-09-10T21:45:07.556Z"
   },
   {
    "duration": 564,
    "start_time": "2024-09-10T21:45:49.836Z"
   },
   {
    "duration": 73,
    "start_time": "2024-09-10T21:51:46.352Z"
   },
   {
    "duration": 1433,
    "start_time": "2024-09-10T21:51:55.932Z"
   },
   {
    "duration": 1468,
    "start_time": "2024-09-10T21:52:39.946Z"
   },
   {
    "duration": 513,
    "start_time": "2024-09-10T21:54:11.736Z"
   },
   {
    "duration": 54,
    "start_time": "2024-09-10T21:54:41.966Z"
   },
   {
    "duration": 497,
    "start_time": "2024-09-10T21:54:51.336Z"
   },
   {
    "duration": 867,
    "start_time": "2024-09-10T21:56:45.549Z"
   },
   {
    "duration": 471,
    "start_time": "2024-09-10T22:15:43.129Z"
   },
   {
    "duration": 18,
    "start_time": "2024-09-10T22:20:33.194Z"
   },
   {
    "duration": 484,
    "start_time": "2024-09-10T22:21:09.217Z"
   },
   {
    "duration": 275,
    "start_time": "2024-09-10T22:25:25.301Z"
   },
   {
    "duration": 265,
    "start_time": "2024-09-10T22:25:53.549Z"
   }
  ],
  "kernelspec": {
   "display_name": "Python 3 (ipykernel)",
   "language": "python",
   "name": "python3"
  },
  "language_info": {
   "codemirror_mode": {
    "name": "ipython",
    "version": 3
   },
   "file_extension": ".py",
   "mimetype": "text/x-python",
   "name": "python",
   "nbconvert_exporter": "python",
   "pygments_lexer": "ipython3",
   "version": "3.13.1"
  },
  "toc": {
   "base_numbering": 1,
   "nav_menu": {},
   "number_sections": true,
   "sideBar": true,
   "skip_h1_title": true,
   "title_cell": "Table of Contents",
   "title_sidebar": "Contents",
   "toc_cell": false,
   "toc_position": {
    "height": "calc(100% - 180px)",
    "left": "10px",
    "top": "150px",
    "width": "456.188px"
   },
   "toc_section_display": true,
   "toc_window_display": false
  }
 },
 "nbformat": 4,
 "nbformat_minor": 4
}
