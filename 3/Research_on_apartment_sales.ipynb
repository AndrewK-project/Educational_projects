{
 "cells": [
  {
   "cell_type": "markdown",
   "metadata": {},
   "source": [
    "# Исследование объявлений о продаже квартир\n",
    "\n",
    "В вашем распоряжении данные сервиса Яндекс.Недвижимость — архив объявлений о продаже квартир в Санкт-Петербурге и соседних населённых пунктов за несколько лет. Нужно научиться определять рыночную стоимость объектов недвижимости. Ваша задача — установить параметры. Это позволит построить автоматизированную систему: она отследит аномалии и мошенническую деятельность. \n",
    "\n",
    "По каждой квартире на продажу доступны два вида данных. Первые вписаны пользователем, вторые — получены автоматически на основе картографических данных. Например, расстояние до центра, аэропорта, ближайшего парка и водоёма. "
   ]
  },
  {
   "cell_type": "markdown",
   "metadata": {},
   "source": [
    "### Откроем файл с данными и изучим общую информацию. "
   ]
  },
  {
   "cell_type": "code",
   "execution_count": 1,
   "metadata": {},
   "outputs": [],
   "source": [
    "# Импортируем необходимые для работы с проектом библиотеку Pandas и модуль Pyplot библиотеки Matplotlib \n",
    "import pandas as pd\n",
    "import matplotlib.pyplot as plt"
   ]
  },
  {
   "cell_type": "markdown",
   "metadata": {},
   "source": [
    "#### Загрузим данные из файла в датафрейм."
   ]
  },
  {
   "cell_type": "code",
   "execution_count": 2,
   "metadata": {},
   "outputs": [
    {
     "data": {
      "text/html": [
       "<div>\n",
       "<style scoped>\n",
       "    .dataframe tbody tr th:only-of-type {\n",
       "        vertical-align: middle;\n",
       "    }\n",
       "\n",
       "    .dataframe tbody tr th {\n",
       "        vertical-align: top;\n",
       "    }\n",
       "\n",
       "    .dataframe thead th {\n",
       "        text-align: right;\n",
       "    }\n",
       "</style>\n",
       "<table border=\"1\" class=\"dataframe\">\n",
       "  <thead>\n",
       "    <tr style=\"text-align: right;\">\n",
       "      <th></th>\n",
       "      <th>total_images</th>\n",
       "      <th>last_price</th>\n",
       "      <th>total_area</th>\n",
       "      <th>first_day_exposition</th>\n",
       "      <th>rooms</th>\n",
       "      <th>ceiling_height</th>\n",
       "      <th>floors_total</th>\n",
       "      <th>living_area</th>\n",
       "      <th>floor</th>\n",
       "      <th>is_apartment</th>\n",
       "      <th>studio</th>\n",
       "      <th>open_plan</th>\n",
       "      <th>kitchen_area</th>\n",
       "      <th>balcony</th>\n",
       "      <th>locality_name</th>\n",
       "      <th>airports_nearest</th>\n",
       "      <th>cityCenters_nearest</th>\n",
       "      <th>parks_around3000</th>\n",
       "      <th>parks_nearest</th>\n",
       "      <th>ponds_around3000</th>\n",
       "      <th>ponds_nearest</th>\n",
       "      <th>days_exposition</th>\n",
       "    </tr>\n",
       "  </thead>\n",
       "  <tbody>\n",
       "    <tr>\n",
       "      <th>0</th>\n",
       "      <td>20</td>\n",
       "      <td>13000000.0</td>\n",
       "      <td>108.0</td>\n",
       "      <td>2019-03-07T00:00:00</td>\n",
       "      <td>3</td>\n",
       "      <td>2.70</td>\n",
       "      <td>16.0</td>\n",
       "      <td>51.0</td>\n",
       "      <td>8</td>\n",
       "      <td>NaN</td>\n",
       "      <td>False</td>\n",
       "      <td>False</td>\n",
       "      <td>25.0</td>\n",
       "      <td>NaN</td>\n",
       "      <td>Санкт-Петербург</td>\n",
       "      <td>18863.0</td>\n",
       "      <td>16028.0</td>\n",
       "      <td>1.0</td>\n",
       "      <td>482.0</td>\n",
       "      <td>2.0</td>\n",
       "      <td>755.0</td>\n",
       "      <td>NaN</td>\n",
       "    </tr>\n",
       "    <tr>\n",
       "      <th>1</th>\n",
       "      <td>7</td>\n",
       "      <td>3350000.0</td>\n",
       "      <td>40.4</td>\n",
       "      <td>2018-12-04T00:00:00</td>\n",
       "      <td>1</td>\n",
       "      <td>NaN</td>\n",
       "      <td>11.0</td>\n",
       "      <td>18.6</td>\n",
       "      <td>1</td>\n",
       "      <td>NaN</td>\n",
       "      <td>False</td>\n",
       "      <td>False</td>\n",
       "      <td>11.0</td>\n",
       "      <td>2.0</td>\n",
       "      <td>посёлок Шушары</td>\n",
       "      <td>12817.0</td>\n",
       "      <td>18603.0</td>\n",
       "      <td>0.0</td>\n",
       "      <td>NaN</td>\n",
       "      <td>0.0</td>\n",
       "      <td>NaN</td>\n",
       "      <td>81.0</td>\n",
       "    </tr>\n",
       "    <tr>\n",
       "      <th>2</th>\n",
       "      <td>10</td>\n",
       "      <td>5196000.0</td>\n",
       "      <td>56.0</td>\n",
       "      <td>2015-08-20T00:00:00</td>\n",
       "      <td>2</td>\n",
       "      <td>NaN</td>\n",
       "      <td>5.0</td>\n",
       "      <td>34.3</td>\n",
       "      <td>4</td>\n",
       "      <td>NaN</td>\n",
       "      <td>False</td>\n",
       "      <td>False</td>\n",
       "      <td>8.3</td>\n",
       "      <td>0.0</td>\n",
       "      <td>Санкт-Петербург</td>\n",
       "      <td>21741.0</td>\n",
       "      <td>13933.0</td>\n",
       "      <td>1.0</td>\n",
       "      <td>90.0</td>\n",
       "      <td>2.0</td>\n",
       "      <td>574.0</td>\n",
       "      <td>558.0</td>\n",
       "    </tr>\n",
       "    <tr>\n",
       "      <th>3</th>\n",
       "      <td>0</td>\n",
       "      <td>64900000.0</td>\n",
       "      <td>159.0</td>\n",
       "      <td>2015-07-24T00:00:00</td>\n",
       "      <td>3</td>\n",
       "      <td>NaN</td>\n",
       "      <td>14.0</td>\n",
       "      <td>NaN</td>\n",
       "      <td>9</td>\n",
       "      <td>NaN</td>\n",
       "      <td>False</td>\n",
       "      <td>False</td>\n",
       "      <td>NaN</td>\n",
       "      <td>0.0</td>\n",
       "      <td>Санкт-Петербург</td>\n",
       "      <td>28098.0</td>\n",
       "      <td>6800.0</td>\n",
       "      <td>2.0</td>\n",
       "      <td>84.0</td>\n",
       "      <td>3.0</td>\n",
       "      <td>234.0</td>\n",
       "      <td>424.0</td>\n",
       "    </tr>\n",
       "    <tr>\n",
       "      <th>4</th>\n",
       "      <td>2</td>\n",
       "      <td>10000000.0</td>\n",
       "      <td>100.0</td>\n",
       "      <td>2018-06-19T00:00:00</td>\n",
       "      <td>2</td>\n",
       "      <td>3.03</td>\n",
       "      <td>14.0</td>\n",
       "      <td>32.0</td>\n",
       "      <td>13</td>\n",
       "      <td>NaN</td>\n",
       "      <td>False</td>\n",
       "      <td>False</td>\n",
       "      <td>41.0</td>\n",
       "      <td>NaN</td>\n",
       "      <td>Санкт-Петербург</td>\n",
       "      <td>31856.0</td>\n",
       "      <td>8098.0</td>\n",
       "      <td>2.0</td>\n",
       "      <td>112.0</td>\n",
       "      <td>1.0</td>\n",
       "      <td>48.0</td>\n",
       "      <td>121.0</td>\n",
       "    </tr>\n",
       "  </tbody>\n",
       "</table>\n",
       "</div>"
      ],
      "text/plain": [
       "   total_images  last_price  total_area first_day_exposition  rooms  \\\n",
       "0            20  13000000.0       108.0  2019-03-07T00:00:00      3   \n",
       "1             7   3350000.0        40.4  2018-12-04T00:00:00      1   \n",
       "2            10   5196000.0        56.0  2015-08-20T00:00:00      2   \n",
       "3             0  64900000.0       159.0  2015-07-24T00:00:00      3   \n",
       "4             2  10000000.0       100.0  2018-06-19T00:00:00      2   \n",
       "\n",
       "   ceiling_height  floors_total  living_area  floor is_apartment  studio  \\\n",
       "0            2.70          16.0         51.0      8          NaN   False   \n",
       "1             NaN          11.0         18.6      1          NaN   False   \n",
       "2             NaN           5.0         34.3      4          NaN   False   \n",
       "3             NaN          14.0          NaN      9          NaN   False   \n",
       "4            3.03          14.0         32.0     13          NaN   False   \n",
       "\n",
       "   open_plan  kitchen_area  balcony    locality_name  airports_nearest  \\\n",
       "0      False          25.0      NaN  Санкт-Петербург           18863.0   \n",
       "1      False          11.0      2.0   посёлок Шушары           12817.0   \n",
       "2      False           8.3      0.0  Санкт-Петербург           21741.0   \n",
       "3      False           NaN      0.0  Санкт-Петербург           28098.0   \n",
       "4      False          41.0      NaN  Санкт-Петербург           31856.0   \n",
       "\n",
       "   cityCenters_nearest  parks_around3000  parks_nearest  ponds_around3000  \\\n",
       "0              16028.0               1.0          482.0               2.0   \n",
       "1              18603.0               0.0            NaN               0.0   \n",
       "2              13933.0               1.0           90.0               2.0   \n",
       "3               6800.0               2.0           84.0               3.0   \n",
       "4               8098.0               2.0          112.0               1.0   \n",
       "\n",
       "   ponds_nearest  days_exposition  \n",
       "0          755.0              NaN  \n",
       "1            NaN             81.0  \n",
       "2          574.0            558.0  \n",
       "3          234.0            424.0  \n",
       "4           48.0            121.0  "
      ]
     },
     "execution_count": 2,
     "metadata": {},
     "output_type": "execute_result"
    }
   ],
   "source": [
    "# Создадим датафрейм\n",
    "df = pd.read_csv('/datasets/real_estate_data.csv', sep='\\t')\n",
    "pd.set_option('display.max_columns', None)\n",
    "# Ознакомимся с первыми 5 строками\n",
    "df.head(5)"
   ]
  },
  {
   "cell_type": "markdown",
   "metadata": {},
   "source": [
    "#### Изучим информацию о полученном датафрейме."
   ]
  },
  {
   "cell_type": "code",
   "execution_count": 3,
   "metadata": {},
   "outputs": [
    {
     "name": "stdout",
     "output_type": "stream",
     "text": [
      "<class 'pandas.core.frame.DataFrame'>\n",
      "RangeIndex: 23699 entries, 0 to 23698\n",
      "Data columns (total 22 columns):\n",
      " #   Column                Non-Null Count  Dtype  \n",
      "---  ------                --------------  -----  \n",
      " 0   total_images          23699 non-null  int64  \n",
      " 1   last_price            23699 non-null  float64\n",
      " 2   total_area            23699 non-null  float64\n",
      " 3   first_day_exposition  23699 non-null  object \n",
      " 4   rooms                 23699 non-null  int64  \n",
      " 5   ceiling_height        14504 non-null  float64\n",
      " 6   floors_total          23613 non-null  float64\n",
      " 7   living_area           21796 non-null  float64\n",
      " 8   floor                 23699 non-null  int64  \n",
      " 9   is_apartment          2775 non-null   object \n",
      " 10  studio                23699 non-null  bool   \n",
      " 11  open_plan             23699 non-null  bool   \n",
      " 12  kitchen_area          21421 non-null  float64\n",
      " 13  balcony               12180 non-null  float64\n",
      " 14  locality_name         23650 non-null  object \n",
      " 15  airports_nearest      18157 non-null  float64\n",
      " 16  cityCenters_nearest   18180 non-null  float64\n",
      " 17  parks_around3000      18181 non-null  float64\n",
      " 18  parks_nearest         8079 non-null   float64\n",
      " 19  ponds_around3000      18181 non-null  float64\n",
      " 20  ponds_nearest         9110 non-null   float64\n",
      " 21  days_exposition       20518 non-null  float64\n",
      "dtypes: bool(2), float64(14), int64(3), object(3)\n",
      "memory usage: 3.7+ MB\n"
     ]
    }
   ],
   "source": [
    "# общая информация\n",
    "df.info()"
   ]
  },
  {
   "cell_type": "code",
   "execution_count": 4,
   "metadata": {},
   "outputs": [
    {
     "data": {
      "text/plain": [
       "0"
      ]
     },
     "execution_count": 4,
     "metadata": {},
     "output_type": "execute_result"
    }
   ],
   "source": [
    "# количество дубликатов\n",
    "df.duplicated().sum()"
   ]
  },
  {
   "cell_type": "markdown",
   "metadata": {},
   "source": [
    "#### Построим общую гистограмму для всех числовых столбцов таблицы."
   ]
  },
  {
   "cell_type": "code",
   "execution_count": 5,
   "metadata": {},
   "outputs": [
    {
     "data": {
      "image/png": "[encoded data removed]",
      "text/plain": [
       "<Figure size 1080x1440 with 20 Axes>"
      ]
     },
     "metadata": {
      "needs_background": "light"
     },
     "output_type": "display_data"
    }
   ],
   "source": [
    "# Построим гистограмму\n",
    "df.hist(figsize=(15, 20));"
   ]
  },
  {
   "cell_type": "markdown",
   "metadata": {},
   "source": [
    "***\n",
    "\n",
    "**Вывод**:\n",
    "\n",
    "***В ходе изучения полученных данных выявлено, что в данных присутствует 23699 строк подразделенных на 21 столбец. В столбцах имеются пропущенные значения и указан неккоректный тип данных, при этом явные дубликаты отсутствуют. Анализ гистограмм показывает, что в данных имееются аномальные значения. Данные требуют обработки.***"
   ]
  },
  {
   "cell_type": "markdown",
   "metadata": {},
   "source": []
  },
  {
   "cell_type": "markdown",
   "metadata": {},
   "source": [
    "### Предобработка данных"
   ]
  },
  {
   "cell_type": "markdown",
   "metadata": {},
   "source": [
    "#### Найдем и изучим пропущенные значения в столбцах. Заполним их там, где это возможно."
   ]
  },
  {
   "cell_type": "code",
   "execution_count": 6,
   "metadata": {},
   "outputs": [
    {
     "data": {
      "text/plain": [
       "total_images                0\n",
       "last_price                  0\n",
       "total_area                  0\n",
       "first_day_exposition        0\n",
       "rooms                       0\n",
       "ceiling_height           9195\n",
       "floors_total               86\n",
       "living_area              1903\n",
       "floor                       0\n",
       "is_apartment            20924\n",
       "studio                      0\n",
       "open_plan                   0\n",
       "kitchen_area             2278\n",
       "balcony                 11519\n",
       "locality_name              49\n",
       "airports_nearest         5542\n",
       "cityCenters_nearest      5519\n",
       "parks_around3000         5518\n",
       "parks_nearest           15620\n",
       "ponds_around3000         5518\n",
       "ponds_nearest           14589\n",
       "days_exposition          3181\n",
       "dtype: int64"
      ]
     },
     "execution_count": 6,
     "metadata": {},
     "output_type": "execute_result"
    }
   ],
   "source": [
    "# Определим в каких столбцах есть пропуски\n",
    "df.isna().sum()"
   ]
  },
  {
   "cell_type": "markdown",
   "metadata": {},
   "source": [
    "**- Столбец** `'ceiling_height'` **- содержащий информацию о высоте потолков имеет множество отсутствующих значений. Для полноты данных лучше заменить их на медианные.** "
   ]
  },
  {
   "cell_type": "code",
   "execution_count": 7,
   "metadata": {},
   "outputs": [
    {
     "data": {
      "text/plain": [
       "22869    100.0\n",
       "3148      32.0\n",
       "22336     32.0\n",
       "21377     27.5\n",
       "4876      27.0\n",
       "Name: ceiling_height, dtype: float64"
      ]
     },
     "execution_count": 7,
     "metadata": {},
     "output_type": "execute_result"
    }
   ],
   "source": [
    "# Заменяем медианным значением отсутствующие данные\n",
    "df['ceiling_height'] = df['ceiling_height'].fillna(df['ceiling_height'].median())\n",
    "df['ceiling_height'].sort_values(ascending=False).head()"
   ]
  },
  {
   "cell_type": "markdown",
   "metadata": {},
   "source": [
    "**- Пропуски в столбце** `'floors_total'` **— с данными сколько всего этажей в доме, также заменим на медианные значения.** "
   ]
  },
  {
   "cell_type": "code",
   "execution_count": 8,
   "metadata": {},
   "outputs": [
    {
     "data": {
      "text/plain": [
       "array([16, 11,  5, 14, 12, 26, 24, 27,  9,  6, 17, 25,  3, 23, 19, 18,  4,\n",
       "       22,  8,  2, 10,  7, 13, 15, 20, 28, 36, 21, 35, 34, 60,  1, 29, 33,\n",
       "       52, 37])"
      ]
     },
     "execution_count": 8,
     "metadata": {},
     "output_type": "execute_result"
    }
   ],
   "source": [
    "# Определим функцию\n",
    "def floors_total(row):\n",
    "    if row['floors_total'] >= 0:\n",
    "        return 0\n",
    "    else:\n",
    "        return df[df['floor'] == row['floor']]['floors_total'].median()\n",
    "        \n",
    "df['f'] = df.apply(floors_total, axis=1) \n",
    "df['floors_total'] = df['floors_total'].fillna(0)\n",
    "df['floors_total'] = (df['f'] + df['floors_total']).astype('int')\n",
    "df.drop('f', axis= 1 , inplace= True )\n",
    "df['floors_total'].unique()"
   ]
  },
  {
   "cell_type": "markdown",
   "metadata": {},
   "source": [
    "**- Пропуски в столбце** `'is_apartment'` **- апартаменты заполним знечением `False`, так как среднее значение указывает, что аппартаментов всего около 2 %, что явялется допустимым значением и возможно, данные не были указаны при заполнении анкет.**"
   ]
  },
  {
   "cell_type": "code",
   "execution_count": 9,
   "metadata": {},
   "outputs": [
    {
     "data": {
      "text/plain": [
       "0.018018018018018018"
      ]
     },
     "execution_count": 9,
     "metadata": {},
     "output_type": "execute_result"
    }
   ],
   "source": [
    "#Вычислим среднее\n",
    "df['is_apartment'].mean()"
   ]
  },
  {
   "cell_type": "code",
   "execution_count": 10,
   "metadata": {},
   "outputs": [
    {
     "data": {
      "text/plain": [
       "0    False\n",
       "1    False\n",
       "2    False\n",
       "3    False\n",
       "4    False\n",
       "Name: is_apartment, dtype: bool"
      ]
     },
     "execution_count": 10,
     "metadata": {},
     "output_type": "execute_result"
    }
   ],
   "source": [
    "#Заполним пропущенные значения\n",
    "df['is_apartment'] = df['is_apartment'].fillna(False)\n",
    "df['is_apartment'].head()"
   ]
  },
  {
   "cell_type": "markdown",
   "metadata": {},
   "source": [
    "**- Пропуски в столбце** `'kitchen_area'` **- хранящим сведения о площади кухни, заменим значением `0`, так как явной зависимости с другими данными датафрейма не выявлено и возможно пользователи не указали площадь кухни в связи с ее отсутствием.**"
   ]
  },
  {
   "cell_type": "code",
   "execution_count": 11,
   "metadata": {},
   "outputs": [
    {
     "name": "stdout",
     "output_type": "stream",
     "text": [
      "kitchen_area    1.000000\n",
      "total_area      0.609121\n",
      "last_price      0.519869\n",
      "living_area     0.428674\n",
      "rooms           0.269945\n",
      "Name: kitchen_area, dtype: float64\n"
     ]
    }
   ],
   "source": [
    "#Определяем зависимость с помощью корреляции Пирсона\n",
    "print(df.corr().sort_values(by='kitchen_area', ascending=False)['kitchen_area'].head())"
   ]
  },
  {
   "cell_type": "code",
   "execution_count": 12,
   "metadata": {},
   "outputs": [
    {
     "data": {
      "text/plain": [
       "0"
      ]
     },
     "execution_count": 12,
     "metadata": {},
     "output_type": "execute_result"
    }
   ],
   "source": [
    "#Заменим пропущенные значения на 0\n",
    "df['kitchen_area'] = df['kitchen_area'].fillna(0)\n",
    "df['kitchen_area'].isna().sum()"
   ]
  },
  {
   "cell_type": "markdown",
   "metadata": {},
   "source": [
    "**- Пропуски в столбце** `'balcony'` **- хранящим сведения о числе балконов, также заменим значением `0`, так как по аналогии с предыдущим столбцом явной зависимости с другими данными датафрейма не выявлено и возможно пользователи просто не указали число балконов в связи с их отсутствием.**"
   ]
  },
  {
   "cell_type": "code",
   "execution_count": 13,
   "metadata": {},
   "outputs": [
    {
     "name": "stdout",
     "output_type": "stream",
     "text": [
      "balcony         1.000000\n",
      "floors_total    0.192026\n",
      "floor           0.168773\n",
      "total_images    0.121693\n",
      "kitchen_area    0.114845\n",
      "Name: balcony, dtype: float64\n"
     ]
    }
   ],
   "source": [
    "#Определяем зависимость с помощью корреляции Пирсона\n",
    "print(df.corr().sort_values(by='balcony', ascending=False)['balcony'].head())"
   ]
  },
  {
   "cell_type": "code",
   "execution_count": 14,
   "metadata": {},
   "outputs": [
    {
     "data": {
      "text/plain": [
       "0"
      ]
     },
     "execution_count": 14,
     "metadata": {},
     "output_type": "execute_result"
    }
   ],
   "source": [
    "#Заменим пропущенные значения на 0\n",
    "df['balcony'] = df['balcony'].fillna(0)\n",
    "df['kitchen_area'].isna().sum()"
   ]
  },
  {
   "cell_type": "markdown",
   "metadata": {},
   "source": [
    "**- Cтолбец** `'parks_around3000'` **— хранит число парков в радиусе 3 км. Пропущенные значения возможно сигнализируют об отсутствии таковых в районе нахождения объекта. Заменим пропущенные данные на `0`**"
   ]
  },
  {
   "cell_type": "code",
   "execution_count": 15,
   "metadata": {},
   "outputs": [
    {
     "data": {
      "text/plain": [
       "0"
      ]
     },
     "execution_count": 15,
     "metadata": {},
     "output_type": "execute_result"
    }
   ],
   "source": [
    "df['parks_around3000'] = df['parks_around3000'].fillna(0)\n",
    "df['parks_around3000'].isna().sum()"
   ]
  },
  {
   "cell_type": "markdown",
   "metadata": {},
   "source": [
    "**- Cтолбец** `'ponds_around3000'` **— хранит число водоемов в радиусе 3 км. Пропущенные значения возможно сигнализируют об отсутствии таковых в районе нахождения объекта. Заменим пропущенные данные на `0`**"
   ]
  },
  {
   "cell_type": "code",
   "execution_count": 16,
   "metadata": {},
   "outputs": [
    {
     "data": {
      "text/plain": [
       "0"
      ]
     },
     "execution_count": 16,
     "metadata": {},
     "output_type": "execute_result"
    }
   ],
   "source": [
    "df['ponds_around3000'] = df['ponds_around3000'].fillna(0)\n",
    "df['ponds_around3000'].isna().sum()"
   ]
  },
  {
   "cell_type": "markdown",
   "metadata": {},
   "source": [
    "#### Рассмотрим типы данных в каждом столбце. Преобразуем их при необходимости."
   ]
  },
  {
   "cell_type": "code",
   "execution_count": 17,
   "metadata": {},
   "outputs": [
    {
     "data": {
      "text/plain": [
       "total_images              int64\n",
       "last_price              float64\n",
       "total_area              float64\n",
       "first_day_exposition     object\n",
       "rooms                     int64\n",
       "ceiling_height          float64\n",
       "floors_total              int64\n",
       "living_area             float64\n",
       "floor                     int64\n",
       "is_apartment               bool\n",
       "studio                     bool\n",
       "open_plan                  bool\n",
       "kitchen_area            float64\n",
       "balcony                 float64\n",
       "locality_name            object\n",
       "airports_nearest        float64\n",
       "cityCenters_nearest     float64\n",
       "parks_around3000        float64\n",
       "parks_nearest           float64\n",
       "ponds_around3000        float64\n",
       "ponds_nearest           float64\n",
       "days_exposition         float64\n",
       "dtype: object"
      ]
     },
     "execution_count": 17,
     "metadata": {},
     "output_type": "execute_result"
    }
   ],
   "source": [
    "#Изучим используемые в датафрейме типы данных\n",
    "df.dtypes"
   ]
  },
  {
   "cell_type": "markdown",
   "metadata": {},
   "source": [
    "**- Столбец** `'last_price'` **—  хранящий данные о цене на момент снятия с публикации, имеет тип вещественного числа, при этом все строки стоблбца целочисленны, имеет смысл преобразования в тип данных 'int'.**"
   ]
  },
  {
   "cell_type": "code",
   "execution_count": 18,
   "metadata": {},
   "outputs": [
    {
     "data": {
      "text/plain": [
       "0    13000000\n",
       "1     3350000\n",
       "2     5196000\n",
       "3    64900000\n",
       "4    10000000\n",
       "Name: last_price, dtype: int64"
      ]
     },
     "execution_count": 18,
     "metadata": {},
     "output_type": "execute_result"
    }
   ],
   "source": [
    "#Преобразуем в целочисленный тип данных\n",
    "df['last_price'] = df['last_price'].astype('int')\n",
    "df['last_price'].head()"
   ]
  },
  {
   "cell_type": "markdown",
   "metadata": {},
   "source": [
    "**- Столбец** `'first_day_exposition'` **— хранящий дату публикации объявлений имеет неверный тип данных, приведем его в соответствие.**"
   ]
  },
  {
   "cell_type": "code",
   "execution_count": 19,
   "metadata": {},
   "outputs": [
    {
     "data": {
      "text/plain": [
       "array(['2019-03-07T00:00:00', '2018-12-04T00:00:00',\n",
       "       '2015-08-20T00:00:00', ..., '2014-12-29T00:00:00',\n",
       "       '2016-09-12T00:00:00', '2015-07-19T00:00:00'], dtype=object)"
      ]
     },
     "execution_count": 19,
     "metadata": {},
     "output_type": "execute_result"
    }
   ],
   "source": [
    "#Выявление уникальных значений\n",
    "df['first_day_exposition'].unique()"
   ]
  },
  {
   "cell_type": "code",
   "execution_count": 20,
   "metadata": {},
   "outputs": [
    {
     "data": {
      "text/plain": [
       "array(['2019-03-07T00:00:00.000000000', '2018-12-04T00:00:00.000000000',\n",
       "       '2015-08-20T00:00:00.000000000', ...,\n",
       "       '2014-12-29T00:00:00.000000000', '2016-09-12T00:00:00.000000000',\n",
       "       '2015-07-19T00:00:00.000000000'], dtype='datetime64[ns]')"
      ]
     },
     "execution_count": 20,
     "metadata": {},
     "output_type": "execute_result"
    }
   ],
   "source": [
    "#Приведем к типу данных 'datetime'\n",
    "df['first_day_exposition'] = pd.to_datetime(df['first_day_exposition'], format='%Y-%m-%dT%H:%M:%S')\n",
    "df['first_day_exposition'].unique()"
   ]
  },
  {
   "cell_type": "markdown",
   "metadata": {},
   "source": [
    "**- Тип данных используемых в столбце** `'floors_total'` **- хранящим сведения о том сколько всего этажей в доме, имеет смысл преобразовать в целочисленный в связи с отсутствием в столбце вещественных значений.**"
   ]
  },
  {
   "cell_type": "code",
   "execution_count": 21,
   "metadata": {
    "scrolled": true
   },
   "outputs": [
    {
     "data": {
      "text/plain": [
       "dtype('int64')"
      ]
     },
     "execution_count": 21,
     "metadata": {},
     "output_type": "execute_result"
    }
   ],
   "source": [
    "#Приведем к типу данных 'int'\n",
    "df['floors_total'] = df['floors_total'].astype(int)\n",
    "df['floors_total'].dtypes"
   ]
  },
  {
   "cell_type": "markdown",
   "metadata": {},
   "source": [
    "**- Тип данных используемых в столбце** `'balcony'` **- хранящим сведения о числе балконов, имеет смысл преобразовать в целочисленный в связи с отсутствием в столбце вещественных значений.**"
   ]
  },
  {
   "cell_type": "code",
   "execution_count": 22,
   "metadata": {
    "scrolled": true
   },
   "outputs": [
    {
     "data": {
      "text/plain": [
       "dtype('int64')"
      ]
     },
     "execution_count": 22,
     "metadata": {},
     "output_type": "execute_result"
    }
   ],
   "source": [
    "#Приведем к типу данных 'int'\n",
    "df['balcony'] = df['balcony'].astype(int)\n",
    "df['balcony'].dtypes"
   ]
  },
  {
   "cell_type": "markdown",
   "metadata": {},
   "source": [
    "**- Cтолбец** `'parks_around3000'` **— хранящий сведения о числе парков в радиусе 3 км целесообразно привести к целочисленному типу для упрощения анализа.**"
   ]
  },
  {
   "cell_type": "code",
   "execution_count": 23,
   "metadata": {},
   "outputs": [
    {
     "data": {
      "text/plain": [
       "dtype('int64')"
      ]
     },
     "execution_count": 23,
     "metadata": {},
     "output_type": "execute_result"
    }
   ],
   "source": [
    "#Приведем к типу данных 'int'\n",
    "df['parks_around3000'] = df['parks_around3000'].astype(int)\n",
    "df['parks_around3000'].dtypes"
   ]
  },
  {
   "cell_type": "markdown",
   "metadata": {},
   "source": [
    "**- Тип данных используемых в столбце** `'ponds_around3000'` **- хранящим сведения о  числе водоёмов в радиусе 3 км, имеет смысл преобразовать в целочисленный в связи с отсутствием в столбце вещественных значений.**"
   ]
  },
  {
   "cell_type": "code",
   "execution_count": 24,
   "metadata": {},
   "outputs": [
    {
     "data": {
      "text/plain": [
       "dtype('int64')"
      ]
     },
     "execution_count": 24,
     "metadata": {},
     "output_type": "execute_result"
    }
   ],
   "source": [
    "#Приведем к типу данных 'int'\n",
    "df['ponds_around3000'] = df['ponds_around3000'].astype(int)\n",
    "df['ponds_around3000'].dtypes"
   ]
  },
  {
   "cell_type": "markdown",
   "metadata": {},
   "source": [
    "#### Изучим уникальные значения в столбце с названиями и устраним неявные дубликаты."
   ]
  },
  {
   "cell_type": "markdown",
   "metadata": {},
   "source": [
    "**- Cтолбец** ```'locality_name'``` **— хранит название населённого пункта и имеет множество неявных дубликатов и пропусков. Перед их устранением приведем значения столбца к одному виду, применим нижний регистр. Устраним дубликаты связанные с буквой 'ё' и удалим типы оставив только названия. Пропуски заменим на значение** `'unknown'`."
   ]
  },
  {
   "cell_type": "code",
   "execution_count": 25,
   "metadata": {},
   "outputs": [
    {
     "data": {
      "text/plain": [
       "{'69-й километр',\n",
       " nan,\n",
       " 'агалатово',\n",
       " 'александровская',\n",
       " 'алексеевка',\n",
       " 'аннино',\n",
       " 'аро',\n",
       " 'барышево',\n",
       " 'батово',\n",
       " 'бегуницы',\n",
       " 'белогорка',\n",
       " 'белоостров',\n",
       " 'бокситогорск',\n",
       " 'большая вруда',\n",
       " 'большая ижора',\n",
       " 'большая пустомержа',\n",
       " 'большие колпаны',\n",
       " 'большое рейзино',\n",
       " 'большой сабск',\n",
       " 'бор',\n",
       " 'борисова грива',\n",
       " 'бугры',\n",
       " 'ваганово',\n",
       " 'важины',\n",
       " 'вартемяги',\n",
       " 'вахнова кара',\n",
       " 'вещево',\n",
       " 'вознесенье',\n",
       " 'возрождение',\n",
       " 'войсковицы',\n",
       " 'войскорово',\n",
       " 'володарское',\n",
       " 'волосово',\n",
       " 'волхов',\n",
       " 'всеволожск',\n",
       " 'выборг',\n",
       " 'вырица',\n",
       " 'выскатка',\n",
       " 'высокоключевой',\n",
       " 'высоцк',\n",
       " 'гаврилово',\n",
       " 'гарболово',\n",
       " 'гатчина',\n",
       " 'гладкое',\n",
       " 'глажево',\n",
       " 'глебычево',\n",
       " 'глинка',\n",
       " 'гончарово',\n",
       " 'горбунки',\n",
       " 'городской большая ижора',\n",
       " 'городской будогощь',\n",
       " 'городской виллози',\n",
       " 'городской лесогорский',\n",
       " 'городской мга',\n",
       " 'городской назия',\n",
       " 'городской новоселье',\n",
       " 'городской павлово',\n",
       " 'городской рощино',\n",
       " 'городской свирьстрой',\n",
       " 'городской советский',\n",
       " 'городской федоровское',\n",
       " 'городской янино-1',\n",
       " 'гостилицы',\n",
       " 'громово',\n",
       " 'дзержинского',\n",
       " 'дружная горка',\n",
       " 'дружноселье',\n",
       " 'дубровка',\n",
       " 'елизаветино',\n",
       " 'ефимовский',\n",
       " 'жилгородок',\n",
       " 'жилпоселок',\n",
       " 'житково',\n",
       " 'заводской',\n",
       " 'заклинье',\n",
       " 'заневка',\n",
       " 'запорожское',\n",
       " 'зеленогорск',\n",
       " 'зеленый бор',\n",
       " 'зимитицы',\n",
       " 'ивангород',\n",
       " 'извара',\n",
       " 'ильичево',\n",
       " 'имени морозова',\n",
       " 'имени свердлова',\n",
       " 'иссад',\n",
       " 'калитино',\n",
       " 'каложицы',\n",
       " 'кальтино',\n",
       " 'каменногорск',\n",
       " 'камышовка',\n",
       " 'каськово',\n",
       " 'келози',\n",
       " 'кикерино',\n",
       " 'кингисепп',\n",
       " 'кингисеппский',\n",
       " 'кипень',\n",
       " 'кириши',\n",
       " 'кировск',\n",
       " 'кирпичное',\n",
       " 'кисельня',\n",
       " 'кобралово',\n",
       " 'кобринское',\n",
       " 'колпино',\n",
       " 'колтуши',\n",
       " 'коммунар',\n",
       " 'коммунары',\n",
       " 'кондратьево',\n",
       " 'копорье',\n",
       " 'коркино',\n",
       " 'корнево',\n",
       " 'коробицыно',\n",
       " 'котельский',\n",
       " 'котлы',\n",
       " 'коттеджный кивеннапа север',\n",
       " 'коттеджный лесное',\n",
       " 'коттеджный счастье',\n",
       " 'красная долина',\n",
       " 'красное село',\n",
       " 'красносельское',\n",
       " 'красный бор',\n",
       " 'кривко',\n",
       " 'кронштадт',\n",
       " 'кудрово',\n",
       " 'кузнечное',\n",
       " 'кузьмолово',\n",
       " 'кузьмоловский',\n",
       " 'курковицы',\n",
       " 'куровицы',\n",
       " 'куттузи',\n",
       " 'лаврики',\n",
       " 'лаголово',\n",
       " 'лампово',\n",
       " 'лебяжье',\n",
       " 'левашово',\n",
       " 'ленинское',\n",
       " 'лесколово',\n",
       " 'лесная поляна',\n",
       " 'лесное',\n",
       " 'лесогорский',\n",
       " 'лисий нос',\n",
       " 'лодейное поле',\n",
       " 'ломоносов',\n",
       " 'лопухинка',\n",
       " 'луга',\n",
       " 'лужайка',\n",
       " 'лукаши',\n",
       " 'лупполово',\n",
       " 'любань',\n",
       " 'малая романовка',\n",
       " 'малое верево',\n",
       " 'малое карлино',\n",
       " 'малые колпаны',\n",
       " 'мануйлово',\n",
       " 'мга',\n",
       " 'мельниково',\n",
       " 'меньково',\n",
       " 'металлострой',\n",
       " 'мины',\n",
       " 'мистолово',\n",
       " 'мичуринское',\n",
       " 'молодежное',\n",
       " 'молодцово',\n",
       " 'мурино',\n",
       " 'мыза-ивановка',\n",
       " 'назия',\n",
       " 'ненимяки',\n",
       " 'нижние осельки',\n",
       " 'нижняя',\n",
       " 'низино',\n",
       " 'никольский',\n",
       " 'никольское',\n",
       " 'новая ладога',\n",
       " 'новая ропша',\n",
       " 'новогорелово',\n",
       " 'новое девяткино',\n",
       " 'новолисино',\n",
       " 'новый свет',\n",
       " 'новый учхоз',\n",
       " 'нурма',\n",
       " 'оредеж',\n",
       " 'оржицы',\n",
       " 'отрадное',\n",
       " 'павлово',\n",
       " 'павловск',\n",
       " 'парголово',\n",
       " 'парицы',\n",
       " 'паша',\n",
       " 'пельгора',\n",
       " 'пеники',\n",
       " 'первомайское',\n",
       " 'перово',\n",
       " 'песочный',\n",
       " 'петергоф',\n",
       " 'петро-славянка',\n",
       " 'петровское',\n",
       " 'пижма',\n",
       " 'пикалево',\n",
       " 'пикколово',\n",
       " 'плодовое',\n",
       " 'плоское',\n",
       " 'победа',\n",
       " 'подпорожье',\n",
       " 'поляны',\n",
       " 'понтонный',\n",
       " 'почап',\n",
       " 'починок',\n",
       " 'приветнинское',\n",
       " 'пригородный',\n",
       " 'приладожский',\n",
       " 'приморск',\n",
       " 'приозерск',\n",
       " 'пудомяги',\n",
       " 'пудость',\n",
       " 'пустынка',\n",
       " 'путилово',\n",
       " 'пушкин',\n",
       " 'пушное',\n",
       " 'пчева',\n",
       " 'пчевжа',\n",
       " 'рабитицы',\n",
       " 'разбегаево',\n",
       " 'раздолье',\n",
       " 'разметелево',\n",
       " 'рапполово',\n",
       " 'рахья',\n",
       " 'реброво',\n",
       " 'репино',\n",
       " 'рождествено',\n",
       " 'романовка',\n",
       " 'ромашки',\n",
       " 'ропша',\n",
       " 'рощино',\n",
       " 'русско',\n",
       " 'русско-высоцкое',\n",
       " 'рябово',\n",
       " 'садко',\n",
       " 'санкт-петербург',\n",
       " 'саперное',\n",
       " 'саперный',\n",
       " 'светогорск',\n",
       " 'свирь',\n",
       " 'севастьяново',\n",
       " 'селезнево',\n",
       " 'сельцо',\n",
       " 'семиозерье',\n",
       " 'семрино',\n",
       " 'серебрянский',\n",
       " 'сертолово',\n",
       " 'сестрорецк',\n",
       " 'сиверский',\n",
       " 'сижно',\n",
       " 'синявино',\n",
       " 'сланцы',\n",
       " 'снегиревка',\n",
       " 'советский',\n",
       " 'совхозный',\n",
       " 'сосново',\n",
       " 'сосновый бор',\n",
       " 'старая',\n",
       " 'старая ладога',\n",
       " 'старая малукса',\n",
       " 'старая пустошь',\n",
       " 'старое хинколово',\n",
       " 'старополье',\n",
       " 'старосиверская',\n",
       " 'старые бегуницы',\n",
       " 'стеклянный',\n",
       " 'стрельна',\n",
       " 'суйда',\n",
       " 'сумино',\n",
       " 'суоранда',\n",
       " 'суходолье',\n",
       " 'сяськелево',\n",
       " 'сясьстрой',\n",
       " 'тайцы',\n",
       " 'тарасово',\n",
       " 'тельмана',\n",
       " 'терволово',\n",
       " 'терпилицы',\n",
       " 'тесово-4',\n",
       " 'тихвин',\n",
       " 'тихковицы',\n",
       " 'тойворово',\n",
       " 'токсово',\n",
       " 'торковичи',\n",
       " 'торосово',\n",
       " 'торошковичи',\n",
       " 'торфяное',\n",
       " 'тосно',\n",
       " 'трубников бор',\n",
       " 'углово',\n",
       " 'ульяновка',\n",
       " 'усть-ижора',\n",
       " 'усть-луга',\n",
       " 'ушаки',\n",
       " 'фалилеево',\n",
       " 'федоровское',\n",
       " 'форносово',\n",
       " 'форт красная горка',\n",
       " 'хапо-ое',\n",
       " 'хязельки',\n",
       " 'цвелодубово',\n",
       " 'цвылево',\n",
       " 'чудской бор',\n",
       " 'шлиссельбург',\n",
       " 'шпаньково',\n",
       " 'шугозеро',\n",
       " 'шум',\n",
       " 'шушары',\n",
       " 'щеглово',\n",
       " 'юкки',\n",
       " 'ялгино',\n",
       " 'яльгелево',\n",
       " 'ям-тесово'}"
      ]
     },
     "execution_count": 25,
     "metadata": {},
     "output_type": "execute_result"
    }
   ],
   "source": [
    "# преобразуем в строчные буквы\n",
    "df['locality_name'] = df['locality_name'].str.lower()\n",
    "\n",
    "# Исключим типы и оставим только названия\n",
    "df['locality_name'] = (\n",
    "    df['locality_name']\n",
    "    .str.replace('ё','е')\n",
    "    .replace(['поселок ','при железнодорожной станции ', 'платформа ', 'садоводческое некоммерческое товарищество ',\n",
    "             'садовое товарищество ', 'станции ', 'село ', 'пансионат ', 'городского типа ',\n",
    "             'деревня ', 'городской поселок '], '', regex=True)\n",
    ")\n",
    "# Отобразим уникальные значения в алфавитном порядке\n",
    "set(df['locality_name'].unique())"
   ]
  },
  {
   "cell_type": "code",
   "execution_count": 26,
   "metadata": {},
   "outputs": [
    {
     "data": {
      "text/plain": [
       "0"
      ]
     },
     "execution_count": 26,
     "metadata": {},
     "output_type": "execute_result"
    }
   ],
   "source": [
    "#Заменим 49 пропущенных значений на значение 'unknown'\n",
    "df['locality_name'] = df['locality_name'].fillna('unknown')\n",
    "df['locality_name'].isna().sum()"
   ]
  },
  {
   "cell_type": "markdown",
   "metadata": {},
   "source": [
    "#### Поиск и устранение редких и выбивающихся значений."
   ]
  },
  {
   "cell_type": "markdown",
   "metadata": {},
   "source": [
    "**- Столбец** `'ceiling_height'` **- согласно описанию содержит информацию о высоте потолков в метрах, а по факту отображен в сантиметрах. Исправим этот недостаток переносом запятой.** "
   ]
  },
  {
   "cell_type": "code",
   "execution_count": 27,
   "metadata": {},
   "outputs": [
    {
     "data": {
      "text/plain": [
       "0    2.70\n",
       "1    2.65\n",
       "2    2.65\n",
       "3    2.65\n",
       "4    3.03\n",
       "Name: ceiling_height, dtype: float64"
      ]
     },
     "execution_count": 27,
     "metadata": {},
     "output_type": "execute_result"
    }
   ],
   "source": [
    "# Перенесем запятую\n",
    "df.loc[df['ceiling_height'] >= 20.0, 'ceiling_height'] = df['ceiling_height']/10\n",
    "df['ceiling_height'].head()"
   ]
  },
  {
   "cell_type": "markdown",
   "metadata": {},
   "source": [
    "#### Данные оставленные без изменений."
   ]
  },
  {
   "cell_type": "markdown",
   "metadata": {},
   "source": [
    "**- Пропуски в столбце** `'living_area'`  **- хранящие данные о жилой площади, оставим без изменений в связи с невозможностью ее вычисления, из-за отсутствия данных о нежилой площади (жилая площадь = общая площадь - нежилая площадь);**"
   ]
  },
  {
   "cell_type": "markdown",
   "metadata": {},
   "source": [
    "**- Незаполненные строки в столбце** `'airports_nearest'`  **- хранящем данные о расстояние до ближайшего аэропорта (м), предположительно указывают об отсутствии аэропорта либо о его большой удаленности. Оставим данные без изменений;**"
   ]
  },
  {
   "cell_type": "markdown",
   "metadata": {},
   "source": [
    "**- Отсутствующие значения в столбце** `'cityCenters_nearest'`  **- хранящем данные о расстоянии до центра города (м), стоит оставить без изменений, в связи с возможностью нахождения объекта вне населенного пункта. Имеет смысл привести название столбца к общему виду сменив регистр на нижний;**"
   ]
  },
  {
   "cell_type": "code",
   "execution_count": 28,
   "metadata": {},
   "outputs": [
    {
     "data": {
      "text/plain": [
       "Series([], Name: city_centers_nearest, dtype: float64)"
      ]
     },
     "execution_count": 28,
     "metadata": {},
     "output_type": "execute_result"
    }
   ],
   "source": [
    "#изменим название столбца\n",
    "df.rename(columns = {'cityCenters_nearest':'city_centers_nearest'}, inplace = True)\n",
    "df['city_centers_nearest'].head(0)"
   ]
  },
  {
   "cell_type": "markdown",
   "metadata": {},
   "source": [
    "**- Пропущенные данные в столбце** `'parks_nearest'`  **- хранящем информацию о расстоянии до ближайшего парка (м), возможно информируют о нахождении объекта продажи на большом удалении, логично не вносить изменения в данные пропуски.**"
   ]
  },
  {
   "cell_type": "markdown",
   "metadata": {},
   "source": [
    "**- Пропущенные данные в столбце** `'ponds_nearest'`  **- хранящем информацию о расстоянии до ближайшего водоёма (м), возможно информируют о нахождении объекта продажи на большом удалении, логично не вносить изменения в данные пропуски.**"
   ]
  },
  {
   "cell_type": "markdown",
   "metadata": {},
   "source": [
    "**- Безинформационные строки в столбце** `'days_exposition'`  **- содержащим сведения о количестве дней размещения объявлений (от публикации до снятия), указывают на отсутствие информации о продаже объекта, которая пока не требует исправлений.**"
   ]
  },
  {
   "cell_type": "markdown",
   "metadata": {},
   "source": [
    "___\n",
    "**Вывод:**\n",
    "\n",
    "***При предобработке данных, в датафрейме были выполнены следующие действия:***\n",
    "1. ***К общему приведено название столбца cityCenters_nearest на city_centers_nearest;***\n",
    "2. ***Уменьшены пропуски в следующих столбцах:***\n",
    "|Пропуски | Было | Стало|\n",
    "|-|-|-|\n",
    "| ceiling_height | 9195 | 0 |\n",
    "| floors_total | 86 | 0 |\n",
    "| living_area | 1903 | 1903 |\n",
    "| is_apartment | 20924 | 0 |\n",
    "| kitchen_area | 2278 | 0 |\n",
    "| balcony | 11519 | 0 |\n",
    "| locality_name | 49 | 0 |\n",
    "| airports_nearest | 5542 | 5542 |\n",
    "| city_centers_nearest | 5519 | 5519 |\n",
    "| parks_around3000 | 5518 | 0 |\n",
    "| parks_nearest | 15620 | 15620 |\n",
    "| ponds_around3000 | 5518 | 0 |\n",
    "| ponds_nearest | 14589 | 14589 |\n",
    "| days_exposition | 3181 | 3181 |\n",
    "*Основными причинами пропусков могли стать:*\n",
    "- *Человеческий фактор (пропустил, не увидел, отвлекся, забыл, не посчитал нужным и т.д.);*\n",
    "- *Недоработка форм для заполнения данных (отсутствие обязательных полей и предлагаемых вариантов или просто проверки данных);*\n",
    "- *Программный или аппаратный сбой. Обновление системы во время заполнения данных.*\n",
    "3. ***В соответствии с данными находящимся в столбцах был изменен их тип:***\n",
    "|Тип данных | Было | Стало| Причина |\n",
    "|-|-|-|-|\n",
    "| last_price | float64 | int64 | Содержит только целые числа |\n",
    "| first_day_exposition | object | datetime64 | Содержит датачисленные значения |\n",
    "| floors_total | float64 | int64 | Содержит только целые числа |\n",
    "| is_apartment | object | bool | Содержит булевы значения |\n",
    "| balcony | float64 | int64 | Содержит только целые числа |\n",
    "| parks_around3000 | float64 | int64 | Содержит только целые числа |\n",
    "| ponds_around3000 | float64 | int64 | Содержит только целые числа |\n",
    "\n",
    "4. ***Произведен поиск уникальных значений, выявлены и устранены неявные дубликаты в столбце с названиями населенных пунктов.***\n",
    "5. ***Исправлены значения в столбце с высотой потолоков, которое было отражено в неправильной метрической системе.***\n",
    "6. ***Значения и пропуски в некоторых столбцах решено оставить без изменений в связи с невозможностью предложить им логическую замену.***"
   ]
  },
  {
   "cell_type": "markdown",
   "metadata": {},
   "source": [
    "### Посчитайте и добавьте в таблицу новые столбцы"
   ]
  },
  {
   "cell_type": "markdown",
   "metadata": {},
   "source": [
    "#### Добавим столбец `price_square_meter` содержащий информацию о цене одного квадратного метра объекта, с точностью до двух знаков после запятой."
   ]
  },
  {
   "cell_type": "code",
   "execution_count": 29,
   "metadata": {},
   "outputs": [
    {
     "data": {
      "text/plain": [
       "array([120370.37,  82920.79,  92785.71, ...,  44091.71, 149511.4 ,\n",
       "        41795.67])"
      ]
     },
     "execution_count": 29,
     "metadata": {},
     "output_type": "execute_result"
    }
   ],
   "source": [
    "# Добавим столбец\n",
    "df['price_square_meter'] = (df['last_price'] / df['total_area']).round(2)\n",
    "df['price_square_meter'].unique()"
   ]
  },
  {
   "cell_type": "markdown",
   "metadata": {},
   "source": [
    "#### Добавим столбец `day_publication` содержащий информацию о дне недели публикации объявления (0 — понедельник, 1 — вторник и так далее)."
   ]
  },
  {
   "cell_type": "code",
   "execution_count": 30,
   "metadata": {},
   "outputs": [
    {
     "data": {
      "text/plain": [
       "array([3, 1, 4, 0, 2, 6, 5])"
      ]
     },
     "execution_count": 30,
     "metadata": {},
     "output_type": "execute_result"
    }
   ],
   "source": [
    "# Добавим столбец\n",
    "df['day_publication'] = df['first_day_exposition'].dt.weekday \n",
    "df['day_publication'].unique()"
   ]
  },
  {
   "cell_type": "markdown",
   "metadata": {},
   "source": [
    "#### Добавим столбец `month_publication` содержащий информацию о месяце публикации объявления."
   ]
  },
  {
   "cell_type": "code",
   "execution_count": 31,
   "metadata": {},
   "outputs": [
    {
     "data": {
      "text/plain": [
       "array([ 3, 12,  8,  7,  6,  9, 11,  4,  5,  2,  1, 10])"
      ]
     },
     "execution_count": 31,
     "metadata": {},
     "output_type": "execute_result"
    }
   ],
   "source": [
    "# Добавим столбец\n",
    "df['month_publication'] = df['first_day_exposition'].dt.month \n",
    "df['month_publication'].unique()"
   ]
  },
  {
   "cell_type": "markdown",
   "metadata": {},
   "source": [
    "#### Добавим столбец `year_publication` содержащий информацию о годе публикации объявления."
   ]
  },
  {
   "cell_type": "code",
   "execution_count": 32,
   "metadata": {},
   "outputs": [
    {
     "data": {
      "text/plain": [
       "array([2019, 2018, 2015, 2017, 2016, 2014])"
      ]
     },
     "execution_count": 32,
     "metadata": {},
     "output_type": "execute_result"
    }
   ],
   "source": [
    "# Добавим столбец\n",
    "df['year_publication'] = df['first_day_exposition'].dt.year \n",
    "df['year_publication'].unique()"
   ]
  },
  {
   "cell_type": "markdown",
   "metadata": {},
   "source": [
    "#### Добавим столбец `type_apartment_floor` содержащий информацию о типе этажа квартиры (значения — «первый», «последний», «другой»)."
   ]
  },
  {
   "cell_type": "code",
   "execution_count": 33,
   "metadata": {},
   "outputs": [
    {
     "data": {
      "text/plain": [
       "array(['другой', 'первый', 'последний'], dtype=object)"
      ]
     },
     "execution_count": 33,
     "metadata": {},
     "output_type": "execute_result"
    }
   ],
   "source": [
    "# Определим функцию\n",
    "def floor(row):\n",
    "    if row['floor'] == 1:\n",
    "        return 'первый'\n",
    "    if row['floor'] == row['floors_total']:\n",
    "        return 'последний'\n",
    "    else:\n",
    "        return 'другой'\n",
    "\n",
    "# Добавим столбец\n",
    "df['type_apartment_floor'] = df.apply(floor, axis=1) \n",
    "df['type_apartment_floor'].unique()"
   ]
  },
  {
   "cell_type": "markdown",
   "metadata": {},
   "source": [
    "#### Добавим столбец `distance_city_center`  содержащий информацию о расстоянии до центра города в километрах (переведём из (м) в (км) и округлим до ближайших целых значений)."
   ]
  },
  {
   "cell_type": "code",
   "execution_count": 34,
   "metadata": {},
   "outputs": [
    {
     "data": {
      "text/plain": [
       "array([16., 19., 14.,  7.,  8., nan, 12., 15., 52., 33., 31., 11., 13.,\n",
       "       10.,  2., 32.,  4., 17., 30.,  5., 51., 50., 24., 18.,  9., 28.,\n",
       "        3.,  6., 27., 21., 49., 35., 36., 34.,  1., 29., 26., 53., 22.,\n",
       "       55., 20., 23., 25.,  0., 66., 47., 40., 57., 37., 41., 43., 48.,\n",
       "       62., 60., 39., 42., 65., 54., 59., 45., 61., 63.])"
      ]
     },
     "execution_count": 34,
     "metadata": {},
     "output_type": "execute_result"
    }
   ],
   "source": [
    "# Добавим столбец\n",
    "df['distance_city_center'] = (df['city_centers_nearest'] / 1000).round(0)\n",
    "df['distance_city_center'].unique()"
   ]
  },
  {
   "cell_type": "markdown",
   "metadata": {},
   "source": [
    "**Вывод:**\n",
    "Для проведения следующего этапа в таблицу датафрейма были Добавлены новые столбцы:\n",
    "- price_square_meter - цена квадратного метра объекта с точностью до двух знаков после запятой;\n",
    "- day_publication - день недели публикации объявления (0 — понедельник, 1 — вторник и так далее);\n",
    "- month_publication - месяц публикации объявления;\n",
    "- year_publication - год публикации объявления;\n",
    "- type_apartment_floor - тип этажа квартиры (значения — «первый», «последний», «другой»);\n",
    "- distance_city_center - расстояние до центра города в целых километрах."
   ]
  },
  {
   "cell_type": "markdown",
   "metadata": {},
   "source": [
    "<div class=\"alert alert-success\">\n",
    "<b>✔️ Комментарий ревьюера v1:</b> \n",
    "<br>Все необходимые колонки добавлены. Идём дальше)\n",
    "</div>"
   ]
  },
  {
   "cell_type": "markdown",
   "metadata": {},
   "source": [
    "### Проведите исследовательский анализ данных"
   ]
  },
  {
   "cell_type": "markdown",
   "metadata": {},
   "source": [
    "#### Изучение параметров обеъктов. \n",
    "*Изучим и опишем зависимости между количеством недвижимости и другими параметрами объектов продаж.*"
   ]
  },
  {
   "cell_type": "markdown",
   "metadata": {},
   "source": [
    "##### Произведем анализ сведений об общей площади хранящихся в `df['total_area']`, через описательную статистику и диаграмму."
   ]
  },
  {
   "cell_type": "code",
   "execution_count": 35,
   "metadata": {},
   "outputs": [
    {
     "data": {
      "text/plain": [
       "count    23699.000000\n",
       "mean        60.348651\n",
       "std         35.654083\n",
       "min         12.000000\n",
       "25%         40.000000\n",
       "50%         52.000000\n",
       "75%         69.900000\n",
       "max        900.000000\n",
       "Name: total_area, dtype: float64"
      ]
     },
     "execution_count": 35,
     "metadata": {},
     "output_type": "execute_result"
    }
   ],
   "source": [
    "# Получим статистические данные\n",
    "df['total_area'].describe()"
   ]
  },
  {
   "cell_type": "code",
   "execution_count": 36,
   "metadata": {},
   "outputs": [
    {
     "data": {
      "image/png": "[encoded data removed]",
      "text/plain": [
       "<Figure size 432x288 with 1 Axes>"
      ]
     },
     "metadata": {
      "needs_background": "light"
     },
     "output_type": "display_data"
    }
   ],
   "source": [
    "# Построим диаграмму\n",
    "plt.hist(df['total_area'], bins=100, range=(12,120))\n",
    "plt.title('Зависимость рынка объектов недвижимости от их общей площади')\n",
    "plt.xlabel('Общая площадь (кв. метры)')\n",
    "plt.ylabel('Обявления о продаже')\n",
    "plt.grid(True)\n",
    "plt.show()"
   ]
  },
  {
   "cell_type": "markdown",
   "metadata": {},
   "source": [
    "Вывод:\n",
    "*Самый популярный диапазон недвижимости представленной на рынке имеет общую площадь от 30 до 65 кв.метров, в пике примерно 45 кв.метров.*"
   ]
  },
  {
   "cell_type": "markdown",
   "metadata": {},
   "source": [
    "##### Произведем анализ сведений о жилой площади, хранящихся в `df['living_area']`, через описательную статистику и диаграмму."
   ]
  },
  {
   "cell_type": "code",
   "execution_count": 37,
   "metadata": {},
   "outputs": [
    {
     "data": {
      "text/plain": [
       "count    21796.000000\n",
       "mean        34.457852\n",
       "std         22.030445\n",
       "min          2.000000\n",
       "25%         18.600000\n",
       "50%         30.000000\n",
       "75%         42.300000\n",
       "max        409.700000\n",
       "Name: living_area, dtype: float64"
      ]
     },
     "execution_count": 37,
     "metadata": {},
     "output_type": "execute_result"
    }
   ],
   "source": [
    "# Получим статистические данные\n",
    "df['living_area'].describe()"
   ]
  },
  {
   "cell_type": "code",
   "execution_count": 38,
   "metadata": {},
   "outputs": [
    {
     "data": {
      "image/png": "[encoded data removed]",
      "text/plain": [
       "<Figure size 432x288 with 1 Axes>"
      ]
     },
     "metadata": {
      "needs_background": "light"
     },
     "output_type": "display_data"
    }
   ],
   "source": [
    "# Построим диаграмму\n",
    "plt.hist(df['living_area'], bins=100, range=(2,70))\n",
    "plt.title('Зависимость рынка объектов недвижимости от их жилой площади')\n",
    "plt.xlabel('Жилая площадь (кв. метры)')\n",
    "plt.ylabel('Количество обявлений')\n",
    "plt.grid(True)\n",
    "plt.show()"
   ]
  },
  {
   "cell_type": "markdown",
   "metadata": {},
   "source": [
    "Вывод:\n",
    "*Болше всего предложений у недвижимости с жилой площадью в районе 18 кв.метров и 35 кв.метров, в зоне 24 кв.метра отмечен сильный спад преложений.*"
   ]
  },
  {
   "cell_type": "markdown",
   "metadata": {},
   "source": [
    "##### Произведем анализ сведений о площади кухни, хранящихся в `df['kitchen_area']`, через описательную статистику и диаграмму."
   ]
  },
  {
   "cell_type": "code",
   "execution_count": 39,
   "metadata": {},
   "outputs": [
    {
     "data": {
      "text/plain": [
       "count    23699.000000\n",
       "mean         9.553814\n",
       "std          6.420973\n",
       "min          0.000000\n",
       "25%          6.300000\n",
       "50%          9.000000\n",
       "75%         11.440000\n",
       "max        112.000000\n",
       "Name: kitchen_area, dtype: float64"
      ]
     },
     "execution_count": 39,
     "metadata": {},
     "output_type": "execute_result"
    }
   ],
   "source": [
    "# Получим статистические данные\n",
    "df['kitchen_area'].describe()"
   ]
  },
  {
   "cell_type": "code",
   "execution_count": 40,
   "metadata": {},
   "outputs": [
    {
     "data": {
      "image/png": "[encoded data removed]",
      "text/plain": [
       "<Figure size 432x288 with 1 Axes>"
      ]
     },
     "metadata": {
      "needs_background": "light"
     },
     "output_type": "display_data"
    }
   ],
   "source": [
    "# Построим диаграмму\n",
    "plt.hist(df['kitchen_area'], bins=100, range=(4,20))\n",
    "plt.title('Зависимость рынка объектов недвижимости от площади их кухни')\n",
    "plt.xlabel('Площадь кухни (кв. метры)')\n",
    "plt.ylabel('Количество обявлений')\n",
    "plt.grid(True)\n",
    "plt.show()"
   ]
  },
  {
   "cell_type": "markdown",
   "metadata": {},
   "source": [
    "Вывод:\n",
    "*Больше всего предложений у недвижимости с площадью кухни 6, 7, 8, 9, 10, 11 и 12 кв.метров. Стоит отметить тот факт, что при указании площади кухни, пользователи самостоятельно округляют значения до целых чисел.*"
   ]
  },
  {
   "cell_type": "markdown",
   "metadata": {},
   "source": [
    "##### Произведем анализ сведений о цене, хранящихся в `df['last_price']`, через описательную статистику и диаграмму."
   ]
  },
  {
   "cell_type": "code",
   "execution_count": 41,
   "metadata": {},
   "outputs": [
    {
     "data": {
      "text/plain": [
       "count    2.369900e+04\n",
       "mean     6.541549e+06\n",
       "std      1.088701e+07\n",
       "min      1.219000e+04\n",
       "25%      3.400000e+06\n",
       "50%      4.650000e+06\n",
       "75%      6.800000e+06\n",
       "max      7.630000e+08\n",
       "Name: last_price, dtype: float64"
      ]
     },
     "execution_count": 41,
     "metadata": {},
     "output_type": "execute_result"
    }
   ],
   "source": [
    "# Получим статистические данные\n",
    "df['last_price'].describe()"
   ]
  },
  {
   "cell_type": "code",
   "execution_count": 42,
   "metadata": {},
   "outputs": [
    {
     "data": {
      "image/png": "[encoded data removed]",
      "text/plain": [
       "<Figure size 432x288 with 1 Axes>"
      ]
     },
     "metadata": {
      "needs_background": "light"
     },
     "output_type": "display_data"
    }
   ],
   "source": [
    "# Построим диаграмму\n",
    "plt.hist(df['last_price'], bins=100, range=(1.219000e+04,9.00000e+06))\n",
    "plt.title('Зависимость рынка объектов недвижимости от цены зафиксированной на момент снятия объекта с продажи')\n",
    "plt.xlabel('Цена (млн.рублей)')\n",
    "plt.ylabel('Количество обявлений')\n",
    "plt.grid(True)\n",
    "plt.show()"
   ]
  },
  {
   "cell_type": "markdown",
   "metadata": {},
   "source": [
    "Вывод:\n",
    "*В наиболее массовых предложениях о продаже недвижимости указана цена от 3 до 5 млн.рублей.*"
   ]
  },
  {
   "cell_type": "markdown",
   "metadata": {},
   "source": [
    "##### Произведем анализ сведений о количестве комнат, хранящихся в `df['rooms']`, через диаграмму."
   ]
  },
  {
   "cell_type": "code",
   "execution_count": 43,
   "metadata": {},
   "outputs": [
    {
     "data": {
      "image/png": "[encoded data removed]",
      "text/plain": [
       "<Figure size 432x288 with 1 Axes>"
      ]
     },
     "metadata": {
      "needs_background": "light"
     },
     "output_type": "display_data"
    }
   ],
   "source": [
    "# Построим диаграмму\n",
    "plt.hist(df['rooms'], bins=7, range=(0,7))\n",
    "plt.title('Зависимость рынка объектов недвижимости от количества комнат')\n",
    "plt.xlabel('Количество комнат')\n",
    "plt.ylabel('Количество объявлений')\n",
    "plt.grid(True)\n",
    "plt.show()"
   ]
  },
  {
   "cell_type": "markdown",
   "metadata": {},
   "source": [
    "Вывод:\n",
    "*Среди предложений наибольшее распространение имеют одно и двухконмнатные квартиры. Прогрессия уменьшается с увеличением количества комнат.*"
   ]
  },
  {
   "cell_type": "markdown",
   "metadata": {},
   "source": [
    "##### Произведем анализ сведений о высоте потоков, хранящихся в `df['ceiling_height']`, через описательную статистику и диаграмму."
   ]
  },
  {
   "cell_type": "code",
   "execution_count": 44,
   "metadata": {},
   "outputs": [
    {
     "data": {
      "text/plain": [
       "count    23699.000000\n",
       "mean         2.698721\n",
       "std          0.253208\n",
       "min          1.000000\n",
       "25%          2.600000\n",
       "50%          2.650000\n",
       "75%          2.700000\n",
       "max         14.000000\n",
       "Name: ceiling_height, dtype: float64"
      ]
     },
     "execution_count": 44,
     "metadata": {},
     "output_type": "execute_result"
    }
   ],
   "source": [
    "# Получим статистические данные\n",
    "df['ceiling_height'].describe()"
   ]
  },
  {
   "cell_type": "code",
   "execution_count": 45,
   "metadata": {},
   "outputs": [
    {
     "data": {
      "image/png": "[encoded data removed]",
      "text/plain": [
       "<Figure size 432x288 with 1 Axes>"
      ]
     },
     "metadata": {
      "needs_background": "light"
     },
     "output_type": "display_data"
    }
   ],
   "source": [
    "# Построим диаграмму\n",
    "plt.hist(df.query('(ceiling_height > 2) & (ceiling_height < 4)')['ceiling_height'], bins=50, range=(2.4,3))\n",
    "plt.title('Зависимость рынка объектов недвижимости от высоты потолоков')\n",
    "plt.xlabel('Высота потолков (м)')\n",
    "plt.ylabel('Количество объявлений')\n",
    "plt.grid(True)\n",
    "plt.show()"
   ]
  },
  {
   "cell_type": "markdown",
   "metadata": {},
   "source": [
    "Вывод:\n",
    "*Абсолютным лидером среди предложений недвижимости являются объекты с высотой потолоков в 2.65 и в 2.5 метра. Остальные объекты не выходят за пределы 2 тысяч обявлений.*"
   ]
  },
  {
   "cell_type": "markdown",
   "metadata": {},
   "source": [
    "##### Произведем анализ сведений об этаже расположения, хранящихся в `df['floor']`, через описательную статистику и диаграмму."
   ]
  },
  {
   "cell_type": "code",
   "execution_count": 46,
   "metadata": {},
   "outputs": [
    {
     "data": {
      "text/plain": [
       "count    23699.000000\n",
       "mean         5.892358\n",
       "std          4.885249\n",
       "min          1.000000\n",
       "25%          2.000000\n",
       "50%          4.000000\n",
       "75%          8.000000\n",
       "max         33.000000\n",
       "Name: floor, dtype: float64"
      ]
     },
     "execution_count": 46,
     "metadata": {},
     "output_type": "execute_result"
    }
   ],
   "source": [
    "# Получим статистические данные\n",
    "df['floor'].describe()"
   ]
  },
  {
   "cell_type": "code",
   "execution_count": 47,
   "metadata": {},
   "outputs": [
    {
     "data": {
      "image/png": "[encoded data removed]",
      "text/plain": [
       "<Figure size 432x288 with 1 Axes>"
      ]
     },
     "metadata": {
      "needs_background": "light"
     },
     "output_type": "display_data"
    }
   ],
   "source": [
    "# Построим диаграмму\n",
    "plt.hist(df['floor'], bins=100, range=(1,30))\n",
    "plt.title('Зависимость рынка объектов недвижимости от этажа расположения')\n",
    "plt.xlabel('Этаж')\n",
    "plt.ylabel('Количество объявлений')\n",
    "plt.grid(True)\n",
    "plt.show()"
   ]
  },
  {
   "cell_type": "markdown",
   "metadata": {},
   "source": [
    "Вывод:\n",
    "*Основная часть объектов недвижимости расположена с первого по пятый этаж. Шестой этаж имеет в два раза меньше предложений чем пятый, и далее с увеличением этажа количество предложений снижается почти линейно*"
   ]
  },
  {
   "cell_type": "markdown",
   "metadata": {},
   "source": [
    "##### Произведем анализ сведений о типе этажа расположения («первый», «последний», «другой»), хранящихся в `df['type_apartment_floor']`, через описательную статистику и диаграмму."
   ]
  },
  {
   "cell_type": "code",
   "execution_count": 48,
   "metadata": {},
   "outputs": [
    {
     "data": {
      "text/plain": [
       "count      23699\n",
       "unique         3\n",
       "top       другой\n",
       "freq       17446\n",
       "Name: type_apartment_floor, dtype: object"
      ]
     },
     "execution_count": 48,
     "metadata": {},
     "output_type": "execute_result"
    }
   ],
   "source": [
    "# Получим статистические данные\n",
    "df['type_apartment_floor'].describe()"
   ]
  },
  {
   "cell_type": "code",
   "execution_count": 49,
   "metadata": {},
   "outputs": [
    {
     "data": {
      "image/png": "[encoded data removed]",
      "text/plain": [
       "<Figure size 432x288 with 1 Axes>"
      ]
     },
     "metadata": {
      "needs_background": "light"
     },
     "output_type": "display_data"
    }
   ],
   "source": [
    "# Построим диаграмму\n",
    "plt.hist(df['type_apartment_floor'], bins=100, range=(0,2))\n",
    "plt.title('Зависимость рынка объектов недвижимости от типа этажа раположения')\n",
    "plt.xlabel('Тип этажа')\n",
    "plt.ylabel('Количество объявлений')\n",
    "plt.grid(True)\n",
    "plt.show()"
   ]
  },
  {
   "cell_type": "markdown",
   "metadata": {},
   "source": [
    "Вывод:\n",
    "*Количество объявлений с недвижимость расположеной на крайних этажах также имеет низкую долю от общего количества.*"
   ]
  },
  {
   "cell_type": "markdown",
   "metadata": {},
   "source": [
    "##### Произведем анализ сведений об общем колличестве этажей, хранящихся в `df['floors_total']`, через описательную статистику и диаграмму."
   ]
  },
  {
   "cell_type": "code",
   "execution_count": 50,
   "metadata": {},
   "outputs": [
    {
     "data": {
      "text/plain": [
       "count    23699.000000\n",
       "mean        10.681759\n",
       "std          6.599383\n",
       "min          1.000000\n",
       "25%          5.000000\n",
       "50%          9.000000\n",
       "75%         16.000000\n",
       "max         60.000000\n",
       "Name: floors_total, dtype: float64"
      ]
     },
     "execution_count": 50,
     "metadata": {},
     "output_type": "execute_result"
    }
   ],
   "source": [
    "# Получим статистические данные\n",
    "df['floors_total'].describe()"
   ]
  },
  {
   "cell_type": "code",
   "execution_count": 51,
   "metadata": {},
   "outputs": [
    {
     "data": {
      "image/png": "[encoded data removed]",
      "text/plain": [
       "<Figure size 432x288 with 1 Axes>"
      ]
     },
     "metadata": {
      "needs_background": "light"
     },
     "output_type": "display_data"
    }
   ],
   "source": [
    "plt.hist(df['floors_total'], bins=100, range=(1,30))\n",
    "plt.title('Зависимость рынка объектов недвижимости от общего количество этажей в доме')\n",
    "plt.xlabel('Этаж')\n",
    "plt.ylabel('Количество объявлений')\n",
    "plt.grid(True)\n",
    "plt.show()"
   ]
  },
  {
   "cell_type": "markdown",
   "metadata": {},
   "source": [
    "Вывод:\n",
    "*Лидерами среди предложений недвижимости являются объекты расположенные в пятиэтажных, а затем в девятиэтажных домах.*"
   ]
  },
  {
   "cell_type": "markdown",
   "metadata": {},
   "source": [
    "##### Произведем анализ сведений о расстоянии до центра города в метрах, хранящихся в `df['city_centers_nearest']`, через описательную статистику и диаграмму."
   ]
  },
  {
   "cell_type": "code",
   "execution_count": 52,
   "metadata": {},
   "outputs": [
    {
     "data": {
      "text/plain": [
       "count    18180.000000\n",
       "mean     14191.277833\n",
       "std       8608.386210\n",
       "min        181.000000\n",
       "25%       9238.000000\n",
       "50%      13098.500000\n",
       "75%      16293.000000\n",
       "max      65968.000000\n",
       "Name: city_centers_nearest, dtype: float64"
      ]
     },
     "execution_count": 52,
     "metadata": {},
     "output_type": "execute_result"
    }
   ],
   "source": [
    "# Получим статистические данные\n",
    "df['city_centers_nearest'].describe()"
   ]
  },
  {
   "cell_type": "code",
   "execution_count": 53,
   "metadata": {},
   "outputs": [
    {
     "data": {
      "image/png": "[encoded data removed]",
      "text/plain": [
       "<Figure size 432x288 with 1 Axes>"
      ]
     },
     "metadata": {
      "needs_background": "light"
     },
     "output_type": "display_data"
    }
   ],
   "source": [
    "# Построим диаграмму\n",
    "plt.hist(df['city_centers_nearest'], bins=100, range=(0,35968))\n",
    "plt.title('Зависимость рынка объектов недвижимости от удаленности от центра города')\n",
    "plt.xlabel('Расстояние до центра города (м)')\n",
    "plt.ylabel('Количество объявлений')\n",
    "plt.grid(True)\n",
    "plt.show()"
   ]
  },
  {
   "cell_type": "markdown",
   "metadata": {},
   "source": [
    "Вывод:\n",
    "*Согласно диаграмме больше всего предложений о продаже имеют объекты недвижимости находящиеся на расстоянии 12000-17000 метров от центра населенного пункта (возможно основная масса это спальные районы располагающиеся на окраинах). Также имеется значительный всплеск предложений для объектов расположенных на расстоянии в районе 5000 метров от центра.*"
   ]
  },
  {
   "cell_type": "markdown",
   "metadata": {},
   "source": [
    "##### Произведем анализ сведений о расстоянии до ближайшего аэропорта, хранящихся в `df['airports_nearest']`, через описательную статистику и диаграмму."
   ]
  },
  {
   "cell_type": "code",
   "execution_count": 54,
   "metadata": {},
   "outputs": [
    {
     "data": {
      "text/plain": [
       "count    18157.000000\n",
       "mean     28793.672193\n",
       "std      12630.880622\n",
       "min          0.000000\n",
       "25%      18585.000000\n",
       "50%      26726.000000\n",
       "75%      37273.000000\n",
       "max      84869.000000\n",
       "Name: airports_nearest, dtype: float64"
      ]
     },
     "execution_count": 54,
     "metadata": {},
     "output_type": "execute_result"
    }
   ],
   "source": [
    "# Получим статистические данные\n",
    "df['airports_nearest'].describe()"
   ]
  },
  {
   "cell_type": "code",
   "execution_count": 55,
   "metadata": {},
   "outputs": [
    {
     "data": {
      "image/png": "[encoded data removed]",
      "text/plain": [
       "<Figure size 432x288 with 1 Axes>"
      ]
     },
     "metadata": {
      "needs_background": "light"
     },
     "output_type": "display_data"
    }
   ],
   "source": [
    "# Построим диаграмму\n",
    "plt.hist(df['airports_nearest'], bins=100, range=(5000,60000))\n",
    "plt.title('Зависимость рынка объектов недвижимости от расстояния до ближашего аэропорта')\n",
    "plt.xlabel('Расстояние до ближашего аэропорта (м)')\n",
    "plt.ylabel('Количество объявлений')\n",
    "plt.grid(True)\n",
    "plt.show()"
   ]
  },
  {
   "cell_type": "markdown",
   "metadata": {},
   "source": [
    "Вывод:\n",
    "*Согласно диаграмме основная масса предложений о продаже недвижимости опубликована для объектов расположенных на расстоянии 10000-40000 метров до ближайшего аэропорта.*"
   ]
  },
  {
   "cell_type": "markdown",
   "metadata": {},
   "source": [
    "##### Произведем анализ сведений о расстоянии до ближайшего парка, хранящихся в `df['parks_nearest']`, через описательную статистику и диаграмму."
   ]
  },
  {
   "cell_type": "code",
   "execution_count": 56,
   "metadata": {},
   "outputs": [
    {
     "data": {
      "text/plain": [
       "count    8079.000000\n",
       "mean      490.804555\n",
       "std       342.317995\n",
       "min         1.000000\n",
       "25%       288.000000\n",
       "50%       455.000000\n",
       "75%       612.000000\n",
       "max      3190.000000\n",
       "Name: parks_nearest, dtype: float64"
      ]
     },
     "execution_count": 56,
     "metadata": {},
     "output_type": "execute_result"
    }
   ],
   "source": [
    "# Получим статистические данные\n",
    "df['parks_nearest'].describe()"
   ]
  },
  {
   "cell_type": "code",
   "execution_count": 57,
   "metadata": {},
   "outputs": [
    {
     "data": {
      "image/png": "[encoded data removed]",
      "text/plain": [
       "<Figure size 432x288 with 1 Axes>"
      ]
     },
     "metadata": {
      "needs_background": "light"
     },
     "output_type": "display_data"
    }
   ],
   "source": [
    "# Построим диаграмму\n",
    "plt.hist(df['parks_nearest'], bins=100, range=(100,1000))\n",
    "plt.title('Зависимость рынка объектов недвижимости от удаленности от парка')\n",
    "plt.xlabel('Расстояние до парка (м)')\n",
    "plt.ylabel('Количество объявлений')\n",
    "plt.grid(True)\n",
    "plt.show()"
   ]
  },
  {
   "cell_type": "markdown",
   "metadata": {},
   "source": [
    "Вывод:\n",
    "*Согласно диаграмме основная масса предложений о продаже недвижимости опубликована для объектов расположенных на расстоянии 100-700 метров до ближайшего парка.*"
   ]
  },
  {
   "cell_type": "markdown",
   "metadata": {},
   "source": [
    "##### Произведем анализ сведений о дне и месяце публикации объявления, хранящихся в `df['day_publication']` и в `df['month_publication']`, через описательную статистику и диаграмму."
   ]
  },
  {
   "cell_type": "code",
   "execution_count": 58,
   "metadata": {},
   "outputs": [
    {
     "name": "stdout",
     "output_type": "stream",
     "text": [
      "День недели\n",
      "count    23699.000000\n",
      "mean         2.569307\n",
      "std          1.789082\n",
      "min          0.000000\n",
      "25%          1.000000\n",
      "50%          3.000000\n",
      "75%          4.000000\n",
      "max          6.000000\n",
      "Name: day_publication, dtype: float64\n",
      "\n",
      "Месяц\n"
     ]
    },
    {
     "data": {
      "text/plain": [
       "count    23699.000000\n",
       "mean         6.400101\n",
       "std          3.491561\n",
       "min          1.000000\n",
       "25%          3.000000\n",
       "50%          6.000000\n",
       "75%         10.000000\n",
       "max         12.000000\n",
       "Name: month_publication, dtype: float64"
      ]
     },
     "execution_count": 58,
     "metadata": {},
     "output_type": "execute_result"
    }
   ],
   "source": [
    "# Получим статистические данные\n",
    "# Для дня недели\n",
    "print('День недели')\n",
    "print(df['day_publication'].describe())\n",
    "print()\n",
    "\n",
    "# Для месяца\n",
    "print('Месяц')\n",
    "df['month_publication'].describe()"
   ]
  },
  {
   "cell_type": "code",
   "execution_count": 59,
   "metadata": {},
   "outputs": [
    {
     "name": "stdout",
     "output_type": "stream",
     "text": [
      "День недели\n"
     ]
    },
    {
     "data": {
      "image/png": "[encoded data removed]",
      "text/plain": [
       "<Figure size 432x288 with 1 Axes>"
      ]
     },
     "metadata": {
      "needs_background": "light"
     },
     "output_type": "display_data"
    },
    {
     "name": "stdout",
     "output_type": "stream",
     "text": [
      "None\n",
      "\n",
      "Месяц\n"
     ]
    },
    {
     "data": {
      "image/png": "[encoded data removed]",
      "text/plain": [
       "<Figure size 432x288 with 1 Axes>"
      ]
     },
     "metadata": {
      "needs_background": "light"
     },
     "output_type": "display_data"
    }
   ],
   "source": [
    "# Построим диаграмму \n",
    "\n",
    "# Для дня недели\n",
    "print('День недели')\n",
    "plt.hist(df['day_publication'], bins=100, range=(0,6))\n",
    "plt.title('Зависимость рынка объектов недвижимости от дня недели публикации объявления')\n",
    "plt.xlabel('День недели')\n",
    "plt.ylabel('Количество объявлений')\n",
    "plt.grid(True)\n",
    "print(plt.show())\n",
    "print()\n",
    "\n",
    "# Для месяца\n",
    "print('Месяц')\n",
    "plt.hist(df['month_publication'], bins=100, range=(1,12))\n",
    "plt.title('Зависимость рынка объектов недвижимости от месяца публикации объявления')\n",
    "plt.xlabel('Месяц')\n",
    "plt.ylabel('Количество объявлений')\n",
    "plt.grid(True)\n",
    "plt.show()"
   ]
  },
  {
   "cell_type": "markdown",
   "metadata": {},
   "source": [
    "Вывод:\n",
    "*Можно отметить, что в будни публикация объявлений происходит граздо чаще чем в выходные. Среди месяце лидируют такие как февраль, март и апрель, а в мае происходит провал, который линейно возрастает от месяца к месяцу до  четвертого по популярности месяца - ноября.*"
   ]
  },
  {
   "cell_type": "markdown",
   "metadata": {},
   "source": [
    "**В заключении:** \n",
    "*Проведя анализ представленных данных можно предположить, что среднестатистическое предложение - это скорее всего однокомнатная или двухкомнатная квартира, с небольшой площадью комнат,  в пятиэтажном доме, средней площадью 52 кв. метра, с кухней в 6 кв. метров, высотой потолков 2,65 метра, расположеной на удалении 13 км. от центра.*"
   ]
  },
  {
   "cell_type": "markdown",
   "metadata": {},
   "source": [
    "#### Изучим, как быстро продавались квартиры. \n",
    "*Изучим столбец `'days_exposition'`, который показывает, сколько дней было размещено каждое объявление.*"
   ]
  },
  {
   "cell_type": "markdown",
   "metadata": {},
   "source": [
    "##### Построим гистограмму."
   ]
  },
  {
   "cell_type": "code",
   "execution_count": 60,
   "metadata": {},
   "outputs": [
    {
     "data": {
      "image/png": "[encoded data removed]",
      "text/plain": [
       "<Figure size 432x288 with 1 Axes>"
      ]
     },
     "metadata": {
      "needs_background": "light"
     },
     "output_type": "display_data"
    }
   ],
   "source": [
    "# Построим гстограмму \n",
    "plt.hist(df['days_exposition'], bins=100, range=(0,250))\n",
    "plt.title('Зависимость продаж от длительности размещения объявления')\n",
    "plt.xlabel('Сколько дней было размещено объявление (от публикации до снятия)')\n",
    "plt.ylabel('Количество объявлений')\n",
    "plt.grid(True)\n",
    "plt.show()"
   ]
  },
  {
   "cell_type": "markdown",
   "metadata": {},
   "source": [
    "##### Посчитаем средние и медианные значения."
   ]
  },
  {
   "cell_type": "code",
   "execution_count": 61,
   "metadata": {},
   "outputs": [
    {
     "data": {
      "text/plain": [
       "count    20518.000000\n",
       "mean       180.888634\n",
       "std        219.727988\n",
       "min          1.000000\n",
       "25%         45.000000\n",
       "50%         95.000000\n",
       "75%        232.000000\n",
       "max       1580.000000\n",
       "Name: days_exposition, dtype: float64"
      ]
     },
     "execution_count": 61,
     "metadata": {},
     "output_type": "execute_result"
    }
   ],
   "source": [
    "# Получим статистические данные\n",
    "df['days_exposition'].describe()"
   ]
  },
  {
   "cell_type": "markdown",
   "metadata": {},
   "source": [
    "##### Вывод:\n",
    "\n",
    "   - *Среднее значение снятия с публикации объявлений и как следстие возможность продажи выставленного объекта недвижимости составляет 180 дней против медианного значения в 95 дней. Среднее значение более точно характеризует среднее время продажи, так как не зависит от выбросов и нестандартных значений.*\n",
    "   - *Продажа среднестатистичекой квартиры занимает 2-3 месяца в зависимотсти от сопутствующих факторов (площади, цены, удалённости от центра).*\n",
    "   - *Быстрыми продажами можно считать продажи состоявшиеся за 45 дней (в первом квартиле), а необычно долгие продажи, или осуществляются после 232 дня и более (после 3 квартиля), или вообще могут быть не неосуществленны.*"
   ]
  },
  {
   "cell_type": "code",
   "execution_count": 62,
   "metadata": {},
   "outputs": [
    {
     "name": "stdout",
     "output_type": "stream",
     "text": [
      "Корреляция: \n",
      "\n",
      "              kitchen_area  last_price  living_area     rooms  total_area\n",
      "kitchen_area      1.000000    0.284824     0.149369  0.177180    0.454583\n",
      "last_price        0.284824    1.000000     0.655849  0.442449    0.738972\n",
      "living_area       0.149369    0.655849     1.000000  0.897739    0.923741\n",
      "rooms             0.177180    0.442449     0.897739  1.000000    0.811538\n",
      "total_area        0.454583    0.738972     0.923741  0.811538    1.000000 \n",
      "\n"
     ]
    }
   ],
   "source": [
    "# Применим корреляцию\n",
    "print('Корреляция:','\\n')\n",
    "(\n",
    "    print\n",
    "        (\n",
    "            df.pivot_table\n",
    "                (\n",
    "                    index='floor', \n",
    "                    values=['last_price',\n",
    "                            'total_area',\n",
    "                            'living_area',\n",
    "                            'kitchen_area',\n",
    "                            'rooms']\n",
    "                )\n",
    "            .corr(),'\\n'\n",
    "        )\n",
    ")"
   ]
  },
  {
   "cell_type": "markdown",
   "metadata": {},
   "source": [
    "**Промежуточный вывод:**\n",
    "\n",
    "*Корреляция по данным указывает, что прямой зависимости среди данных нет. Возможно это произошло из за наличия большого количества редких и выбивающихся значений.\n",
    "Проведем обработку этих значений.*"
   ]
  },
  {
   "cell_type": "code",
   "execution_count": 63,
   "metadata": {},
   "outputs": [],
   "source": [
    "# Функция для подсчёта границ с учетом 1.5 размаха\n",
    "def quartile_range(df, column):\n",
    "    q1 = df[column].quantile(0.25)\n",
    "    q3 = df[column].quantile(0.75)\n",
    "    iqr = q3 - q1\n",
    "    dfq = df.loc[(df[column] < q3 + 1.5*iqr) & (df[column] > q1 - 1.5*iqr), column]\n",
    "    return dfq\n",
    "# Столбцы с выбросами\n",
    "list_features = ['last_price', 'total_area', 'living_area', 'kitchen_area', 'rooms', 'ceiling_height' ]\n",
    "for col in list_features:\n",
    "    df[col] = quartile_range(df, col)"
   ]
  },
  {
   "cell_type": "code",
   "execution_count": 64,
   "metadata": {},
   "outputs": [
    {
     "name": "stdout",
     "output_type": "stream",
     "text": [
      "Корреляция: \n",
      "\n",
      "              kitchen_area  last_price  living_area     rooms  total_area\n",
      "kitchen_area      1.000000    0.507438    -0.108534 -0.132606    0.342559\n",
      "last_price        0.507438    1.000000     0.725857  0.551637    0.905255\n",
      "living_area      -0.108534    0.725857     1.000000  0.901722    0.917353\n",
      "rooms            -0.132606    0.551637     0.901722  1.000000    0.786100\n",
      "total_area        0.342559    0.905255     0.917353  0.786100    1.000000 \n",
      "\n"
     ]
    }
   ],
   "source": [
    "# Повторно применим корреляцию\n",
    "print('Корреляция:','\\n')\n",
    "(\n",
    "    print\n",
    "        (\n",
    "            df.pivot_table\n",
    "                (\n",
    "                    index='floor', \n",
    "                    values=['last_price',\n",
    "                            'total_area',\n",
    "                            'living_area',\n",
    "                            'kitchen_area',\n",
    "                            'rooms']\n",
    "                )\n",
    "            .corr(),'\\n'\n",
    "        )\n",
    ")"
   ]
  },
  {
   "cell_type": "markdown",
   "metadata": {},
   "source": [
    "**Предварительный вывод:**\n",
    "\n",
    "*Значения, датафрейма c отброшеными значениями на основе 1.5 размаха, стали лучше и адекватнее. \n",
    "Прослеживается почти прямая зависимость между ценой и общей площадью, а также ценой и количеством комнат.*\n",
    "\n",
    "*Присутствует слабая зависимость между ценой и площадью кухни.*\n",
    "\n",
    "*В остальных значениях прямая зависимость не прослеживается.*"
   ]
  },
  {
   "cell_type": "markdown",
   "metadata": {},
   "source": [
    "##### Зависимость от общей площади."
   ]
  },
  {
   "cell_type": "code",
   "execution_count": 65,
   "metadata": {},
   "outputs": [
    {
     "data": {
      "image/png": "[encoded data removed]",
      "text/plain": [
       "<Figure size 360x360 with 1 Axes>"
      ]
     },
     "metadata": {
      "needs_background": "light"
     },
     "output_type": "display_data"
    }
   ],
   "source": [
    "# Построим гистограмму\n",
    "(\n",
    "    df.pivot_table(index='total_area', values='last_price')\n",
    "    .plot(grid=True, style='o', figsize=(5, 5))\n",
    ")\n",
    "plt.title('Зависимость цены от общей площади')\n",
    "plt.show()"
   ]
  },
  {
   "cell_type": "markdown",
   "metadata": {},
   "source": [
    "##### Зависимость от жилой площади."
   ]
  },
  {
   "cell_type": "code",
   "execution_count": 66,
   "metadata": {},
   "outputs": [
    {
     "data": {
      "image/png": "[encoded data removed]",
      "text/plain": [
       "<Figure size 360x360 with 1 Axes>"
      ]
     },
     "metadata": {
      "needs_background": "light"
     },
     "output_type": "display_data"
    }
   ],
   "source": [
    "# Построим гистограмму\n",
    "(\n",
    "    df.pivot_table(index='living_area', values='last_price')\n",
    "    .plot(grid=True, style='o', figsize=(5, 5))\n",
    ")\n",
    "plt.title('Зависимость цены от жилой площади')\n",
    "plt.show()"
   ]
  },
  {
   "cell_type": "markdown",
   "metadata": {},
   "source": [
    "##### Зависимость от площади кухни."
   ]
  },
  {
   "cell_type": "code",
   "execution_count": 67,
   "metadata": {},
   "outputs": [
    {
     "data": {
      "image/png": "[encoded data removed]",
      "text/plain": [
       "<Figure size 360x360 with 1 Axes>"
      ]
     },
     "metadata": {
      "needs_background": "light"
     },
     "output_type": "display_data"
    }
   ],
   "source": [
    "# Построим гистограмму\n",
    "(\n",
    "    df.pivot_table(index='kitchen_area', values='last_price')\n",
    "    .plot(grid=True, style='o', figsize=(5, 5))\n",
    ")\n",
    "plt.title('Зависимость цены от площади кухни')\n",
    "plt.show()"
   ]
  },
  {
   "cell_type": "markdown",
   "metadata": {},
   "source": [
    "##### Зависимость от числа комнат."
   ]
  },
  {
   "cell_type": "code",
   "execution_count": 68,
   "metadata": {},
   "outputs": [
    {
     "data": {
      "image/png": "[encoded data removed]",
      "text/plain": [
       "<Figure size 360x360 with 1 Axes>"
      ]
     },
     "metadata": {
      "needs_background": "light"
     },
     "output_type": "display_data"
    }
   ],
   "source": [
    "# Построим гистограмму\n",
    "(\n",
    "    df.pivot_table(index='rooms', values='last_price')\n",
    "    .plot(grid=True, style='o-', figsize=(5, 5))\n",
    ")\n",
    "plt.title('Зависимость цены от числа комнат')\n",
    "plt.show()"
   ]
  },
  {
   "cell_type": "markdown",
   "metadata": {},
   "source": [
    "##### Зависимость от типа расположения этажа."
   ]
  },
  {
   "cell_type": "code",
   "execution_count": 69,
   "metadata": {},
   "outputs": [
    {
     "data": {
      "image/png": "[encoded data removed]",
      "text/plain": [
       "<Figure size 360x360 with 1 Axes>"
      ]
     },
     "metadata": {
      "needs_background": "light"
     },
     "output_type": "display_data"
    }
   ],
   "source": [
    "# Построим диаграмму зависимости\n",
    "(\n",
    "    df.pivot_table\n",
    "        (\n",
    "            index='type_apartment_floor', \n",
    "            values='last_price', \n",
    "            aggfunc='median'\n",
    "        )\n",
    "            .sort_values\n",
    "                (\n",
    "                    by='last_price', \n",
    "                    ascending=False\n",
    "                )\n",
    "            .plot\n",
    "                (\n",
    "                    grid=True, \n",
    "                    style='o-', \n",
    "                    figsize=(5, 5), \n",
    "                    title='Зависимость цены от этажа расположения недвижимости'\n",
    "                )\n",
    ")\n",
    "plt.xlabel('Этаж')\n",
    "plt.ylabel('Цена')\n",
    "plt.show()"
   ]
  },
  {
   "cell_type": "code",
   "execution_count": 70,
   "metadata": {},
   "outputs": [
    {
     "data": {
      "image/png": "[encoded data removed]",
      "text/plain": [
       "<Figure size 720x504 with 1 Axes>"
      ]
     },
     "metadata": {},
     "output_type": "display_data"
    }
   ],
   "source": [
    "# Построим диаграмму распределения\n",
    "(\n",
    "    df.pivot_table\n",
    "        (\n",
    "            index='type_apartment_floor',\n",
    "            values='last_price',\n",
    "            aggfunc='count'\n",
    "        )\n",
    "        .plot.pie\n",
    "            (\n",
    "                y='last_price', \n",
    "                figsize=(10,7), \n",
    "                label='', \n",
    "                title='Диаграмма количественного отношения распределения предложений в зависимости от этажа'\n",
    "            )\n",
    ")\n",
    "plt.show()"
   ]
  },
  {
   "cell_type": "markdown",
   "metadata": {},
   "source": [
    "##### Зависимость от дня публикации."
   ]
  },
  {
   "cell_type": "code",
   "execution_count": 71,
   "metadata": {},
   "outputs": [
    {
     "data": {
      "image/png": "[encoded data removed]",
      "text/plain": [
       "<Figure size 360x360 with 1 Axes>"
      ]
     },
     "metadata": {
      "needs_background": "light"
     },
     "output_type": "display_data"
    }
   ],
   "source": [
    "# Построим гистограмму\n",
    "(\n",
    "    df.pivot_table(index='day_publication', values='last_price')\n",
    "    .plot(grid=True, style='o-', figsize=(5, 5))\n",
    ")\n",
    "plt.title('Зависимость цены от дня публикации')\n",
    "plt.show()"
   ]
  },
  {
   "cell_type": "markdown",
   "metadata": {},
   "source": [
    "##### Зависимость от месяца публикации."
   ]
  },
  {
   "cell_type": "code",
   "execution_count": 72,
   "metadata": {},
   "outputs": [
    {
     "data": {
      "image/png": "[encoded data removed]",
      "text/plain": [
       "<Figure size 360x360 with 1 Axes>"
      ]
     },
     "metadata": {
      "needs_background": "light"
     },
     "output_type": "display_data"
    }
   ],
   "source": [
    "# Построим гистограмму\n",
    "(\n",
    "    df.pivot_table(index='month_publication', values='last_price', aggfunc='median')\n",
    "    .plot(grid=True, style='o-', figsize=(5, 5))\n",
    ")\n",
    "plt.title('Зависимость цены от месяца публикации')\n",
    "plt.show()"
   ]
  },
  {
   "cell_type": "markdown",
   "metadata": {},
   "source": [
    "##### Зависимость от года публикации."
   ]
  },
  {
   "cell_type": "code",
   "execution_count": 73,
   "metadata": {},
   "outputs": [
    {
     "data": {
      "image/png": "[encoded data removed]",
      "text/plain": [
       "<Figure size 360x360 with 1 Axes>"
      ]
     },
     "metadata": {
      "needs_background": "light"
     },
     "output_type": "display_data"
    }
   ],
   "source": [
    "# Построим гистограмму\n",
    "(\n",
    "    df.pivot_table(index='year_publication', values='last_price')\n",
    "    .plot(grid=True, style='o-', figsize=(5, 5))\n",
    ")\n",
    "plt.title('Зависимость цены от года публикации')\n",
    "plt.show()"
   ]
  },
  {
   "cell_type": "markdown",
   "metadata": {},
   "source": [
    "**Вывод:**\n",
    "\n",
    "*Предварительные выводы нашли свое подтверждение:*\n",
    "\n",
    "* *Имеется прямая зависимость между ценой на объект недвижимости и его площадью. Чем больше общая площадь, тем выше стоимость. Корреляция этих параметров крайне высокая.*\n",
    "\n",
    "* *Количество комнат также прямо влияет на цену, но только в связке: чем больше комнат, тем больше жилая площадь и соответственно тем  больше цена. Если недвижемость имеет комнат меньше, но они больше по площади, или недвижемость находится в центре, то зависимость не работает.*\n",
    "\n",
    "* *Расположение объекта недвижимости относительно этажа имеет сильную зависимость от цены. Меннее ценятся объекты расположенные на последнем этаже, а еще менее объеткы на первых этажах. Количество объявлений с недвижимость расположеной на крайних этажах также имеет низкую оценку от общего количества.*\n",
    "\n"
   ]
  },
  {
   "cell_type": "markdown",
   "metadata": {},
   "source": [
    "#### Посчитаем среднюю цену одного квадратного метра в 10 населённых пунктах с наибольшим числом объявлений.\n",
    "\n",
    "**Данные возьмем из столбца** `'locality_name'`."
   ]
  },
  {
   "cell_type": "code",
   "execution_count": 74,
   "metadata": {},
   "outputs": [
    {
     "data": {
      "text/html": [
       "<div>\n",
       "<style scoped>\n",
       "    .dataframe tbody tr th:only-of-type {\n",
       "        vertical-align: middle;\n",
       "    }\n",
       "\n",
       "    .dataframe tbody tr th {\n",
       "        vertical-align: top;\n",
       "    }\n",
       "\n",
       "    .dataframe thead th {\n",
       "        text-align: right;\n",
       "    }\n",
       "</style>\n",
       "<table border=\"1\" class=\"dataframe\">\n",
       "  <thead>\n",
       "    <tr style=\"text-align: right;\">\n",
       "      <th></th>\n",
       "      <th>count</th>\n",
       "      <th>price_square_meter</th>\n",
       "    </tr>\n",
       "    <tr>\n",
       "      <th>locality_name</th>\n",
       "      <th></th>\n",
       "      <th></th>\n",
       "    </tr>\n",
       "  </thead>\n",
       "  <tbody>\n",
       "    <tr>\n",
       "      <th>санкт-петербург</th>\n",
       "      <td>13737</td>\n",
       "      <td>114849.01</td>\n",
       "    </tr>\n",
       "    <tr>\n",
       "      <th>пушкин</th>\n",
       "      <td>338</td>\n",
       "      <td>103125.82</td>\n",
       "    </tr>\n",
       "    <tr>\n",
       "      <th>кудрово</th>\n",
       "      <td>470</td>\n",
       "      <td>95324.93</td>\n",
       "    </tr>\n",
       "    <tr>\n",
       "      <th>парголово</th>\n",
       "      <td>327</td>\n",
       "      <td>90175.91</td>\n",
       "    </tr>\n",
       "    <tr>\n",
       "      <th>мурино</th>\n",
       "      <td>590</td>\n",
       "      <td>86087.51</td>\n",
       "    </tr>\n",
       "    <tr>\n",
       "      <th>шушары</th>\n",
       "      <td>440</td>\n",
       "      <td>78677.36</td>\n",
       "    </tr>\n",
       "    <tr>\n",
       "      <th>колпино</th>\n",
       "      <td>336</td>\n",
       "      <td>75424.58</td>\n",
       "    </tr>\n",
       "    <tr>\n",
       "      <th>гатчина</th>\n",
       "      <td>305</td>\n",
       "      <td>68746.15</td>\n",
       "    </tr>\n",
       "    <tr>\n",
       "      <th>всеволожск</th>\n",
       "      <td>397</td>\n",
       "      <td>68654.47</td>\n",
       "    </tr>\n",
       "    <tr>\n",
       "      <th>выборг</th>\n",
       "      <td>236</td>\n",
       "      <td>58141.91</td>\n",
       "    </tr>\n",
       "  </tbody>\n",
       "</table>\n",
       "</div>"
      ],
      "text/plain": [
       "                 count  price_square_meter\n",
       "locality_name                             \n",
       "санкт-петербург  13737           114849.01\n",
       "пушкин             338           103125.82\n",
       "кудрово            470            95324.93\n",
       "парголово          327            90175.91\n",
       "мурино             590            86087.51\n",
       "шушары             440            78677.36\n",
       "колпино            336            75424.58\n",
       "гатчина            305            68746.15\n",
       "всеволожск         397            68654.47\n",
       "выборг             236            58141.91"
      ]
     },
     "execution_count": 74,
     "metadata": {},
     "output_type": "execute_result"
    }
   ],
   "source": [
    "# Посчитаем среднее\n",
    "price_sm_name = df.pivot_table(index='locality_name', values='last_price', aggfunc=['count'])\n",
    "price_sm_name.columns = ['count']\n",
    "price_sm_name = price_sm_name.sort_values(by='count', ascending=False).head(10)\n",
    "price_sm_name['price_square_meter'] = df.pivot_table(index='locality_name', values='price_square_meter').round(2)\n",
    "price_sm_name.sort_values(by='price_square_meter', ascending=False)"
   ]
  },
  {
   "cell_type": "markdown",
   "metadata": {},
   "source": [
    "**Вывод:**\n",
    "\n",
    "*Наибольшая средняя стоимость квадратного метра, как и ожидалось, в Санкт-Петербурге. Затем идёт Пушкин, что, вероятно, вызвано хорошей застройкой и большим количеством парков. Затем идут районы, фактически являющиеся Санкт-Петербургом и непосредственно к нему примыкающие. Из топ-10 наименьшая стоимость в небольшом по численности населения Выборге, расположенном на большом расстоянии от Санкт-Петербурга.*"
   ]
  },
  {
   "cell_type": "markdown",
   "metadata": {},
   "source": [
    "#### Выделим квартиры в Санкт-Петербурге и вычислим среднюю цену каждого километра при удалении от центра города.\n",
    "\n",
    "**Данные возьмем из столбца** `'locality_name'`."
   ]
  },
  {
   "cell_type": "code",
   "execution_count": 75,
   "metadata": {},
   "outputs": [
    {
     "data": {
      "text/plain": [
       "count    15660.000000\n",
       "mean        11.596041\n",
       "std          4.863594\n",
       "min          0.000000\n",
       "25%          8.000000\n",
       "50%         12.000000\n",
       "75%         15.000000\n",
       "max         29.000000\n",
       "Name: distance_city_center, dtype: float64"
      ]
     },
     "execution_count": 75,
     "metadata": {},
     "output_type": "execute_result"
    }
   ],
   "source": [
    "# Получим статистические данные\n",
    "df.query('locality_name == \"санкт-петербург\"')['distance_city_center'].describe()"
   ]
  },
  {
   "cell_type": "code",
   "execution_count": 76,
   "metadata": {},
   "outputs": [
    {
     "data": {
      "image/png": "[encoded data removed]",
      "text/plain": [
       "<Figure size 720x360 with 1 Axes>"
      ]
     },
     "metadata": {
      "needs_background": "light"
     },
     "output_type": "display_data"
    },
    {
     "name": "stdout",
     "output_type": "stream",
     "text": [
      "Таблица средней стоимость квартир в зависимости от удаления центра города Санкт-Петербург\n"
     ]
    },
    {
     "data": {
      "text/html": [
       "<div>\n",
       "<style scoped>\n",
       "    .dataframe tbody tr th:only-of-type {\n",
       "        vertical-align: middle;\n",
       "    }\n",
       "\n",
       "    .dataframe tbody tr th {\n",
       "        vertical-align: top;\n",
       "    }\n",
       "\n",
       "    .dataframe thead th {\n",
       "        text-align: right;\n",
       "    }\n",
       "</style>\n",
       "<table border=\"1\" class=\"dataframe\">\n",
       "  <thead>\n",
       "    <tr style=\"text-align: right;\">\n",
       "      <th></th>\n",
       "      <th>last_price</th>\n",
       "    </tr>\n",
       "    <tr>\n",
       "      <th>distance_city_center</th>\n",
       "      <th></th>\n",
       "    </tr>\n",
       "  </thead>\n",
       "  <tbody>\n",
       "    <tr>\n",
       "      <th>0.0</th>\n",
       "      <td>8.398000e+06</td>\n",
       "    </tr>\n",
       "    <tr>\n",
       "      <th>1.0</th>\n",
       "      <td>8.145277e+06</td>\n",
       "    </tr>\n",
       "    <tr>\n",
       "      <th>2.0</th>\n",
       "      <td>7.970519e+06</td>\n",
       "    </tr>\n",
       "    <tr>\n",
       "      <th>3.0</th>\n",
       "      <td>7.346575e+06</td>\n",
       "    </tr>\n",
       "    <tr>\n",
       "      <th>4.0</th>\n",
       "      <td>7.606618e+06</td>\n",
       "    </tr>\n",
       "    <tr>\n",
       "      <th>5.0</th>\n",
       "      <td>7.661225e+06</td>\n",
       "    </tr>\n",
       "    <tr>\n",
       "      <th>6.0</th>\n",
       "      <td>7.108234e+06</td>\n",
       "    </tr>\n",
       "    <tr>\n",
       "      <th>7.0</th>\n",
       "      <td>6.635321e+06</td>\n",
       "    </tr>\n",
       "    <tr>\n",
       "      <th>8.0</th>\n",
       "      <td>6.617244e+06</td>\n",
       "    </tr>\n",
       "    <tr>\n",
       "      <th>9.0</th>\n",
       "      <td>5.516022e+06</td>\n",
       "    </tr>\n",
       "  </tbody>\n",
       "</table>\n",
       "</div>"
      ],
      "text/plain": [
       "                        last_price\n",
       "distance_city_center              \n",
       "0.0                   8.398000e+06\n",
       "1.0                   8.145277e+06\n",
       "2.0                   7.970519e+06\n",
       "3.0                   7.346575e+06\n",
       "4.0                   7.606618e+06\n",
       "5.0                   7.661225e+06\n",
       "6.0                   7.108234e+06\n",
       "7.0                   6.635321e+06\n",
       "8.0                   6.617244e+06\n",
       "9.0                   5.516022e+06"
      ]
     },
     "execution_count": 76,
     "metadata": {},
     "output_type": "execute_result"
    }
   ],
   "source": [
    "# Построим гистограмму и таблицу зависимости\n",
    "(\n",
    "    df.query('locality_name == \"санкт-петербург\"')\n",
    "    .pivot_table(index='distance_city_center', values='last_price')\n",
    "    .plot(grid=True, style='o-', xlim=(0,15), figsize=(10, 5))\n",
    ")\n",
    "plt.title('Зависимость цены от удаления от центра города в Санкт-Петербурге')\n",
    "plt.xlabel('Расстояние от центра города (километр)')\n",
    "plt.ylabel('Цена (млн. руб.)')\n",
    "plt.show()\n",
    "print('Таблица средней стоимость квартир в зависимости от удаления центра города Санкт-Петербург')\n",
    "df.query('locality_name == \"санкт-петербург\" and distance_city_center<10').pivot_table(values='last_price', index='distance_city_center')"
   ]
  },
  {
   "cell_type": "markdown",
   "metadata": {},
   "source": [
    "**Вывод:**\n",
    "\n",
    "*Самая высокая цена на недвижимость, располагающуюся в центре города. Ее стоимость уменьшается пропорционально увеличению расстояния от центра города до 7 километров, далее стоимость уже не зависит от удаления.*"
   ]
  },
  {
   "cell_type": "markdown",
   "metadata": {},
   "source": [
    "### Общий вывод"
   ]
  },
  {
   "cell_type": "markdown",
   "metadata": {},
   "source": [
    "***В процессе работы над проектом по исследованию данных сервиса Яндекс Недвижимость, а именно архива объявлений за несколько лет о продаже квартир в Санкт-Петербурге и соседних населённых пунктах, была выполнена предобработка данных и изучены ее результаты, что позволило найти интересные особенности и зависимости, которые существуют на рынке недвижимости. А именно:***\n",
    "\n",
    "**Шаг 1. Открыт файл с данными и изучена общая информация.**\n",
    "\n",
    "В ходе изучения полученных данных выявлено, что в данных присутствует 23699 строк подразделенных на 21 столбец. В столбцах имеются пропущенные значения и указан неккоректный тип данных, при этом явные дубликаты отсутствуют. Анализ гистограмм показл, что в данных имееются аномальные значения и данные требуют обработки.\n",
    "\n",
    "**Шаг 2. Выполнена предобработка данных.**\n",
    "\n",
    "При предобработке данных, в датафрейме были выполнены следующие действия:\n",
    "1. Были уменьшены пропуски в столбцах. Основными причинами пропусков могли стать:\n",
    "    - Человеческий фактор (пропустил, не увидел, отвлекся, забыл, не посчитал нужным и т.д.);\n",
    "    - Недоработка форм для заполнения данных (отсутствие обязательных полей и предлагаемых вариантов или просто проверки данных);\n",
    "    - Программный или аппаратный сбой. Обновление системы во время заполнения данных.;\n",
    "2. В соответствии с данными находящимся в столбцах был изменен их тип;\n",
    "3. Произведен поиск уникальных значений, выявлены и устранены неявные дубликаты в столбце с названиями населенных пунктов;\n",
    "4. Исправлены значения в столбце с высотой потолоков, которое было отражено в неправильной метрической системе;\n",
    "5. Значения и пропуски в некоторых столбцах решено оставить без изменений в связи с невозможностью предложить им логическую замену. К общему приведено название столбца cityCenters_nearest на city_centers_nearest.\n",
    "\n",
    "**Шаг 3. В таблицу были добавлены новые столбцы.**\n",
    "\n",
    "Добавлены новые столбцы в таблицу для проведения следующего этапа:\n",
    "- price_square_meter - цена квадратного метра объекта с точностью до двух знаков после запятой;\n",
    "- day_publication - день недели публикации объявления (0 — понедельник, 1 — вторник и так далее);\n",
    "- month_publication - месяц публикации объявления;\n",
    "- year_publication - год публикации объявления;\n",
    "- type_apartment_floor - тип этажа квартиры (значения — «первый», «последний», «другой»);\n",
    "- distance_city_center - расстояние до центра города в целых километрах;\n",
    "\n",
    "**Шаг 4. Проведен исследовательский анализ данных.**\n",
    "\n",
    "1. **Изучены параметров объектов.**\n",
    "Изучены и описаны зависимости между количеством недвижимости и другими параметрами объектов продаж, сделаны следующие выводы:\n",
    "- Самый популярный диапазон недвижимости представленной на рынке имеет общую площадь от 30 до 65 кв.метров, в пике примерно 45 кв.метров.\n",
    "- Болше всего предложений у недвижимости с жилой площадью в районе 18 кв.метров и 35 кв.метров, в зоне 24 кв.метра отмечен сильный спад преложений.\n",
    "- Больше всего предложений у недвижимости с площадью кухни 6, 7, 8, 9, 10, 11 и 12 кв.метров. Стоит отметить тот факт, что при указании площади кухни, пользователи самостоятельно округляют значения до целых чисел.\n",
    "- В наиболее массовых предложениях о продаже недвижимости указана цена от 3 до 5 млн.рублей.\n",
    "- Среди предложений наибольшее распространение имеют одно и двухконмнатные квартиры. Прогрессия уменьшается с увеличением количества комнат.\n",
    "- Абсолютным лидером среди предложений недвижимости являются объекты с высотой потолоков в 2.65 и в 2.5 метра. Остальные объекты не выходят за пределы 2 тысяч обявлений.\n",
    "- Основная часть объектов недвижимости расположена с первого по пятый этаж. Шестой этаж имеет в два раза меньше предложений чем пятый, и далее с увеличением этажа количество предложений снижается почти линейно.\n",
    "- Количество объявлений с недвижимость расположеной на крайних этажах также имеет низкую долю от общего количества.\n",
    "- Лидерами среди предложений недвижимости являются объекты расположенные в пятиэтажных, а затем в девятиэтажных домах.\n",
    "- Больше всего предложений о продаже имеют объекты недвижимости находящиеся на расстоянии 12000-17000 метров от центра населенного пункта (возможно основная масса это спальные районы располагающиеся на окраинах). Также имеется значительный всплеск предложений для объектов расположенных на расстоянии в районе 5000 метров от центра.\n",
    "- Основная масса предложений о продаже недвижимости опубликована для объектов расположенных на расстоянии 10000-40000 метров до ближайшего аэропорта.\n",
    "- Согласно диаграмме основная масса предложений о продаже недвижимости опубликована для объектов расположенных на расстоянии 100-700 метров до ближайшего парка.\n",
    "- Можно отметить, что в будни публикация объявлений происходит граздо чаще чем в выходные. Среди месяце лидируют такие как февраль, март и апрель, а в мае происходит провал, который линейно возрастает от месяца к месяцу до четвертого по популярности месяца - ноября.\n",
    "- Проведя анализ представленных данных можно предположить, что среднестатистическое предложение - это скорее всего однокомнатная или двухкомнатная квартира, с небольшой площадью комнат, в пятиэтажном доме, средней площадью 52 кв. метра, с кухней в 6 кв. метров, высотой потолков 2,65 метра, расположеной на удалении 13 км. от центра.\n",
    "2. **Изучена скорость продаважи квартир.**\n",
    "Сделаны выводы:\n",
    "- Среднее значение снятия с публикации объявлений и как следстие возможность продажи выставленного объекта недвижимости составляет 180 дней против медианного значения в 95 дней. Среднее значение более точно характеризует среднее время продажи, так как не зависит от выбросов и нестандартных значений.\n",
    "- Продажа среднестатистичекой квартиры занимает 2-3 месяца в зависимотсти от сопутствующих факторов (площади, цены, удалённости от центра).\n",
    "- Быстрыми продажами можно считать продажи состоявшиеся за 45 дней (в первом квартиле), а необычно долгие продажи, или осуществляются после 232 дня и более (после 3 квартиля), или вообще могут быть не неосуществленны.\n",
    "3. **Изучено какие факторы больше всего влияют на общую (полную) стоимость объекта.**\n",
    "Сделаны выводы:\n",
    "- Имеется прямая зависимость между ценой на объект недвижимости и его площадью. Чем больше общая площадь, тем выше стоимость. Корреляция этих параметров крайне высокая.\n",
    "- Количество комнат также прямо влияет на цену, но только в связке: чем больше комнат, тем больше жилая площадь и соответственно тем больше цена. Если недвижемость имеет комнат меньше, но они больше по площади, или недвижемость находится в центре, то зависимость не работает.\n",
    "- Расположение объекта недвижимости относительно этажа имеет сильную зависимость от цены. Менее ценятся объекты расположенные на последнем этаже, а еще менее объеткы на первых этажах. Количество объявлений с недвижимость расположеной на крайних этажах также имеет низкую оценку от общего количества.\n",
    "4. **Посчитана средня цена одного квадратного метра в 10 населённых пунктах с наибольшим числом объявлений.**\n",
    "Сделан вывод:\n",
    "Наибольшая средняя стоимость квадратного метра, как и ожидалось, в Санкт-Петербурге. Затем идёт Пушкин, что, вероятно, вызвано хорошей застройкой и большим количеством парков. Затем идут районы, фактически являющиеся Санкт-Петербургом и непосредственно к нему примыкающие. Из топ-10 наименьшая стоимость в небольшом по численности населения Выборге, расположенном на большом расстоянии от Санкт-Петербурга.\n",
    "5. **Выделены квартиры в Санкт-Петербурге и вычислены средние цены каждого километра при удалении от центра города.**\n",
    "Сделан вывод:\n",
    "Самая высокая цена на недвижимость, располагающуюся в центре города. Ее стоимость уменьшается пропорционально увеличению расстояния от центра города до 7 километров, далее стоимость уже не зависит от удаления."
   ]
  },
  {
   "cell_type": "markdown",
   "metadata": {},
   "source": [
    "**Чек-лист готовности проекта**\n",
    "\n",
    "Поставьте 'x' в выполненных пунктах. Далее нажмите Shift+Enter."
   ]
  },
  {
   "cell_type": "markdown",
   "metadata": {},
   "source": [
    "- [x]  открыт файл\n",
    "- [x]  файлы изучены (выведены первые строки, метод `info()`, гистограммы и т.д.)\n",
    "- [x]  определены пропущенные значения\n",
    "- [x]  заполнены пропущенные значения там, где это возможно\n",
    "- [x]  есть пояснение, какие пропущенные значения обнаружены\n",
    "- [x]  изменены типы данных\n",
    "- [x]  есть пояснение, в каких столбцах изменены типы и почему\n",
    "- [x]  устранены неявные дубликаты в названиях населённых пунктов\n",
    "- [x]  устранены редкие и выбивающиеся значения (аномалии) во всех столбцах\n",
    "- [x]  посчитано и добавлено в таблицу: цена одного квадратного метра\n",
    "- [x]  посчитано и добавлено в таблицу: день публикации объявления (0 - понедельник, 1 - вторник и т.д.)\n",
    "- [x]  посчитано и добавлено в таблицу: месяц публикации объявления\n",
    "- [x]  посчитано и добавлено в таблицу: год публикации объявления\n",
    "- [x]  посчитано и добавлено в таблицу: тип этажа квартиры (значения — «первый», «последний», «другой»)\n",
    "- [x]  посчитано и добавлено в таблицу: расстояние в км до центра города\n",
    "- [x]  изучены и описаны следующие параметры:\n",
    "        - общая площадь;\n",
    "        - жилая площадь;\n",
    "        - площадь кухни;\n",
    "        - цена объекта;\n",
    "        - количество комнат;\n",
    "        - высота потолков;\n",
    "        - этаж квартиры;\n",
    "        - тип этажа квартиры («первый», «последний», «другой»);\n",
    "        - общее количество этажей в доме;\n",
    "        - расстояние до центра города в метрах;\n",
    "        - расстояние до ближайшего аэропорта;\n",
    "        - расстояние до ближайшего парка;\n",
    "        - день и месяц публикации объявления\n",
    "- [x]  построены гистограммы для каждого параметра\n",
    "- [x]  выполнено задание: \"Изучите, как быстро продавались квартиры (столбец days_exposition). Этот параметр показывает, сколько дней «висело» каждое объявление.\n",
    "    - Постройте гистограмму.\n",
    "    - Посчитайте среднее и медиану.\n",
    "    - В ячейке типа markdown опишите, сколько обычно занимает продажа. Какие продажи можно считать быстрыми, а какие — необычно долгими?\"\n",
    "- [x]  выполнено задание: \"Какие факторы больше всего влияют на общую (полную) стоимость объекта? Постройте графики, которые покажут зависимость цены от указанных ниже параметров. Для подготовки данных перед визуализацией вы можете использовать сводные таблицы.\"\n",
    "        - общей площади;\n",
    "        - жилой площади;\n",
    "        - площади кухни;\n",
    "        - количество комнат;\n",
    "        - типа этажа, на котором расположена квартира (первый, последний, другой);\n",
    "        - даты размещения (день недели, месяц, год);\n",
    "- [x]  выполнено задание: \"Посчитайте среднюю цену одного квадратного метра в 10 населённых пунктах с наибольшим числом объявлений. Выделите населённые пункты с самой высокой и низкой стоимостью квадратного метра. Эти данные можно найти по имени в столбце `locality_name`.\"\n",
    "- [x]  выполнено задание: \"Ранее вы посчитали расстояние до центра в километрах. Теперь выделите квартиры в Санкт-Петербурге с помощью столбца `locality_name` и вычислите среднюю цену каждого километра. Опишите, как стоимость объектов зависит от расстояния до центра города.\"\n",
    "- [x]  в каждом этапе есть промежуточные выводы\n",
    "- [x]  есть общий вывод"
   ]
  }
 ],
 "metadata": {
  "ExecuteTimeLog": [
   {
    "duration": 795,
    "start_time": "2024-08-05T17:36:25.234Z"
   },
   {
    "duration": 188,
    "start_time": "2024-08-05T17:41:45.986Z"
   },
   {
    "duration": 16,
    "start_time": "2024-08-05T17:51:05.481Z"
   },
   {
    "duration": 20,
    "start_time": "2024-08-05T17:53:49.444Z"
   },
   {
    "duration": 26,
    "start_time": "2024-08-05T17:55:54.068Z"
   },
   {
    "duration": 49,
    "start_time": "2024-08-06T06:21:21.202Z"
   },
   {
    "duration": 806,
    "start_time": "2024-08-06T06:21:47.218Z"
   },
   {
    "duration": 339,
    "start_time": "2024-08-06T06:21:49.697Z"
   },
   {
    "duration": 15,
    "start_time": "2024-08-06T06:21:53.938Z"
   },
   {
    "duration": 25,
    "start_time": "2024-08-06T06:21:56.870Z"
   },
   {
    "duration": 2002,
    "start_time": "2024-08-06T06:21:59.330Z"
   },
   {
    "duration": 11,
    "start_time": "2024-08-06T06:55:57.008Z"
   },
   {
    "duration": 6,
    "start_time": "2024-08-06T07:17:23.854Z"
   },
   {
    "duration": 9,
    "start_time": "2024-08-06T07:57:09.576Z"
   },
   {
    "duration": 5,
    "start_time": "2024-08-06T09:10:01.586Z"
   },
   {
    "duration": 44,
    "start_time": "2024-08-06T18:43:32.257Z"
   },
   {
    "duration": 767,
    "start_time": "2024-08-06T18:43:41.457Z"
   },
   {
    "duration": 349,
    "start_time": "2024-08-06T18:43:44.253Z"
   },
   {
    "duration": 157,
    "start_time": "2024-08-06T18:44:31.703Z"
   },
   {
    "duration": 6,
    "start_time": "2024-08-06T18:52:34.799Z"
   },
   {
    "duration": 6,
    "start_time": "2024-08-06T19:09:25.348Z"
   },
   {
    "duration": 115,
    "start_time": "2024-08-06T19:14:09.740Z"
   },
   {
    "duration": 113,
    "start_time": "2024-08-06T19:14:36.381Z"
   },
   {
    "duration": 144,
    "start_time": "2024-08-06T19:15:11.322Z"
   },
   {
    "duration": 160,
    "start_time": "2024-08-06T19:15:48.765Z"
   },
   {
    "duration": 106,
    "start_time": "2024-08-06T19:17:04.658Z"
   },
   {
    "duration": 124,
    "start_time": "2024-08-06T19:36:50.489Z"
   },
   {
    "duration": 120,
    "start_time": "2024-08-06T19:36:59.459Z"
   },
   {
    "duration": 120,
    "start_time": "2024-08-06T19:37:03.358Z"
   },
   {
    "duration": 121,
    "start_time": "2024-08-06T19:37:05.002Z"
   },
   {
    "duration": 3,
    "start_time": "2024-08-06T19:37:21.273Z"
   },
   {
    "duration": 132,
    "start_time": "2024-08-06T19:37:23.147Z"
   },
   {
    "duration": 120,
    "start_time": "2024-08-06T19:37:36.776Z"
   },
   {
    "duration": 92,
    "start_time": "2024-08-06T19:38:36.521Z"
   },
   {
    "duration": 143,
    "start_time": "2024-08-06T19:38:37.205Z"
   },
   {
    "duration": 119,
    "start_time": "2024-08-06T19:38:37.963Z"
   },
   {
    "duration": 118,
    "start_time": "2024-08-06T19:38:57.305Z"
   },
   {
    "duration": 44,
    "start_time": "2024-08-06T19:41:59.105Z"
   },
   {
    "duration": 593,
    "start_time": "2024-08-06T19:42:02.948Z"
   },
   {
    "duration": 133,
    "start_time": "2024-08-06T19:42:06.273Z"
   },
   {
    "duration": 89,
    "start_time": "2024-08-06T19:42:55.226Z"
   },
   {
    "duration": 3,
    "start_time": "2024-08-06T19:45:35.096Z"
   },
   {
    "duration": 3,
    "start_time": "2024-08-06T19:45:36.857Z"
   },
   {
    "duration": 2,
    "start_time": "2024-08-06T19:45:39.152Z"
   },
   {
    "duration": 111,
    "start_time": "2024-08-06T19:48:18.303Z"
   },
   {
    "duration": 14,
    "start_time": "2024-08-06T19:49:08.764Z"
   },
   {
    "duration": 21,
    "start_time": "2024-08-06T19:49:19.022Z"
   },
   {
    "duration": 1738,
    "start_time": "2024-08-06T19:49:21.229Z"
   },
   {
    "duration": 9,
    "start_time": "2024-08-06T19:49:29.962Z"
   },
   {
    "duration": 5,
    "start_time": "2024-08-06T19:49:36.705Z"
   },
   {
    "duration": 5,
    "start_time": "2024-08-06T19:49:41.575Z"
   },
   {
    "duration": 5,
    "start_time": "2024-08-06T19:49:48.499Z"
   },
   {
    "duration": 6,
    "start_time": "2024-08-06T20:05:31.567Z"
   },
   {
    "duration": 11,
    "start_time": "2024-08-06T20:06:48.571Z"
   },
   {
    "duration": 4,
    "start_time": "2024-08-06T20:15:29.184Z"
   },
   {
    "duration": 5,
    "start_time": "2024-08-06T20:29:52.451Z"
   },
   {
    "duration": 6,
    "start_time": "2024-08-06T20:50:40.499Z"
   },
   {
    "duration": 8,
    "start_time": "2024-08-06T20:51:04.967Z"
   },
   {
    "duration": 5,
    "start_time": "2024-08-06T20:53:11.099Z"
   },
   {
    "duration": 13,
    "start_time": "2024-08-06T21:18:17.356Z"
   },
   {
    "duration": 8,
    "start_time": "2024-08-06T21:19:42.094Z"
   },
   {
    "duration": 308,
    "start_time": "2024-08-06T22:02:48.482Z"
   },
   {
    "duration": 60,
    "start_time": "2024-08-07T20:40:16.585Z"
   },
   {
    "duration": 798,
    "start_time": "2024-08-07T20:40:27.062Z"
   },
   {
    "duration": 184,
    "start_time": "2024-08-07T20:40:29.289Z"
   },
   {
    "duration": 15,
    "start_time": "2024-08-07T20:40:32.907Z"
   },
   {
    "duration": 28,
    "start_time": "2024-08-07T20:40:35.946Z"
   },
   {
    "duration": 2063,
    "start_time": "2024-08-07T20:40:40.606Z"
   },
   {
    "duration": 9,
    "start_time": "2024-08-07T20:40:48.508Z"
   },
   {
    "duration": 10,
    "start_time": "2024-08-07T20:40:50.914Z"
   },
   {
    "duration": 292,
    "start_time": "2024-08-07T20:40:53.589Z"
   },
   {
    "duration": 6,
    "start_time": "2024-08-07T20:40:57.827Z"
   },
   {
    "duration": 6,
    "start_time": "2024-08-07T20:41:00.594Z"
   },
   {
    "duration": 5,
    "start_time": "2024-08-07T20:41:03.175Z"
   },
   {
    "duration": 11,
    "start_time": "2024-08-07T20:41:05.147Z"
   },
   {
    "duration": 6,
    "start_time": "2024-08-07T20:41:08.395Z"
   },
   {
    "duration": 7,
    "start_time": "2024-08-07T20:41:10.729Z"
   },
   {
    "duration": 7,
    "start_time": "2024-08-07T21:43:02.273Z"
   },
   {
    "duration": 9,
    "start_time": "2024-08-07T22:01:16.492Z"
   },
   {
    "duration": 5,
    "start_time": "2024-08-07T22:01:42.463Z"
   },
   {
    "duration": 5,
    "start_time": "2024-08-07T22:03:11.559Z"
   },
   {
    "duration": 5,
    "start_time": "2024-08-07T22:03:17.602Z"
   },
   {
    "duration": 4,
    "start_time": "2024-08-07T22:04:26.439Z"
   },
   {
    "duration": 14,
    "start_time": "2024-08-07T22:06:59.162Z"
   },
   {
    "duration": 5,
    "start_time": "2024-08-07T22:08:17.013Z"
   },
   {
    "duration": 8,
    "start_time": "2024-08-07T22:09:11.988Z"
   },
   {
    "duration": 14,
    "start_time": "2024-08-07T22:10:44.723Z"
   },
   {
    "duration": 7,
    "start_time": "2024-08-07T22:11:48.743Z"
   },
   {
    "duration": 7,
    "start_time": "2024-08-07T22:12:16.708Z"
   },
   {
    "duration": 62,
    "start_time": "2024-08-07T22:12:38.264Z"
   },
   {
    "duration": 8,
    "start_time": "2024-08-07T22:12:44.765Z"
   },
   {
    "duration": 8,
    "start_time": "2024-08-07T22:17:18.046Z"
   },
   {
    "duration": 6,
    "start_time": "2024-08-07T22:18:00.675Z"
   },
   {
    "duration": 6,
    "start_time": "2024-08-07T22:18:15.766Z"
   },
   {
    "duration": 13,
    "start_time": "2024-08-07T22:18:57.708Z"
   },
   {
    "duration": 68,
    "start_time": "2024-08-07T23:07:13.758Z"
   },
   {
    "duration": 46,
    "start_time": "2024-08-07T23:07:44.910Z"
   },
   {
    "duration": 34,
    "start_time": "2024-08-07T23:08:05.848Z"
   },
   {
    "duration": 36,
    "start_time": "2024-08-07T23:08:26.869Z"
   },
   {
    "duration": 5,
    "start_time": "2024-08-07T23:09:31.922Z"
   },
   {
    "duration": 6,
    "start_time": "2024-08-07T23:09:51.057Z"
   },
   {
    "duration": 5,
    "start_time": "2024-08-07T23:10:27.262Z"
   },
   {
    "duration": 52,
    "start_time": "2024-08-08T17:03:20.929Z"
   },
   {
    "duration": 781,
    "start_time": "2024-08-08T17:04:05.433Z"
   },
   {
    "duration": 350,
    "start_time": "2024-08-08T17:04:08.263Z"
   },
   {
    "duration": 15,
    "start_time": "2024-08-08T17:04:11.625Z"
   },
   {
    "duration": 22,
    "start_time": "2024-08-08T17:04:14.702Z"
   },
   {
    "duration": 1980,
    "start_time": "2024-08-08T17:04:17.821Z"
   },
   {
    "duration": 9,
    "start_time": "2024-08-08T17:04:25.512Z"
   },
   {
    "duration": 12,
    "start_time": "2024-08-08T17:04:28.408Z"
   },
   {
    "duration": 289,
    "start_time": "2024-08-08T17:04:30.911Z"
   },
   {
    "duration": 6,
    "start_time": "2024-08-08T17:04:33.996Z"
   },
   {
    "duration": 9,
    "start_time": "2024-08-08T17:04:35.991Z"
   },
   {
    "duration": 32,
    "start_time": "2024-08-08T17:04:38.326Z"
   },
   {
    "duration": 5,
    "start_time": "2024-08-08T17:04:40.303Z"
   },
   {
    "duration": 33,
    "start_time": "2024-08-08T17:04:42.378Z"
   },
   {
    "duration": 5,
    "start_time": "2024-08-08T17:15:42.805Z"
   },
   {
    "duration": 49,
    "start_time": "2024-08-10T12:46:41.751Z"
   },
   {
    "duration": 807,
    "start_time": "2024-08-10T12:46:57.189Z"
   },
   {
    "duration": 367,
    "start_time": "2024-08-10T12:46:57.998Z"
   },
   {
    "duration": 15,
    "start_time": "2024-08-10T12:46:58.367Z"
   },
   {
    "duration": 26,
    "start_time": "2024-08-10T12:46:58.384Z"
   },
   {
    "duration": 1937,
    "start_time": "2024-08-10T12:46:58.412Z"
   },
   {
    "duration": 11,
    "start_time": "2024-08-10T12:47:00.351Z"
   },
   {
    "duration": 87,
    "start_time": "2024-08-10T12:47:00.364Z"
   },
   {
    "duration": 357,
    "start_time": "2024-08-10T12:47:00.453Z"
   },
   {
    "duration": 6,
    "start_time": "2024-08-10T12:47:00.812Z"
   },
   {
    "duration": 21,
    "start_time": "2024-08-10T12:47:00.820Z"
   },
   {
    "duration": 85,
    "start_time": "2024-08-10T12:47:00.843Z"
   },
   {
    "duration": 5,
    "start_time": "2024-08-10T12:47:00.930Z"
   },
   {
    "duration": 85,
    "start_time": "2024-08-10T12:47:00.936Z"
   },
   {
    "duration": 4,
    "start_time": "2024-08-10T12:47:01.023Z"
   },
   {
    "duration": 299,
    "start_time": "2024-08-10T12:47:01.029Z"
   },
   {
    "duration": 5,
    "start_time": "2024-08-10T12:47:01.329Z"
   },
   {
    "duration": 52,
    "start_time": "2024-08-10T12:47:01.335Z"
   },
   {
    "duration": 50,
    "start_time": "2024-08-10T12:47:01.389Z"
   },
   {
    "duration": 40,
    "start_time": "2024-08-10T12:47:01.441Z"
   },
   {
    "duration": 36,
    "start_time": "2024-08-10T12:47:01.483Z"
   },
   {
    "duration": 57,
    "start_time": "2024-08-10T12:47:01.521Z"
   },
   {
    "duration": 39,
    "start_time": "2024-08-10T14:09:58.358Z"
   },
   {
    "duration": 8,
    "start_time": "2024-08-10T14:10:20.675Z"
   },
   {
    "duration": 13,
    "start_time": "2024-08-10T20:49:42.061Z"
   },
   {
    "duration": 22,
    "start_time": "2024-08-10T20:49:59.807Z"
   },
   {
    "duration": 9,
    "start_time": "2024-08-10T20:50:15.189Z"
   },
   {
    "duration": 20,
    "start_time": "2024-08-10T20:50:39.203Z"
   },
   {
    "duration": 8,
    "start_time": "2024-08-10T20:50:50.785Z"
   },
   {
    "duration": 12,
    "start_time": "2024-08-10T20:55:04.437Z"
   },
   {
    "duration": 13,
    "start_time": "2024-08-10T21:22:32.105Z"
   },
   {
    "duration": 7,
    "start_time": "2024-08-10T21:22:40.170Z"
   },
   {
    "duration": 10,
    "start_time": "2024-08-10T21:23:36.123Z"
   },
   {
    "duration": 9,
    "start_time": "2024-08-10T21:24:01.420Z"
   },
   {
    "duration": 8,
    "start_time": "2024-08-10T21:25:10.121Z"
   },
   {
    "duration": 289,
    "start_time": "2024-08-10T21:26:58.389Z"
   },
   {
    "duration": 254,
    "start_time": "2024-08-10T21:28:19.637Z"
   },
   {
    "duration": 5,
    "start_time": "2024-08-10T21:28:29.321Z"
   },
   {
    "duration": 266,
    "start_time": "2024-08-10T21:28:32.978Z"
   },
   {
    "duration": 254,
    "start_time": "2024-08-10T21:29:49.325Z"
   },
   {
    "duration": 6,
    "start_time": "2024-08-10T21:30:05.981Z"
   },
   {
    "duration": 8,
    "start_time": "2024-08-10T21:30:16.547Z"
   },
   {
    "duration": 3,
    "start_time": "2024-08-10T21:30:55.811Z"
   },
   {
    "duration": 127,
    "start_time": "2024-08-10T21:31:10.210Z"
   },
   {
    "duration": 26,
    "start_time": "2024-08-10T21:31:14.807Z"
   },
   {
    "duration": 33,
    "start_time": "2024-08-10T21:31:17.819Z"
   },
   {
    "duration": 5,
    "start_time": "2024-08-10T21:31:30.904Z"
   },
   {
    "duration": 161,
    "start_time": "2024-08-10T21:31:30.912Z"
   },
   {
    "duration": 15,
    "start_time": "2024-08-10T21:31:31.075Z"
   },
   {
    "duration": 27,
    "start_time": "2024-08-10T21:31:31.110Z"
   },
   {
    "duration": 2050,
    "start_time": "2024-08-10T21:31:31.139Z"
   },
   {
    "duration": 17,
    "start_time": "2024-08-10T21:31:33.196Z"
   },
   {
    "duration": 13,
    "start_time": "2024-08-10T21:31:33.214Z"
   },
   {
    "duration": 303,
    "start_time": "2024-08-10T21:31:33.228Z"
   },
   {
    "duration": 6,
    "start_time": "2024-08-10T21:31:33.532Z"
   },
   {
    "duration": 8,
    "start_time": "2024-08-10T21:31:33.540Z"
   },
   {
    "duration": 61,
    "start_time": "2024-08-10T21:31:33.549Z"
   },
   {
    "duration": 5,
    "start_time": "2024-08-10T21:31:33.612Z"
   },
   {
    "duration": 35,
    "start_time": "2024-08-10T21:31:33.618Z"
   },
   {
    "duration": 5,
    "start_time": "2024-08-10T21:31:33.656Z"
   },
   {
    "duration": 297,
    "start_time": "2024-08-10T21:31:33.663Z"
   },
   {
    "duration": 8,
    "start_time": "2024-08-10T21:31:33.962Z"
   },
   {
    "duration": 7,
    "start_time": "2024-08-10T21:31:33.972Z"
   },
   {
    "duration": 29,
    "start_time": "2024-08-10T21:31:33.981Z"
   },
   {
    "duration": 5,
    "start_time": "2024-08-10T21:31:34.011Z"
   },
   {
    "duration": 13,
    "start_time": "2024-08-10T21:31:34.017Z"
   },
   {
    "duration": 14,
    "start_time": "2024-08-10T21:31:34.031Z"
   },
   {
    "duration": 22,
    "start_time": "2024-08-10T21:31:34.047Z"
   },
   {
    "duration": 3,
    "start_time": "2024-08-10T21:33:15.768Z"
   },
   {
    "duration": 119,
    "start_time": "2024-08-10T21:33:15.773Z"
   },
   {
    "duration": 14,
    "start_time": "2024-08-10T21:33:15.894Z"
   },
   {
    "duration": 35,
    "start_time": "2024-08-10T21:33:15.910Z"
   },
   {
    "duration": 1935,
    "start_time": "2024-08-10T21:33:15.947Z"
   },
   {
    "duration": 19,
    "start_time": "2024-08-10T21:33:17.884Z"
   },
   {
    "duration": 15,
    "start_time": "2024-08-10T21:33:17.905Z"
   },
   {
    "duration": 295,
    "start_time": "2024-08-10T21:33:17.921Z"
   },
   {
    "duration": 6,
    "start_time": "2024-08-10T21:33:18.218Z"
   },
   {
    "duration": 14,
    "start_time": "2024-08-10T21:33:18.226Z"
   },
   {
    "duration": 38,
    "start_time": "2024-08-10T21:33:18.242Z"
   },
   {
    "duration": 19,
    "start_time": "2024-08-10T21:33:18.281Z"
   },
   {
    "duration": 40,
    "start_time": "2024-08-10T21:33:18.301Z"
   },
   {
    "duration": 6,
    "start_time": "2024-08-10T21:33:18.343Z"
   },
   {
    "duration": 265,
    "start_time": "2024-08-10T21:33:18.350Z"
   },
   {
    "duration": 9,
    "start_time": "2024-08-10T21:33:18.616Z"
   },
   {
    "duration": 20,
    "start_time": "2024-08-10T21:33:18.626Z"
   },
   {
    "duration": 10,
    "start_time": "2024-08-10T21:33:18.648Z"
   },
   {
    "duration": 5,
    "start_time": "2024-08-10T21:33:18.660Z"
   },
   {
    "duration": 11,
    "start_time": "2024-08-10T21:33:18.666Z"
   },
   {
    "duration": 22,
    "start_time": "2024-08-10T21:33:18.679Z"
   },
   {
    "duration": 7,
    "start_time": "2024-08-10T21:33:18.702Z"
   },
   {
    "duration": 8,
    "start_time": "2024-08-10T21:33:46.012Z"
   },
   {
    "duration": 8,
    "start_time": "2024-08-10T21:34:12.074Z"
   },
   {
    "duration": 9,
    "start_time": "2024-08-10T21:34:55.746Z"
   },
   {
    "duration": 5,
    "start_time": "2024-08-10T21:35:34.728Z"
   },
   {
    "duration": 8,
    "start_time": "2024-08-10T22:07:37.364Z"
   },
   {
    "duration": 2,
    "start_time": "2024-08-10T22:07:53.429Z"
   },
   {
    "duration": 125,
    "start_time": "2024-08-10T22:07:53.433Z"
   },
   {
    "duration": 15,
    "start_time": "2024-08-10T22:07:53.560Z"
   },
   {
    "duration": 30,
    "start_time": "2024-08-10T22:07:53.577Z"
   },
   {
    "duration": 1875,
    "start_time": "2024-08-10T22:07:53.609Z"
   },
   {
    "duration": 18,
    "start_time": "2024-08-10T22:07:55.485Z"
   },
   {
    "duration": 13,
    "start_time": "2024-08-10T22:07:55.505Z"
   },
   {
    "duration": 317,
    "start_time": "2024-08-10T22:07:55.520Z"
   },
   {
    "duration": 6,
    "start_time": "2024-08-10T22:07:55.839Z"
   },
   {
    "duration": 9,
    "start_time": "2024-08-10T22:07:55.846Z"
   },
   {
    "duration": 50,
    "start_time": "2024-08-10T22:07:55.857Z"
   },
   {
    "duration": 6,
    "start_time": "2024-08-10T22:07:55.908Z"
   },
   {
    "duration": 36,
    "start_time": "2024-08-10T22:07:55.915Z"
   },
   {
    "duration": 5,
    "start_time": "2024-08-10T22:07:55.953Z"
   },
   {
    "duration": 307,
    "start_time": "2024-08-10T22:07:55.960Z"
   },
   {
    "duration": 9,
    "start_time": "2024-08-10T22:07:56.268Z"
   },
   {
    "duration": 17,
    "start_time": "2024-08-10T22:07:56.279Z"
   },
   {
    "duration": 9,
    "start_time": "2024-08-10T22:07:56.298Z"
   },
   {
    "duration": 6,
    "start_time": "2024-08-10T22:07:56.308Z"
   },
   {
    "duration": 11,
    "start_time": "2024-08-10T22:07:56.315Z"
   },
   {
    "duration": 6,
    "start_time": "2024-08-10T22:07:56.328Z"
   },
   {
    "duration": 8,
    "start_time": "2024-08-10T22:07:56.336Z"
   },
   {
    "duration": 7,
    "start_time": "2024-08-10T22:24:31.908Z"
   },
   {
    "duration": 6,
    "start_time": "2024-08-10T22:25:05.820Z"
   },
   {
    "duration": 5,
    "start_time": "2024-08-10T22:25:14.935Z"
   },
   {
    "duration": 6,
    "start_time": "2024-08-10T22:28:49.882Z"
   },
   {
    "duration": 4,
    "start_time": "2024-08-10T23:28:32.825Z"
   },
   {
    "duration": 1049,
    "start_time": "2024-08-10T23:29:46.144Z"
   },
   {
    "duration": 1067,
    "start_time": "2024-08-10T23:30:10.669Z"
   },
   {
    "duration": 1011,
    "start_time": "2024-08-10T23:30:29.352Z"
   },
   {
    "duration": 1057,
    "start_time": "2024-08-10T23:31:00.965Z"
   },
   {
    "duration": 9,
    "start_time": "2024-08-10T23:31:32.632Z"
   },
   {
    "duration": 7,
    "start_time": "2024-08-10T23:31:47.170Z"
   },
   {
    "duration": 7,
    "start_time": "2024-08-10T23:32:08.677Z"
   },
   {
    "duration": 7,
    "start_time": "2024-08-10T23:32:39.200Z"
   },
   {
    "duration": 8,
    "start_time": "2024-08-10T23:32:57.633Z"
   },
   {
    "duration": 2,
    "start_time": "2024-08-10T23:33:15.144Z"
   },
   {
    "duration": 170,
    "start_time": "2024-08-10T23:33:15.148Z"
   },
   {
    "duration": 17,
    "start_time": "2024-08-10T23:33:15.321Z"
   },
   {
    "duration": 54,
    "start_time": "2024-08-10T23:33:15.341Z"
   },
   {
    "duration": 2049,
    "start_time": "2024-08-10T23:33:15.397Z"
   },
   {
    "duration": 11,
    "start_time": "2024-08-10T23:33:17.448Z"
   },
   {
    "duration": 33,
    "start_time": "2024-08-10T23:33:17.461Z"
   },
   {
    "duration": 290,
    "start_time": "2024-08-10T23:33:17.496Z"
   },
   {
    "duration": 12,
    "start_time": "2024-08-10T23:33:17.788Z"
   },
   {
    "duration": 14,
    "start_time": "2024-08-10T23:33:17.802Z"
   },
   {
    "duration": 34,
    "start_time": "2024-08-10T23:33:17.820Z"
   },
   {
    "duration": 6,
    "start_time": "2024-08-10T23:33:17.856Z"
   },
   {
    "duration": 61,
    "start_time": "2024-08-10T23:33:17.864Z"
   },
   {
    "duration": 7,
    "start_time": "2024-08-10T23:33:17.927Z"
   },
   {
    "duration": 275,
    "start_time": "2024-08-10T23:33:17.935Z"
   },
   {
    "duration": 11,
    "start_time": "2024-08-10T23:33:18.212Z"
   },
   {
    "duration": 11,
    "start_time": "2024-08-10T23:33:18.224Z"
   },
   {
    "duration": 5,
    "start_time": "2024-08-10T23:33:18.237Z"
   },
   {
    "duration": 7,
    "start_time": "2024-08-10T23:33:18.244Z"
   },
   {
    "duration": 6,
    "start_time": "2024-08-10T23:33:18.253Z"
   },
   {
    "duration": 10,
    "start_time": "2024-08-10T23:33:18.296Z"
   },
   {
    "duration": 6,
    "start_time": "2024-08-10T23:33:18.307Z"
   },
   {
    "duration": 13,
    "start_time": "2024-08-10T23:33:18.314Z"
   },
   {
    "duration": 7,
    "start_time": "2024-08-10T23:33:18.328Z"
   },
   {
    "duration": 3,
    "start_time": "2024-08-10T23:33:18.337Z"
   },
   {
    "duration": 6,
    "start_time": "2024-08-10T23:34:27.360Z"
   },
   {
    "duration": 6,
    "start_time": "2024-08-10T23:35:38.749Z"
   },
   {
    "duration": 6,
    "start_time": "2024-08-10T23:36:29.497Z"
   },
   {
    "duration": 6,
    "start_time": "2024-08-10T23:36:36.043Z"
   },
   {
    "duration": 34,
    "start_time": "2024-08-10T23:43:28.366Z"
   },
   {
    "duration": 71,
    "start_time": "2024-08-10T23:45:01.802Z"
   },
   {
    "duration": 51,
    "start_time": "2024-08-10T23:45:06.606Z"
   },
   {
    "duration": 3,
    "start_time": "2024-08-10T23:46:10.961Z"
   },
   {
    "duration": 153,
    "start_time": "2024-08-10T23:46:10.966Z"
   },
   {
    "duration": 14,
    "start_time": "2024-08-10T23:46:11.121Z"
   },
   {
    "duration": 21,
    "start_time": "2024-08-10T23:46:11.137Z"
   },
   {
    "duration": 1932,
    "start_time": "2024-08-10T23:46:11.160Z"
   },
   {
    "duration": 10,
    "start_time": "2024-08-10T23:46:13.096Z"
   },
   {
    "duration": 9,
    "start_time": "2024-08-10T23:46:13.107Z"
   },
   {
    "duration": 292,
    "start_time": "2024-08-10T23:46:13.117Z"
   },
   {
    "duration": 5,
    "start_time": "2024-08-10T23:46:13.411Z"
   },
   {
    "duration": 9,
    "start_time": "2024-08-10T23:46:13.417Z"
   },
   {
    "duration": 32,
    "start_time": "2024-08-10T23:46:13.427Z"
   },
   {
    "duration": 5,
    "start_time": "2024-08-10T23:46:13.461Z"
   },
   {
    "duration": 33,
    "start_time": "2024-08-10T23:46:13.495Z"
   },
   {
    "duration": 6,
    "start_time": "2024-08-10T23:46:13.529Z"
   },
   {
    "duration": 266,
    "start_time": "2024-08-10T23:46:13.536Z"
   },
   {
    "duration": 8,
    "start_time": "2024-08-10T23:46:13.803Z"
   },
   {
    "duration": 4,
    "start_time": "2024-08-10T23:46:13.813Z"
   },
   {
    "duration": 4,
    "start_time": "2024-08-10T23:46:13.819Z"
   },
   {
    "duration": 14,
    "start_time": "2024-08-10T23:46:13.824Z"
   },
   {
    "duration": 24,
    "start_time": "2024-08-10T23:46:13.840Z"
   },
   {
    "duration": 14,
    "start_time": "2024-08-10T23:46:13.865Z"
   },
   {
    "duration": 16,
    "start_time": "2024-08-10T23:46:13.881Z"
   },
   {
    "duration": 5,
    "start_time": "2024-08-10T23:46:13.899Z"
   },
   {
    "duration": 10,
    "start_time": "2024-08-10T23:46:13.905Z"
   },
   {
    "duration": 5,
    "start_time": "2024-08-10T23:46:13.916Z"
   },
   {
    "duration": 51,
    "start_time": "2024-08-10T23:46:13.922Z"
   },
   {
    "duration": 6,
    "start_time": "2024-08-11T00:47:01.602Z"
   },
   {
    "duration": 610,
    "start_time": "2024-08-11T00:49:38.738Z"
   },
   {
    "duration": 164,
    "start_time": "2024-08-11T00:49:39.349Z"
   },
   {
    "duration": 15,
    "start_time": "2024-08-11T00:49:39.514Z"
   },
   {
    "duration": 24,
    "start_time": "2024-08-11T00:49:39.531Z"
   },
   {
    "duration": 1923,
    "start_time": "2024-08-11T00:49:39.557Z"
   },
   {
    "duration": 10,
    "start_time": "2024-08-11T00:49:41.482Z"
   },
   {
    "duration": 9,
    "start_time": "2024-08-11T00:49:41.493Z"
   },
   {
    "duration": 294,
    "start_time": "2024-08-11T00:49:41.503Z"
   },
   {
    "duration": 5,
    "start_time": "2024-08-11T00:49:41.799Z"
   },
   {
    "duration": 21,
    "start_time": "2024-08-11T00:49:41.806Z"
   },
   {
    "duration": 33,
    "start_time": "2024-08-11T00:49:41.828Z"
   },
   {
    "duration": 5,
    "start_time": "2024-08-11T00:49:41.862Z"
   },
   {
    "duration": 54,
    "start_time": "2024-08-11T00:49:41.868Z"
   },
   {
    "duration": 4,
    "start_time": "2024-08-11T00:49:41.924Z"
   },
   {
    "duration": 262,
    "start_time": "2024-08-11T00:49:41.929Z"
   },
   {
    "duration": 8,
    "start_time": "2024-08-11T00:49:42.193Z"
   },
   {
    "duration": 7,
    "start_time": "2024-08-11T00:49:42.202Z"
   },
   {
    "duration": 5,
    "start_time": "2024-08-11T00:49:42.210Z"
   },
   {
    "duration": 19,
    "start_time": "2024-08-11T00:49:42.217Z"
   },
   {
    "duration": 5,
    "start_time": "2024-08-11T00:49:42.238Z"
   },
   {
    "duration": 19,
    "start_time": "2024-08-11T00:49:42.245Z"
   },
   {
    "duration": 5,
    "start_time": "2024-08-11T00:49:42.266Z"
   },
   {
    "duration": 24,
    "start_time": "2024-08-11T00:49:42.273Z"
   },
   {
    "duration": 5,
    "start_time": "2024-08-11T00:49:42.299Z"
   },
   {
    "duration": 4,
    "start_time": "2024-08-11T00:59:58.042Z"
   },
   {
    "duration": 5,
    "start_time": "2024-08-11T01:00:23.429Z"
   },
   {
    "duration": 5,
    "start_time": "2024-08-11T01:00:32.501Z"
   },
   {
    "duration": 5,
    "start_time": "2024-08-11T01:04:29.037Z"
   },
   {
    "duration": 1173,
    "start_time": "2024-08-11T01:04:40.577Z"
   },
   {
    "duration": 5,
    "start_time": "2024-08-11T01:04:47.421Z"
   },
   {
    "duration": 5,
    "start_time": "2024-08-11T01:05:10.218Z"
   },
   {
    "duration": 1037,
    "start_time": "2024-08-11T01:16:25.597Z"
   },
   {
    "duration": 162,
    "start_time": "2024-08-11T01:16:26.635Z"
   },
   {
    "duration": 14,
    "start_time": "2024-08-11T01:16:26.799Z"
   },
   {
    "duration": 22,
    "start_time": "2024-08-11T01:16:26.815Z"
   },
   {
    "duration": 1926,
    "start_time": "2024-08-11T01:16:26.839Z"
   },
   {
    "duration": 10,
    "start_time": "2024-08-11T01:16:28.766Z"
   },
   {
    "duration": 9,
    "start_time": "2024-08-11T01:16:28.778Z"
   },
   {
    "duration": 281,
    "start_time": "2024-08-11T01:16:28.789Z"
   },
   {
    "duration": 5,
    "start_time": "2024-08-11T01:16:29.071Z"
   },
   {
    "duration": 20,
    "start_time": "2024-08-11T01:16:29.079Z"
   },
   {
    "duration": 38,
    "start_time": "2024-08-11T01:16:29.101Z"
   },
   {
    "duration": 5,
    "start_time": "2024-08-11T01:16:29.140Z"
   },
   {
    "duration": 36,
    "start_time": "2024-08-11T01:16:29.146Z"
   },
   {
    "duration": 6,
    "start_time": "2024-08-11T01:16:29.195Z"
   },
   {
    "duration": 262,
    "start_time": "2024-08-11T01:16:29.202Z"
   },
   {
    "duration": 7,
    "start_time": "2024-08-11T01:16:29.466Z"
   },
   {
    "duration": 9,
    "start_time": "2024-08-11T01:16:29.474Z"
   },
   {
    "duration": 29,
    "start_time": "2024-08-11T01:16:29.484Z"
   },
   {
    "duration": 9,
    "start_time": "2024-08-11T01:16:29.515Z"
   },
   {
    "duration": 35,
    "start_time": "2024-08-11T01:16:29.525Z"
   },
   {
    "duration": 13,
    "start_time": "2024-08-11T01:16:29.561Z"
   },
   {
    "duration": 19,
    "start_time": "2024-08-11T01:16:29.575Z"
   },
   {
    "duration": 8,
    "start_time": "2024-08-11T01:16:29.595Z"
   },
   {
    "duration": 4,
    "start_time": "2024-08-11T01:16:29.605Z"
   },
   {
    "duration": 12,
    "start_time": "2024-08-11T01:16:29.611Z"
   },
   {
    "duration": 5,
    "start_time": "2024-08-11T01:27:34.596Z"
   },
   {
    "duration": 5,
    "start_time": "2024-08-11T01:27:49.178Z"
   },
   {
    "duration": 5,
    "start_time": "2024-08-11T01:28:00.301Z"
   },
   {
    "duration": 77,
    "start_time": "2024-08-11T01:31:11.494Z"
   },
   {
    "duration": 5,
    "start_time": "2024-08-11T01:35:00.503Z"
   },
   {
    "duration": 5,
    "start_time": "2024-08-11T01:35:47.260Z"
   },
   {
    "duration": 9,
    "start_time": "2024-08-11T01:38:51.901Z"
   },
   {
    "duration": 633,
    "start_time": "2024-08-11T02:15:44.833Z"
   },
   {
    "duration": 165,
    "start_time": "2024-08-11T02:15:45.469Z"
   },
   {
    "duration": 15,
    "start_time": "2024-08-11T02:15:45.635Z"
   },
   {
    "duration": 26,
    "start_time": "2024-08-11T02:15:45.652Z"
   },
   {
    "duration": 1893,
    "start_time": "2024-08-11T02:15:45.679Z"
   },
   {
    "duration": 9,
    "start_time": "2024-08-11T02:15:47.574Z"
   },
   {
    "duration": 20,
    "start_time": "2024-08-11T02:15:47.585Z"
   },
   {
    "duration": 270,
    "start_time": "2024-08-11T02:15:47.607Z"
   },
   {
    "duration": 6,
    "start_time": "2024-08-11T02:15:47.878Z"
   },
   {
    "duration": 8,
    "start_time": "2024-08-11T02:15:47.895Z"
   },
   {
    "duration": 49,
    "start_time": "2024-08-11T02:15:47.904Z"
   },
   {
    "duration": 6,
    "start_time": "2024-08-11T02:15:47.954Z"
   },
   {
    "duration": 42,
    "start_time": "2024-08-11T02:15:47.961Z"
   },
   {
    "duration": 5,
    "start_time": "2024-08-11T02:15:48.005Z"
   },
   {
    "duration": 256,
    "start_time": "2024-08-11T02:15:48.011Z"
   },
   {
    "duration": 9,
    "start_time": "2024-08-11T02:15:48.269Z"
   },
   {
    "duration": 18,
    "start_time": "2024-08-11T02:15:48.280Z"
   },
   {
    "duration": 5,
    "start_time": "2024-08-11T02:15:48.300Z"
   },
   {
    "duration": 13,
    "start_time": "2024-08-11T02:15:48.306Z"
   },
   {
    "duration": 6,
    "start_time": "2024-08-11T02:15:48.320Z"
   },
   {
    "duration": 6,
    "start_time": "2024-08-11T02:15:48.327Z"
   },
   {
    "duration": 10,
    "start_time": "2024-08-11T02:15:48.335Z"
   },
   {
    "duration": 5,
    "start_time": "2024-08-11T02:15:48.346Z"
   },
   {
    "duration": 6,
    "start_time": "2024-08-11T02:15:48.353Z"
   },
   {
    "duration": 37,
    "start_time": "2024-08-11T02:15:48.360Z"
   },
   {
    "duration": 11,
    "start_time": "2024-08-11T02:15:48.398Z"
   },
   {
    "duration": 119,
    "start_time": "2024-08-11T08:20:11.358Z"
   },
   {
    "duration": 63,
    "start_time": "2024-08-11T10:13:21.173Z"
   },
   {
    "duration": 7,
    "start_time": "2024-08-11T10:33:04.342Z"
   },
   {
    "duration": 9,
    "start_time": "2024-08-11T10:37:24.815Z"
   },
   {
    "duration": 649,
    "start_time": "2024-08-11T10:39:59.514Z"
   },
   {
    "duration": 135,
    "start_time": "2024-08-11T10:40:00.165Z"
   },
   {
    "duration": 16,
    "start_time": "2024-08-11T10:40:00.302Z"
   },
   {
    "duration": 55,
    "start_time": "2024-08-11T10:40:00.320Z"
   },
   {
    "duration": 2120,
    "start_time": "2024-08-11T10:40:00.377Z"
   },
   {
    "duration": 10,
    "start_time": "2024-08-11T10:40:02.498Z"
   },
   {
    "duration": 77,
    "start_time": "2024-08-11T10:40:02.510Z"
   },
   {
    "duration": 303,
    "start_time": "2024-08-11T10:40:02.589Z"
   },
   {
    "duration": 7,
    "start_time": "2024-08-11T10:40:02.897Z"
   },
   {
    "duration": 30,
    "start_time": "2024-08-11T10:40:02.907Z"
   },
   {
    "duration": 45,
    "start_time": "2024-08-11T10:40:02.939Z"
   },
   {
    "duration": 6,
    "start_time": "2024-08-11T10:40:02.986Z"
   },
   {
    "duration": 37,
    "start_time": "2024-08-11T10:40:02.994Z"
   },
   {
    "duration": 6,
    "start_time": "2024-08-11T10:40:03.033Z"
   },
   {
    "duration": 13,
    "start_time": "2024-08-11T10:40:03.041Z"
   },
   {
    "duration": 23,
    "start_time": "2024-08-11T10:40:03.056Z"
   },
   {
    "duration": 15,
    "start_time": "2024-08-11T10:40:03.080Z"
   },
   {
    "duration": 7,
    "start_time": "2024-08-11T10:40:03.097Z"
   },
   {
    "duration": 6,
    "start_time": "2024-08-11T10:40:03.106Z"
   },
   {
    "duration": 11,
    "start_time": "2024-08-11T10:40:03.114Z"
   },
   {
    "duration": 6,
    "start_time": "2024-08-11T10:40:03.127Z"
   },
   {
    "duration": 6,
    "start_time": "2024-08-11T10:40:03.134Z"
   },
   {
    "duration": 5,
    "start_time": "2024-08-11T10:40:03.141Z"
   },
   {
    "duration": 309,
    "start_time": "2024-08-11T10:40:03.148Z"
   },
   {
    "duration": 8,
    "start_time": "2024-08-11T10:40:03.459Z"
   },
   {
    "duration": 8,
    "start_time": "2024-08-11T10:40:03.468Z"
   },
   {
    "duration": 20,
    "start_time": "2024-08-11T10:40:03.477Z"
   },
   {
    "duration": 5,
    "start_time": "2024-08-11T11:01:21.383Z"
   },
   {
    "duration": 51,
    "start_time": "2024-08-11T11:59:55.668Z"
   },
   {
    "duration": 59,
    "start_time": "2024-08-11T12:00:06.433Z"
   },
   {
    "duration": 34,
    "start_time": "2024-08-11T16:10:02.692Z"
   },
   {
    "duration": 8,
    "start_time": "2024-08-11T16:58:52.953Z"
   },
   {
    "duration": 8,
    "start_time": "2024-08-11T16:59:56.008Z"
   },
   {
    "duration": 8,
    "start_time": "2024-08-11T17:10:08.933Z"
   },
   {
    "duration": 7,
    "start_time": "2024-08-11T17:12:50.841Z"
   },
   {
    "duration": 310,
    "start_time": "2024-08-11T17:17:21.014Z"
   },
   {
    "duration": 7,
    "start_time": "2024-08-11T17:21:10.624Z"
   },
   {
    "duration": 9,
    "start_time": "2024-08-11T20:48:26.840Z"
   },
   {
    "duration": 233,
    "start_time": "2024-08-12T06:11:33.975Z"
   },
   {
    "duration": 297,
    "start_time": "2024-08-12T06:11:44.326Z"
   },
   {
    "duration": 243,
    "start_time": "2024-08-12T06:26:03.488Z"
   },
   {
    "duration": 295,
    "start_time": "2024-08-12T06:35:55.701Z"
   },
   {
    "duration": 243,
    "start_time": "2024-08-12T06:36:01.386Z"
   },
   {
    "duration": 231,
    "start_time": "2024-08-12T06:36:08.851Z"
   },
   {
    "duration": 328,
    "start_time": "2024-08-12T06:39:36.023Z"
   },
   {
    "duration": 240,
    "start_time": "2024-08-12T06:39:52.158Z"
   },
   {
    "duration": 239,
    "start_time": "2024-08-12T06:53:17.334Z"
   },
   {
    "duration": 238,
    "start_time": "2024-08-12T06:53:26.840Z"
   },
   {
    "duration": 241,
    "start_time": "2024-08-12T06:53:38.414Z"
   },
   {
    "duration": 245,
    "start_time": "2024-08-12T06:53:43.282Z"
   },
   {
    "duration": 310,
    "start_time": "2024-08-12T06:53:47.500Z"
   },
   {
    "duration": 242,
    "start_time": "2024-08-12T07:09:06.052Z"
   },
   {
    "duration": 218,
    "start_time": "2024-08-12T07:11:43.757Z"
   },
   {
    "duration": 228,
    "start_time": "2024-08-12T07:11:57.543Z"
   },
   {
    "duration": 585,
    "start_time": "2024-08-12T07:13:38.558Z"
   },
   {
    "duration": 123,
    "start_time": "2024-08-12T07:13:39.145Z"
   },
   {
    "duration": 13,
    "start_time": "2024-08-12T07:13:39.269Z"
   },
   {
    "duration": 31,
    "start_time": "2024-08-12T07:13:39.284Z"
   },
   {
    "duration": 1836,
    "start_time": "2024-08-12T07:13:39.317Z"
   },
   {
    "duration": 11,
    "start_time": "2024-08-12T07:13:41.154Z"
   },
   {
    "duration": 9,
    "start_time": "2024-08-12T07:13:41.166Z"
   },
   {
    "duration": 261,
    "start_time": "2024-08-12T07:13:41.177Z"
   },
   {
    "duration": 6,
    "start_time": "2024-08-12T07:13:41.440Z"
   },
   {
    "duration": 13,
    "start_time": "2024-08-12T07:13:41.448Z"
   },
   {
    "duration": 48,
    "start_time": "2024-08-12T07:13:41.462Z"
   },
   {
    "duration": 6,
    "start_time": "2024-08-12T07:13:41.511Z"
   },
   {
    "duration": 30,
    "start_time": "2024-08-12T07:13:41.519Z"
   },
   {
    "duration": 5,
    "start_time": "2024-08-12T07:13:41.552Z"
   },
   {
    "duration": 5,
    "start_time": "2024-08-12T07:13:41.558Z"
   },
   {
    "duration": 34,
    "start_time": "2024-08-12T07:13:41.564Z"
   },
   {
    "duration": 4,
    "start_time": "2024-08-12T07:13:41.600Z"
   },
   {
    "duration": 8,
    "start_time": "2024-08-12T07:13:41.606Z"
   },
   {
    "duration": 5,
    "start_time": "2024-08-12T07:13:41.615Z"
   },
   {
    "duration": 10,
    "start_time": "2024-08-12T07:13:41.621Z"
   },
   {
    "duration": 3,
    "start_time": "2024-08-12T07:13:41.633Z"
   },
   {
    "duration": 12,
    "start_time": "2024-08-12T07:13:41.637Z"
   },
   {
    "duration": 4,
    "start_time": "2024-08-12T07:13:41.650Z"
   },
   {
    "duration": 31,
    "start_time": "2024-08-12T07:13:41.656Z"
   },
   {
    "duration": 242,
    "start_time": "2024-08-12T07:13:41.688Z"
   },
   {
    "duration": 7,
    "start_time": "2024-08-12T07:13:41.932Z"
   },
   {
    "duration": 19,
    "start_time": "2024-08-12T07:13:41.940Z"
   },
   {
    "duration": 9,
    "start_time": "2024-08-12T07:13:41.961Z"
   },
   {
    "duration": 12,
    "start_time": "2024-08-12T07:13:41.971Z"
   },
   {
    "duration": 11,
    "start_time": "2024-08-12T07:13:41.985Z"
   },
   {
    "duration": 6,
    "start_time": "2024-08-12T07:13:41.998Z"
   },
   {
    "duration": 23,
    "start_time": "2024-08-12T07:13:42.006Z"
   },
   {
    "duration": 318,
    "start_time": "2024-08-12T07:13:42.031Z"
   },
   {
    "duration": 6,
    "start_time": "2024-08-12T07:13:42.350Z"
   },
   {
    "duration": 8,
    "start_time": "2024-08-12T07:13:42.357Z"
   },
   {
    "duration": 250,
    "start_time": "2024-08-12T07:13:42.366Z"
   },
   {
    "duration": 9,
    "start_time": "2024-08-12T07:20:49.195Z"
   },
   {
    "duration": 358,
    "start_time": "2024-08-12T07:22:06.754Z"
   },
   {
    "duration": 246,
    "start_time": "2024-08-12T07:22:36.745Z"
   },
   {
    "duration": 277,
    "start_time": "2024-08-12T07:22:58.052Z"
   },
   {
    "duration": 261,
    "start_time": "2024-08-12T07:24:19.602Z"
   },
   {
    "duration": 260,
    "start_time": "2024-08-12T07:24:36.854Z"
   },
   {
    "duration": 10,
    "start_time": "2024-08-12T07:42:39.982Z"
   },
   {
    "duration": 312,
    "start_time": "2024-08-12T07:43:55.300Z"
   },
   {
    "duration": 353,
    "start_time": "2024-08-12T07:44:31.049Z"
   },
   {
    "duration": 269,
    "start_time": "2024-08-12T07:48:20.028Z"
   },
   {
    "duration": 253,
    "start_time": "2024-08-12T07:48:29.161Z"
   },
   {
    "duration": 10,
    "start_time": "2024-08-12T07:56:43.843Z"
   },
   {
    "duration": 254,
    "start_time": "2024-08-12T08:02:09.147Z"
   },
   {
    "duration": 245,
    "start_time": "2024-08-12T08:04:02.142Z"
   },
   {
    "duration": 331,
    "start_time": "2024-08-12T08:07:29.491Z"
   },
   {
    "duration": 255,
    "start_time": "2024-08-12T08:09:44.048Z"
   },
   {
    "duration": 250,
    "start_time": "2024-08-12T08:10:28.174Z"
   },
   {
    "duration": 249,
    "start_time": "2024-08-12T08:10:40.384Z"
   },
   {
    "duration": 297,
    "start_time": "2024-08-12T08:10:55.201Z"
   },
   {
    "duration": 240,
    "start_time": "2024-08-12T08:15:19.995Z"
   },
   {
    "duration": 327,
    "start_time": "2024-08-12T08:15:32.565Z"
   },
   {
    "duration": 245,
    "start_time": "2024-08-12T08:15:43.791Z"
   },
   {
    "duration": 226,
    "start_time": "2024-08-12T10:37:25.348Z"
   },
   {
    "duration": 10,
    "start_time": "2024-08-12T11:02:47.779Z"
   },
   {
    "duration": 164,
    "start_time": "2024-08-12T11:04:36.610Z"
   },
   {
    "duration": 168,
    "start_time": "2024-08-12T11:05:49.016Z"
   },
   {
    "duration": 215,
    "start_time": "2024-08-12T11:07:17.253Z"
   },
   {
    "duration": 10,
    "start_time": "2024-08-12T11:47:09.100Z"
   },
   {
    "duration": 275,
    "start_time": "2024-08-12T11:50:52.438Z"
   },
   {
    "duration": 241,
    "start_time": "2024-08-12T12:28:09.476Z"
   },
   {
    "duration": 155,
    "start_time": "2024-08-12T12:29:02.913Z"
   },
   {
    "duration": 157,
    "start_time": "2024-08-12T12:29:37.967Z"
   },
   {
    "duration": 157,
    "start_time": "2024-08-12T12:54:39.935Z"
   },
   {
    "duration": 1950,
    "start_time": "2024-08-12T13:03:37.416Z"
   },
   {
    "duration": 818,
    "start_time": "2024-08-12T13:04:54.709Z"
   },
   {
    "duration": 190,
    "start_time": "2024-08-12T13:08:44.295Z"
   },
   {
    "duration": 193,
    "start_time": "2024-08-12T13:12:06.581Z"
   },
   {
    "duration": 10,
    "start_time": "2024-08-12T13:48:51.681Z"
   },
   {
    "duration": 267,
    "start_time": "2024-08-12T13:51:09.699Z"
   },
   {
    "duration": 10,
    "start_time": "2024-08-12T14:00:27.438Z"
   },
   {
    "duration": 255,
    "start_time": "2024-08-12T14:02:01.876Z"
   },
   {
    "duration": 381,
    "start_time": "2024-08-12T14:02:25.536Z"
   },
   {
    "duration": 12,
    "start_time": "2024-08-12T14:20:25.569Z"
   },
   {
    "duration": 10,
    "start_time": "2024-08-12T14:20:48.005Z"
   },
   {
    "duration": 269,
    "start_time": "2024-08-12T14:23:29.120Z"
   },
   {
    "duration": 277,
    "start_time": "2024-08-12T14:25:17.521Z"
   },
   {
    "duration": 274,
    "start_time": "2024-08-12T14:25:51.389Z"
   },
   {
    "duration": 12,
    "start_time": "2024-08-12T14:56:46.749Z"
   },
   {
    "duration": 330,
    "start_time": "2024-08-12T14:58:35.244Z"
   },
   {
    "duration": 292,
    "start_time": "2024-08-12T14:59:54.485Z"
   },
   {
    "duration": 11,
    "start_time": "2024-08-12T15:08:51.930Z"
   },
   {
    "duration": 379,
    "start_time": "2024-08-12T15:12:35.637Z"
   },
   {
    "duration": 264,
    "start_time": "2024-08-12T15:13:07.659Z"
   },
   {
    "duration": 34,
    "start_time": "2024-08-12T15:46:14.184Z"
   },
   {
    "duration": 11,
    "start_time": "2024-08-12T15:46:46.190Z"
   },
   {
    "duration": 13,
    "start_time": "2024-08-12T15:47:14.033Z"
   },
   {
    "duration": 513,
    "start_time": "2024-08-12T15:50:22.020Z"
   },
   {
    "duration": 577,
    "start_time": "2024-08-12T15:50:57.042Z"
   },
   {
    "duration": 499,
    "start_time": "2024-08-12T15:51:41.400Z"
   },
   {
    "duration": 515,
    "start_time": "2024-08-12T15:52:06.065Z"
   },
   {
    "duration": 14,
    "start_time": "2024-08-12T15:54:35.859Z"
   },
   {
    "duration": 72,
    "start_time": "2024-08-12T15:55:27.682Z"
   },
   {
    "duration": 14,
    "start_time": "2024-08-12T15:55:46.425Z"
   },
   {
    "duration": 15,
    "start_time": "2024-08-12T15:56:11.709Z"
   },
   {
    "duration": 605,
    "start_time": "2024-08-12T15:57:20.719Z"
   },
   {
    "duration": 556,
    "start_time": "2024-08-12T15:58:00.169Z"
   },
   {
    "duration": 518,
    "start_time": "2024-08-12T15:59:02.793Z"
   },
   {
    "duration": 613,
    "start_time": "2024-08-12T15:59:13.395Z"
   },
   {
    "duration": 513,
    "start_time": "2024-08-12T16:02:11.856Z"
   },
   {
    "duration": 515,
    "start_time": "2024-08-12T16:02:34.308Z"
   },
   {
    "duration": 592,
    "start_time": "2024-08-12T16:02:42.546Z"
   },
   {
    "duration": 264,
    "start_time": "2024-08-12T16:13:42.217Z"
   },
   {
    "duration": 260,
    "start_time": "2024-08-12T16:14:05.649Z"
   },
   {
    "duration": 279,
    "start_time": "2024-08-12T17:08:46.686Z"
   },
   {
    "duration": 288,
    "start_time": "2024-08-12T17:58:13.820Z"
   },
   {
    "duration": 9,
    "start_time": "2024-08-12T18:01:14.121Z"
   },
   {
    "duration": 349,
    "start_time": "2024-08-12T21:34:09.832Z"
   },
   {
    "duration": 23,
    "start_time": "2024-08-12T22:18:32.437Z"
   },
   {
    "duration": 32,
    "start_time": "2024-08-12T23:03:50.027Z"
   },
   {
    "duration": 23,
    "start_time": "2024-08-12T23:04:28.477Z"
   },
   {
    "duration": 146,
    "start_time": "2024-08-12T23:23:12.112Z"
   },
   {
    "duration": 175,
    "start_time": "2024-08-12T23:24:56.550Z"
   },
   {
    "duration": 146,
    "start_time": "2024-08-12T23:25:04.218Z"
   },
   {
    "duration": 162,
    "start_time": "2024-08-12T23:26:14.680Z"
   },
   {
    "duration": 142,
    "start_time": "2024-08-12T23:32:48.268Z"
   },
   {
    "duration": 145,
    "start_time": "2024-08-12T23:34:56.572Z"
   },
   {
    "duration": 170,
    "start_time": "2024-08-12T23:43:01.292Z"
   },
   {
    "duration": 145,
    "start_time": "2024-08-12T23:45:02.892Z"
   },
   {
    "duration": 154,
    "start_time": "2024-08-12T23:45:37.016Z"
   },
   {
    "duration": 30,
    "start_time": "2024-08-13T00:43:21.614Z"
   },
   {
    "duration": 100,
    "start_time": "2024-08-13T00:59:34.346Z"
   },
   {
    "duration": 197,
    "start_time": "2024-08-13T01:01:44.562Z"
   },
   {
    "duration": 7,
    "start_time": "2024-08-13T10:38:26.338Z"
   },
   {
    "duration": 75,
    "start_time": "2024-08-13T10:38:49.895Z"
   },
   {
    "duration": 9,
    "start_time": "2024-08-13T12:15:24.888Z"
   },
   {
    "duration": 45,
    "start_time": "2024-08-13T12:16:10.367Z"
   },
   {
    "duration": 865,
    "start_time": "2024-08-13T12:16:35.819Z"
   },
   {
    "duration": 355,
    "start_time": "2024-08-13T12:16:36.686Z"
   },
   {
    "duration": 16,
    "start_time": "2024-08-13T12:16:37.042Z"
   },
   {
    "duration": 25,
    "start_time": "2024-08-13T12:16:37.060Z"
   },
   {
    "duration": 2015,
    "start_time": "2024-08-13T12:16:37.086Z"
   },
   {
    "duration": 10,
    "start_time": "2024-08-13T12:16:39.102Z"
   },
   {
    "duration": 12,
    "start_time": "2024-08-13T12:16:39.113Z"
   },
   {
    "duration": 323,
    "start_time": "2024-08-13T12:16:39.127Z"
   },
   {
    "duration": 6,
    "start_time": "2024-08-13T12:16:39.451Z"
   },
   {
    "duration": 15,
    "start_time": "2024-08-13T12:16:39.460Z"
   },
   {
    "duration": 97,
    "start_time": "2024-08-13T12:16:39.477Z"
   },
   {
    "duration": 8,
    "start_time": "2024-08-13T12:16:39.575Z"
   },
   {
    "duration": 33,
    "start_time": "2024-08-13T12:16:39.584Z"
   },
   {
    "duration": 4,
    "start_time": "2024-08-13T12:16:39.619Z"
   },
   {
    "duration": 6,
    "start_time": "2024-08-13T12:16:39.624Z"
   },
   {
    "duration": 12,
    "start_time": "2024-08-13T12:16:39.631Z"
   },
   {
    "duration": 10,
    "start_time": "2024-08-13T12:16:39.645Z"
   },
   {
    "duration": 27,
    "start_time": "2024-08-13T12:16:39.657Z"
   },
   {
    "duration": 6,
    "start_time": "2024-08-13T12:16:39.685Z"
   },
   {
    "duration": 27,
    "start_time": "2024-08-13T12:16:39.692Z"
   },
   {
    "duration": 8,
    "start_time": "2024-08-13T12:16:39.721Z"
   },
   {
    "duration": 7,
    "start_time": "2024-08-13T12:16:39.730Z"
   },
   {
    "duration": 23,
    "start_time": "2024-08-13T12:16:39.738Z"
   },
   {
    "duration": 8,
    "start_time": "2024-08-13T12:16:39.762Z"
   },
   {
    "duration": 262,
    "start_time": "2024-08-13T12:16:39.772Z"
   },
   {
    "duration": 9,
    "start_time": "2024-08-13T12:16:40.035Z"
   },
   {
    "duration": 38,
    "start_time": "2024-08-13T12:16:40.046Z"
   },
   {
    "duration": 21,
    "start_time": "2024-08-13T12:16:40.088Z"
   },
   {
    "duration": 22,
    "start_time": "2024-08-13T12:16:40.110Z"
   },
   {
    "duration": 22,
    "start_time": "2024-08-13T12:16:40.134Z"
   },
   {
    "duration": 7,
    "start_time": "2024-08-13T12:16:40.157Z"
   },
   {
    "duration": 7,
    "start_time": "2024-08-13T12:16:40.165Z"
   },
   {
    "duration": 336,
    "start_time": "2024-08-13T12:16:40.173Z"
   },
   {
    "duration": 6,
    "start_time": "2024-08-13T12:16:40.511Z"
   },
   {
    "duration": 111,
    "start_time": "2024-08-13T12:16:40.518Z"
   },
   {
    "duration": 283,
    "start_time": "2024-08-13T12:16:40.630Z"
   },
   {
    "duration": 8,
    "start_time": "2024-08-13T12:16:40.914Z"
   },
   {
    "duration": 364,
    "start_time": "2024-08-13T12:16:40.924Z"
   },
   {
    "duration": 8,
    "start_time": "2024-08-13T12:16:41.290Z"
   },
   {
    "duration": 273,
    "start_time": "2024-08-13T12:16:41.300Z"
   },
   {
    "duration": 15,
    "start_time": "2024-08-13T12:16:41.575Z"
   },
   {
    "duration": 262,
    "start_time": "2024-08-13T12:16:41.592Z"
   },
   {
    "duration": 170,
    "start_time": "2024-08-13T12:16:41.856Z"
   },
   {
    "duration": 9,
    "start_time": "2024-08-13T12:16:42.027Z"
   },
   {
    "duration": 214,
    "start_time": "2024-08-13T12:16:42.037Z"
   },
   {
    "duration": 9,
    "start_time": "2024-08-13T12:16:42.253Z"
   },
   {
    "duration": 278,
    "start_time": "2024-08-13T12:16:42.264Z"
   },
   {
    "duration": 12,
    "start_time": "2024-08-13T12:16:42.544Z"
   },
   {
    "duration": 364,
    "start_time": "2024-08-13T12:16:42.557Z"
   },
   {
    "duration": 8,
    "start_time": "2024-08-13T12:16:42.922Z"
   },
   {
    "duration": 272,
    "start_time": "2024-08-13T12:16:42.932Z"
   },
   {
    "duration": 10,
    "start_time": "2024-08-13T12:16:43.205Z"
   },
   {
    "duration": 291,
    "start_time": "2024-08-13T12:16:43.216Z"
   },
   {
    "duration": 10,
    "start_time": "2024-08-13T12:16:43.509Z"
   },
   {
    "duration": 304,
    "start_time": "2024-08-13T12:16:43.520Z"
   },
   {
    "duration": 9,
    "start_time": "2024-08-13T12:16:43.826Z"
   },
   {
    "duration": 274,
    "start_time": "2024-08-13T12:16:43.837Z"
   },
   {
    "duration": 14,
    "start_time": "2024-08-13T12:16:44.112Z"
   },
   {
    "duration": 626,
    "start_time": "2024-08-13T12:16:44.128Z"
   },
   {
    "duration": 300,
    "start_time": "2024-08-13T12:16:44.756Z"
   },
   {
    "duration": 10,
    "start_time": "2024-08-13T12:16:45.058Z"
   },
   {
    "duration": 43,
    "start_time": "2024-08-13T12:16:45.070Z"
   },
   {
    "duration": 39,
    "start_time": "2024-08-13T12:16:45.115Z"
   },
   {
    "duration": 22,
    "start_time": "2024-08-13T12:16:45.156Z"
   },
   {
    "duration": 181,
    "start_time": "2024-08-13T12:16:45.180Z"
   },
   {
    "duration": 185,
    "start_time": "2024-08-13T12:16:45.363Z"
   },
   {
    "duration": 186,
    "start_time": "2024-08-13T12:16:45.550Z"
   },
   {
    "duration": 150,
    "start_time": "2024-08-13T12:16:45.738Z"
   },
   {
    "duration": 180,
    "start_time": "2024-08-13T12:16:45.890Z"
   },
   {
    "duration": 184,
    "start_time": "2024-08-13T12:16:46.072Z"
   },
   {
    "duration": 173,
    "start_time": "2024-08-13T12:16:46.258Z"
   },
   {
    "duration": 262,
    "start_time": "2024-08-13T12:16:46.433Z"
   },
   {
    "duration": 162,
    "start_time": "2024-08-13T12:16:46.697Z"
   },
   {
    "duration": 38,
    "start_time": "2024-08-13T12:16:46.861Z"
   },
   {
    "duration": 50,
    "start_time": "2024-08-13T12:16:46.901Z"
   },
   {
    "duration": 196,
    "start_time": "2024-08-13T12:16:46.953Z"
   },
   {
    "duration": 16,
    "start_time": "2024-08-13T12:23:14.689Z"
   },
   {
    "duration": 158,
    "start_time": "2024-08-13T12:33:03.025Z"
   },
   {
    "duration": 148,
    "start_time": "2024-08-13T12:33:22.742Z"
   },
   {
    "duration": 116,
    "start_time": "2024-08-13T12:33:56.427Z"
   },
   {
    "duration": 83,
    "start_time": "2024-08-13T12:34:28.616Z"
   },
   {
    "duration": 2195,
    "start_time": "2024-08-13T18:46:06.860Z"
   },
   {
    "duration": 700,
    "start_time": "2024-08-13T18:46:09.058Z"
   },
   {
    "duration": 96,
    "start_time": "2024-08-13T18:46:09.760Z"
   },
   {
    "duration": 101,
    "start_time": "2024-08-13T18:46:09.858Z"
   },
   {
    "duration": 9909,
    "start_time": "2024-08-13T18:46:09.962Z"
   },
   {
    "duration": 88,
    "start_time": "2024-08-13T18:46:19.873Z"
   },
   {
    "duration": 101,
    "start_time": "2024-08-13T18:46:19.963Z"
   },
   {
    "duration": 1407,
    "start_time": "2024-08-13T18:46:20.067Z"
   },
   {
    "duration": 83,
    "start_time": "2024-08-13T18:46:21.476Z"
   },
   {
    "duration": 100,
    "start_time": "2024-08-13T18:46:21.561Z"
   },
   {
    "duration": 196,
    "start_time": "2024-08-13T18:46:21.662Z"
   },
   {
    "duration": 7,
    "start_time": "2024-08-13T18:46:21.860Z"
   },
   {
    "duration": 289,
    "start_time": "2024-08-13T18:46:21.869Z"
   },
   {
    "duration": 7,
    "start_time": "2024-08-13T18:46:22.162Z"
   },
   {
    "duration": 446,
    "start_time": "2024-08-13T18:46:22.255Z"
   },
   {
    "duration": 7,
    "start_time": "2024-08-13T18:46:22.755Z"
   },
   {
    "duration": 100,
    "start_time": "2024-08-13T18:46:22.764Z"
   },
   {
    "duration": 11,
    "start_time": "2024-08-13T18:46:22.865Z"
   },
   {
    "duration": 5,
    "start_time": "2024-08-13T18:46:22.878Z"
   },
   {
    "duration": 11,
    "start_time": "2024-08-13T18:46:22.954Z"
   },
   {
    "duration": 108,
    "start_time": "2024-08-13T18:46:22.967Z"
   },
   {
    "duration": 79,
    "start_time": "2024-08-13T18:46:23.077Z"
   },
   {
    "duration": 7,
    "start_time": "2024-08-13T18:46:23.158Z"
   },
   {
    "duration": 98,
    "start_time": "2024-08-13T18:46:23.167Z"
   },
   {
    "duration": 1411,
    "start_time": "2024-08-13T18:46:23.267Z"
   },
   {
    "duration": 9,
    "start_time": "2024-08-13T18:46:24.756Z"
   },
   {
    "duration": 103,
    "start_time": "2024-08-13T18:46:24.767Z"
   },
   {
    "duration": 16,
    "start_time": "2024-08-13T18:46:24.872Z"
   },
   {
    "duration": 7,
    "start_time": "2024-08-13T18:46:24.955Z"
   },
   {
    "duration": 91,
    "start_time": "2024-08-13T18:46:24.965Z"
   },
   {
    "duration": 9,
    "start_time": "2024-08-13T18:46:25.059Z"
   },
   {
    "duration": 85,
    "start_time": "2024-08-13T18:46:25.070Z"
   },
   {
    "duration": 1405,
    "start_time": "2024-08-13T18:46:25.157Z"
   },
   {
    "duration": 7,
    "start_time": "2024-08-13T18:46:26.563Z"
   },
   {
    "duration": 94,
    "start_time": "2024-08-13T18:46:26.572Z"
   },
   {
    "duration": 1188,
    "start_time": "2024-08-13T18:46:26.668Z"
   },
   {
    "duration": 13,
    "start_time": "2024-08-13T18:46:27.858Z"
   },
   {
    "duration": 1894,
    "start_time": "2024-08-13T18:46:27.873Z"
   },
   {
    "duration": 92,
    "start_time": "2024-08-13T18:46:29.769Z"
   },
   {
    "duration": 1694,
    "start_time": "2024-08-13T18:46:29.864Z"
   },
   {
    "duration": 8,
    "start_time": "2024-08-13T18:46:31.563Z"
   },
   {
    "duration": 2094,
    "start_time": "2024-08-13T18:46:31.573Z"
   },
   {
    "duration": 615,
    "start_time": "2024-08-13T18:46:33.669Z"
   },
   {
    "duration": 76,
    "start_time": "2024-08-13T18:46:34.286Z"
   },
   {
    "duration": 1395,
    "start_time": "2024-08-13T18:46:34.364Z"
   },
   {
    "duration": 9,
    "start_time": "2024-08-13T18:46:35.761Z"
   },
   {
    "duration": 1703,
    "start_time": "2024-08-13T18:46:35.771Z"
   },
   {
    "duration": 89,
    "start_time": "2024-08-13T18:46:37.475Z"
   },
   {
    "duration": 1602,
    "start_time": "2024-08-13T18:46:37.565Z"
   },
   {
    "duration": 90,
    "start_time": "2024-08-13T18:46:39.170Z"
   },
   {
    "duration": 1493,
    "start_time": "2024-08-13T18:46:39.262Z"
   },
   {
    "duration": 12,
    "start_time": "2024-08-13T18:46:40.758Z"
   },
   {
    "duration": 1401,
    "start_time": "2024-08-13T18:46:40.772Z"
   },
   {
    "duration": 12,
    "start_time": "2024-08-13T18:46:42.255Z"
   },
   {
    "duration": 1386,
    "start_time": "2024-08-13T18:46:42.269Z"
   },
   {
    "duration": 13,
    "start_time": "2024-08-13T18:46:43.658Z"
   },
   {
    "duration": 1397,
    "start_time": "2024-08-13T18:46:43.673Z"
   },
   {
    "duration": 99,
    "start_time": "2024-08-13T18:46:45.072Z"
   },
   {
    "duration": 3904,
    "start_time": "2024-08-13T18:46:45.255Z"
   },
   {
    "duration": 1098,
    "start_time": "2024-08-13T18:46:49.161Z"
   },
   {
    "duration": 10,
    "start_time": "2024-08-13T18:46:50.261Z"
   },
   {
    "duration": 106,
    "start_time": "2024-08-13T18:46:50.356Z"
   },
   {
    "duration": 191,
    "start_time": "2024-08-13T18:46:50.464Z"
   },
   {
    "duration": 16,
    "start_time": "2024-08-13T18:46:50.657Z"
   },
   {
    "duration": 1001,
    "start_time": "2024-08-13T18:46:50.756Z"
   },
   {
    "duration": 814,
    "start_time": "2024-08-13T18:46:51.760Z"
   },
   {
    "duration": 890,
    "start_time": "2024-08-13T18:46:52.576Z"
   },
   {
    "duration": 789,
    "start_time": "2024-08-13T18:46:53.467Z"
   },
   {
    "duration": 918,
    "start_time": "2024-08-13T18:46:54.258Z"
   },
   {
    "duration": 1002,
    "start_time": "2024-08-13T18:46:55.256Z"
   },
   {
    "duration": 595,
    "start_time": "2024-08-13T18:46:56.260Z"
   },
   {
    "duration": 802,
    "start_time": "2024-08-13T18:46:56.857Z"
   },
   {
    "duration": 599,
    "start_time": "2024-08-13T18:46:57.660Z"
   },
   {
    "duration": 122,
    "start_time": "2024-08-13T18:46:58.261Z"
   },
   {
    "duration": 86,
    "start_time": "2024-08-13T18:46:58.385Z"
   },
   {
    "duration": 700,
    "start_time": "2024-08-13T18:46:58.473Z"
   }
  ],
  "kernelspec": {
   "display_name": "Python 3 (ipykernel)",
   "language": "python",
   "name": "python3"
  },
  "language_info": {
   "codemirror_mode": {
    "name": "ipython",
    "version": 3
   },
   "file_extension": ".py",
   "mimetype": "text/x-python",
   "name": "python",
   "nbconvert_exporter": "python",
   "pygments_lexer": "ipython3",
   "version": "3.13.1"
  },
  "toc": {
   "base_numbering": 1,
   "nav_menu": {},
   "number_sections": true,
   "sideBar": true,
   "skip_h1_title": true,
   "title_cell": "Table of Contents",
   "title_sidebar": "Contents",
   "toc_cell": false,
   "toc_position": {},
   "toc_section_display": true,
   "toc_window_display": false
  }
 },
 "nbformat": 4,
 "nbformat_minor": 4
}
