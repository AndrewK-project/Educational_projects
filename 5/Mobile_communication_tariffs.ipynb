{
 "cells": [
  {
   "cell_type": "markdown",
   "metadata": {},
   "source": [
    "# Рекомендация тарифов"
   ]
  },
  {
   "cell_type": "markdown",
   "metadata": {},
   "source": [
    "В вашем распоряжении данные о поведении клиентов, которые уже перешли на эти тарифы (из проекта курса «Статистический анализ данных»). Нужно построить модель для задачи классификации, которая выберет подходящий тариф. Предобработка данных не понадобится — вы её уже сделали.\n",
    "\n",
    "Постройте модель с максимально большим значением *accuracy*. Чтобы сдать проект успешно, нужно довести долю правильных ответов по крайней мере до 0.75. Проверьте *accuracy* на тестовой выборке самостоятельно."
   ]
  },
  {
   "cell_type": "markdown",
   "metadata": {},
   "source": [
    "**Описание данных**\n",
    "    \n",
    "    'сalls' — количество звонков,\n",
    "    'minutes' — суммарная длительность звонков в минутах,\n",
    "    'messages' — количество sms-сообщений,\n",
    "    'mb_used' — израсходованный интернет-трафик в Мб,\n",
    "    'is_ultra' — каким тарифом пользовался в течение месяца («Ультра» — 1, «Смарт» — 0)."
   ]
  },
  {
   "cell_type": "markdown",
   "metadata": {},
   "source": [
    "**Исследование проведем в соответствии с планом:**\n",
    "\n",
    "    1) Откроем файл с данными и изучим общую информацию.\n",
    "    2) Разделим исходные данные на обучающую, валидационную и тестовую выборки.\n",
    "    3) Исследуем качество разных моделей, меняя гиперпараметры. Кратко напишием выводы исследования.\n",
    "    4) Проверим качество модели на тестовой выборке.\n",
    "    5) Проверим модели на вменяемость. "
   ]
  },
  {
   "cell_type": "markdown",
   "metadata": {},
   "source": [
    "## Откройте и изучите файл"
   ]
  },
  {
   "cell_type": "markdown",
   "metadata": {},
   "source": [
    "**Откроем файл с данными и изучим общую информацию.**"
   ]
  },
  {
   "cell_type": "markdown",
   "metadata": {},
   "source": [
    "### Импортируем необходимые для работы с проектом библиотеки."
   ]
  },
  {
   "cell_type": "code",
   "execution_count": 1,
   "metadata": {},
   "outputs": [],
   "source": [
    "# Импортируем библиотеки\n",
    "import pandas as pd\n",
    "from sklearn.tree import DecisionTreeRegressor\n",
    "from sklearn.tree import DecisionTreeClassifier\n",
    "from sklearn.ensemble import RandomForestClassifier\n",
    "from sklearn.model_selection import train_test_split\n",
    "from sklearn.metrics import mean_squared_error\n",
    "from sklearn.ensemble import RandomForestRegressor\n",
    "from sklearn.linear_model import LinearRegression\n",
    "from sklearn.linear_model import LogisticRegression\n",
    "from sklearn.metrics import accuracy_score"
   ]
  },
  {
   "cell_type": "markdown",
   "metadata": {},
   "source": [
    "### Загрузим данные из файла в датафрейм."
   ]
  },
  {
   "cell_type": "code",
   "execution_count": 2,
   "metadata": {},
   "outputs": [
    {
     "data": {
      "text/html": [
       "<div>\n",
       "<style scoped>\n",
       "    .dataframe tbody tr th:only-of-type {\n",
       "        vertical-align: middle;\n",
       "    }\n",
       "\n",
       "    .dataframe tbody tr th {\n",
       "        vertical-align: top;\n",
       "    }\n",
       "\n",
       "    .dataframe thead th {\n",
       "        text-align: right;\n",
       "    }\n",
       "</style>\n",
       "<table border=\"1\" class=\"dataframe\">\n",
       "  <thead>\n",
       "    <tr style=\"text-align: right;\">\n",
       "      <th></th>\n",
       "      <th>calls</th>\n",
       "      <th>minutes</th>\n",
       "      <th>messages</th>\n",
       "      <th>mb_used</th>\n",
       "      <th>is_ultra</th>\n",
       "    </tr>\n",
       "  </thead>\n",
       "  <tbody>\n",
       "    <tr>\n",
       "      <th>0</th>\n",
       "      <td>40.0</td>\n",
       "      <td>311.90</td>\n",
       "      <td>83.0</td>\n",
       "      <td>19915.42</td>\n",
       "      <td>0</td>\n",
       "    </tr>\n",
       "    <tr>\n",
       "      <th>1</th>\n",
       "      <td>85.0</td>\n",
       "      <td>516.75</td>\n",
       "      <td>56.0</td>\n",
       "      <td>22696.96</td>\n",
       "      <td>0</td>\n",
       "    </tr>\n",
       "    <tr>\n",
       "      <th>2</th>\n",
       "      <td>77.0</td>\n",
       "      <td>467.66</td>\n",
       "      <td>86.0</td>\n",
       "      <td>21060.45</td>\n",
       "      <td>0</td>\n",
       "    </tr>\n",
       "    <tr>\n",
       "      <th>3</th>\n",
       "      <td>106.0</td>\n",
       "      <td>745.53</td>\n",
       "      <td>81.0</td>\n",
       "      <td>8437.39</td>\n",
       "      <td>1</td>\n",
       "    </tr>\n",
       "    <tr>\n",
       "      <th>4</th>\n",
       "      <td>66.0</td>\n",
       "      <td>418.74</td>\n",
       "      <td>1.0</td>\n",
       "      <td>14502.75</td>\n",
       "      <td>0</td>\n",
       "    </tr>\n",
       "  </tbody>\n",
       "</table>\n",
       "</div>"
      ],
      "text/plain": [
       "   calls  minutes  messages   mb_used  is_ultra\n",
       "0   40.0   311.90      83.0  19915.42         0\n",
       "1   85.0   516.75      56.0  22696.96         0\n",
       "2   77.0   467.66      86.0  21060.45         0\n",
       "3  106.0   745.53      81.0   8437.39         1\n",
       "4   66.0   418.74       1.0  14502.75         0"
      ]
     },
     "execution_count": 2,
     "metadata": {},
     "output_type": "execute_result"
    }
   ],
   "source": [
    "# Создадим датафрейм\n",
    "df=pd.read_csv('/datasets/users_behavior.csv')\n",
    "# Ознакомимся с первыми 5 строками\n",
    "df.head(5)"
   ]
  },
  {
   "cell_type": "markdown",
   "metadata": {},
   "source": [
    "### Изучим информацию о полученном датафрейме."
   ]
  },
  {
   "cell_type": "code",
   "execution_count": 3,
   "metadata": {},
   "outputs": [
    {
     "name": "stdout",
     "output_type": "stream",
     "text": [
      "<class 'pandas.core.frame.DataFrame'>\n",
      "RangeIndex: 3214 entries, 0 to 3213\n",
      "Data columns (total 5 columns):\n",
      " #   Column    Non-Null Count  Dtype  \n",
      "---  ------    --------------  -----  \n",
      " 0   calls     3214 non-null   float64\n",
      " 1   minutes   3214 non-null   float64\n",
      " 2   messages  3214 non-null   float64\n",
      " 3   mb_used   3214 non-null   float64\n",
      " 4   is_ultra  3214 non-null   int64  \n",
      "dtypes: float64(4), int64(1)\n",
      "memory usage: 125.7 KB\n"
     ]
    }
   ],
   "source": [
    "# общая информация\n",
    "df.info()"
   ]
  },
  {
   "cell_type": "markdown",
   "metadata": {},
   "source": [
    "***\n",
    "\n",
    "### Вывод по изучению общей информации о полученых данных:\n",
    "\n",
    "<font color='green'> ***В ходе изучения полученных данных выявлено, что в полученном датафрейме имеется информация о 3214 пользователях, количестве звонков каждого пользователя и суммарной продолжительности этих звонков, количестве отправленных сообщений, объема исползованного трафика, а также информация об используемом тарифе. Предобработка данных не требуется.*** </font>"
   ]
  },
  {
   "cell_type": "markdown",
   "metadata": {},
   "source": [
    "## Разбейте данные на выборки"
   ]
  },
  {
   "cell_type": "markdown",
   "metadata": {},
   "source": [
    "**Разделим исходные данные на обучающую, валидационную и тестовую выборки.**"
   ]
  },
  {
   "cell_type": "markdown",
   "metadata": {},
   "source": [
    "### Получим и проверим выборку для обучения модели."
   ]
  },
  {
   "cell_type": "code",
   "execution_count": 4,
   "metadata": {},
   "outputs": [
    {
     "name": "stdout",
     "output_type": "stream",
     "text": [
      "Обучающая выборка\n",
      "<class 'pandas.core.frame.DataFrame'>\n",
      "Int64Index: 1928 entries, 3027 to 482\n",
      "Data columns (total 5 columns):\n",
      " #   Column    Non-Null Count  Dtype  \n",
      "---  ------    --------------  -----  \n",
      " 0   calls     1928 non-null   float64\n",
      " 1   minutes   1928 non-null   float64\n",
      " 2   messages  1928 non-null   float64\n",
      " 3   mb_used   1928 non-null   float64\n",
      " 4   is_ultra  1928 non-null   int64  \n",
      "dtypes: float64(4), int64(1)\n",
      "memory usage: 90.4 KB\n"
     ]
    }
   ],
   "source": [
    "# Создадим выборку\n",
    "df_train,df_valid=train_test_split(df, test_size=0.4, random_state=12345)\n",
    "\n",
    "# Проверим выборку\n",
    "print(\"Обучающая выборка\")\n",
    "df_train.info()"
   ]
  },
  {
   "cell_type": "markdown",
   "metadata": {},
   "source": [
    "### Получим и проверим валидационную и тестовую выборки для проверки и испытания обученной модели."
   ]
  },
  {
   "cell_type": "code",
   "execution_count": 5,
   "metadata": {},
   "outputs": [
    {
     "name": "stdout",
     "output_type": "stream",
     "text": [
      "Валидационная выборка\n",
      "<class 'pandas.core.frame.DataFrame'>\n",
      "Int64Index: 643 entries, 1386 to 3197\n",
      "Data columns (total 5 columns):\n",
      " #   Column    Non-Null Count  Dtype  \n",
      "---  ------    --------------  -----  \n",
      " 0   calls     643 non-null    float64\n",
      " 1   minutes   643 non-null    float64\n",
      " 2   messages  643 non-null    float64\n",
      " 3   mb_used   643 non-null    float64\n",
      " 4   is_ultra  643 non-null    int64  \n",
      "dtypes: float64(4), int64(1)\n",
      "memory usage: 30.1 KB\n",
      "\n",
      "Тестовая выборка\n",
      "<class 'pandas.core.frame.DataFrame'>\n",
      "Int64Index: 643 entries, 160 to 2313\n",
      "Data columns (total 5 columns):\n",
      " #   Column    Non-Null Count  Dtype  \n",
      "---  ------    --------------  -----  \n",
      " 0   calls     643 non-null    float64\n",
      " 1   minutes   643 non-null    float64\n",
      " 2   messages  643 non-null    float64\n",
      " 3   mb_used   643 non-null    float64\n",
      " 4   is_ultra  643 non-null    int64  \n",
      "dtypes: float64(4), int64(1)\n",
      "memory usage: 30.1 KB\n"
     ]
    }
   ],
   "source": [
    "# Создадим выборки\n",
    "df_valid, df_test=train_test_split(df_valid, test_size = 0.5, random_state=12345)\n",
    "\n",
    "# Проверим валидационную выборку\n",
    "print(\"Валидационная выборка\")\n",
    "df_valid.info()\n",
    "\n",
    "# Проверим тестовую выборку\n",
    "print()\n",
    "print(\"Тестовая выборка\")\n",
    "df_test.info()"
   ]
  },
  {
   "cell_type": "markdown",
   "metadata": {},
   "source": [
    "### Присвоим переменным признаки и целевой признак для валидационной и обучающих выборок."
   ]
  },
  {
   "cell_type": "code",
   "execution_count": 6,
   "metadata": {},
   "outputs": [],
   "source": [
    "# Присвоим признаки для обучающей выборки\n",
    "features_train=df_train.drop(['is_ultra'], axis=1)\n",
    "target_train=df_train['is_ultra']\n",
    "\n",
    "# Присвоим признаки для валидационной выборки\n",
    "features_valid=df_valid.drop(['is_ultra'], axis=1)\n",
    "target_valid=df_valid['is_ultra']"
   ]
  },
  {
   "cell_type": "markdown",
   "metadata": {},
   "source": [
    "***\n",
    "\n",
    "### Вывод по разбитию данных на выборки:\n",
    "\n",
    "<font color='green'> ***Для дальнейшей работы с моделью,  для ее обучения проверки и тестирования, нами были разделены исходные данные на обучающую (60%), валидационную (20%) и тестовую (20%) выборки.*** </font>"
   ]
  },
  {
   "cell_type": "markdown",
   "metadata": {},
   "source": [
    "## Исследуйте модели"
   ]
  },
  {
   "cell_type": "markdown",
   "metadata": {},
   "source": [
    "**Исследуем качество разных моделей, меняя гиперпараметры.**"
   ]
  },
  {
   "cell_type": "markdown",
   "metadata": {},
   "source": [
    "### Исследуем модель решающего дерева."
   ]
  },
  {
   "cell_type": "code",
   "execution_count": 7,
   "metadata": {},
   "outputs": [
    {
     "data": {
      "text/plain": [
       "('Лучшая глубина', 9, 'Лучшая модель', 0.7822706065318819)"
      ]
     },
     "execution_count": 7,
     "metadata": {},
     "output_type": "execute_result"
    }
   ],
   "source": [
    "# Проведем исследование модели с помощью цикла\n",
    "best_result = 0\n",
    "best_depth = 0\n",
    "\n",
    "for depth in range(1, 10):\n",
    "    model=DecisionTreeClassifier(random_state=12345, max_depth=depth)\n",
    "    model.fit(features_train, target_train)\n",
    "    predictions_valid=model.predict(features_valid)\n",
    "result=accuracy_score(target_valid, predictions_valid)\n",
    "\n",
    "if result>=best_result:\n",
    "    best_result=result\n",
    "    best_depth=depth\n",
    "\n",
    "'Лучшая глубина', best_depth, 'Лучшая модель', best_result"
   ]
  },
  {
   "cell_type": "markdown",
   "metadata": {},
   "source": [
    "### Исследуем модель случайного леса."
   ]
  },
  {
   "cell_type": "code",
   "execution_count": 8,
   "metadata": {},
   "outputs": [
    {
     "data": {
      "text/plain": [
       "('Количество деревьев в лесу', 10, 'Лучшая модель', 0.7853810264385692)"
      ]
     },
     "execution_count": 8,
     "metadata": {},
     "output_type": "execute_result"
    }
   ],
   "source": [
    "# Проведем исследование модели с помощью цикла\n",
    "best_result_forest=0\n",
    "best_est=0\n",
    "\n",
    "for est in range(1, 11):\n",
    "    model_forest= RandomForestClassifier(random_state=12345, n_estimators=est)\n",
    "    model_forest.fit(features_train, target_train)\n",
    "    result=model_forest.score(features_valid, target_valid)\n",
    "    \n",
    "if result>=best_result_forest:\n",
    "    best_result_forest=result\n",
    "    best_est=est\n",
    "\n",
    "\"Количество деревьев в лесу\", best_est, 'Лучшая модель', best_result_forest"
   ]
  },
  {
   "cell_type": "markdown",
   "metadata": {},
   "source": [
    "### Исследуем модель логистической регрессии."
   ]
  },
  {
   "cell_type": "code",
   "execution_count": 9,
   "metadata": {},
   "outputs": [
    {
     "name": "stdout",
     "output_type": "stream",
     "text": [
      "Solver saga Лучшая модель 0.7076205287713841\n"
     ]
    }
   ],
   "source": [
    "# Проведем исследование модели с помощью цикла\n",
    "solvers = ['lbfgs', 'liblinear', 'sag', 'saga']\n",
    "\n",
    "best_result=0\n",
    "best_solver=None\n",
    "\n",
    "for solver in solvers:\n",
    "    model_lr=LogisticRegression(random_state=12345, solver=solver, max_iter=10000)\n",
    "    model_lr.fit(features_train, target_train)\n",
    "    result=model_lr.score(features_valid, target_valid)\n",
    "if result>=best_result:\n",
    "    best_result=result\n",
    "    best_solver=solver\n",
    "print('Solver', best_solver, 'Лучшая модель', best_result)"
   ]
  },
  {
   "cell_type": "markdown",
   "metadata": {},
   "source": [
    "***\n",
    "\n",
    "### Вывод по исследования качеств разных моделей:\n",
    "\n",
    "<font color='green'> **В ходе исследования качеств разных моделей с помощью подмены гиперпараметров было выявлено что, для выбранных моделей получились следующие результаты:**\n",
    "* **Логистическая регрессия**: лучший гиперпараметр - `solver 'saga'` с результатом 0.7076205287713841\n",
    "* **Лес**: оптимальное значение гиперпараметра `'Количество деревьев в лесу'`= 10, с результатом 0.7853810264385692\n",
    "* **Дерево решений**: оптимальное значение гиперпараметра `'глубина'`= 9 c результатом 0.7822706065318819\n",
    "    \n",
    "**На основании полученных данных можно сделать вывод, что модель случайного леса показывает самую высокую точность и имеет смысл протестировать именно её.** </font>"
   ]
  },
  {
   "cell_type": "markdown",
   "metadata": {},
   "source": [
    "## Проверьте модель на тестовой выборке"
   ]
  },
  {
   "cell_type": "markdown",
   "metadata": {},
   "source": [
    "**Проверим качество выбранной модели на тестовой выборке.**"
   ]
  },
  {
   "cell_type": "markdown",
   "metadata": {},
   "source": [
    "### Протестируем модель случайного леса. "
   ]
  },
  {
   "cell_type": "code",
   "execution_count": 10,
   "metadata": {},
   "outputs": [
    {
     "data": {
      "text/plain": [
       "0.7807153965785381"
      ]
     },
     "execution_count": 10,
     "metadata": {},
     "output_type": "execute_result"
    }
   ],
   "source": [
    "# Создадим тестовую выборку\n",
    "test_features=df_test.drop(['is_ultra'], axis=1)\n",
    "test_target=df_test['is_ultra']\n",
    "# Протестируем модель\n",
    "model_forest = RandomForestClassifier(n_estimators=10, random_state=12345)\n",
    "model_forest.fit(features_train, target_train)\n",
    "predictions_test=model_forest.predict(test_features)\n",
    "accuracy_score(test_target, predictions_test)"
   ]
  },
  {
   "cell_type": "markdown",
   "metadata": {},
   "source": [
    "### Для улучшения результатов объеденим обучающую и валидационную выборки и протестируем модель повторно."
   ]
  },
  {
   "cell_type": "code",
   "execution_count": 11,
   "metadata": {},
   "outputs": [
    {
     "data": {
      "text/plain": [
       "0.807153965785381"
      ]
     },
     "execution_count": 11,
     "metadata": {},
     "output_type": "execute_result"
    }
   ],
   "source": [
    "#Объеденим выборки\n",
    "features_train = pd.concat([features_train, features_valid])\n",
    "target_train = pd.concat([target_train, target_valid])\n",
    "# Протестируем модель\n",
    "model_forest = RandomForestClassifier(n_estimators=10, random_state=12345)\n",
    "model_forest.fit(features_train, target_train)\n",
    "predictions_test1=model_forest.predict(test_features)\n",
    "accuracy_score(test_target, predictions_test1)"
   ]
  },
  {
   "cell_type": "markdown",
   "metadata": {},
   "source": [
    "***\n",
    "\n",
    "### Вывод о качестве моделей:\n",
    "\n",
    "<font color='green'> ***После проверки значений `accuracy` на тестовой выборке для выбранной модели 'случайный лес', можно сделать вывод, что цель исследования достигнута. Доля правильных ответов модели превышает 80%.***"
   ]
  },
  {
   "cell_type": "markdown",
   "metadata": {},
   "source": [
    "## (бонус) Проверьте модели на адекватность"
   ]
  },
  {
   "cell_type": "code",
   "execution_count": 12,
   "metadata": {},
   "outputs": [
    {
     "data": {
      "text/plain": [
       "0    0.684292\n",
       "1    0.315708\n",
       "Name: is_ultra, dtype: float64"
      ]
     },
     "execution_count": 12,
     "metadata": {},
     "output_type": "execute_result"
    }
   ],
   "source": [
    "df['is_ultra'].value_counts()\n",
    "\n",
    "df['is_ultra'].value_counts(normalize=True)\n",
    "\n",
    "df_test['is_ultra'].value_counts()\n",
    "\n",
    "df_test['is_ultra'].value_counts(normalize=True)"
   ]
  },
  {
   "cell_type": "markdown",
   "metadata": {},
   "source": [
    "***\n",
    "\n",
    "# *Вывод*:\n",
    "\n",
    "<font color='green'> ***По итогу исследования для задачи классификации при построении системы, способной проанализировать поведение клиентов и предложить пользователям оператора мобильной связи «Мегалайн» новый тариф, была выбрана модель Случайного леса, которая показала лучший результат на тестовой выборке. Таким образом, модель предложит перейти на тариф: «Смарт» или «Ультра» абонентам, которым это действительно нужно, c вероятностью 80%.***"
   ]
  },
  {
   "cell_type": "markdown",
   "metadata": {},
   "source": [
    "## Чек-лист готовности проекта"
   ]
  },
  {
   "cell_type": "markdown",
   "metadata": {},
   "source": [
    "Поставьте 'x' в выполненных пунктах. Далее нажмите Shift+Enter."
   ]
  },
  {
   "cell_type": "markdown",
   "metadata": {},
   "source": [
    "- [x] Jupyter Notebook открыт\n",
    "- [x] Весь код исполняется без ошибок\n",
    "- [x] Ячейки с кодом расположены в порядке исполнения\n",
    "- [x] Выполнено задание 1: данные загружены и изучены\n",
    "- [x] Выполнено задание 2: данные разбиты на три выборки\n",
    "- [x] Выполнено задание 3: проведено исследование моделей\n",
    "    - [x] Рассмотрено больше одной модели\n",
    "    - [x] Рассмотрено хотя бы 3 значения гипепараметров для какой-нибудь модели\n",
    "    - [x] Написаны выводы по результатам исследования\n",
    "- [x] Выполнено задание 3: Проведено тестирование\n",
    "- [x] Удалось достичь accuracy не меньше 0.75\n"
   ]
  }
 ],
 "metadata": {
  "ExecuteTimeLog": [
   {
    "duration": 1306,
    "start_time": "2024-09-23T07:20:51.099Z"
   },
   {
    "duration": 3,
    "start_time": "2024-09-23T07:39:01.790Z"
   },
   {
    "duration": 3,
    "start_time": "2024-09-23T07:40:14.113Z"
   },
   {
    "duration": 34,
    "start_time": "2024-09-23T07:41:00.993Z"
   },
   {
    "duration": 45,
    "start_time": "2024-09-23T07:42:36.827Z"
   },
   {
    "duration": 12,
    "start_time": "2024-09-23T07:43:16.805Z"
   },
   {
    "duration": 4,
    "start_time": "2024-09-23T07:43:28.876Z"
   },
   {
    "duration": 30,
    "start_time": "2024-09-23T08:12:38.821Z"
   },
   {
    "duration": 12,
    "start_time": "2024-09-23T08:26:50.726Z"
   },
   {
    "duration": 12,
    "start_time": "2024-09-23T08:27:51.685Z"
   },
   {
    "duration": 18,
    "start_time": "2024-09-23T08:33:42.048Z"
   },
   {
    "duration": 18,
    "start_time": "2024-09-23T08:34:02.675Z"
   },
   {
    "duration": 20,
    "start_time": "2024-09-23T08:35:56.382Z"
   },
   {
    "duration": 19,
    "start_time": "2024-09-23T08:36:33.392Z"
   },
   {
    "duration": 11,
    "start_time": "2024-09-23T08:37:46.344Z"
   },
   {
    "duration": 5,
    "start_time": "2024-09-23T09:06:57.072Z"
   },
   {
    "duration": 53,
    "start_time": "2024-09-26T00:08:43.311Z"
   },
   {
    "duration": 1133,
    "start_time": "2024-09-26T00:09:19.052Z"
   },
   {
    "duration": 89,
    "start_time": "2024-09-26T00:09:20.187Z"
   },
   {
    "duration": 12,
    "start_time": "2024-09-26T00:09:20.277Z"
   },
   {
    "duration": 16,
    "start_time": "2024-09-26T00:09:20.291Z"
   },
   {
    "duration": 19,
    "start_time": "2024-09-26T00:09:20.308Z"
   },
   {
    "duration": 26,
    "start_time": "2024-09-26T00:09:20.329Z"
   },
   {
    "duration": 65,
    "start_time": "2024-09-26T00:29:59.415Z"
   },
   {
    "duration": 75,
    "start_time": "2024-09-26T00:30:24.678Z"
   },
   {
    "duration": 82,
    "start_time": "2024-09-26T00:31:08.981Z"
   },
   {
    "duration": 77,
    "start_time": "2024-09-26T00:31:33.164Z"
   },
   {
    "duration": 72,
    "start_time": "2024-09-26T00:32:53.143Z"
   },
   {
    "duration": 89,
    "start_time": "2024-09-26T00:33:36.959Z"
   },
   {
    "duration": 65,
    "start_time": "2024-09-26T00:35:19.545Z"
   },
   {
    "duration": 67,
    "start_time": "2024-09-26T00:53:02.841Z"
   },
   {
    "duration": 67,
    "start_time": "2024-09-26T00:56:43.550Z"
   },
   {
    "duration": 279,
    "start_time": "2024-09-26T00:57:13.149Z"
   },
   {
    "duration": 559,
    "start_time": "2024-09-26T00:59:27.368Z"
   },
   {
    "duration": 554,
    "start_time": "2024-09-26T01:01:24.555Z"
   },
   {
    "duration": 1145,
    "start_time": "2024-09-26T01:04:18.848Z"
   },
   {
    "duration": 45,
    "start_time": "2024-09-26T01:04:19.995Z"
   },
   {
    "duration": 11,
    "start_time": "2024-09-26T01:04:20.041Z"
   },
   {
    "duration": 25,
    "start_time": "2024-09-26T01:04:20.057Z"
   },
   {
    "duration": 26,
    "start_time": "2024-09-26T01:04:20.085Z"
   },
   {
    "duration": 6,
    "start_time": "2024-09-26T01:04:20.118Z"
   },
   {
    "duration": 77,
    "start_time": "2024-09-26T01:04:20.125Z"
   },
   {
    "duration": 275,
    "start_time": "2024-09-26T01:04:20.203Z"
   },
   {
    "duration": 547,
    "start_time": "2024-09-26T01:04:20.480Z"
   },
   {
    "duration": 233,
    "start_time": "2024-09-26T01:06:53.705Z"
   },
   {
    "duration": 1174,
    "start_time": "2024-09-26T01:07:31.777Z"
   },
   {
    "duration": 256,
    "start_time": "2024-09-26T01:07:45.323Z"
   },
   {
    "duration": 43,
    "start_time": "2024-09-26T01:08:30.884Z"
   },
   {
    "duration": 235,
    "start_time": "2024-09-26T01:11:26.643Z"
   },
   {
    "duration": 585,
    "start_time": "2024-09-26T01:12:15.123Z"
   },
   {
    "duration": 1197,
    "start_time": "2024-09-26T01:12:36.450Z"
   },
   {
    "duration": 1254,
    "start_time": "2024-09-26T01:12:42.430Z"
   },
   {
    "duration": 1207,
    "start_time": "2024-09-26T01:12:51.972Z"
   },
   {
    "duration": 1105,
    "start_time": "2024-09-26T01:35:45.953Z"
   },
   {
    "duration": 58,
    "start_time": "2024-09-26T01:40:03.700Z"
   },
   {
    "duration": 251,
    "start_time": "2024-09-26T01:40:31.235Z"
   },
   {
    "duration": 2993,
    "start_time": "2024-09-26T01:59:55.929Z"
   },
   {
    "duration": 59,
    "start_time": "2024-09-26T03:07:09.730Z"
   },
   {
    "duration": 15,
    "start_time": "2024-09-26T03:08:44.386Z"
   },
   {
    "duration": 58,
    "start_time": "2024-09-26T03:08:49.017Z"
   },
   {
    "duration": 21,
    "start_time": "2024-09-26T03:40:17.858Z"
   },
   {
    "duration": 54,
    "start_time": "2024-09-26T03:41:14.661Z"
   },
   {
    "duration": 23,
    "start_time": "2024-09-26T03:42:11.560Z"
   },
   {
    "duration": 1145,
    "start_time": "2024-09-26T03:44:55.364Z"
   },
   {
    "duration": 41,
    "start_time": "2024-09-26T03:44:56.511Z"
   },
   {
    "duration": 10,
    "start_time": "2024-09-26T03:44:56.554Z"
   },
   {
    "duration": 13,
    "start_time": "2024-09-26T03:44:56.565Z"
   },
   {
    "duration": 15,
    "start_time": "2024-09-26T03:44:56.580Z"
   },
   {
    "duration": 3,
    "start_time": "2024-09-26T03:44:56.597Z"
   },
   {
    "duration": 73,
    "start_time": "2024-09-26T03:44:56.602Z"
   },
   {
    "duration": 256,
    "start_time": "2024-09-26T03:44:56.677Z"
   },
   {
    "duration": 102,
    "start_time": "2024-09-26T03:44:56.935Z"
   },
   {
    "duration": 0,
    "start_time": "2024-09-26T03:44:57.039Z"
   },
   {
    "duration": 0,
    "start_time": "2024-09-26T03:44:57.040Z"
   },
   {
    "duration": 0,
    "start_time": "2024-09-26T03:44:57.041Z"
   },
   {
    "duration": 563,
    "start_time": "2024-09-26T03:45:58.398Z"
   },
   {
    "duration": 373,
    "start_time": "2024-09-26T03:46:20.799Z"
   },
   {
    "duration": 382,
    "start_time": "2024-09-26T03:46:37.428Z"
   },
   {
    "duration": 377,
    "start_time": "2024-09-26T03:47:04.461Z"
   },
   {
    "duration": 380,
    "start_time": "2024-09-26T03:47:14.262Z"
   },
   {
    "duration": 197,
    "start_time": "2024-09-26T03:47:23.736Z"
   },
   {
    "duration": 200,
    "start_time": "2024-09-26T03:47:39.704Z"
   },
   {
    "duration": 5,
    "start_time": "2024-09-26T03:47:50.036Z"
   },
   {
    "duration": 4,
    "start_time": "2024-09-26T03:48:24.892Z"
   },
   {
    "duration": 178,
    "start_time": "2024-09-26T03:48:51.910Z"
   },
   {
    "duration": 31,
    "start_time": "2024-09-26T03:49:27.971Z"
   },
   {
    "duration": 212,
    "start_time": "2024-09-26T03:49:52.478Z"
   },
   {
    "duration": 194,
    "start_time": "2024-09-26T03:49:58.609Z"
   },
   {
    "duration": 35,
    "start_time": "2024-09-26T03:50:11.075Z"
   },
   {
    "duration": 203,
    "start_time": "2024-09-26T03:50:30.824Z"
   },
   {
    "duration": 56,
    "start_time": "2024-09-26T03:50:36.253Z"
   },
   {
    "duration": 126,
    "start_time": "2024-09-26T03:50:42.300Z"
   },
   {
    "duration": 26,
    "start_time": "2024-09-26T03:50:51.316Z"
   },
   {
    "duration": 55,
    "start_time": "2024-09-26T03:50:57.317Z"
   },
   {
    "duration": 613,
    "start_time": "2024-09-26T03:51:05.426Z"
   },
   {
    "duration": 946,
    "start_time": "2024-09-26T03:51:35.669Z"
   },
   {
    "duration": 1125,
    "start_time": "2024-09-26T03:51:56.347Z"
   },
   {
    "duration": 44,
    "start_time": "2024-09-26T03:51:57.474Z"
   },
   {
    "duration": 10,
    "start_time": "2024-09-26T03:51:57.520Z"
   },
   {
    "duration": 11,
    "start_time": "2024-09-26T03:51:57.532Z"
   },
   {
    "duration": 16,
    "start_time": "2024-09-26T03:51:57.545Z"
   },
   {
    "duration": 4,
    "start_time": "2024-09-26T03:51:57.562Z"
   },
   {
    "duration": 55,
    "start_time": "2024-09-26T03:51:57.568Z"
   },
   {
    "duration": 269,
    "start_time": "2024-09-26T03:51:57.624Z"
   },
   {
    "duration": 971,
    "start_time": "2024-09-26T03:51:57.894Z"
   },
   {
    "duration": 15,
    "start_time": "2024-09-26T03:51:58.867Z"
   },
   {
    "duration": 71,
    "start_time": "2024-09-26T03:51:58.883Z"
   },
   {
    "duration": 8,
    "start_time": "2024-09-26T03:51:58.956Z"
   },
   {
    "duration": 2972,
    "start_time": "2024-09-26T08:29:50.817Z"
   },
   {
    "duration": 46,
    "start_time": "2024-09-26T08:29:53.791Z"
   },
   {
    "duration": 11,
    "start_time": "2024-09-26T08:29:53.839Z"
   },
   {
    "duration": 24,
    "start_time": "2024-09-26T08:29:53.852Z"
   },
   {
    "duration": 26,
    "start_time": "2024-09-26T08:29:53.879Z"
   },
   {
    "duration": 6,
    "start_time": "2024-09-26T08:29:53.907Z"
   },
   {
    "duration": 87,
    "start_time": "2024-09-26T08:29:53.915Z"
   },
   {
    "duration": 300,
    "start_time": "2024-09-26T08:29:54.004Z"
   },
   {
    "duration": 1076,
    "start_time": "2024-09-26T08:29:54.305Z"
   },
   {
    "duration": 16,
    "start_time": "2024-09-26T08:29:55.383Z"
   },
   {
    "duration": 83,
    "start_time": "2024-09-26T08:29:55.401Z"
   },
   {
    "duration": 11,
    "start_time": "2024-09-26T08:29:55.486Z"
   },
   {
    "duration": 2648,
    "start_time": "2024-09-26T08:30:21.537Z"
   },
   {
    "duration": 46,
    "start_time": "2024-09-26T08:30:24.188Z"
   },
   {
    "duration": 11,
    "start_time": "2024-09-26T08:30:24.236Z"
   },
   {
    "duration": 14,
    "start_time": "2024-09-26T08:30:24.250Z"
   },
   {
    "duration": 21,
    "start_time": "2024-09-26T08:30:24.265Z"
   },
   {
    "duration": 4,
    "start_time": "2024-09-26T08:30:24.288Z"
   },
   {
    "duration": 97,
    "start_time": "2024-09-26T08:30:24.294Z"
   },
   {
    "duration": 315,
    "start_time": "2024-09-26T08:30:24.394Z"
   },
   {
    "duration": 1046,
    "start_time": "2024-09-26T08:30:24.711Z"
   },
   {
    "duration": 16,
    "start_time": "2024-09-26T08:30:25.759Z"
   },
   {
    "duration": 56,
    "start_time": "2024-09-26T08:30:25.776Z"
   },
   {
    "duration": 31,
    "start_time": "2024-09-26T08:30:25.833Z"
   },
   {
    "duration": 48,
    "start_time": "2024-09-28T08:56:29.946Z"
   },
   {
    "duration": 1063,
    "start_time": "2024-09-28T08:56:51.485Z"
   },
   {
    "duration": 136,
    "start_time": "2024-09-28T08:56:52.550Z"
   },
   {
    "duration": 9,
    "start_time": "2024-09-28T08:56:52.688Z"
   },
   {
    "duration": 10,
    "start_time": "2024-09-28T08:56:52.699Z"
   },
   {
    "duration": 16,
    "start_time": "2024-09-28T08:56:52.711Z"
   },
   {
    "duration": 4,
    "start_time": "2024-09-28T08:56:52.728Z"
   },
   {
    "duration": 82,
    "start_time": "2024-09-28T08:56:52.734Z"
   },
   {
    "duration": 248,
    "start_time": "2024-09-28T08:56:52.818Z"
   },
   {
    "duration": 922,
    "start_time": "2024-09-28T08:56:53.067Z"
   },
   {
    "duration": 102,
    "start_time": "2024-09-28T08:56:53.991Z"
   },
   {
    "duration": 0,
    "start_time": "2024-09-28T08:56:54.094Z"
   },
   {
    "duration": 0,
    "start_time": "2024-09-28T08:56:54.096Z"
   },
   {
    "duration": 0,
    "start_time": "2024-09-28T08:56:54.098Z"
   },
   {
    "duration": 51,
    "start_time": "2024-09-28T08:58:02.185Z"
   },
   {
    "duration": 12,
    "start_time": "2024-09-28T09:19:35.810Z"
   },
   {
    "duration": 955,
    "start_time": "2024-09-28T09:20:00.635Z"
   },
   {
    "duration": 1006,
    "start_time": "2024-09-28T09:46:38.965Z"
   },
   {
    "duration": 1115,
    "start_time": "2024-09-28T09:46:52.744Z"
   },
   {
    "duration": 863,
    "start_time": "2024-09-28T09:59:24.663Z"
   },
   {
    "duration": 865,
    "start_time": "2024-09-28T10:02:40.825Z"
   },
   {
    "duration": 869,
    "start_time": "2024-09-28T10:19:31.982Z"
   },
   {
    "duration": 895,
    "start_time": "2024-09-28T10:20:29.882Z"
   },
   {
    "duration": 1079,
    "start_time": "2024-09-28T11:00:46.599Z"
   },
   {
    "duration": 41,
    "start_time": "2024-09-28T11:00:47.681Z"
   },
   {
    "duration": 10,
    "start_time": "2024-09-28T11:00:47.723Z"
   },
   {
    "duration": 12,
    "start_time": "2024-09-28T11:00:47.735Z"
   },
   {
    "duration": 16,
    "start_time": "2024-09-28T11:00:47.749Z"
   },
   {
    "duration": 4,
    "start_time": "2024-09-28T11:00:47.766Z"
   },
   {
    "duration": 55,
    "start_time": "2024-09-28T11:00:47.771Z"
   },
   {
    "duration": 259,
    "start_time": "2024-09-28T11:00:47.828Z"
   },
   {
    "duration": 938,
    "start_time": "2024-09-28T11:00:48.088Z"
   },
   {
    "duration": 14,
    "start_time": "2024-09-28T11:00:49.028Z"
   },
   {
    "duration": 57,
    "start_time": "2024-09-28T11:00:49.043Z"
   },
   {
    "duration": 8,
    "start_time": "2024-09-28T11:00:49.102Z"
   },
   {
    "duration": 99,
    "start_time": "2024-09-28T11:19:59.859Z"
   },
   {
    "duration": 12,
    "start_time": "2024-09-28T11:22:50.237Z"
   },
   {
    "duration": 59,
    "start_time": "2024-09-28T11:23:30.188Z"
   },
   {
    "duration": 1092,
    "start_time": "2024-09-28T12:14:04.788Z"
   },
   {
    "duration": 43,
    "start_time": "2024-09-28T12:14:05.881Z"
   },
   {
    "duration": 11,
    "start_time": "2024-09-28T12:14:05.925Z"
   },
   {
    "duration": 12,
    "start_time": "2024-09-28T12:14:05.939Z"
   },
   {
    "duration": 18,
    "start_time": "2024-09-28T12:14:05.953Z"
   },
   {
    "duration": 4,
    "start_time": "2024-09-28T12:14:05.973Z"
   },
   {
    "duration": 69,
    "start_time": "2024-09-28T12:14:05.979Z"
   },
   {
    "duration": 256,
    "start_time": "2024-09-28T12:14:06.049Z"
   },
   {
    "duration": 935,
    "start_time": "2024-09-28T12:14:06.306Z"
   },
   {
    "duration": 139,
    "start_time": "2024-09-28T12:14:07.243Z"
   },
   {
    "duration": 0,
    "start_time": "2024-09-28T12:14:07.383Z"
   },
   {
    "duration": 0,
    "start_time": "2024-09-28T12:14:07.384Z"
   },
   {
    "duration": 1060,
    "start_time": "2024-09-28T12:18:57.308Z"
   },
   {
    "duration": 42,
    "start_time": "2024-09-28T12:18:58.369Z"
   },
   {
    "duration": 11,
    "start_time": "2024-09-28T12:18:58.412Z"
   },
   {
    "duration": 13,
    "start_time": "2024-09-28T12:18:58.425Z"
   },
   {
    "duration": 17,
    "start_time": "2024-09-28T12:18:58.440Z"
   },
   {
    "duration": 4,
    "start_time": "2024-09-28T12:18:58.458Z"
   },
   {
    "duration": 60,
    "start_time": "2024-09-28T12:18:58.464Z"
   },
   {
    "duration": 254,
    "start_time": "2024-09-28T12:18:58.525Z"
   },
   {
    "duration": 931,
    "start_time": "2024-09-28T12:18:58.780Z"
   },
   {
    "duration": 49,
    "start_time": "2024-09-28T12:18:59.713Z"
   },
   {
    "duration": 57,
    "start_time": "2024-09-28T12:18:59.776Z"
   },
   {
    "duration": 8,
    "start_time": "2024-09-28T12:18:59.835Z"
   }
  ],
  "kernelspec": {
   "display_name": "Python 3 (ipykernel)",
   "language": "python",
   "name": "python3"
  },
  "language_info": {
   "codemirror_mode": {
    "name": "ipython",
    "version": 3
   },
   "file_extension": ".py",
   "mimetype": "text/x-python",
   "name": "python",
   "nbconvert_exporter": "python",
   "pygments_lexer": "ipython3",
   "version": "3.13.1"
  },
  "toc": {
   "base_numbering": 1,
   "nav_menu": {},
   "number_sections": true,
   "sideBar": true,
   "skip_h1_title": true,
   "title_cell": "Table of Contents",
   "title_sidebar": "Contents",
   "toc_cell": false,
   "toc_position": {},
   "toc_section_display": true,
   "toc_window_display": false
  }
 },
 "nbformat": 4,
 "nbformat_minor": 4
}
